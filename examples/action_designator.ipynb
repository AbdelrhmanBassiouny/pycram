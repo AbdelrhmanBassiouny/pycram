{
 "cells": [
  {
   "cell_type": "markdown",
   "id": "533d93c7",
   "metadata": {},
   "source": [
    "# Action Designator\n",
    "This example will show the different kinds of Action Designator that are available. We will see how to create Action Designators and what they do.\n",
    "\n",
    "\n",
    "Action Designator are high-level descriptions of actions which the robot should execute. \n",
    "\n",
    "Action Deisgnators are created from a Action Designator Descritpion, which describes the type of action as well as the parameter for this action. Parameter are given as a list of possible parameters.\n",
    "For example, if you want to describe the robot moving to a table you would need a ```NavigateAction``` and a list of poses that are near the table. The Action Designator Description will then pick one of the poses and return a performable Action Designator which contains the picked pose. \n",
    "\n"
   ]
  },
  {
   "cell_type": "markdown",
   "id": "3572b70b",
   "metadata": {},
   "source": [
    "## Navigate Action\n",
    "We will start with a simple example of the ```NavigateAction```. \n",
    "\n",
    "First, we need a BulletWorld with a robot."
   ]
  },
  {
   "cell_type": "code",
   "execution_count": 1,
   "id": "e6ecc782",
   "metadata": {},
   "outputs": [
    {
     "name": "stderr",
     "output_type": "stream",
     "text": [
      "Unknown attribute \"type\" in /robot[@name='pr2']/link[@name='base_laser_link']\n",
      "Unknown attribute \"type\" in /robot[@name='pr2']/link[@name='wide_stereo_optical_frame']\n",
      "Unknown attribute \"type\" in /robot[@name='pr2']/link[@name='narrow_stereo_optical_frame']\n",
      "Unknown attribute \"type\" in /robot[@name='pr2']/link[@name='laser_tilt_link']\n",
      "Unknown attribute \"type\" in /robot[@name='pr2']/link[@name='base_laser_link']\n",
      "Unknown attribute \"type\" in /robot[@name='pr2']/link[@name='wide_stereo_optical_frame']\n",
      "Unknown attribute \"type\" in /robot[@name='pr2']/link[@name='narrow_stereo_optical_frame']\n",
      "Unknown attribute \"type\" in /robot[@name='pr2']/link[@name='laser_tilt_link']\n"
     ]
    }
   ],
   "source": [
    "from pycram.bullet_world import BulletWorld, Object\n",
    "\n",
    "world = BulletWorld()\n",
    "pr2 = Object(\"pr2\", \"pr2\", \"pr2.urdf\")"
   ]
  },
  {
   "cell_type": "code",
   "execution_count": 13,
   "id": "1e600d03",
   "metadata": {},
   "outputs": [
    {
     "name": "stdout",
     "output_type": "stream",
     "text": [
      "shutdown request: [/pycram] Reason: new node registered with same name\n"
     ]
    }
   ],
   "source": [
    "world.exit()"
   ]
  },
  {
   "cell_type": "markdown",
   "id": "8c25f0a7",
   "metadata": {},
   "source": [
    "To move the robot we need to create a description and resolve it to an actual Designator. The description of navigation only needs a list of possible poses."
   ]
  },
  {
   "cell_type": "code",
   "execution_count": 2,
   "id": "e7886b05",
   "metadata": {},
   "outputs": [],
   "source": [
    "from pycram.designators.action_designator import NavigateAction\n",
    "\n",
    "pose = [[1, 0, 0], [0, 0, 0, 1]]\n",
    "\n",
    "# This is the Designator Description\n",
    "navigate_description = NavigateAction(target_locations=[pose])\n",
    "\n",
    "# This is the performable Designator\n",
    "navigate_designator = navigate_description.resolve()"
   ]
  },
  {
   "cell_type": "markdown",
   "id": "c1e1306d",
   "metadata": {},
   "source": [
    "What we now did was create the pose were we want to move the robot, create a description describing a navigation with a list of possible poses (in this case the list contains only one pose) and create an action designator from the description. The action designator contains the pose picked from the list of possible poses and can be performed."
   ]
  },
  {
   "cell_type": "code",
   "execution_count": 3,
   "id": "03bb12b2",
   "metadata": {},
   "outputs": [],
   "source": [
    "from pycram.process_module import simulated_robot\n",
    "\n",
    "with simulated_robot:\n",
    "    navigate_designator.perform()"
   ]
  },
  {
   "cell_type": "markdown",
   "id": "967de26b",
   "metadata": {},
   "source": [
    "Every designator that is performed needs to be in an environment that specifies where to perform the designator either on the real robot or the simulated one. This environment is called ```simulated_robot``` similar there is also a ```real_robot``` environment. \n",
    "\n",
    "There are also decorators which do the same thing but for whole methods, they are called ```with_real_robot``` and ```with_simulated_robor```"
   ]
  },
  {
   "cell_type": "markdown",
   "id": "75a1f74d",
   "metadata": {},
   "source": [
    "## Move Torso\n",
    "This action designator moves the torso up or down, specifically it sets the torso joint to a given value.\n",
    "\n",
    "We start again by creating a description and resolving it to a designator. Afterwards, the designator is perfomed in a ```simulated_robot``` environment. "
   ]
  },
  {
   "cell_type": "code",
   "execution_count": 4,
   "id": "3ac7014d",
   "metadata": {},
   "outputs": [],
   "source": [
    "from pycram.designators.action_designator import MoveTorsoAction\n",
    "from pycram.process_module import simulated_robot\n",
    "\n",
    "torso_pose = 0.2\n",
    "\n",
    "torso_desig = MoveTorsoAction([torso_pose]).resolve()\n",
    "\n",
    "with simulated_robot:\n",
    "    torso_desig.perform()"
   ]
  },
  {
   "cell_type": "markdown",
   "id": "6ce93953",
   "metadata": {},
   "source": [
    "## Set Gripper\n",
    "As the name implies, this action designator is used to open or close the gripper. \n",
    "\n",
    "The procedure is similar to the last time, but this time we will shorten it a bit."
   ]
  },
  {
   "cell_type": "code",
   "execution_count": 5,
   "id": "ff2acb0a",
   "metadata": {},
   "outputs": [],
   "source": [
    "from pycram.designators.action_designator import SetGripperAction\n",
    "from pycram.process_module import simulated_robot\n",
    "\n",
    "gripper = \"right\"\n",
    "motion = \"open\"\n",
    "\n",
    "with simulated_robot:\n",
    "    SetGripperAction(grippers=[gripper], motions=[motion]).resolve().perform()"
   ]
  },
  {
   "cell_type": "markdown",
   "id": "5a503ee4",
   "metadata": {},
   "source": [
    "## Park Arms\n",
    "Park arms is used to move one or both arms into the default parking position."
   ]
  },
  {
   "cell_type": "code",
   "execution_count": 6,
   "id": "c7d46e5e",
   "metadata": {},
   "outputs": [],
   "source": [
    "from pycram.designators.action_designator import ParkArmsAction\n",
    "from pycram.process_module import simulated_robot\n",
    "from pycram.enums import Arms\n",
    "\n",
    "with simulated_robot:\n",
    "    ParkArmsAction([Arms.BOTH]).resolve().perform()"
   ]
  },
  {
   "cell_type": "markdown",
   "id": "22ba3a56",
   "metadata": {},
   "source": [
    "## Pick Up and Place\n",
    "Since these are depending on each other, meaning you can only place something when you picked it up beforehand, they will be shown together. \n",
    "\n",
    "These action designators use object designators, which will not be further explained so please check the example on object designators for more details. \n",
    "\n",
    "To start we need an environment in which we can pick up and place things as well as an object to pick up."
   ]
  },
  {
   "cell_type": "code",
   "execution_count": 7,
   "id": "c982d069",
   "metadata": {},
   "outputs": [],
   "source": [
    "kitchen = Object(\"kitchen\", \"environment\", \"kitchen.urdf\")\n",
    "milk = Object(\"milk\", \"milk\", \"milk.stl\", position=[1.3, 1, 0.9])\n",
    "\n",
    "world.reset_bullet_world()"
   ]
  },
  {
   "cell_type": "code",
   "execution_count": 8,
   "id": "54a48d2b",
   "metadata": {},
   "outputs": [],
   "source": [
    "from pycram.designators.action_designator import PickUpAction, PlaceAction, ParkArmsAction, MoveTorsoAction, NavigateAction\n",
    "from pycram.designators.object_designator import BelieveObject\n",
    "from pycram.process_module import simulated_robot\n",
    "from pycram.enums import Arms\n",
    "\n",
    "milk_desig = BelieveObject(names=[\"milk\"])\n",
    "arm =\"right\"\n",
    "\n",
    "with simulated_robot:\n",
    "    ParkArmsAction([Arms.BOTH]).resolve().perform()\n",
    "    \n",
    "    MoveTorsoAction([0.3]).resolve().perform()\n",
    "    \n",
    "    NavigateAction([[[0.72, 0.98, 0.0], \n",
    "                     [0.0, 0.0, 0.014701099828940344, 0.9998919329926708]]]).resolve().perform()\n",
    "    \n",
    "    PickUpAction(object_designator_description=milk_desig, \n",
    "                     arms=[arm], \n",
    "                     grasps=[\"right\"]).resolve().perform()\n",
    "    \n",
    "    NavigateAction([[[-1.90, 0.78, 0.0], \n",
    "                     [0.0, 0.0, 0.16439898301071468, 0.9863939245479175]]]).resolve().perform()\n",
    "    \n",
    "    PlaceAction(object_designator_description=milk_desig, \n",
    "                target_locations=[[[-1.20, 1.0192, 0.9624], \n",
    "                                   [0.0, 0.0, 0.6339889056055381, 0.7733421413379024]]], \n",
    "                arms=[arm]).resolve().perform()"
   ]
  },
  {
   "cell_type": "code",
   "execution_count": 9,
   "id": "23ebb442",
   "metadata": {},
   "outputs": [],
   "source": [
    "world.reset_bullet_world()"
   ]
  },
  {
   "cell_type": "markdown",
   "id": "03ca2eda",
   "metadata": {},
   "source": [
    "## Look At\n",
    "Look at lets the robot look at a specific point, for example if it should look at an object for detecting. "
   ]
  },
  {
   "cell_type": "code",
   "execution_count": 10,
   "id": "7e3cfaae",
   "metadata": {},
   "outputs": [],
   "source": [
    "from pycram.designators.action_designator import LookAtAction\n",
    "from pycram.process_module import simulated_robot\n",
    "\n",
    "target_location = [[1, 0, 0.5], [0, 0, 0, 1]]\n",
    "with simulated_robot:\n",
    "    LookAtAction(targets=[target_location]).resolve().perform()"
   ]
  },
  {
   "cell_type": "markdown",
   "id": "111d8abf",
   "metadata": {},
   "source": [
    "## Detect\n",
    "Detect is used to detect objects in the field of vision (FOV) of the robot. We will use the milk used in the pick up/place example, if you didn't execute that example you can spawn the milk with the following cell. The detect designator will return a resolved instance of an ObjectDesignatorDescription. "
   ]
  },
  {
   "cell_type": "code",
   "execution_count": 2,
   "id": "9122a76b",
   "metadata": {},
   "outputs": [],
   "source": [
    "milk = Object(\"milk\", \"milk\", \"milk.stl\", position=[1.3, 1, 0.9])"
   ]
  },
  {
   "cell_type": "code",
   "execution_count": 12,
   "id": "c6c2cbe1",
   "metadata": {},
   "outputs": [
    {
     "name": "stdout",
     "output_type": "stream",
     "text": [
      "ObjectDesignatorDescription.Object(name=milk, type=milk, bullet_world_object=Object(world=<pycram.bullet_world.BulletWorld object at 0x7f79b2c82190>, name=milk, type=milk, color=[1, 1, 1, 1], id=4, path=/home/jdech/workspace/ros/src/pycram-1/src/pycram/../../resources/cached/milk.urdf, joints={}, links={}, attachments={}, cids={}, original_pose=[[1.3, 1, 0.9], [0, 0, 0, 1]], base_origin_shift=[ 4.15300950e-04 -6.29518181e-05  8.96554102e-02]), pose=((1.3, 1.0, 0.9), (0.0, 0.0, 0.0, 1.0)))\n"
     ]
    }
   ],
   "source": [
    "from pycram.designators.action_designator import DetectAction, LookAtAction, ParkArmsAction, NavigateAction\n",
    "from pycram.designators.object_designator import BelieveObject\n",
    "from pycram.enums import Arms\n",
    "from pycram.process_module import simulated_robot\n",
    "\n",
    "milk_desig = BelieveObject(names=[\"milk\"])\n",
    "\n",
    "with simulated_robot:\n",
    "    ParkArmsAction([Arms.BOTH]).resolve().perform()\n",
    "    \n",
    "    NavigateAction([[[0, 1, 0], [0, 0, 0, 1]]]).resolve().perform()\n",
    "    \n",
    "    LookAtAction(targets=[milk_desig.resolve().pose]).resolve().perform()\n",
    "    \n",
    "    obj_desig = DetectAction(milk_desig).resolve().perform()\n",
    "    \n",
    "    print(obj_desig)"
   ]
  }
 ],
 "metadata": {
  "kernelspec": {
   "display_name": "Python 3",
   "language": "python",
   "name": "python3"
  },
  "language_info": {
   "codemirror_mode": {
    "name": "ipython",
    "version": 3
   },
   "file_extension": ".py",
   "mimetype": "text/x-python",
   "name": "python",
   "nbconvert_exporter": "python",
   "pygments_lexer": "ipython3",
   "version": "3.8.10"
  }
 },
 "nbformat": 4,
 "nbformat_minor": 5
}
