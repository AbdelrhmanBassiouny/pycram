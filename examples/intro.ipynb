{
 "cells": [
  {
   "cell_type": "markdown",
   "metadata": {},
   "source": [
    "# PyCRAM Presentation"
   ]
  },
  {
   "cell_type": "code",
   "execution_count": 1,
   "metadata": {
    "ExecuteTime": {
     "end_time": "2023-04-05T16:37:51.973404Z",
     "start_time": "2023-04-05T16:37:51.483749Z"
    }
   },
   "outputs": [
    {
     "name": "stderr",
     "output_type": "stream",
     "text": [
      "Unknown attribute \"type\" in /robot[@name='pr2']/link[@name='base_laser_link']\n",
      "Unknown attribute \"type\" in /robot[@name='pr2']/link[@name='wide_stereo_optical_frame']\n",
      "Unknown attribute \"type\" in /robot[@name='pr2']/link[@name='narrow_stereo_optical_frame']\n",
      "Unknown attribute \"type\" in /robot[@name='pr2']/link[@name='laser_tilt_link']\n",
      "Unknown attribute \"type\" in /robot[@name='pr2']/link[@name='base_laser_link']\n",
      "Unknown attribute \"type\" in /robot[@name='pr2']/link[@name='wide_stereo_optical_frame']\n",
      "Unknown attribute \"type\" in /robot[@name='pr2']/link[@name='narrow_stereo_optical_frame']\n",
      "Unknown attribute \"type\" in /robot[@name='pr2']/link[@name='laser_tilt_link']\n"
     ]
    }
   ],
   "source": [
    "import pycram"
   ]
  },
  {
   "cell_type": "markdown",
   "metadata": {},
   "source": [
    "# Bullet World\n",
    "\n",
    "The BulletWorld is the internal simulation of PyCRAM. You can simulate different actions and reason about the outcome of different actions. \n",
    "\n",
    "It is possible to spawn objects and robots into the BulletWorld, these objects can come from URDF, OBJ or STL files. \n",
    "\n",
    "A BulletWorld can be created by simply creating an object of the BulletWorld class. "
   ]
  },
  {
   "cell_type": "code",
   "execution_count": 2,
   "metadata": {
    "ExecuteTime": {
     "end_time": "2023-04-05T16:37:59.788099Z",
     "start_time": "2023-04-05T16:37:57.586879Z"
    }
   },
   "outputs": [],
   "source": [
    "from pycram.bullet_world import BulletWorld, Object\n",
    "\n",
    "world = BulletWorld()"
   ]
  },
  {
   "cell_type": "markdown",
   "metadata": {},
   "source": [
    "The world can also be closed with the 'exit' method"
   ]
  },
  {
   "cell_type": "code",
   "execution_count": 6,
   "metadata": {
    "ExecuteTime": {
     "end_time": "2023-04-05T16:38:04.800655Z",
     "start_time": "2023-04-05T16:38:03.943911Z"
    }
   },
   "outputs": [
    {
     "name": "stderr",
     "output_type": "stream",
     "text": [
      "Exception in thread Thread-11:\n",
      "Traceback (most recent call last):\n",
      "  File \"/usr/lib/python3.8/threading.py\", line 932, in _bootstrap_inner\n",
      "    self.run()\n",
      "  File \"/home/jonas/workspace/ros/src/pycram-1/src/pycram/bullet_world.py\", line 366, in run\n",
      "    shadow_obj.set_position(bulletworld_obj.get_position())\n",
      "  File \"/home/jonas/workspace/ros/src/pycram-1/src/pycram/bullet_world.py\", line 534, in get_position\n",
      "    return p.getBasePositionAndOrientation(self.id, physicsClientId=self.world.client_id)[0]\n",
      "NameError: name 'p' is not defined\n"
     ]
    }
   ],
   "source": [
    "world.exit()"
   ]
  },
  {
   "cell_type": "markdown",
   "metadata": {},
   "source": [
    "The BulletWorld allows to render images from arbitrary positoins. In the following example we render images with the camera at the position [0.3, 0, 1] and pointing towards [1, 0, 1], so we are looking upwards along the x-axis. \n",
    "\n",
    "The renderer returns 3 different kinds of images which are also shown at the left side of the BulletWorld window. These images are:\n",
    "* A RGB image which shows everything like it is rendered in the BulletWorld window, just from another perspective. \n",
    "* A depth image which consists of distance values from the camera towards the objects in the field of view. \n",
    "* A segmentation mask image which segments the image into the different objects displayed. The segmentation is done by assigning every pixel the unique id of the object that is displayed there. "
   ]
  },
  {
   "cell_type": "code",
   "execution_count": 6,
   "metadata": {},
   "outputs": [
    {
     "data": {
      "text/plain": [
       "[array([[[255, 255, 255, 255],\n",
       "         [255, 255, 255, 255],\n",
       "         [255, 255, 255, 255],\n",
       "         ...,\n",
       "         [255, 255, 255, 255],\n",
       "         [255, 255, 255, 255],\n",
       "         [255, 255, 255, 255]],\n",
       " \n",
       "        [[255, 255, 255, 255],\n",
       "         [255, 255, 255, 255],\n",
       "         [255, 255, 255, 255],\n",
       "         ...,\n",
       "         [255, 255, 255, 255],\n",
       "         [255, 255, 255, 255],\n",
       "         [255, 255, 255, 255]],\n",
       " \n",
       "        [[255, 255, 255, 255],\n",
       "         [255, 255, 255, 255],\n",
       "         [255, 255, 255, 255],\n",
       "         ...,\n",
       "         [255, 255, 255, 255],\n",
       "         [255, 255, 255, 255],\n",
       "         [255, 255, 255, 255]],\n",
       " \n",
       "        ...,\n",
       " \n",
       "        [[239, 239, 239, 255],\n",
       "         [239, 239, 239, 255],\n",
       "         [239, 239, 239, 255],\n",
       "         ...,\n",
       "         [239, 239, 239, 255],\n",
       "         [239, 239, 239, 255],\n",
       "         [239, 239, 239, 255]],\n",
       " \n",
       "        [[239, 239, 239, 255],\n",
       "         [239, 239, 239, 255],\n",
       "         [239, 239, 239, 255],\n",
       "         ...,\n",
       "         [239, 239, 239, 255],\n",
       "         [239, 239, 239, 255],\n",
       "         [239, 239, 239, 255]],\n",
       " \n",
       "        [[239, 239, 239, 255],\n",
       "         [239, 239, 239, 255],\n",
       "         [239, 239, 239, 255],\n",
       "         ...,\n",
       "         [239, 239, 239, 255],\n",
       "         [239, 239, 239, 255],\n",
       "         [239, 239, 239, 255]]], dtype=uint8),\n",
       " array([[0.99999994, 0.99999994, 0.99999994, ..., 0.99999994, 0.99999994,\n",
       "         0.99999994],\n",
       "        [0.99999994, 0.99999994, 0.99999994, ..., 0.99999994, 0.99999994,\n",
       "         0.99999994],\n",
       "        [0.99999994, 0.99999994, 0.99999994, ..., 0.99999994, 0.99999994,\n",
       "         0.99999994],\n",
       "        ...,\n",
       "        [0.80473447, 0.80473447, 0.80473447, ..., 0.80473447, 0.80473447,\n",
       "         0.80473447],\n",
       "        [0.8031688 , 0.8031688 , 0.8031688 , ..., 0.8031688 , 0.8031688 ,\n",
       "         0.8031688 ],\n",
       "        [0.80160314, 0.80160314, 0.80160314, ..., 0.80160314, 0.80160314,\n",
       "         0.80160314]], dtype=float32),\n",
       " array([[-1, -1, -1, ..., -1, -1, -1],\n",
       "        [-1, -1, -1, ..., -1, -1, -1],\n",
       "        [-1, -1, -1, ..., -1, -1, -1],\n",
       "        ...,\n",
       "        [ 0,  0,  0, ...,  0,  0,  0],\n",
       "        [ 0,  0,  0, ...,  0,  0,  0],\n",
       "        [ 0,  0,  0, ...,  0,  0,  0]], dtype=int32)]"
      ]
     },
     "execution_count": 6,
     "metadata": {},
     "output_type": "execute_result"
    }
   ],
   "source": [
    "from pycram.bullet_world_reasoning import _get_images_for_target\n",
    "\n",
    "_get_images_for_target([[1, 0, 1], [0, 0, 0, 1]], [[0.3, 0, 1], [0, 0, 0, 1]])"
   ]
  },
  {
   "cell_type": "markdown",
   "metadata": {},
   "source": [
    "## Objects\n",
    "Everything that is located inside the BulletWorld is an Object. \n",
    "Objects can be created from URDF, OBJ or STL files. Since everything is of type Object a robot might share the same methods as a milk (with some limitations).\n",
    "\n",
    "Signature:\n",
    "Object:\n",
    "* Name \n",
    "* Type\n",
    "* Filename or Filepath\n",
    "\n",
    " Optional:\n",
    " * Position\n",
    " * Orientation\n",
    " * World \n",
    " * Color \n",
    " * Ignore Cached Files\n",
    "\n",
    "If there is only a filename and no path PyCRAM will check in the resource directory if there is a matching file. \n"
   ]
  },
  {
   "cell_type": "code",
   "execution_count": 3,
   "metadata": {},
   "outputs": [],
   "source": [
    "milk = Object(\"Milk\", \"milk\", \"milk.stl\")"
   ]
  },
  {
   "cell_type": "markdown",
   "metadata": {},
   "source": [
    "Objects provide methods to change the position and rotation, change the color, attach other objects, set the state of joints if the objects has any or get the position and orientation of a link. \n",
    "\n",
    "These methods are the same for every Object, however since some Objects may not have joints or more than one link methods related to these will not work. "
   ]
  },
  {
   "cell_type": "code",
   "execution_count": 8,
   "metadata": {},
   "outputs": [],
   "source": [
    "milk.set_position([1, 0, 0])"
   ]
  },
  {
   "cell_type": "markdown",
   "metadata": {},
   "source": [
    "To remove an Object from the BulletWorld just call the 'remove' method on the Object."
   ]
  },
  {
   "cell_type": "code",
   "execution_count": 5,
   "metadata": {},
   "outputs": [],
   "source": [
    "milk.remove()"
   ]
  },
  {
   "cell_type": "markdown",
   "metadata": {},
   "source": [
    "Since everything inside the BulletWorld is an Object, even a complex environment Object like the kitchen can be spawned in the same way as the milk."
   ]
  },
  {
   "cell_type": "code",
   "execution_count": 3,
   "metadata": {},
   "outputs": [],
   "source": [
    "kitchen = Object(\"kitchen\", \"environment\", \"kitchen.urdf\")"
   ]
  },
  {
   "cell_type": "markdown",
   "metadata": {},
   "source": [
    "## Costmaps\n",
    "\n",
    "Costmaps are a way to get positions with respect to certain criterias. \n",
    "The currently available costmaps are:\n",
    "* Occupancy Costmap\n",
    "* Visibility Costmap\n",
    "* Semantic Costmap \n",
    "* Gaussian Costmap\n",
    "\n",
    "It is also possible to merge multiple costmaps to combine different criteria."
   ]
  },
  {
   "cell_type": "markdown",
   "metadata": {},
   "source": [
    "### Visibility Costmaps\n",
    "Visibility costmaps determine every position, around a target position, from which the target is visible. Visibility Costmaps are able to work with cameras that are moveable in height, for example if the robot has a movable torso. "
   ]
  },
  {
   "cell_type": "code",
   "execution_count": null,
   "metadata": {},
   "outputs": [],
   "source": [
    "import pycram.costmaps as cm\n",
    "v = cm.VisibilityCostmap(0, 0.4, size=300, resolution=0.02, origin=[[0, 0, 0.1], [0, 0, 0, 1]])"
   ]
  },
  {
   "cell_type": "markdown",
   "metadata": {},
   "source": [
    "### Occupancy Costmap\n",
    "Is valid for every position where the robot can be placed without colliding with an object."
   ]
  },
  {
   "cell_type": "code",
   "execution_count": 11,
   "metadata": {},
   "outputs": [],
   "source": [
    "o = cm.OccupancyCostmap(0.2, from_ros=False, size=300, resolution=0.02, origin=[[0, 0, 0.1], [0, 0, 0, 1]])"
   ]
  },
  {
   "cell_type": "code",
   "execution_count": null,
   "metadata": {},
   "outputs": [],
   "source": [
    "s = cm.SemanticCostmap(kitchen, \"kitchen_island_surface\", size=100, resolution=0.02)\n",
    "\n",
    "g = cm.GaussianCostmap(200, 15, resolution=0.02)"
   ]
  },
  {
   "cell_type": "markdown",
   "metadata": {},
   "source": [
    "You can visualize the costmap in the BulletWorld to get an impression what information is actually contained in the costmap. With this you could also check if the costmap was created correctly. \n",
    "Visualization can be done via the 'visualize' method of each costmap."
   ]
  },
  {
   "cell_type": "code",
   "execution_count": 14,
   "metadata": {},
   "outputs": [],
   "source": [
    "o.visualize()"
   ]
  },
  {
   "cell_type": "code",
   "execution_count": 15,
   "metadata": {},
   "outputs": [],
   "source": [
    "o.close_visualization()"
   ]
  },
  {
   "cell_type": "markdown",
   "metadata": {},
   "source": [
    "It is also possible to combine two costmap, this will result in a new costmap with the same size which contains the information of both previous costmaps. Combination is done by checking for each position in the two costmaps if they are zero, in this case to same position in the new costmap will also be zero in any other case the new position will be the normalized product of the two combined costmaps."
   ]
  },
  {
   "cell_type": "code",
   "execution_count": 16,
   "metadata": {},
   "outputs": [],
   "source": [
    "ov = o + v"
   ]
  },
  {
   "cell_type": "markdown",
   "metadata": {},
   "source": [
    "## Bullet World Reasoning \n",
    "Allows for geometric reasoning in the BulletWorld. At the moment the following types of reasoning are supported:\n",
    "* Stable\n",
    "* Contact\n",
    "* Visible \n",
    "* Occluding \n",
    "* Reachable \n",
    "* Blocking\n",
    "* Supporting\n",
    "\n",
    "To show the geometric reasoning we first a robot as well as the milk Object again."
   ]
  },
  {
   "cell_type": "code",
   "execution_count": 4,
   "metadata": {},
   "outputs": [],
   "source": [
    "import pycram.bullet_world_reasoning as btr\n",
    "milk = Object(\"Milk\", \"milk\", \"milk.stl\", position=[1, 0, 1])\n",
    "pr2 = Object(\"pr2\", \"robot\", \"pr2.urdf\")"
   ]
  },
  {
   "cell_type": "markdown",
   "metadata": {},
   "source": [
    "We start with testing for visibility "
   ]
  },
  {
   "cell_type": "code",
   "execution_count": 18,
   "metadata": {
    "scrolled": true
   },
   "outputs": [
    {
     "name": "stdout",
     "output_type": "stream",
     "text": [
      "Milk visible: True\n"
     ]
    }
   ],
   "source": [
    "milk.set_position([1,0,1])\n",
    "visible = btr.visible(milk, pr2.get_link_position_and_orientation(\"wide_stereo_optical_frame\"))\n",
    "print(f\"Milk visible: {visible}\")"
   ]
  },
  {
   "cell_type": "code",
   "execution_count": 19,
   "metadata": {},
   "outputs": [
    {
     "name": "stdout",
     "output_type": "stream",
     "text": [
      "Milk is in contact with the floor: True\n"
     ]
    }
   ],
   "source": [
    "milk.set_position([1, 0, 0.05])\n",
    "\n",
    "plane = BulletWorld.current_bullet_world.objects[0]\n",
    "contact = btr.contact(milk, plane)\n",
    "print(f\"Milk is in contact with the floor: {contact}\")"
   ]
  },
  {
   "cell_type": "code",
   "execution_count": 20,
   "metadata": {},
   "outputs": [
    {
     "name": "stdout",
     "output_type": "stream",
     "text": [
      "Milk is reachable for the PR2: True\n"
     ]
    }
   ],
   "source": [
    "milk.set_position([0.6, -0.5, 0.7])\n",
    "\n",
    "reachable = btr.reachable(milk, pr2, \"r_gripper_tool_frame\")\n",
    "print(f\"Milk is reachable for the PR2: {reachable}\")"
   ]
  },
  {
   "cell_type": "code",
   "execution_count": null,
   "metadata": {},
   "outputs": [],
   "source": [
    "milk.remove()"
   ]
  },
  {
   "cell_type": "markdown",
   "metadata": {},
   "source": [
    "# Designator\n",
    "Designator are symbolic descriptions of Actions, Motions, Objects or Locations. In PyCRAM the different types of designators are representet by a class which takes a description, the description then tells the designator what to do. \n",
    "\n",
    "For example, let's look at a Motion Designator to move the robot to a specific location. \n",
    "\n"
   ]
  },
  {
   "cell_type": "markdown",
   "metadata": {},
   "source": [
    "## Motion Designator\n",
    "\n",
    "When using a Motion Designator you need to specify which Process Module needs to be used, either the Process Module for the real or the simulated robot. This can be done either with a decorator which can be added to a function and then executes every designator in this function on the specified robot. The other possibility is a \"with\" scope which wraps a code piece. \n",
    "\n",
    "These two ways can also be combined, you could write a function which should be executed on the real robot and in the function is a \"with\" scope which executes something on the simulated robot for reasoning purposes. "
   ]
  },
  {
   "cell_type": "code",
   "execution_count": 9,
   "metadata": {},
   "outputs": [],
   "source": [
    "from pycram.designators.motion_designator import *\n",
    "from pycram.process_module import simulated_robot, with_simulated_robot\n",
    "\n",
    "description = MoveMotion(target=[[1, 0, 0], [0, 0, 0, 1]])\n",
    "\n",
    "with simulated_robot:\n",
    "    description.resolve().perform()\n",
    "    \n"
   ]
  },
  {
   "cell_type": "code",
   "execution_count": 10,
   "metadata": {
    "scrolled": true
   },
   "outputs": [],
   "source": [
    "from pycram.process_module import with_simulated_robot\n",
    "\n",
    "@with_simulated_robot\n",
    "def move():\n",
    "    MoveMotion(target=[[0, 0, 0], [0, 0, 0, 1]]).resolve().perform()\n",
    "\n",
    "move()"
   ]
  },
  {
   "cell_type": "markdown",
   "metadata": {},
   "source": [
    "Other implemented Motion Designator descriptions are:\n",
    "* Pick up\n",
    "* Place\n",
    "* Accessing\n",
    "* Move TCP\n",
    "* Looking\n",
    "* Move Gripper\n",
    "* Detecting\n",
    "* Move Arm Joint \n",
    "* World State Detecting "
   ]
  },
  {
   "cell_type": "markdown",
   "metadata": {},
   "source": [
    "## Location Designator\n",
    "Location Designator can create a position in cartisian space from a symbolic desctiption"
   ]
  },
  {
   "cell_type": "code",
   "execution_count": 7,
   "metadata": {},
   "outputs": [
    {
     "name": "stdout",
     "output_type": "stream",
     "text": [
      "Resolved: CostmapLocation.Location(pose=[[0.800000011920929, 0.46000000834465027, 0.0], [-0.0, 0.0, 0.5483037090227832, -0.8362792850907279]], reachable_arms=None)\n",
      "\n",
      "CostmapLocation.Location(pose=[[0.800000011920929, 0.46000000834465027, 0.0], [-0.0, 0.0, 0.5483037090227832, -0.8362792850907279]], reachable_arms=None)\n",
      "CostmapLocation.Location(pose=[[0.5600000023841858, 0.2199999988079071, 0.0], [-0.0, 0.0, 0.22975292054736132, -0.9732489894677301]], reachable_arms=None)\n",
      "CostmapLocation.Location(pose=[[0.5600000023841858, 0.23999999463558197, 0.0], [-0.0, 0.0, 0.24708745787368463, -0.9689931827219014]], reachable_arms=None)\n",
      "CostmapLocation.Location(pose=[[0.5199999809265137, 0.07999999821186066, 0.0], [-0.0, 0.0, 0.0824805265278703, -0.9965926764449382]], reachable_arms=None)\n",
      "CostmapLocation.Location(pose=[[0.5600000023841858, 0.25999999046325684, 0.0], [-0.0, 0.0, 0.263698184313338, -0.9646052392506733]], reachable_arms=None)\n",
      "CostmapLocation.Location(pose=[[0.5199999809265137, 0.11999999731779099, 0.0], [-0.0, 0.0, 0.12218325644594231, -0.9925075575753894]], reachable_arms=None)\n",
      "CostmapLocation.Location(pose=[[0.5600000023841858, 0.18000000715255737, 0.0], [-0.0, 0.0, 0.1929417655484436, -0.981210209438859]], reachable_arms=None)\n",
      "CostmapLocation.Location(pose=[[0.5600000023841858, 0.14000000059604645, 0.0], [-0.0, 0.0, 0.1534180902540653, -0.9881613681898294]], reachable_arms=None)\n",
      "CostmapLocation.Location(pose=[[0.5199999809265137, 0.05999999865889549, 0.0], [-0.0, 0.0, 0.06213743774290202, -0.9980676023350057]], reachable_arms=None)\n",
      "CostmapLocation.Location(pose=[[0.5199999809265137, 0.03999999910593033, 0.0], [-0.0, 0.0, 0.041558641269928455, -0.9991360664773329]], reachable_arms=None)\n",
      "CostmapLocation.Location(pose=[[0.5199999809265137, 0.019999999552965164, 0.0], [-0.0, 0.0, 0.020819783862185116, -0.9997832448085594]], reachable_arms=None)\n",
      "CostmapLocation.Location(pose=[[0.5199999809265137, 0.0, 0.0], [-0.0, 0.0, 1.2246467991473532e-16, -1.0]], reachable_arms=None)\n",
      "CostmapLocation.Location(pose=[[0.5199999809265137, -0.03999999910593033, 0.0], [0.0, 0.0, 0.04155864126992833, 0.9991360664773329]], reachable_arms=None)\n",
      "CostmapLocation.Location(pose=[[0.5199999809265137, -0.07999999821186066, 0.0], [0.0, 0.0, 0.0824805265278704, 0.9965926764449382]], reachable_arms=None)\n",
      "CostmapLocation.Location(pose=[[0.5199999809265137, -0.10000000149011612, 0.0], [0.0, 0.0, 0.10251726501187221, 0.9947312251932607]], reachable_arms=None)\n",
      "CostmapLocation.Location(pose=[[0.5600000023841858, 0.20000000298023224, 0.0], [-0.0, 0.0, 0.211699699698577, -0.9773347620685209]], reachable_arms=None)\n",
      "CostmapLocation.Location(pose=[[0.5199999809265137, -0.1599999964237213, 0.0], [0.0, 0.0, 0.16018223381399907, 0.9870874591293101]], reachable_arms=None)\n",
      "CostmapLocation.Location(pose=[[0.5199999809265137, -0.20000000298023224, 0.0], [0.0, 0.0, 0.19611613081516904, 0.9805806765555232]], reachable_arms=None)\n",
      "CostmapLocation.Location(pose=[[0.5600000023841858, 0.11999999731779099, 0.0], [-0.0, 0.0, 0.13273314889521934, -0.991151810362247]], reachable_arms=None)\n",
      "CostmapLocation.Location(pose=[[0.5600000023841858, 0.07999999821186066, 0.0], [-0.0, 0.0, 0.08980559383182218, -0.9959593140869328]], reachable_arms=None)\n",
      "CostmapLocation.Location(pose=[[0.5600000023841858, 0.05999999865889549, 0.0], [-0.0, 0.0, 0.06771200650332054, -0.9977049083648403]], reachable_arms=None)\n",
      "CostmapLocation.Location(pose=[[0.5600000023841858, 0.03999999910593033, 0.0], [-0.0, 0.0, 0.04531442040934611, -0.9989727740549114]], reachable_arms=None)\n",
      "CostmapLocation.Location(pose=[[0.5600000023841858, 0.019999999552965164, 0.0], [-0.0, 0.0, 0.022709686862909015, -0.999742101805555]], reachable_arms=None)\n",
      "CostmapLocation.Location(pose=[[0.5600000023841858, 0.0, 0.0], [-0.0, 0.0, 1.2246467991473532e-16, -1.0]], reachable_arms=None)\n",
      "CostmapLocation.Location(pose=[[0.5600000023841858, -0.05999999865889549, 0.0], [0.0, 0.0, 0.06771200650332042, 0.9977049083648403]], reachable_arms=None)\n",
      "CostmapLocation.Location(pose=[[0.5600000023841858, -0.10000000149011612, 0.0], [0.0, 0.0, 0.11150593074304622, 0.9937637684123561]], reachable_arms=None)\n",
      "CostmapLocation.Location(pose=[[0.5600000023841858, -0.11999999731779099, 0.0], [0.0, 0.0, 0.13273314889521923, 0.991151810362247]], reachable_arms=None)\n",
      "CostmapLocation.Location(pose=[[0.5600000023841858, -0.14000000059604645, 0.0], [0.0, 0.0, 0.15341809025406541, 0.9881613681898294]], reachable_arms=None)\n",
      "CostmapLocation.Location(pose=[[0.5600000023841858, -0.1599999964237213, 0.0], [0.0, 0.0, 0.17350298938784056, 0.9848333425882183]], reachable_arms=None)\n",
      "CostmapLocation.Location(pose=[[0.5600000023841858, -0.20000000298023224, 0.0], [0.0, 0.0, 0.21169969969857685, 0.9773347620685209]], reachable_arms=None)\n",
      "CostmapLocation.Location(pose=[[0.5600000023841858, -0.23999999463558197, 0.0], [0.0, 0.0, 0.24708745787368472, 0.9689931827219014]], reachable_arms=None)\n",
      "CostmapLocation.Location(pose=[[0.5600000023841858, -0.30000001192092896, 0.0], [0.0, 0.0, 0.2947648800588262, 0.9555698119362634]], reachable_arms=None)\n",
      "CostmapLocation.Location(pose=[[0.5600000023841858, -0.3199999928474426, 0.0], [0.0, 0.0, 0.3092441680608346, 0.9509826730915565]], reachable_arms=None)\n",
      "CostmapLocation.Location(pose=[[0.5199999809265137, -0.14000000059604645, 0.0], [0.0, 0.0, 0.14142135151686266, 0.989949494335516]], reachable_arms=None)\n",
      "CostmapLocation.Location(pose=[[0.5800000429153442, 0.2800000011920929, 0.0], [-0.0, 0.0, 0.28978417219686464, -0.9570920193712713]], reachable_arms=None)\n",
      "CostmapLocation.Location(pose=[[0.5199999809265137, -0.18000000715255737, 0.0], [0.0, 0.0, 0.1784248054937366, 0.9839535501153102]], reachable_arms=None)\n",
      "CostmapLocation.Location(pose=[[0.5800000429153442, 0.25999999046325684, 0.0], [-0.0, 0.0, 0.27361914108992114, -0.9618381182034812]], reachable_arms=None)\n",
      "CostmapLocation.Location(pose=[[0.800000011920929, 0.4399999976158142, 0.0], [-0.0, 0.0, 0.5413857563150869, -0.8407743233824052]], reachable_arms=None)\n",
      "CostmapLocation.Location(pose=[[0.5399999618530273, -0.25999999046325684, 0.0], [0.0, 0.0, 0.25439844345905616, 0.9670994943466827]], reachable_arms=None)\n",
      "CostmapLocation.Location(pose=[[0.699999988079071, -0.41999998688697815, 0.0], [0.0, 0.0, 0.4575815659371852, 0.8891676503980975]], reachable_arms=None)\n",
      "CostmapLocation.Location(pose=[[0.699999988079071, -0.4399999976158142, 0.0], [0.0, 0.0, 0.4672596483720504, 0.8841201394625211]], reachable_arms=None)\n",
      "CostmapLocation.Location(pose=[[0.5199999809265137, -0.23999999463558197, 0.0], [0.0, 0.0, 0.2297529084619114, 0.9732489923207178]], reachable_arms=None)\n",
      "CostmapLocation.Location(pose=[[0.699999988079071, -0.46000000834465027, 0.0], [0.0, 0.0, 0.47630463527888683, 0.8792803275473906]], reachable_arms=None)\n",
      "CostmapLocation.Location(pose=[[0.7599999904632568, 0.4399999976158142, 0.0], [-0.0, 0.0, 0.5104644221955569, -0.8598988740965744]], reachable_arms=None)\n",
      "CostmapLocation.Location(pose=[[0.7599999904632568, -0.41999998688697815, 0.0], [0.0, 0.0, 0.5019268049746025, 0.8649101007896643]], reachable_arms=None)\n",
      "CostmapLocation.Location(pose=[[0.7599999904632568, -0.46000000834465027, 0.0], [0.0, 0.0, 0.5183791978141528, 0.8551508681358837]], reachable_arms=None)\n",
      "CostmapLocation.Location(pose=[[0.7599999904632568, -0.47999998927116394, 0.0], [0.0, 0.0, 0.5257311015560627, 0.8506508148803766]], reachable_arms=None)\n",
      "CostmapLocation.Location(pose=[[0.800000011920929, -0.41999998688697815, 0.0], [0.0, 0.0, 0.5338850201845493, 0.8455570857266489]], reachable_arms=None)\n",
      "CostmapLocation.Location(pose=[[0.800000011920929, -0.4399999976158142, 0.0], [0.0, 0.0, 0.5413857563150868, 0.8407743233824053]], reachable_arms=None)\n",
      "CostmapLocation.Location(pose=[[0.800000011920929, -0.47999998927116394, 0.0], [0.0, 0.0, 0.554700201727529, 0.8320502906696438]], reachable_arms=None)\n",
      "CostmapLocation.Location(pose=[[0.800000011920929, -0.5, 0.0], [0.0, 0.0, 0.5606288178149516, 0.8280672247078795]], reachable_arms=None)\n",
      "CostmapLocation.Location(pose=[[0.6599999666213989, -0.41999998688697815, 0.0], [0.0, 0.0, 0.4305820027293491, 0.9025514605414934]], reachable_arms=None)\n",
      "CostmapLocation.Location(pose=[[0.7200000286102295, -0.46000000834465027, 0.0], [0.0, 0.0, 0.48992504465043996, 0.8717645614638533]], reachable_arms=None)\n",
      "CostmapLocation.Location(pose=[[0.7200000286102295, -0.4399999976158142, 0.0], [0.0, 0.0, 0.4812091773760906, 0.8766057994383942]], reachable_arms=None)\n",
      "CostmapLocation.Location(pose=[[0.5800000429153442, -0.3199999928474426, 0.0], [0.0, 0.0, 0.319818935719398, 0.9474786796310044]], reachable_arms=None)\n",
      "CostmapLocation.Location(pose=[[0.5800000429153442, -0.30000001192092896, 0.0], [0.0, 0.0, 0.3051774629681401, 0.9522954983072899]], reachable_arms=None)\n",
      "CostmapLocation.Location(pose=[[0.5800000429153442, -0.2800000011920929, 0.0], [0.0, 0.0, 0.2897841721968643, 0.9570920193712714]], reachable_arms=None)\n",
      "CostmapLocation.Location(pose=[[0.5800000429153442, -0.25999999046325684, 0.0], [0.0, 0.0, 0.2736191410899212, 0.9618381182034812]], reachable_arms=None)\n",
      "CostmapLocation.Location(pose=[[0.5800000429153442, -0.2199999988079071, 0.0], [0.0, 0.0, 0.23892308717894137, 0.9710384948151561]], reachable_arms=None)\n",
      "CostmapLocation.Location(pose=[[0.5800000429153442, -0.20000000298023224, 0.0], [0.0, 0.0, 0.22038545858941586, 0.975412861122065]], reachable_arms=None)\n",
      "CostmapLocation.Location(pose=[[0.5800000429153442, -0.18000000715255737, 0.0], [0.0, 0.0, 0.2010658974351743, 0.9795777176358127]], reachable_arms=None)\n",
      "CostmapLocation.Location(pose=[[0.5800000429153442, -0.1599999964237213, 0.0], [0.0, 0.0, 0.18098656652502132, 0.9834855681388944]], reachable_arms=None)\n",
      "CostmapLocation.Location(pose=[[0.5800000429153442, -0.14000000059604645, 0.0], [0.0, 0.0, 0.16018225876634293, 0.987087455080102]], reachable_arms=None)\n",
      "CostmapLocation.Location(pose=[[0.5800000429153442, -0.11999999731779099, 0.0], [0.0, 0.0, 0.13870122233076765, 0.9903342723161462]], reachable_arms=None)\n",
      "CostmapLocation.Location(pose=[[0.5800000429153442, -0.10000000149011612, 0.0], [0.0, 0.0, 0.11660572761440872, 0.9931782842408076]], reachable_arms=None)\n",
      "CostmapLocation.Location(pose=[[0.5800000429153442, -0.07999999821186066, 0.0], [0.0, 0.0, 0.09397190091459746, 0.9955748499427339]], reachable_arms=None)\n",
      "CostmapLocation.Location(pose=[[0.5800000429153442, -0.03999999910593033, 0.0], [0.0, 0.0, 0.04745802419174026, 0.9988732331681615]], reachable_arms=None)\n",
      "CostmapLocation.Location(pose=[[0.5800000429153442, -0.019999999552965164, 0.0], [0.0, 0.0, 0.02378930911106479, 0.9997169943399072]], reachable_arms=None)\n",
      "CostmapLocation.Location(pose=[[0.5800000429153442, 0.0, 0.0], [-0.0, 0.0, 1.2246467991473532e-16, -1.0]], reachable_arms=None)\n",
      "CostmapLocation.Location(pose=[[0.5800000429153442, 0.019999999552965164, 0.0], [-0.0, 0.0, 0.023789309111064912, -0.9997169943399072]], reachable_arms=None)\n",
      "CostmapLocation.Location(pose=[[0.5800000429153442, 0.03999999910593033, 0.0], [-0.0, 0.0, 0.04745802419174016, -0.9988732331681615]], reachable_arms=None)\n",
      "CostmapLocation.Location(pose=[[0.5800000429153442, 0.07999999821186066, 0.0], [-0.0, 0.0, 0.09397190091459758, -0.9955748499427338]], reachable_arms=None)\n",
      "CostmapLocation.Location(pose=[[0.5800000429153442, 0.11999999731779099, 0.0], [-0.0, 0.0, 0.13870122233076754, -0.9903342723161462]], reachable_arms=None)\n",
      "CostmapLocation.Location(pose=[[0.5800000429153442, 0.14000000059604645, 0.0], [-0.0, 0.0, 0.16018225876634282, -0.987087455080102]], reachable_arms=None)\n",
      "CostmapLocation.Location(pose=[[0.5800000429153442, 0.1599999964237213, 0.0], [-0.0, 0.0, 0.18098656652502168, -0.9834855681388944]], reachable_arms=None)\n",
      "CostmapLocation.Location(pose=[[0.5800000429153442, 0.20000000298023224, 0.0], [-0.0, 0.0, 0.22038545858941597, -0.9754128611220649]], reachable_arms=None)\n",
      "CostmapLocation.Location(pose=[[0.5800000429153442, 0.23999999463558197, 0.0], [-0.0, 0.0, 0.25666795177468005, -0.966499644351611]], reachable_arms=None)\n",
      "CostmapLocation.Location(pose=[[0.5399999618530273, -0.2800000011920929, 0.0], [0.0, 0.0, 0.2700013205692491, 0.962859951857414]], reachable_arms=None)\n"
     ]
    }
   ],
   "source": [
    "from pycram.designators.location_designator import *\n",
    "from pycram.designators.object_designator import *\n",
    "\n",
    "robot_desig = BelieveObject(types=[\"robot\"]).resolve()\n",
    "milk_desig = BelieveObject(names=[\"Milk\"]).resolve()\n",
    "location_desig = CostmapLocation(target=milk_desig, visible_for=robot_desig)\n",
    "\n",
    "print(f\"Resolved: {location_desig.resolve()}\")\n",
    "print()\n",
    "\n",
    "for pose in location_desig:\n",
    "    print(pose)\n",
    "                              "
   ]
  },
  {
   "cell_type": "markdown",
   "metadata": {},
   "source": [
    "# Action Designator\n",
    "Action Designator are used to describe high-level actions. Action Designator are usually composed of other Designators to describe the high-level action in detail. "
   ]
  },
  {
   "cell_type": "code",
   "execution_count": 11,
   "metadata": {},
   "outputs": [],
   "source": [
    "from pycram.designators.action_designator import *\n",
    "from pycram.resolver.plans import Arms\n",
    "from pycram.enums import Arms\n",
    "\n",
    "with simulated_robot:\n",
    "    ParkArmsAction([Arms.BOTH]).resolve().perform()\n"
   ]
  },
  {
   "cell_type": "markdown",
   "metadata": {},
   "source": [
    "# Making a simple plan\n",
    "To get familiar with the PyCRAM Framework we will write a simple pick and place plan. This plan will let the robot grab a cereal box from the kitchen counter and place it on the kitchen island. This is a simple pick and place plan."
   ]
  },
  {
   "cell_type": "code",
   "execution_count": 12,
   "metadata": {},
   "outputs": [],
   "source": [
    "from pycram.designators.object_designator import *\n",
    "cereal = Object(\"cereal\", \"cereal\", \"breakfast_cereal.stl\", position=[1.4, 1, 0.95])\n"
   ]
  },
  {
   "cell_type": "code",
   "execution_count": 13,
   "metadata": {},
   "outputs": [],
   "source": [
    "cereal_desig = ObjectDesignatorDescription(names=[\"cereal\"])\n",
    "kitchen_desig = ObjectDesignatorDescription(names=[\"kitchen\"])\n",
    "robot_desig = ObjectDesignatorDescription(names=[\"pr2\"]).resolve()\n",
    "with simulated_robot:\n",
    "    ParkArmsAction([Arms.BOTH]).resolve().perform()\n",
    "\n",
    "    MoveTorsoAction([0.3]).resolve().perform()\n",
    "\n",
    "    pickup_pose = CostmapLocation(target=cereal_desig.resolve(), reachable_for=robot_desig).resolve()\n",
    "    pickup_arm = pickup_pose.reachable_arms[0]\n",
    "\n",
    "    NavigateAction(target_locations=[pickup_pose.pose]).resolve().perform()\n",
    "\n",
    "    PickUpAction(object_designator_description=cereal_desig, arms=[pickup_arm], grasps=[\"front\"]).resolve().perform()\n",
    "\n",
    "    ParkArmsAction([Arms.BOTH]).resolve().perform()\n",
    "\n",
    "    place_island = SemanticCostmapLocation(\"kitchen_island_surface\", kitchen_desig.resolve(), cereal_desig.resolve()).resolve()\n",
    "\n",
    "    place_stand = CostmapLocation(place_island.pose, reachable_for=robot_desig, reachable_arm=pickup_arm).resolve()\n",
    "\n",
    "    NavigateAction(target_locations=[place_stand.pose]).resolve().perform()\n",
    "\n",
    "    PlaceAction(cereal_desig, target_locations=[place_island.pose], arms=[pickup_arm]).resolve().perform()\n",
    "\n",
    "    ParkArmsAction([Arms.BOTH]).resolve().perform()\n",
    "    \n",
    "    \n",
    "    "
   ]
  },
  {
   "cell_type": "markdown",
   "metadata": {},
   "source": [
    "# Task Trees\n",
    "Task trees are a hirachical representation of all Actions involved in a plan. The Task tree can later be used to inspect and restructre the execution order of Actions in the plan."
   ]
  },
  {
   "cell_type": "code",
   "execution_count": 14,
   "metadata": {},
   "outputs": [
    {
     "name": "stdout",
     "output_type": "stream",
     "text": [
      "no_operation()\n",
      "|-- perform(self = ParkArmsAction.Action(arm=<Arms.BOTH: 3>))\n",
      "|-- perform(self = ParkArmsAction.Action(arm=<Arms.BOTH: 3>))\n",
      "|-- perform(self = MoveTorsoAction.Action(position=0.3))\n",
      "|-- perform(self = NavigateAction.Action(target_location=[[0.7199999690055847, 1.0199999809265137, 0.0], [-0.0, 0.0, 0.014701099828940243, -0.9998919329926708]]))\n",
      "|-- perform(self = PickUpAction.Action(object_designator=ObjectDesignatorDescription.Object(name='cereal', type='cereal', pose=((1.4, 1.0, 0.95), (0.0, 0.0, 0.0, 1.0)), bullet_world_object=<pycram.bullet_world.Object object at 0x7f328bdfc550>), arm='left', grasp='front'))\n",
      "|-- perform(self = ParkArmsAction.Action(arm=<Arms.BOTH: 3>))\n",
      "|-- perform(self = NavigateAction.Action(target_location=[[-1.9275000095367432, 0.859200119972229, 0.0], [0.0, 0.0, 0.10911674575235886, 0.9940289411261701]]))\n",
      "|-- perform(self = PlaceAction.Action(object_designator=ObjectDesignatorDescription.Object(name='cereal', type='cereal', pose=((-1.7000837326049805, 1.3781797885894775, 1.2181442975997925), (0.015351454083583143, -0.048398003888701406, -0.10918326880407299, 0.9927240200027229)), bullet_world_object=<pycram.bullet_world.Object object at 0x7f328bdfc550>), arm='left', target_location=[[-1.2074999809265137, 1.019200086593628, 0.9624964093259087], [0.0, 0.0, 0.6339889056055381, 0.7733421413379024]]))\n",
      "+-- perform(self = ParkArmsAction.Action(arm=<Arms.BOTH: 3>))\n"
     ]
    }
   ],
   "source": [
    "import pycram.task\n",
    "import anytree\n",
    "tt = pycram.task.task_tree\n",
    "print(anytree.RenderTree(tt, style=anytree.render.AsciiStyle()))"
   ]
  },
  {
   "cell_type": "code",
   "execution_count": 15,
   "metadata": {},
   "outputs": [],
   "source": [
    "from anytree.dotexport import RenderTreeGraph, DotExporter\n",
    "RenderTreeGraph(tt).to_picture(\"tree.png\")"
   ]
  },
  {
   "cell_type": "markdown",
   "metadata": {},
   "source": [
    "# ORM\n"
   ]
  },
  {
   "cell_type": "code",
   "execution_count": 17,
   "metadata": {},
   "outputs": [
    {
     "ename": "OperationalError",
     "evalue": "(sqlite3.OperationalError) no such table: Code\n[SQL: INSERT INTO \"Code\" (function, designator) VALUES (?, ?)]\n[parameters: ('no_operation', None)]\n(Background on this error at: https://sqlalche.me/e/20/e3q8)",
     "output_type": "error",
     "traceback": [
      "\u001b[0;31m---------------------------------------------------------------------------\u001b[0m",
      "\u001b[0;31mOperationalError\u001b[0m                          Traceback (most recent call last)",
      "\u001b[0;32m/usr/local/lib/python3.8/dist-packages/sqlalchemy/engine/base.py\u001b[0m in \u001b[0;36m_exec_single_context\u001b[0;34m(self, dialect, context, statement, parameters)\u001b[0m\n\u001b[1;32m   1962\u001b[0m                 \u001b[0;32mif\u001b[0m \u001b[0;32mnot\u001b[0m \u001b[0mevt_handled\u001b[0m\u001b[0;34m:\u001b[0m\u001b[0;34m\u001b[0m\u001b[0;34m\u001b[0m\u001b[0m\n\u001b[0;32m-> 1963\u001b[0;31m                     self.dialect.do_execute(\n\u001b[0m\u001b[1;32m   1964\u001b[0m                         \u001b[0mcursor\u001b[0m\u001b[0;34m,\u001b[0m \u001b[0mstr_statement\u001b[0m\u001b[0;34m,\u001b[0m \u001b[0meffective_parameters\u001b[0m\u001b[0;34m,\u001b[0m \u001b[0mcontext\u001b[0m\u001b[0;34m\u001b[0m\u001b[0;34m\u001b[0m\u001b[0m\n",
      "\u001b[0;32m/usr/local/lib/python3.8/dist-packages/sqlalchemy/engine/default.py\u001b[0m in \u001b[0;36mdo_execute\u001b[0;34m(self, cursor, statement, parameters, context)\u001b[0m\n\u001b[1;32m    917\u001b[0m     \u001b[0;32mdef\u001b[0m \u001b[0mdo_execute\u001b[0m\u001b[0;34m(\u001b[0m\u001b[0mself\u001b[0m\u001b[0;34m,\u001b[0m \u001b[0mcursor\u001b[0m\u001b[0;34m,\u001b[0m \u001b[0mstatement\u001b[0m\u001b[0;34m,\u001b[0m \u001b[0mparameters\u001b[0m\u001b[0;34m,\u001b[0m \u001b[0mcontext\u001b[0m\u001b[0;34m=\u001b[0m\u001b[0;32mNone\u001b[0m\u001b[0;34m)\u001b[0m\u001b[0;34m:\u001b[0m\u001b[0;34m\u001b[0m\u001b[0;34m\u001b[0m\u001b[0m\n\u001b[0;32m--> 918\u001b[0;31m         \u001b[0mcursor\u001b[0m\u001b[0;34m.\u001b[0m\u001b[0mexecute\u001b[0m\u001b[0;34m(\u001b[0m\u001b[0mstatement\u001b[0m\u001b[0;34m,\u001b[0m \u001b[0mparameters\u001b[0m\u001b[0;34m)\u001b[0m\u001b[0;34m\u001b[0m\u001b[0;34m\u001b[0m\u001b[0m\n\u001b[0m\u001b[1;32m    919\u001b[0m \u001b[0;34m\u001b[0m\u001b[0m\n",
      "\u001b[0;31mOperationalError\u001b[0m: no such table: Code",
      "\nThe above exception was the direct cause of the following exception:\n",
      "\u001b[0;31mOperationalError\u001b[0m                          Traceback (most recent call last)",
      "\u001b[0;32m<ipython-input-17-02cdc05478a4>\u001b[0m in \u001b[0;36m<module>\u001b[0;34m\u001b[0m\n\u001b[1;32m      6\u001b[0m \u001b[0msession\u001b[0m\u001b[0;34m\u001b[0m\u001b[0;34m\u001b[0m\u001b[0m\n\u001b[1;32m      7\u001b[0m \u001b[0;34m\u001b[0m\u001b[0m\n\u001b[0;32m----> 8\u001b[0;31m \u001b[0mtt\u001b[0m\u001b[0;34m.\u001b[0m\u001b[0minsert\u001b[0m\u001b[0;34m(\u001b[0m\u001b[0msession\u001b[0m\u001b[0;34m)\u001b[0m\u001b[0;34m\u001b[0m\u001b[0;34m\u001b[0m\u001b[0m\n\u001b[0m",
      "\u001b[0;32m~/workspace/ros/src/pycram-1/src/pycram/task.py\u001b[0m in \u001b[0;36minsert\u001b[0;34m(self, session, recursive, parent_id)\u001b[0m\n\u001b[1;32m    189\u001b[0m \u001b[0;34m\u001b[0m\u001b[0m\n\u001b[1;32m    190\u001b[0m         \u001b[0;31m# insert code\u001b[0m\u001b[0;34m\u001b[0m\u001b[0;34m\u001b[0m\u001b[0;34m\u001b[0m\u001b[0m\n\u001b[0;32m--> 191\u001b[0;31m         \u001b[0mcode\u001b[0m \u001b[0;34m=\u001b[0m \u001b[0mself\u001b[0m\u001b[0;34m.\u001b[0m\u001b[0mcode\u001b[0m\u001b[0;34m.\u001b[0m\u001b[0minsert\u001b[0m\u001b[0;34m(\u001b[0m\u001b[0msession\u001b[0m\u001b[0;34m)\u001b[0m\u001b[0;34m\u001b[0m\u001b[0;34m\u001b[0m\u001b[0m\n\u001b[0m\u001b[1;32m    192\u001b[0m \u001b[0;34m\u001b[0m\u001b[0m\n\u001b[1;32m    193\u001b[0m         \u001b[0;31m# convert self to orm object\u001b[0m\u001b[0;34m\u001b[0m\u001b[0;34m\u001b[0m\u001b[0;34m\u001b[0m\u001b[0m\n",
      "\u001b[0;32m~/workspace/ros/src/pycram-1/src/pycram/task.py\u001b[0m in \u001b[0;36minsert\u001b[0;34m(self, session)\u001b[0m\n\u001b[1;32m     94\u001b[0m \u001b[0;34m\u001b[0m\u001b[0m\n\u001b[1;32m     95\u001b[0m         \u001b[0msession\u001b[0m\u001b[0;34m.\u001b[0m\u001b[0madd\u001b[0m\u001b[0;34m(\u001b[0m\u001b[0mcode\u001b[0m\u001b[0;34m)\u001b[0m\u001b[0;34m\u001b[0m\u001b[0;34m\u001b[0m\u001b[0m\n\u001b[0;32m---> 96\u001b[0;31m         \u001b[0msession\u001b[0m\u001b[0;34m.\u001b[0m\u001b[0mcommit\u001b[0m\u001b[0;34m(\u001b[0m\u001b[0;34m)\u001b[0m\u001b[0;34m\u001b[0m\u001b[0;34m\u001b[0m\u001b[0m\n\u001b[0m\u001b[1;32m     97\u001b[0m         \u001b[0;32mreturn\u001b[0m \u001b[0mcode\u001b[0m\u001b[0;34m\u001b[0m\u001b[0;34m\u001b[0m\u001b[0m\n\u001b[1;32m     98\u001b[0m \u001b[0;34m\u001b[0m\u001b[0m\n",
      "\u001b[0;32m/usr/local/lib/python3.8/dist-packages/sqlalchemy/orm/session.py\u001b[0m in \u001b[0;36mcommit\u001b[0;34m(self)\u001b[0m\n\u001b[1;32m   1903\u001b[0m             \u001b[0mtrans\u001b[0m \u001b[0;34m=\u001b[0m \u001b[0mself\u001b[0m\u001b[0;34m.\u001b[0m\u001b[0m_autobegin_t\u001b[0m\u001b[0;34m(\u001b[0m\u001b[0;34m)\u001b[0m\u001b[0;34m\u001b[0m\u001b[0;34m\u001b[0m\u001b[0m\n\u001b[1;32m   1904\u001b[0m \u001b[0;34m\u001b[0m\u001b[0m\n\u001b[0;32m-> 1905\u001b[0;31m         \u001b[0mtrans\u001b[0m\u001b[0;34m.\u001b[0m\u001b[0mcommit\u001b[0m\u001b[0;34m(\u001b[0m\u001b[0m_to_root\u001b[0m\u001b[0;34m=\u001b[0m\u001b[0;32mTrue\u001b[0m\u001b[0;34m)\u001b[0m\u001b[0;34m\u001b[0m\u001b[0;34m\u001b[0m\u001b[0m\n\u001b[0m\u001b[1;32m   1906\u001b[0m \u001b[0;34m\u001b[0m\u001b[0m\n\u001b[1;32m   1907\u001b[0m     \u001b[0;32mdef\u001b[0m \u001b[0mprepare\u001b[0m\u001b[0;34m(\u001b[0m\u001b[0mself\u001b[0m\u001b[0;34m)\u001b[0m \u001b[0;34m->\u001b[0m \u001b[0;32mNone\u001b[0m\u001b[0;34m:\u001b[0m\u001b[0;34m\u001b[0m\u001b[0;34m\u001b[0m\u001b[0m\n",
      "\u001b[0;32m/usr/local/lib/python3.8/dist-packages/sqlalchemy/orm/session.py\u001b[0m in \u001b[0;36mcommit\u001b[0;34m(self, _to_root)\u001b[0m\n",
      "\u001b[0;32m/usr/local/lib/python3.8/dist-packages/sqlalchemy/orm/state_changes.py\u001b[0m in \u001b[0;36m_go\u001b[0;34m(fn, self, *arg, **kw)\u001b[0m\n\u001b[1;32m    135\u001b[0m             \u001b[0mself\u001b[0m\u001b[0;34m.\u001b[0m\u001b[0m_next_state\u001b[0m \u001b[0;34m=\u001b[0m \u001b[0m_StateChangeStates\u001b[0m\u001b[0;34m.\u001b[0m\u001b[0mCHANGE_IN_PROGRESS\u001b[0m\u001b[0;34m\u001b[0m\u001b[0;34m\u001b[0m\u001b[0m\n\u001b[1;32m    136\u001b[0m             \u001b[0;32mtry\u001b[0m\u001b[0;34m:\u001b[0m\u001b[0;34m\u001b[0m\u001b[0;34m\u001b[0m\u001b[0m\n\u001b[0;32m--> 137\u001b[0;31m                 \u001b[0mret_value\u001b[0m \u001b[0;34m=\u001b[0m \u001b[0mfn\u001b[0m\u001b[0;34m(\u001b[0m\u001b[0mself\u001b[0m\u001b[0;34m,\u001b[0m \u001b[0;34m*\u001b[0m\u001b[0marg\u001b[0m\u001b[0;34m,\u001b[0m \u001b[0;34m**\u001b[0m\u001b[0mkw\u001b[0m\u001b[0;34m)\u001b[0m\u001b[0;34m\u001b[0m\u001b[0;34m\u001b[0m\u001b[0m\n\u001b[0m\u001b[1;32m    138\u001b[0m             \u001b[0;32mexcept\u001b[0m\u001b[0;34m:\u001b[0m\u001b[0;34m\u001b[0m\u001b[0;34m\u001b[0m\u001b[0m\n\u001b[1;32m    139\u001b[0m                 \u001b[0;32mraise\u001b[0m\u001b[0;34m\u001b[0m\u001b[0;34m\u001b[0m\u001b[0m\n",
      "\u001b[0;32m/usr/local/lib/python3.8/dist-packages/sqlalchemy/orm/session.py\u001b[0m in \u001b[0;36mcommit\u001b[0;34m(self, _to_root)\u001b[0m\n\u001b[1;32m   1218\u001b[0m         \u001b[0;32mif\u001b[0m \u001b[0mself\u001b[0m\u001b[0;34m.\u001b[0m\u001b[0m_state\u001b[0m \u001b[0;32mis\u001b[0m \u001b[0;32mnot\u001b[0m \u001b[0mSessionTransactionState\u001b[0m\u001b[0;34m.\u001b[0m\u001b[0mPREPARED\u001b[0m\u001b[0;34m:\u001b[0m\u001b[0;34m\u001b[0m\u001b[0;34m\u001b[0m\u001b[0m\n\u001b[1;32m   1219\u001b[0m             \u001b[0;32mwith\u001b[0m \u001b[0mself\u001b[0m\u001b[0;34m.\u001b[0m\u001b[0m_expect_state\u001b[0m\u001b[0;34m(\u001b[0m\u001b[0mSessionTransactionState\u001b[0m\u001b[0;34m.\u001b[0m\u001b[0mPREPARED\u001b[0m\u001b[0;34m)\u001b[0m\u001b[0;34m:\u001b[0m\u001b[0;34m\u001b[0m\u001b[0;34m\u001b[0m\u001b[0m\n\u001b[0;32m-> 1220\u001b[0;31m                 \u001b[0mself\u001b[0m\u001b[0;34m.\u001b[0m\u001b[0m_prepare_impl\u001b[0m\u001b[0;34m(\u001b[0m\u001b[0;34m)\u001b[0m\u001b[0;34m\u001b[0m\u001b[0;34m\u001b[0m\u001b[0m\n\u001b[0m\u001b[1;32m   1221\u001b[0m \u001b[0;34m\u001b[0m\u001b[0m\n\u001b[1;32m   1222\u001b[0m         \u001b[0;32mif\u001b[0m \u001b[0mself\u001b[0m\u001b[0;34m.\u001b[0m\u001b[0m_parent\u001b[0m \u001b[0;32mis\u001b[0m \u001b[0;32mNone\u001b[0m \u001b[0;32mor\u001b[0m \u001b[0mself\u001b[0m\u001b[0;34m.\u001b[0m\u001b[0mnested\u001b[0m\u001b[0;34m:\u001b[0m\u001b[0;34m\u001b[0m\u001b[0;34m\u001b[0m\u001b[0m\n",
      "\u001b[0;32m/usr/local/lib/python3.8/dist-packages/sqlalchemy/orm/session.py\u001b[0m in \u001b[0;36m_prepare_impl\u001b[0;34m(self)\u001b[0m\n",
      "\u001b[0;32m/usr/local/lib/python3.8/dist-packages/sqlalchemy/orm/state_changes.py\u001b[0m in \u001b[0;36m_go\u001b[0;34m(fn, self, *arg, **kw)\u001b[0m\n\u001b[1;32m    135\u001b[0m             \u001b[0mself\u001b[0m\u001b[0;34m.\u001b[0m\u001b[0m_next_state\u001b[0m \u001b[0;34m=\u001b[0m \u001b[0m_StateChangeStates\u001b[0m\u001b[0;34m.\u001b[0m\u001b[0mCHANGE_IN_PROGRESS\u001b[0m\u001b[0;34m\u001b[0m\u001b[0;34m\u001b[0m\u001b[0m\n\u001b[1;32m    136\u001b[0m             \u001b[0;32mtry\u001b[0m\u001b[0;34m:\u001b[0m\u001b[0;34m\u001b[0m\u001b[0;34m\u001b[0m\u001b[0m\n\u001b[0;32m--> 137\u001b[0;31m                 \u001b[0mret_value\u001b[0m \u001b[0;34m=\u001b[0m \u001b[0mfn\u001b[0m\u001b[0;34m(\u001b[0m\u001b[0mself\u001b[0m\u001b[0;34m,\u001b[0m \u001b[0;34m*\u001b[0m\u001b[0marg\u001b[0m\u001b[0;34m,\u001b[0m \u001b[0;34m**\u001b[0m\u001b[0mkw\u001b[0m\u001b[0;34m)\u001b[0m\u001b[0;34m\u001b[0m\u001b[0;34m\u001b[0m\u001b[0m\n\u001b[0m\u001b[1;32m    138\u001b[0m             \u001b[0;32mexcept\u001b[0m\u001b[0;34m:\u001b[0m\u001b[0;34m\u001b[0m\u001b[0;34m\u001b[0m\u001b[0m\n\u001b[1;32m    139\u001b[0m                 \u001b[0;32mraise\u001b[0m\u001b[0;34m\u001b[0m\u001b[0;34m\u001b[0m\u001b[0m\n",
      "\u001b[0;32m/usr/local/lib/python3.8/dist-packages/sqlalchemy/orm/session.py\u001b[0m in \u001b[0;36m_prepare_impl\u001b[0;34m(self)\u001b[0m\n\u001b[1;32m   1193\u001b[0m                 \u001b[0;32mif\u001b[0m \u001b[0mself\u001b[0m\u001b[0;34m.\u001b[0m\u001b[0msession\u001b[0m\u001b[0;34m.\u001b[0m\u001b[0m_is_clean\u001b[0m\u001b[0;34m(\u001b[0m\u001b[0;34m)\u001b[0m\u001b[0;34m:\u001b[0m\u001b[0;34m\u001b[0m\u001b[0;34m\u001b[0m\u001b[0m\n\u001b[1;32m   1194\u001b[0m                     \u001b[0;32mbreak\u001b[0m\u001b[0;34m\u001b[0m\u001b[0;34m\u001b[0m\u001b[0m\n\u001b[0;32m-> 1195\u001b[0;31m                 \u001b[0mself\u001b[0m\u001b[0;34m.\u001b[0m\u001b[0msession\u001b[0m\u001b[0;34m.\u001b[0m\u001b[0mflush\u001b[0m\u001b[0;34m(\u001b[0m\u001b[0;34m)\u001b[0m\u001b[0;34m\u001b[0m\u001b[0;34m\u001b[0m\u001b[0m\n\u001b[0m\u001b[1;32m   1196\u001b[0m             \u001b[0;32melse\u001b[0m\u001b[0;34m:\u001b[0m\u001b[0;34m\u001b[0m\u001b[0;34m\u001b[0m\u001b[0m\n\u001b[1;32m   1197\u001b[0m                 raise exc.FlushError(\n",
      "\u001b[0;32m/usr/local/lib/python3.8/dist-packages/sqlalchemy/orm/session.py\u001b[0m in \u001b[0;36mflush\u001b[0;34m(self, objects)\u001b[0m\n\u001b[1;32m   4151\u001b[0m         \u001b[0;32mtry\u001b[0m\u001b[0;34m:\u001b[0m\u001b[0;34m\u001b[0m\u001b[0;34m\u001b[0m\u001b[0m\n\u001b[1;32m   4152\u001b[0m             \u001b[0mself\u001b[0m\u001b[0;34m.\u001b[0m\u001b[0m_flushing\u001b[0m \u001b[0;34m=\u001b[0m \u001b[0;32mTrue\u001b[0m\u001b[0;34m\u001b[0m\u001b[0;34m\u001b[0m\u001b[0m\n\u001b[0;32m-> 4153\u001b[0;31m             \u001b[0mself\u001b[0m\u001b[0;34m.\u001b[0m\u001b[0m_flush\u001b[0m\u001b[0;34m(\u001b[0m\u001b[0mobjects\u001b[0m\u001b[0;34m)\u001b[0m\u001b[0;34m\u001b[0m\u001b[0;34m\u001b[0m\u001b[0m\n\u001b[0m\u001b[1;32m   4154\u001b[0m         \u001b[0;32mfinally\u001b[0m\u001b[0;34m:\u001b[0m\u001b[0;34m\u001b[0m\u001b[0;34m\u001b[0m\u001b[0m\n\u001b[1;32m   4155\u001b[0m             \u001b[0mself\u001b[0m\u001b[0;34m.\u001b[0m\u001b[0m_flushing\u001b[0m \u001b[0;34m=\u001b[0m \u001b[0;32mFalse\u001b[0m\u001b[0;34m\u001b[0m\u001b[0;34m\u001b[0m\u001b[0m\n",
      "\u001b[0;32m/usr/local/lib/python3.8/dist-packages/sqlalchemy/orm/session.py\u001b[0m in \u001b[0;36m_flush\u001b[0;34m(self, objects)\u001b[0m\n\u001b[1;32m   4288\u001b[0m         \u001b[0;32mexcept\u001b[0m\u001b[0;34m:\u001b[0m\u001b[0;34m\u001b[0m\u001b[0;34m\u001b[0m\u001b[0m\n\u001b[1;32m   4289\u001b[0m             \u001b[0;32mwith\u001b[0m \u001b[0mutil\u001b[0m\u001b[0;34m.\u001b[0m\u001b[0msafe_reraise\u001b[0m\u001b[0;34m(\u001b[0m\u001b[0;34m)\u001b[0m\u001b[0;34m:\u001b[0m\u001b[0;34m\u001b[0m\u001b[0;34m\u001b[0m\u001b[0m\n\u001b[0;32m-> 4290\u001b[0;31m                 \u001b[0mtransaction\u001b[0m\u001b[0;34m.\u001b[0m\u001b[0mrollback\u001b[0m\u001b[0;34m(\u001b[0m\u001b[0m_capture_exception\u001b[0m\u001b[0;34m=\u001b[0m\u001b[0;32mTrue\u001b[0m\u001b[0;34m)\u001b[0m\u001b[0;34m\u001b[0m\u001b[0;34m\u001b[0m\u001b[0m\n\u001b[0m\u001b[1;32m   4291\u001b[0m \u001b[0;34m\u001b[0m\u001b[0m\n\u001b[1;32m   4292\u001b[0m     def bulk_save_objects(\n",
      "\u001b[0;32m/usr/local/lib/python3.8/dist-packages/sqlalchemy/util/langhelpers.py\u001b[0m in \u001b[0;36m__exit__\u001b[0;34m(self, type_, value, traceback)\u001b[0m\n\u001b[1;32m    145\u001b[0m             \u001b[0;32massert\u001b[0m \u001b[0mexc_value\u001b[0m \u001b[0;32mis\u001b[0m \u001b[0;32mnot\u001b[0m \u001b[0;32mNone\u001b[0m\u001b[0;34m\u001b[0m\u001b[0;34m\u001b[0m\u001b[0m\n\u001b[1;32m    146\u001b[0m             \u001b[0mself\u001b[0m\u001b[0;34m.\u001b[0m\u001b[0m_exc_info\u001b[0m \u001b[0;34m=\u001b[0m \u001b[0;32mNone\u001b[0m  \u001b[0;31m# remove potential circular references\u001b[0m\u001b[0;34m\u001b[0m\u001b[0;34m\u001b[0m\u001b[0m\n\u001b[0;32m--> 147\u001b[0;31m             \u001b[0;32mraise\u001b[0m \u001b[0mexc_value\u001b[0m\u001b[0;34m.\u001b[0m\u001b[0mwith_traceback\u001b[0m\u001b[0;34m(\u001b[0m\u001b[0mexc_tb\u001b[0m\u001b[0;34m)\u001b[0m\u001b[0;34m\u001b[0m\u001b[0;34m\u001b[0m\u001b[0m\n\u001b[0m\u001b[1;32m    148\u001b[0m         \u001b[0;32melse\u001b[0m\u001b[0;34m:\u001b[0m\u001b[0;34m\u001b[0m\u001b[0;34m\u001b[0m\u001b[0m\n\u001b[1;32m    149\u001b[0m             \u001b[0mself\u001b[0m\u001b[0;34m.\u001b[0m\u001b[0m_exc_info\u001b[0m \u001b[0;34m=\u001b[0m \u001b[0;32mNone\u001b[0m  \u001b[0;31m# remove potential circular references\u001b[0m\u001b[0;34m\u001b[0m\u001b[0;34m\u001b[0m\u001b[0m\n",
      "\u001b[0;32m/usr/local/lib/python3.8/dist-packages/sqlalchemy/orm/session.py\u001b[0m in \u001b[0;36m_flush\u001b[0;34m(self, objects)\u001b[0m\n\u001b[1;32m   4248\u001b[0m             \u001b[0mself\u001b[0m\u001b[0;34m.\u001b[0m\u001b[0m_warn_on_events\u001b[0m \u001b[0;34m=\u001b[0m \u001b[0;32mTrue\u001b[0m\u001b[0;34m\u001b[0m\u001b[0;34m\u001b[0m\u001b[0m\n\u001b[1;32m   4249\u001b[0m             \u001b[0;32mtry\u001b[0m\u001b[0;34m:\u001b[0m\u001b[0;34m\u001b[0m\u001b[0;34m\u001b[0m\u001b[0m\n\u001b[0;32m-> 4250\u001b[0;31m                 \u001b[0mflush_context\u001b[0m\u001b[0;34m.\u001b[0m\u001b[0mexecute\u001b[0m\u001b[0;34m(\u001b[0m\u001b[0;34m)\u001b[0m\u001b[0;34m\u001b[0m\u001b[0;34m\u001b[0m\u001b[0m\n\u001b[0m\u001b[1;32m   4251\u001b[0m             \u001b[0;32mfinally\u001b[0m\u001b[0;34m:\u001b[0m\u001b[0;34m\u001b[0m\u001b[0;34m\u001b[0m\u001b[0m\n\u001b[1;32m   4252\u001b[0m                 \u001b[0mself\u001b[0m\u001b[0;34m.\u001b[0m\u001b[0m_warn_on_events\u001b[0m \u001b[0;34m=\u001b[0m \u001b[0;32mFalse\u001b[0m\u001b[0;34m\u001b[0m\u001b[0;34m\u001b[0m\u001b[0m\n",
      "\u001b[0;32m/usr/local/lib/python3.8/dist-packages/sqlalchemy/orm/unitofwork.py\u001b[0m in \u001b[0;36mexecute\u001b[0;34m(self)\u001b[0m\n\u001b[1;32m    465\u001b[0m         \u001b[0;32melse\u001b[0m\u001b[0;34m:\u001b[0m\u001b[0;34m\u001b[0m\u001b[0;34m\u001b[0m\u001b[0m\n\u001b[1;32m    466\u001b[0m             \u001b[0;32mfor\u001b[0m \u001b[0mrec\u001b[0m \u001b[0;32min\u001b[0m \u001b[0mtopological\u001b[0m\u001b[0;34m.\u001b[0m\u001b[0msort\u001b[0m\u001b[0;34m(\u001b[0m\u001b[0mself\u001b[0m\u001b[0;34m.\u001b[0m\u001b[0mdependencies\u001b[0m\u001b[0;34m,\u001b[0m \u001b[0mpostsort_actions\u001b[0m\u001b[0;34m)\u001b[0m\u001b[0;34m:\u001b[0m\u001b[0;34m\u001b[0m\u001b[0;34m\u001b[0m\u001b[0m\n\u001b[0;32m--> 467\u001b[0;31m                 \u001b[0mrec\u001b[0m\u001b[0;34m.\u001b[0m\u001b[0mexecute\u001b[0m\u001b[0;34m(\u001b[0m\u001b[0mself\u001b[0m\u001b[0;34m)\u001b[0m\u001b[0;34m\u001b[0m\u001b[0;34m\u001b[0m\u001b[0m\n\u001b[0m\u001b[1;32m    468\u001b[0m \u001b[0;34m\u001b[0m\u001b[0m\n\u001b[1;32m    469\u001b[0m     \u001b[0;32mdef\u001b[0m \u001b[0mfinalize_flush_changes\u001b[0m\u001b[0;34m(\u001b[0m\u001b[0mself\u001b[0m\u001b[0;34m)\u001b[0m \u001b[0;34m->\u001b[0m \u001b[0;32mNone\u001b[0m\u001b[0;34m:\u001b[0m\u001b[0;34m\u001b[0m\u001b[0;34m\u001b[0m\u001b[0m\n",
      "\u001b[0;32m/usr/local/lib/python3.8/dist-packages/sqlalchemy/orm/unitofwork.py\u001b[0m in \u001b[0;36mexecute\u001b[0;34m(self, uow)\u001b[0m\n\u001b[1;32m    642\u001b[0m     \u001b[0;34m@\u001b[0m\u001b[0mutil\u001b[0m\u001b[0;34m.\u001b[0m\u001b[0mpreload_module\u001b[0m\u001b[0;34m(\u001b[0m\u001b[0;34m\"sqlalchemy.orm.persistence\"\u001b[0m\u001b[0;34m)\u001b[0m\u001b[0;34m\u001b[0m\u001b[0;34m\u001b[0m\u001b[0m\n\u001b[1;32m    643\u001b[0m     \u001b[0;32mdef\u001b[0m \u001b[0mexecute\u001b[0m\u001b[0;34m(\u001b[0m\u001b[0mself\u001b[0m\u001b[0;34m,\u001b[0m \u001b[0muow\u001b[0m\u001b[0;34m)\u001b[0m\u001b[0;34m:\u001b[0m\u001b[0;34m\u001b[0m\u001b[0;34m\u001b[0m\u001b[0m\n\u001b[0;32m--> 644\u001b[0;31m         util.preloaded.orm_persistence.save_obj(\n\u001b[0m\u001b[1;32m    645\u001b[0m             \u001b[0mself\u001b[0m\u001b[0;34m.\u001b[0m\u001b[0mmapper\u001b[0m\u001b[0;34m,\u001b[0m\u001b[0;34m\u001b[0m\u001b[0;34m\u001b[0m\u001b[0m\n\u001b[1;32m    646\u001b[0m             \u001b[0muow\u001b[0m\u001b[0;34m.\u001b[0m\u001b[0mstates_for_mapper_hierarchy\u001b[0m\u001b[0;34m(\u001b[0m\u001b[0mself\u001b[0m\u001b[0;34m.\u001b[0m\u001b[0mmapper\u001b[0m\u001b[0;34m,\u001b[0m \u001b[0;32mFalse\u001b[0m\u001b[0;34m,\u001b[0m \u001b[0;32mFalse\u001b[0m\u001b[0;34m)\u001b[0m\u001b[0;34m,\u001b[0m\u001b[0;34m\u001b[0m\u001b[0;34m\u001b[0m\u001b[0m\n",
      "\u001b[0;32m/usr/local/lib/python3.8/dist-packages/sqlalchemy/orm/persistence.py\u001b[0m in \u001b[0;36msave_obj\u001b[0;34m(base_mapper, states, uowtransaction, single)\u001b[0m\n\u001b[1;32m     91\u001b[0m         )\n\u001b[1;32m     92\u001b[0m \u001b[0;34m\u001b[0m\u001b[0m\n\u001b[0;32m---> 93\u001b[0;31m         _emit_insert_statements(\n\u001b[0m\u001b[1;32m     94\u001b[0m             \u001b[0mbase_mapper\u001b[0m\u001b[0;34m,\u001b[0m\u001b[0;34m\u001b[0m\u001b[0;34m\u001b[0m\u001b[0m\n\u001b[1;32m     95\u001b[0m             \u001b[0muowtransaction\u001b[0m\u001b[0;34m,\u001b[0m\u001b[0;34m\u001b[0m\u001b[0;34m\u001b[0m\u001b[0m\n",
      "\u001b[0;32m/usr/local/lib/python3.8/dist-packages/sqlalchemy/orm/persistence.py\u001b[0m in \u001b[0;36m_emit_insert_statements\u001b[0;34m(base_mapper, uowtransaction, mapper, table, insert, bookkeeping, use_orm_insert_stmt, execution_options)\u001b[0m\n\u001b[1;32m   1206\u001b[0m                         )\n\u001b[1;32m   1207\u001b[0m                     \u001b[0;32melse\u001b[0m\u001b[0;34m:\u001b[0m\u001b[0;34m\u001b[0m\u001b[0;34m\u001b[0m\u001b[0m\n\u001b[0;32m-> 1208\u001b[0;31m                         result = connection.execute(\n\u001b[0m\u001b[1;32m   1209\u001b[0m                             \u001b[0mstatement\u001b[0m\u001b[0;34m,\u001b[0m\u001b[0;34m\u001b[0m\u001b[0;34m\u001b[0m\u001b[0m\n\u001b[1;32m   1210\u001b[0m                             \u001b[0mparams\u001b[0m\u001b[0;34m,\u001b[0m\u001b[0;34m\u001b[0m\u001b[0;34m\u001b[0m\u001b[0m\n",
      "\u001b[0;32m/usr/local/lib/python3.8/dist-packages/sqlalchemy/engine/base.py\u001b[0m in \u001b[0;36mexecute\u001b[0;34m(self, statement, parameters, execution_options)\u001b[0m\n\u001b[1;32m   1411\u001b[0m             \u001b[0;32mraise\u001b[0m \u001b[0mexc\u001b[0m\u001b[0;34m.\u001b[0m\u001b[0mObjectNotExecutableError\u001b[0m\u001b[0;34m(\u001b[0m\u001b[0mstatement\u001b[0m\u001b[0;34m)\u001b[0m \u001b[0;32mfrom\u001b[0m \u001b[0merr\u001b[0m\u001b[0;34m\u001b[0m\u001b[0;34m\u001b[0m\u001b[0m\n\u001b[1;32m   1412\u001b[0m         \u001b[0;32melse\u001b[0m\u001b[0;34m:\u001b[0m\u001b[0;34m\u001b[0m\u001b[0;34m\u001b[0m\u001b[0m\n\u001b[0;32m-> 1413\u001b[0;31m             return meth(\n\u001b[0m\u001b[1;32m   1414\u001b[0m                 \u001b[0mself\u001b[0m\u001b[0;34m,\u001b[0m\u001b[0;34m\u001b[0m\u001b[0;34m\u001b[0m\u001b[0m\n\u001b[1;32m   1415\u001b[0m                 \u001b[0mdistilled_parameters\u001b[0m\u001b[0;34m,\u001b[0m\u001b[0;34m\u001b[0m\u001b[0;34m\u001b[0m\u001b[0m\n",
      "\u001b[0;32m/usr/local/lib/python3.8/dist-packages/sqlalchemy/sql/elements.py\u001b[0m in \u001b[0;36m_execute_on_connection\u001b[0;34m(self, connection, distilled_params, execution_options)\u001b[0m\n\u001b[1;32m    481\u001b[0m             \u001b[0;32mif\u001b[0m \u001b[0mTYPE_CHECKING\u001b[0m\u001b[0;34m:\u001b[0m\u001b[0;34m\u001b[0m\u001b[0;34m\u001b[0m\u001b[0m\n\u001b[1;32m    482\u001b[0m                 \u001b[0;32massert\u001b[0m \u001b[0misinstance\u001b[0m\u001b[0;34m(\u001b[0m\u001b[0mself\u001b[0m\u001b[0;34m,\u001b[0m \u001b[0mExecutable\u001b[0m\u001b[0;34m)\u001b[0m\u001b[0;34m\u001b[0m\u001b[0;34m\u001b[0m\u001b[0m\n\u001b[0;32m--> 483\u001b[0;31m             return connection._execute_clauseelement(\n\u001b[0m\u001b[1;32m    484\u001b[0m                 \u001b[0mself\u001b[0m\u001b[0;34m,\u001b[0m \u001b[0mdistilled_params\u001b[0m\u001b[0;34m,\u001b[0m \u001b[0mexecution_options\u001b[0m\u001b[0;34m\u001b[0m\u001b[0;34m\u001b[0m\u001b[0m\n\u001b[1;32m    485\u001b[0m             )\n",
      "\u001b[0;32m/usr/local/lib/python3.8/dist-packages/sqlalchemy/engine/base.py\u001b[0m in \u001b[0;36m_execute_clauseelement\u001b[0;34m(self, elem, distilled_parameters, execution_options)\u001b[0m\n\u001b[1;32m   1635\u001b[0m             \u001b[0mlinting\u001b[0m\u001b[0;34m=\u001b[0m\u001b[0mself\u001b[0m\u001b[0;34m.\u001b[0m\u001b[0mdialect\u001b[0m\u001b[0;34m.\u001b[0m\u001b[0mcompiler_linting\u001b[0m \u001b[0;34m|\u001b[0m \u001b[0mcompiler\u001b[0m\u001b[0;34m.\u001b[0m\u001b[0mWARN_LINTING\u001b[0m\u001b[0;34m,\u001b[0m\u001b[0;34m\u001b[0m\u001b[0;34m\u001b[0m\u001b[0m\n\u001b[1;32m   1636\u001b[0m         )\n\u001b[0;32m-> 1637\u001b[0;31m         ret = self._execute_context(\n\u001b[0m\u001b[1;32m   1638\u001b[0m             \u001b[0mdialect\u001b[0m\u001b[0;34m,\u001b[0m\u001b[0;34m\u001b[0m\u001b[0;34m\u001b[0m\u001b[0m\n\u001b[1;32m   1639\u001b[0m             \u001b[0mdialect\u001b[0m\u001b[0;34m.\u001b[0m\u001b[0mexecution_ctx_cls\u001b[0m\u001b[0;34m.\u001b[0m\u001b[0m_init_compiled\u001b[0m\u001b[0;34m,\u001b[0m\u001b[0;34m\u001b[0m\u001b[0;34m\u001b[0m\u001b[0m\n",
      "\u001b[0;32m/usr/local/lib/python3.8/dist-packages/sqlalchemy/engine/base.py\u001b[0m in \u001b[0;36m_execute_context\u001b[0;34m(self, dialect, constructor, statement, parameters, execution_options, *args, **kw)\u001b[0m\n\u001b[1;32m   1839\u001b[0m             )\n\u001b[1;32m   1840\u001b[0m         \u001b[0;32melse\u001b[0m\u001b[0;34m:\u001b[0m\u001b[0;34m\u001b[0m\u001b[0;34m\u001b[0m\u001b[0m\n\u001b[0;32m-> 1841\u001b[0;31m             return self._exec_single_context(\n\u001b[0m\u001b[1;32m   1842\u001b[0m                 \u001b[0mdialect\u001b[0m\u001b[0;34m,\u001b[0m \u001b[0mcontext\u001b[0m\u001b[0;34m,\u001b[0m \u001b[0mstatement\u001b[0m\u001b[0;34m,\u001b[0m \u001b[0mparameters\u001b[0m\u001b[0;34m\u001b[0m\u001b[0;34m\u001b[0m\u001b[0m\n\u001b[1;32m   1843\u001b[0m             )\n",
      "\u001b[0;32m/usr/local/lib/python3.8/dist-packages/sqlalchemy/engine/base.py\u001b[0m in \u001b[0;36m_exec_single_context\u001b[0;34m(self, dialect, context, statement, parameters)\u001b[0m\n\u001b[1;32m   1980\u001b[0m \u001b[0;34m\u001b[0m\u001b[0m\n\u001b[1;32m   1981\u001b[0m         \u001b[0;32mexcept\u001b[0m \u001b[0mBaseException\u001b[0m \u001b[0;32mas\u001b[0m \u001b[0me\u001b[0m\u001b[0;34m:\u001b[0m\u001b[0;34m\u001b[0m\u001b[0;34m\u001b[0m\u001b[0m\n\u001b[0;32m-> 1982\u001b[0;31m             self._handle_dbapi_exception(\n\u001b[0m\u001b[1;32m   1983\u001b[0m                 \u001b[0me\u001b[0m\u001b[0;34m,\u001b[0m \u001b[0mstr_statement\u001b[0m\u001b[0;34m,\u001b[0m \u001b[0meffective_parameters\u001b[0m\u001b[0;34m,\u001b[0m \u001b[0mcursor\u001b[0m\u001b[0;34m,\u001b[0m \u001b[0mcontext\u001b[0m\u001b[0;34m\u001b[0m\u001b[0;34m\u001b[0m\u001b[0m\n\u001b[1;32m   1984\u001b[0m             )\n",
      "\u001b[0;32m/usr/local/lib/python3.8/dist-packages/sqlalchemy/engine/base.py\u001b[0m in \u001b[0;36m_handle_dbapi_exception\u001b[0;34m(self, e, statement, parameters, cursor, context, is_sub_exec)\u001b[0m\n\u001b[1;32m   2337\u001b[0m             \u001b[0;32melif\u001b[0m \u001b[0mshould_wrap\u001b[0m\u001b[0;34m:\u001b[0m\u001b[0;34m\u001b[0m\u001b[0;34m\u001b[0m\u001b[0m\n\u001b[1;32m   2338\u001b[0m                 \u001b[0;32massert\u001b[0m \u001b[0msqlalchemy_exception\u001b[0m \u001b[0;32mis\u001b[0m \u001b[0;32mnot\u001b[0m \u001b[0;32mNone\u001b[0m\u001b[0;34m\u001b[0m\u001b[0;34m\u001b[0m\u001b[0m\n\u001b[0;32m-> 2339\u001b[0;31m                 \u001b[0;32mraise\u001b[0m \u001b[0msqlalchemy_exception\u001b[0m\u001b[0;34m.\u001b[0m\u001b[0mwith_traceback\u001b[0m\u001b[0;34m(\u001b[0m\u001b[0mexc_info\u001b[0m\u001b[0;34m[\u001b[0m\u001b[0;36m2\u001b[0m\u001b[0;34m]\u001b[0m\u001b[0;34m)\u001b[0m \u001b[0;32mfrom\u001b[0m \u001b[0me\u001b[0m\u001b[0;34m\u001b[0m\u001b[0;34m\u001b[0m\u001b[0m\n\u001b[0m\u001b[1;32m   2340\u001b[0m             \u001b[0;32melse\u001b[0m\u001b[0;34m:\u001b[0m\u001b[0;34m\u001b[0m\u001b[0;34m\u001b[0m\u001b[0m\n\u001b[1;32m   2341\u001b[0m                 \u001b[0;32massert\u001b[0m \u001b[0mexc_info\u001b[0m\u001b[0;34m[\u001b[0m\u001b[0;36m1\u001b[0m\u001b[0;34m]\u001b[0m \u001b[0;32mis\u001b[0m \u001b[0;32mnot\u001b[0m \u001b[0;32mNone\u001b[0m\u001b[0;34m\u001b[0m\u001b[0;34m\u001b[0m\u001b[0m\n",
      "\u001b[0;32m/usr/local/lib/python3.8/dist-packages/sqlalchemy/engine/base.py\u001b[0m in \u001b[0;36m_exec_single_context\u001b[0;34m(self, dialect, context, statement, parameters)\u001b[0m\n\u001b[1;32m   1961\u001b[0m                             \u001b[0;32mbreak\u001b[0m\u001b[0;34m\u001b[0m\u001b[0;34m\u001b[0m\u001b[0m\n\u001b[1;32m   1962\u001b[0m                 \u001b[0;32mif\u001b[0m \u001b[0;32mnot\u001b[0m \u001b[0mevt_handled\u001b[0m\u001b[0;34m:\u001b[0m\u001b[0;34m\u001b[0m\u001b[0;34m\u001b[0m\u001b[0m\n\u001b[0;32m-> 1963\u001b[0;31m                     self.dialect.do_execute(\n\u001b[0m\u001b[1;32m   1964\u001b[0m                         \u001b[0mcursor\u001b[0m\u001b[0;34m,\u001b[0m \u001b[0mstr_statement\u001b[0m\u001b[0;34m,\u001b[0m \u001b[0meffective_parameters\u001b[0m\u001b[0;34m,\u001b[0m \u001b[0mcontext\u001b[0m\u001b[0;34m\u001b[0m\u001b[0;34m\u001b[0m\u001b[0m\n\u001b[1;32m   1965\u001b[0m                     )\n",
      "\u001b[0;32m/usr/local/lib/python3.8/dist-packages/sqlalchemy/engine/default.py\u001b[0m in \u001b[0;36mdo_execute\u001b[0;34m(self, cursor, statement, parameters, context)\u001b[0m\n\u001b[1;32m    916\u001b[0m \u001b[0;34m\u001b[0m\u001b[0m\n\u001b[1;32m    917\u001b[0m     \u001b[0;32mdef\u001b[0m \u001b[0mdo_execute\u001b[0m\u001b[0;34m(\u001b[0m\u001b[0mself\u001b[0m\u001b[0;34m,\u001b[0m \u001b[0mcursor\u001b[0m\u001b[0;34m,\u001b[0m \u001b[0mstatement\u001b[0m\u001b[0;34m,\u001b[0m \u001b[0mparameters\u001b[0m\u001b[0;34m,\u001b[0m \u001b[0mcontext\u001b[0m\u001b[0;34m=\u001b[0m\u001b[0;32mNone\u001b[0m\u001b[0;34m)\u001b[0m\u001b[0;34m:\u001b[0m\u001b[0;34m\u001b[0m\u001b[0;34m\u001b[0m\u001b[0m\n\u001b[0;32m--> 918\u001b[0;31m         \u001b[0mcursor\u001b[0m\u001b[0;34m.\u001b[0m\u001b[0mexecute\u001b[0m\u001b[0;34m(\u001b[0m\u001b[0mstatement\u001b[0m\u001b[0;34m,\u001b[0m \u001b[0mparameters\u001b[0m\u001b[0;34m)\u001b[0m\u001b[0;34m\u001b[0m\u001b[0;34m\u001b[0m\u001b[0m\n\u001b[0m\u001b[1;32m    919\u001b[0m \u001b[0;34m\u001b[0m\u001b[0m\n\u001b[1;32m    920\u001b[0m     \u001b[0;32mdef\u001b[0m \u001b[0mdo_execute_no_params\u001b[0m\u001b[0;34m(\u001b[0m\u001b[0mself\u001b[0m\u001b[0;34m,\u001b[0m \u001b[0mcursor\u001b[0m\u001b[0;34m,\u001b[0m \u001b[0mstatement\u001b[0m\u001b[0;34m,\u001b[0m \u001b[0mcontext\u001b[0m\u001b[0;34m=\u001b[0m\u001b[0;32mNone\u001b[0m\u001b[0;34m)\u001b[0m\u001b[0;34m:\u001b[0m\u001b[0;34m\u001b[0m\u001b[0;34m\u001b[0m\u001b[0m\n",
      "\u001b[0;31mOperationalError\u001b[0m: (sqlite3.OperationalError) no such table: Code\n[SQL: INSERT INTO \"Code\" (function, designator) VALUES (?, ?)]\n[parameters: ('no_operation', None)]\n(Background on this error at: https://sqlalche.me/e/20/e3q8)"
     ]
    }
   ],
   "source": [
    "import sqlalchemy\n",
    "import sqlalchemy.orm\n",
    "\n",
    "engine = sqlalchemy.create_engine(\"sqlite+pysqlite:///:memory:\", echo=False)\n",
    "session = sqlalchemy.orm.Session(bind=engine)\n",
    "session\n",
    "\n",
    "tt.insert(session)"
   ]
  }
 ],
 "metadata": {
  "kernelspec": {
   "display_name": "Python 3",
   "language": "python",
   "name": "python3"
  },
  "language_info": {
   "codemirror_mode": {
    "name": "ipython",
    "version": 3
   },
   "file_extension": ".py",
   "mimetype": "text/x-python",
   "name": "python",
   "nbconvert_exporter": "python",
   "pygments_lexer": "ipython3",
   "version": "3.8.10"
  }
 },
 "nbformat": 4,
 "nbformat_minor": 4
}
