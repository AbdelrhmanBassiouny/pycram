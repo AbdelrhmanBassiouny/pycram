{
 "cells": [
  {
   "cell_type": "markdown",
   "metadata": {},
   "source": [
    "# PyCRAM Presentation"
   ]
  },
  {
   "cell_type": "code",
   "execution_count": 1,
   "metadata": {
    "ExecuteTime": {
     "end_time": "2023-04-05T16:37:51.973404Z",
     "start_time": "2023-04-05T16:37:51.483749Z"
    }
   },
   "outputs": [
    {
     "name": "stderr",
     "output_type": "stream",
     "text": [
      "Unknown attribute \"type\" in /robot[@name='pr2']/link[@name='base_laser_link']\n",
      "Unknown attribute \"type\" in /robot[@name='pr2']/link[@name='wide_stereo_optical_frame']\n",
      "Unknown attribute \"type\" in /robot[@name='pr2']/link[@name='narrow_stereo_optical_frame']\n",
      "Unknown attribute \"type\" in /robot[@name='pr2']/link[@name='laser_tilt_link']\n",
      "Unknown attribute \"type\" in /robot[@name='pr2']/link[@name='base_laser_link']\n",
      "Unknown attribute \"type\" in /robot[@name='pr2']/link[@name='wide_stereo_optical_frame']\n",
      "Unknown attribute \"type\" in /robot[@name='pr2']/link[@name='narrow_stereo_optical_frame']\n",
      "Unknown attribute \"type\" in /robot[@name='pr2']/link[@name='laser_tilt_link']\n"
     ]
    }
   ],
   "source": [
    "import pycram"
   ]
  },
  {
   "cell_type": "markdown",
   "metadata": {},
   "source": [
    "# Bullet World\n",
    "\n",
    "The BulletWorld is the internal simulation of PyCRAM. You can simulate different actions and reason about the outcome of different actions. \n",
    "\n",
    "It is possible to spawn objects and robots into the BulletWorld, these objects can come from URDF, OBJ or STL files. \n",
    "\n",
    "A BulletWorld can be created by simply creating an object of the BulletWorld class. "
   ]
  },
  {
   "cell_type": "code",
   "execution_count": 2,
   "metadata": {
    "ExecuteTime": {
     "end_time": "2023-04-05T16:37:59.788099Z",
     "start_time": "2023-04-05T16:37:57.586879Z"
    }
   },
   "outputs": [],
   "source": [
    "from pycram.bullet_world import BulletWorld, Object\n",
    "\n",
    "world = BulletWorld()"
   ]
  },
  {
   "cell_type": "markdown",
   "metadata": {},
   "source": [
    "The world can also be closed with the 'exit' method"
   ]
  },
  {
   "cell_type": "code",
   "execution_count": 3,
   "metadata": {
    "ExecuteTime": {
     "end_time": "2023-04-05T16:38:04.800655Z",
     "start_time": "2023-04-05T16:38:03.943911Z"
    }
   },
   "outputs": [],
   "source": [
    "world.exit()"
   ]
  },
  {
   "cell_type": "markdown",
   "metadata": {},
   "source": [
    "The BulletWorld allows to render images from arbitrary positoins. In the following example we render images with the camera at the position [0.3, 0, 1] and pointing towards [1, 0, 1], so we are looking upwards along the x-axis. \n",
    "\n",
    "The renderer returns 3 different kinds of images which are also shown at the left side of the BulletWorld window. These images are:\n",
    "* A RGB image which shows everything like it is rendered in the BulletWorld window, just from another perspective. \n",
    "* A depth image which consists of distance values from the camera towards the objects in the field of view. \n",
    "* A segmentation mask image which segments the image into the different objects displayed. The segmentation is done by assigning every pixel the unique id of the object that is displayed there. "
   ]
  },
  {
   "cell_type": "code",
   "execution_count": 3,
   "metadata": {},
   "outputs": [
    {
     "data": {
      "text/plain": [
       "[array([[[255, 255, 255, 255],\n",
       "         [255, 255, 255, 255],\n",
       "         [255, 255, 255, 255],\n",
       "         ...,\n",
       "         [255, 255, 255, 255],\n",
       "         [255, 255, 255, 255],\n",
       "         [255, 255, 255, 255]],\n",
       " \n",
       "        [[255, 255, 255, 255],\n",
       "         [255, 255, 255, 255],\n",
       "         [255, 255, 255, 255],\n",
       "         ...,\n",
       "         [255, 255, 255, 255],\n",
       "         [255, 255, 255, 255],\n",
       "         [255, 255, 255, 255]],\n",
       " \n",
       "        [[255, 255, 255, 255],\n",
       "         [255, 255, 255, 255],\n",
       "         [255, 255, 255, 255],\n",
       "         ...,\n",
       "         [255, 255, 255, 255],\n",
       "         [255, 255, 255, 255],\n",
       "         [255, 255, 255, 255]],\n",
       " \n",
       "        ...,\n",
       " \n",
       "        [[239, 239, 239, 255],\n",
       "         [239, 239, 239, 255],\n",
       "         [239, 239, 239, 255],\n",
       "         ...,\n",
       "         [239, 239, 239, 255],\n",
       "         [239, 239, 239, 255],\n",
       "         [239, 239, 239, 255]],\n",
       " \n",
       "        [[239, 239, 239, 255],\n",
       "         [239, 239, 239, 255],\n",
       "         [239, 239, 239, 255],\n",
       "         ...,\n",
       "         [239, 239, 239, 255],\n",
       "         [239, 239, 239, 255],\n",
       "         [239, 239, 239, 255]],\n",
       " \n",
       "        [[239, 239, 239, 255],\n",
       "         [239, 239, 239, 255],\n",
       "         [239, 239, 239, 255],\n",
       "         ...,\n",
       "         [239, 239, 239, 255],\n",
       "         [239, 239, 239, 255],\n",
       "         [239, 239, 239, 255]]], dtype=uint8),\n",
       " array([[0.99999994, 0.99999994, 0.99999994, ..., 0.99999994, 0.99999994,\n",
       "         0.99999994],\n",
       "        [0.99999994, 0.99999994, 0.99999994, ..., 0.99999994, 0.99999994,\n",
       "         0.99999994],\n",
       "        [0.99999994, 0.99999994, 0.99999994, ..., 0.99999994, 0.99999994,\n",
       "         0.99999994],\n",
       "        ...,\n",
       "        [0.80473447, 0.80473447, 0.80473447, ..., 0.80473447, 0.80473447,\n",
       "         0.80473447],\n",
       "        [0.8031688 , 0.8031688 , 0.8031688 , ..., 0.8031688 , 0.8031688 ,\n",
       "         0.8031688 ],\n",
       "        [0.80160314, 0.80160314, 0.80160314, ..., 0.80160314, 0.80160314,\n",
       "         0.80160314]], dtype=float32),\n",
       " array([[-1, -1, -1, ..., -1, -1, -1],\n",
       "        [-1, -1, -1, ..., -1, -1, -1],\n",
       "        [-1, -1, -1, ..., -1, -1, -1],\n",
       "        ...,\n",
       "        [ 0,  0,  0, ...,  0,  0,  0],\n",
       "        [ 0,  0,  0, ...,  0,  0,  0],\n",
       "        [ 0,  0,  0, ...,  0,  0,  0]], dtype=int32)]"
      ]
     },
     "execution_count": 3,
     "metadata": {},
     "output_type": "execute_result"
    }
   ],
   "source": [
    "from pycram.bullet_world_reasoning import _get_images_for_target\n",
    "\n",
    "_get_images_for_target([[1, 0, 1], [0, 0, 0, 1]], [[0.3, 0, 1], [0, 0, 0, 1]])"
   ]
  },
  {
   "cell_type": "markdown",
   "metadata": {},
   "source": [
    "## Objects\n",
    "Everything that is located inside the BulletWorld is an Object. \n",
    "Objects can be created from URDF, OBJ or STL files. Since everything is of type Object a robot might share the same methods as a milk (with some limitations).\n",
    "\n",
    "Signature:\n",
    "Object:\n",
    "* Name \n",
    "* Type\n",
    "* Filename or Filepath\n",
    "\n",
    " Optional:\n",
    " * Position\n",
    " * Orientation\n",
    " * World \n",
    " * Color \n",
    " * Ignore Cached Files\n",
    "\n",
    "If there is only a filename and no path PyCRAM will check in the resource directory if there is a matching file. \n"
   ]
  },
  {
   "cell_type": "code",
   "execution_count": 4,
   "metadata": {},
   "outputs": [],
   "source": [
    "milk = Object(\"Milk\", \"milk\", \"milk.stl\")"
   ]
  },
  {
   "cell_type": "markdown",
   "metadata": {},
   "source": [
    "Objects provide methods to change the position and rotation, change the color, attach other objects, set the state of joints if the objects has any or get the position and orientation of a link. \n",
    "\n",
    "These methods are the same for every Object, however since some Objects may not have joints or more than one link methods related to these will not work. "
   ]
  },
  {
   "cell_type": "code",
   "execution_count": 5,
   "metadata": {},
   "outputs": [],
   "source": [
    "milk.set_position([1, 0, 0])"
   ]
  },
  {
   "cell_type": "markdown",
   "metadata": {},
   "source": [
    "To remove an Object from the BulletWorld just call the 'remove' method on the Object."
   ]
  },
  {
   "cell_type": "code",
   "execution_count": 6,
   "metadata": {},
   "outputs": [],
   "source": [
    "milk.remove()"
   ]
  },
  {
   "cell_type": "markdown",
   "metadata": {},
   "source": [
    "Since everything inside the BulletWorld is an Object, even a complex environment Object like the kitchen can be spawned in the same way as the milk."
   ]
  },
  {
   "cell_type": "code",
   "execution_count": 7,
   "metadata": {},
   "outputs": [],
   "source": [
    "kitchen = Object(\"kitchen\", \"environment\", \"kitchen.urdf\")"
   ]
  },
  {
   "cell_type": "markdown",
   "metadata": {},
   "source": [
    "## Costmaps\n",
    "\n",
    "Costmaps are a way to get positions with respect to certain criterias. \n",
    "The currently available costmaps are:\n",
    "* Occupancy Costmap\n",
    "* Visibility Costmap\n",
    "* Semantic Costmap \n",
    "* Gaussian Costmap\n",
    "\n",
    "It is also possible to merge multiple costmaps to combine different criteria."
   ]
  },
  {
   "cell_type": "markdown",
   "metadata": {},
   "source": [
    "### Visibility Costmaps\n",
    "Visibility costmaps determine every position, around a target position, from which the target is visible. Visibility Costmaps are able to work with cameras that are moveable in height, for example if the robot has a movable torso. "
   ]
  },
  {
   "cell_type": "code",
   "execution_count": 8,
   "metadata": {},
   "outputs": [],
   "source": [
    "import pycram.costmaps as cm\n",
    "v = cm.VisibilityCostmap(1.27, 1.60, size=300, resolution=0.02, origin=[[0, 0, 0.1], [0, 0, 0, 1]])"
   ]
  },
  {
   "cell_type": "code",
   "execution_count": 9,
   "metadata": {},
   "outputs": [],
   "source": [
    "v.visualize()"
   ]
  },
  {
   "cell_type": "code",
   "execution_count": 10,
   "metadata": {},
   "outputs": [],
   "source": [
    "v.close_visualization()"
   ]
  },
  {
   "cell_type": "markdown",
   "metadata": {},
   "source": [
    "### Occupancy Costmap\n",
    "Is valid for every position where the robot can be placed without colliding with an object."
   ]
  },
  {
   "cell_type": "code",
   "execution_count": 11,
   "metadata": {},
   "outputs": [],
   "source": [
    "o = cm.OccupancyCostmap(0.2, from_ros=False, size=300, resolution=0.02, origin=[[0, 0, 0.1], [0, 0, 0, 1]])"
   ]
  },
  {
   "cell_type": "code",
   "execution_count": null,
   "metadata": {},
   "outputs": [],
   "source": [
    "s = cm.SemanticCostmap(kitchen, \"kitchen_island_surface\", size=100, resolution=0.02)\n",
    "\n",
    "g = cm.GaussianCostmap(200, 15, resolution=0.02)"
   ]
  },
  {
   "cell_type": "markdown",
   "metadata": {},
   "source": [
    "You can visualize the costmap in the BulletWorld to get an impression what information is actually contained in the costmap. With this you could also check if the costmap was created correctly. \n",
    "Visualization can be done via the 'visualize' method of each costmap."
   ]
  },
  {
   "cell_type": "code",
   "execution_count": 12,
   "metadata": {},
   "outputs": [],
   "source": [
    "o.visualize()"
   ]
  },
  {
   "cell_type": "code",
   "execution_count": 13,
   "metadata": {},
   "outputs": [],
   "source": [
    "o.close_visualization()"
   ]
  },
  {
   "cell_type": "markdown",
   "metadata": {},
   "source": [
    "It is also possible to combine two costmap, this will result in a new costmap with the same size which contains the information of both previous costmaps. Combination is done by checking for each position in the two costmaps if they are zero, in this case to same position in the new costmap will also be zero in any other case the new position will be the normalized product of the two combined costmaps."
   ]
  },
  {
   "cell_type": "code",
   "execution_count": 14,
   "metadata": {},
   "outputs": [],
   "source": [
    "ov = o + v"
   ]
  },
  {
   "cell_type": "code",
   "execution_count": 15,
   "metadata": {},
   "outputs": [],
   "source": [
    "ov.visualize()"
   ]
  },
  {
   "cell_type": "code",
   "execution_count": 16,
   "metadata": {},
   "outputs": [],
   "source": [
    "ov.close_visualization()"
   ]
  },
  {
   "cell_type": "markdown",
   "metadata": {},
   "source": [
    "## Bullet World Reasoning \n",
    "Allows for geometric reasoning in the BulletWorld. At the moment the following types of reasoning are supported:\n",
    "* Stable\n",
    "* Contact\n",
    "* Visible \n",
    "* Occluding \n",
    "* Reachable \n",
    "* Blocking\n",
    "* Supporting\n",
    "\n",
    "To show the geometric reasoning we first a robot as well as the milk Object again."
   ]
  },
  {
   "cell_type": "code",
   "execution_count": 17,
   "metadata": {},
   "outputs": [],
   "source": [
    "import pycram.bullet_world_reasoning as btr\n",
    "milk = Object(\"Milk\", \"milk\", \"milk.stl\", position=[1, 0, 1])\n",
    "pr2 = Object(\"pr2\", \"robot\", \"pr2.urdf\")"
   ]
  },
  {
   "cell_type": "markdown",
   "metadata": {},
   "source": [
    "We start with testing for visibility "
   ]
  },
  {
   "cell_type": "code",
   "execution_count": 18,
   "metadata": {
    "scrolled": true
   },
   "outputs": [
    {
     "name": "stdout",
     "output_type": "stream",
     "text": [
      "Milk visible: True\n"
     ]
    }
   ],
   "source": [
    "milk.set_position([1,0,1])\n",
    "visible = btr.visible(milk, pr2.get_link_position_and_orientation(\"wide_stereo_optical_frame\"))\n",
    "print(f\"Milk visible: {visible}\")"
   ]
  },
  {
   "cell_type": "code",
   "execution_count": 19,
   "metadata": {},
   "outputs": [
    {
     "name": "stdout",
     "output_type": "stream",
     "text": [
      "Milk is in contact with the floor: True\n"
     ]
    }
   ],
   "source": [
    "milk.set_position([1, 0, 0.05])\n",
    "\n",
    "plane = BulletWorld.current_bullet_world.objects[0]\n",
    "contact = btr.contact(milk, plane)\n",
    "print(f\"Milk is in contact with the floor: {contact}\")"
   ]
  },
  {
   "cell_type": "code",
   "execution_count": 20,
   "metadata": {},
   "outputs": [
    {
     "name": "stdout",
     "output_type": "stream",
     "text": [
      "Milk is reachable for the PR2: True\n"
     ]
    }
   ],
   "source": [
    "milk.set_position([0.6, -0.5, 0.7])\n",
    "\n",
    "reachable = btr.reachable(milk, pr2, \"r_gripper_tool_frame\")\n",
    "print(f\"Milk is reachable for the PR2: {reachable}\")"
   ]
  },
  {
   "cell_type": "markdown",
   "metadata": {},
   "source": [
    "# Designator\n",
    "Designator are symbolic descriptions of Actions, Motions, Objects or Locations. In PyCRAM the different types of designators are representet by a class which takes a description, the description then tells the designator what to do. \n",
    "\n",
    "For example, let's look at a Motion Designator to move the robot to a specific location. \n",
    "\n"
   ]
  },
  {
   "cell_type": "markdown",
   "metadata": {},
   "source": [
    "## Motion Designator\n",
    "\n",
    "When using a Motion Designator you need to specify which Process Module needs to be used, either the Process Module for the real or the simulated robot. This can be done either with a decorator which can be added to a function and then executes every designator in this function on the specified robot. The other possibility is a \"with\" scope which wraps a code piece. \n",
    "\n",
    "These two ways can also be combined, you could write a function which should be executed on the real robot and in the function is a \"with\" scope which executes something on the simulated robot for reasoning purposes. "
   ]
  },
  {
   "cell_type": "code",
   "execution_count": 21,
   "metadata": {},
   "outputs": [],
   "source": [
    "from pycram.designators.motion_designator import *\n",
    "from pycram.process_module import simulated_robot, with_simulated_robot\n",
    "\n",
    "description = MoveMotion(target=[[1, 0, 0], [0, 0, 0, 1]])\n",
    "\n",
    "with simulated_robot:\n",
    "    description.resolve().perform()\n",
    "    \n"
   ]
  },
  {
   "cell_type": "code",
   "execution_count": 22,
   "metadata": {
    "scrolled": true
   },
   "outputs": [],
   "source": [
    "from pycram.process_module import with_simulated_robot\n",
    "\n",
    "@with_simulated_robot\n",
    "def move():\n",
    "    MoveMotion(target=[[0, 0, 0], [0, 0, 0, 1]]).resolve().perform()\n",
    "\n",
    "move()"
   ]
  },
  {
   "cell_type": "markdown",
   "metadata": {},
   "source": [
    "Other implemented Motion Designator descriptions are:\n",
    "* Pick up\n",
    "* Place\n",
    "* Accessing\n",
    "* Move TCP\n",
    "* Looking\n",
    "* Move Gripper\n",
    "* Detecting\n",
    "* Move Arm Joint \n",
    "* World State Detecting "
   ]
  },
  {
   "cell_type": "markdown",
   "metadata": {},
   "source": [
    "## Object Designator\n",
    "\n",
    "Object Designator represent objects, these objects could either be from the BulletWorld or the real world. Object Designator are used, for example, by the PickUpAction to know which object should be picked up."
   ]
  },
  {
   "cell_type": "code",
   "execution_count": 23,
   "metadata": {},
   "outputs": [
    {
     "data": {
      "text/plain": [
       "BelieveObject.Object(name='Milk', type='milk', pose=((0.6, -0.5, 0.7), (0.0, 0.0, 0.0, 1.0)), bullet_world_object=<pycram.bullet_world.Object object at 0x7f8221c59820>)"
      ]
     },
     "execution_count": 23,
     "metadata": {},
     "output_type": "execute_result"
    }
   ],
   "source": [
    "from pycram.designators.object_designator import *\n",
    "\n",
    "milk_desig = BelieveObject(names=[\"Milk\"])\n",
    "milk_desig.resolve()"
   ]
  },
  {
   "cell_type": "markdown",
   "metadata": {},
   "source": [
    "## Location Designator\n",
    "Location Designator can create a position in cartisian space from a symbolic desctiption"
   ]
  },
  {
   "cell_type": "code",
   "execution_count": 24,
   "metadata": {},
   "outputs": [
    {
     "name": "stdout",
     "output_type": "stream",
     "text": [
      "Resolved: CostmapLocation.Location(pose=[[0.7800000309944153, -0.7200000286102295, 0.0], [0.0, 0.0, 0.9036696869551967, 0.42823019146050045]], reachable_arms=None)\n",
      "\n",
      "CostmapLocation.Location(pose=[[0.7800000309944153, -0.7200000286102295, 0.0], [0.0, 0.0, 0.9036696869551967, 0.42823019146050045]], reachable_arms=None)\n",
      "CostmapLocation.Location(pose=[[0.48000001907348633, -0.7599999904632568, 0.0], [0.0, 0.0, 0.5389535530902271, 0.8423354840035054]], reachable_arms=None)\n",
      "CostmapLocation.Location(pose=[[0.7800000309944153, -0.699999988079071, 0.0], [0.0, 0.0, 0.913500086834353, 0.40683853228723244]], reachable_arms=None)\n",
      "CostmapLocation.Location(pose=[[0.40000003576278687, -0.7200000286102295, 0.0], [0.0, 0.0, 0.4045536551285547, 0.9145142645809995]], reachable_arms=None)\n",
      "CostmapLocation.Location(pose=[[0.40000003576278687, -0.7599999904632568, 0.0], [0.0, 0.0, 0.44175179320244673, 0.8971373101161397]], reachable_arms=None)\n",
      "CostmapLocation.Location(pose=[[0.7800000309944153, -0.7400000095367432, 0.0], [0.0, 0.0, 0.8944272052164515, 0.44721356706688564]], reachable_arms=None)\n",
      "CostmapLocation.Location(pose=[[0.7599999904632568, -0.7799999713897705, 0.0], [0.0, 0.0, 0.864910097721237, 0.5019268102620543]], reachable_arms=None)\n",
      "CostmapLocation.Location(pose=[[0.5600000023841858, -0.800000011920929, 0.0], [0.0, 0.0, 0.6587246362513456, 0.7523841130669443]], reachable_arms=None)\n",
      "CostmapLocation.Location(pose=[[0.5600000023841858, -0.7799999713897705, 0.0], [0.0, 0.0, 0.6552017391087004, 0.7554539569483599]], reachable_arms=None)\n",
      "CostmapLocation.Location(pose=[[0.48000001907348633, -0.800000011920929, 0.0], [0.0, 0.0, 0.5606288376710756, 0.8280672112646283]], reachable_arms=None)\n",
      "CostmapLocation.Location(pose=[[0.7599999904632568, -0.7400000095367432, 0.0], [0.0, 0.0, 0.8816745879506651, 0.4718579457442938]], reachable_arms=None)\n",
      "CostmapLocation.Location(pose=[[0.7599999904632568, -0.7200000286102295, 0.0], [0.0, 0.0, 0.8911149265714824, 0.4537776852617387]], reachable_arms=None)\n",
      "CostmapLocation.Location(pose=[[0.64000004529953, -0.800000011920929, 0.0], [0.0, 0.0, 0.7523841645032464, 0.6587245775016686]], reachable_arms=None)\n",
      "CostmapLocation.Location(pose=[[0.64000004529953, -0.7799999713897705, 0.0], [0.0, 0.0, 0.7554540116226551, 0.6552016760687027]], reachable_arms=None)\n",
      "CostmapLocation.Location(pose=[[0.5, -0.7799999713897705, 0.0], [0.0, 0.0, 0.5760484235386912, 0.8174155697921276]], reachable_arms=None)\n",
      "CostmapLocation.Location(pose=[[0.6600000262260437, -0.800000011920929, 0.0], [0.0, 0.0, 0.7733421655614154, 0.6339888760576011]], reachable_arms=None)\n",
      "CostmapLocation.Location(pose=[[0.6200000047683716, -0.7799999713897705, 0.0], [0.0, 0.0, 0.731863058956842, 0.6814517319182144]], reachable_arms=None)\n",
      "CostmapLocation.Location(pose=[[0.6200000047683716, -0.800000011920929, 0.0], [0.0, 0.0, 0.7302461994702317, 0.683184080727356]], reachable_arms=None)\n",
      "CostmapLocation.Location(pose=[[0.48000001907348633, -0.7799999713897705, 0.0], [0.0, 0.0, 0.550491017325588, 0.8348410865810566]], reachable_arms=None)\n",
      "CostmapLocation.Location(pose=[[0.5, -0.7599999904632568, 0.0], [0.0, 0.0, 0.5661364275599434, 0.824311558447208]], reachable_arms=None)\n",
      "CostmapLocation.Location(pose=[[0.7400000095367432, -0.7599999904632568, 0.0], [0.0, 0.0, 0.8585161214422742, 0.5127865727802496]], reachable_arms=None)\n",
      "CostmapLocation.Location(pose=[[0.6800000071525574, -0.8199999928474426, 0.0], [0.0, 0.0, 0.7882054461076002, 0.6154121990392446]], reachable_arms=None)\n",
      "CostmapLocation.Location(pose=[[0.6800000071525574, -0.7799999713897705, 0.0], [0.0, 0.0, 0.7983486633538989, 0.6021954929431497]], reachable_arms=None)\n",
      "CostmapLocation.Location(pose=[[0.6800000071525574, -0.7599999904632568, 0.0], [0.0, 0.0, 0.8043897944127911, 0.5941018924768272]], reachable_arms=None)\n",
      "CostmapLocation.Location(pose=[[0.5600000023841858, -0.7400000095367432, 0.0], [0.0, 0.0, 0.6463749022760786, 0.7630199772663818]], reachable_arms=None)\n",
      "CostmapLocation.Location(pose=[[0.6800000071525574, -0.7400000095367432, 0.0], [0.0, 0.0, 0.8112421895319917, 0.58471027861954]], reachable_arms=None)\n",
      "CostmapLocation.Location(pose=[[0.6800000071525574, -0.7200000286102295, 0.0], [0.0, 0.0, 0.8190674730510353, 0.5736971976485432]], reachable_arms=None)\n",
      "CostmapLocation.Location(pose=[[0.46000003814697266, -0.7400000095367432, 0.0], [0.0, 0.0, 0.4980607853724219, 0.8671421187292233]], reachable_arms=None)\n",
      "CostmapLocation.Location(pose=[[0.7599999904632568, -0.699999988079071, 0.0], [0.0, 0.0, 0.9013032363068558, 0.4331887304891345]], reachable_arms=None)\n",
      "CostmapLocation.Location(pose=[[0.7599999904632568, -0.6800000071525574, 0.0], [0.0, 0.0, 0.9122400457011646, 0.4096560740659623]], reachable_arms=None)\n",
      "CostmapLocation.Location(pose=[[0.7400000095367432, -0.7400000095367432, 0.0], [0.0, 0.0, 0.8671421556453707, 0.49806072110004795]], reachable_arms=None)\n",
      "CostmapLocation.Location(pose=[[0.7400000095367432, -0.7200000286102295, 0.0], [0.0, 0.0, 0.8766058032345824, 0.48120917046067685]], reachable_arms=None)\n",
      "CostmapLocation.Location(pose=[[0.7400000095367432, -0.699999988079071, 0.0], [0.0, 0.0, 0.8869786901389103, 0.46181035419256566]], reachable_arms=None)\n",
      "CostmapLocation.Location(pose=[[0.7400000095367432, -0.6800000071525574, 0.0], [0.0, 0.0, 0.898315263249043, 0.4393514399814829]], reachable_arms=None)\n",
      "CostmapLocation.Location(pose=[[0.7400000095367432, -0.6599999666213989, 0.0], [0.0, 0.0, 0.9106329422658371, 0.413216219986903]], reachable_arms=None)\n",
      "CostmapLocation.Location(pose=[[0.46000003814697266, -0.7599999904632568, 0.0], [0.0, 0.0, 0.5127866338105396, 0.8585160849892421]], reachable_arms=None)\n",
      "CostmapLocation.Location(pose=[[0.6200000047683716, -0.7599999904632568, 0.0], [0.0, 0.0, 0.7337221953368, 0.6794495861137504]], reachable_arms=None)\n",
      "CostmapLocation.Location(pose=[[0.6200000047683716, -0.7400000095367432, 0.0], [0.0, 0.0, 0.7358822922993877, 0.6771094829347751]], reachable_arms=None)\n",
      "CostmapLocation.Location(pose=[[0.6200000047683716, -0.7200000286102295, 0.0], [0.0, 0.0, 0.7384225605212918, 0.6743382846266249]], reachable_arms=None)\n",
      "CostmapLocation.Location(pose=[[0.7599999904632568, -0.6599999666213989, 0.0], [0.0, 0.0, 0.9238795467673567, 0.38268339794789047]], reachable_arms=None)\n",
      "CostmapLocation.Location(pose=[[0.5200000405311584, -0.7599999904632568, 0.0], [0.0, 0.0, 0.5941019598595088, 0.8043897446456478]], reachable_arms=None)\n",
      "CostmapLocation.Location(pose=[[0.5200000405311584, -0.7400000095367432, 0.0], [0.0, 0.0, 0.5847103511502421, 0.8112421372548153]], reachable_arms=None)\n",
      "CostmapLocation.Location(pose=[[0.7800000309944153, -0.6599999666213989, 0.0], [0.0, 0.0, 0.934721735145974, 0.355380469139343]], reachable_arms=None)\n",
      "CostmapLocation.Location(pose=[[0.7800000309944153, -0.6800000071525574, 0.0], [0.0, 0.0, 0.923879545183346, 0.38268340177203103]], reachable_arms=None)\n",
      "CostmapLocation.Location(pose=[[0.5200000405311584, -0.7200000286102295, 0.0], [0.0, 0.0, 0.5736972760459793, 0.8190674181393272]], reachable_arms=None)\n",
      "CostmapLocation.Location(pose=[[0.6000000238418579, -0.7200000286102295, 0.0], [0.0, 0.0, 0.7071068195018583, 0.7071067428712347]], reachable_arms=None)\n",
      "CostmapLocation.Location(pose=[[0.6000000238418579, -0.7400000095367432, 0.0], [0.0, 0.0, 0.707106816308919, 0.7071067460641743]], reachable_arms=None)\n",
      "CostmapLocation.Location(pose=[[0.6000000238418579, -0.7599999904632568, 0.0], [0.0, 0.0, 0.7071068136072006, 0.7071067487658929]], reachable_arms=None)\n",
      "CostmapLocation.Location(pose=[[0.6000000238418579, -0.7799999713897705, 0.0], [0.0, 0.0, 0.7071068112914417, 0.707106751081652]], reachable_arms=None)\n",
      "CostmapLocation.Location(pose=[[0.5, -0.7200000286102295, 0.0], [0.0, 0.0, 0.5413857683287278, 0.8407743156466622]], reachable_arms=None)\n",
      "CostmapLocation.Location(pose=[[0.5, -0.7400000095367432, 0.0], [0.0, 0.0, 0.5547002020943487, 0.8320502904250973]], reachable_arms=None)\n",
      "CostmapLocation.Location(pose=[[0.6000000238418579, -0.800000011920929, 0.0], [0.0, 0.0, 0.7071068092844448, 0.7071067530886491]], reachable_arms=None)\n",
      "CostmapLocation.Location(pose=[[0.7000000476837158, -0.7799999713897705, 0.0], [0.0, 0.0, 0.8174156132936886, 0.5760483618097554]], reachable_arms=None)\n",
      "CostmapLocation.Location(pose=[[0.7000000476837158, -0.7599999904632568, 0.0], [0.0, 0.0, 0.8243116036716047, 0.5661363617118647]], reachable_arms=None)\n",
      "CostmapLocation.Location(pose=[[0.7000000476837158, -0.7400000095367432, 0.0], [0.0, 0.0, 0.8320503373780485, 0.5547001316649165]], reachable_arms=None)\n",
      "CostmapLocation.Location(pose=[[0.7000000476837158, -0.7200000286102295, 0.0], [0.0, 0.0, 0.8407743642713316, 0.5413856928144096]], reachable_arms=None)\n",
      "CostmapLocation.Location(pose=[[0.7200000286102295, -0.6800000071525574, 0.0], [0.0, 0.0, 0.8816746204024976, 0.4718578851074885]], reachable_arms=None)\n",
      "CostmapLocation.Location(pose=[[0.7200000286102295, -0.699999988079071, 0.0], [0.0, 0.0, 0.8701999391437019, 0.49269875777628824]], reachable_arms=None)\n",
      "CostmapLocation.Location(pose=[[0.7200000286102295, -0.7200000286102295, 0.0], [0.0, 0.0, 0.85989888087945, 0.5104644107695162]], reachable_arms=None)\n",
      "CostmapLocation.Location(pose=[[0.7200000286102295, -0.7400000095367432, 0.0], [0.0, 0.0, 0.850650829242715, 0.5257310783173098]], reachable_arms=None)\n",
      "CostmapLocation.Location(pose=[[0.7200000286102295, -0.7599999904632568, 0.0], [0.0, 0.0, 0.8423355247463089, 0.5389534894129181]], reachable_arms=None)\n",
      "CostmapLocation.Location(pose=[[0.7200000286102295, -0.7799999713897705, 0.0], [0.0, 0.0, 0.834841126181531, 0.5504909572699203]], reachable_arms=None)\n",
      "CostmapLocation.Location(pose=[[0.6600000262260437, -0.7200000286102295, 0.0], [0.0, 0.0, 0.7947067009249904, 0.6069936239409092]], reachable_arms=None)\n",
      "CostmapLocation.Location(pose=[[0.6600000262260437, -0.7400000095367432, 0.0], [0.0, 0.0, 0.7882054667858525, 0.6154121725550254]], reachable_arms=None)\n",
      "CostmapLocation.Location(pose=[[0.6600000262260437, -0.7599999904632568, 0.0], [0.0, 0.0, 0.7825789442114632, 0.6225513601919695]], reachable_arms=None)\n",
      "CostmapLocation.Location(pose=[[0.7200000286102295, -0.800000011920929, 0.0], [0.0, 0.0, 0.8280672496739153, 0.5606287809392928]], reachable_arms=None)\n",
      "CostmapLocation.Location(pose=[[0.3800000250339508, -0.7400000095367432, 0.0], [0.0, 0.0, 0.40266327611026154, 0.9153481775106953]], reachable_arms=None)\n",
      "CostmapLocation.Location(pose=[[0.7000000476837158, -0.699999988079071, 0.0], [0.0, 0.0, 0.8506508647568615, 0.5257310208542042]], reachable_arms=None)\n",
      "CostmapLocation.Location(pose=[[0.800000011920929, -0.7599999904632568, 0.0], [0.0, 0.0, 0.8971373355656537, 0.4417517415179705]], reachable_arms=None)\n",
      "CostmapLocation.Location(pose=[[0.800000011920929, -0.7200000286102295, 0.0], [0.0, 0.0, 0.9145142885851659, 0.4045536008659023]], reachable_arms=None)\n",
      "CostmapLocation.Location(pose=[[0.800000011920929, -0.6599999666213989, 0.0], [0.0, 0.0, 0.9436283408148021, 0.33100687970358517]], reachable_arms=None)\n",
      "CostmapLocation.Location(pose=[[0.800000011920929, -0.6399999856948853, 0.0], [0.0, 0.0, 0.9537379000819807, 0.3006393486342296]], reachable_arms=None)\n",
      "CostmapLocation.Location(pose=[[0.36000001430511475, -0.7200000286102295, 0.0], [0.0, 0.0, 0.3625230500488472, 0.9319748055517816]], reachable_arms=None)\n",
      "CostmapLocation.Location(pose=[[0.4400000274181366, -0.7400000095367432, 0.0], [0.0, 0.0, 0.47185796848309797, 0.8816745757812254]], reachable_arms=None)\n",
      "CostmapLocation.Location(pose=[[0.64000004529953, -0.7599999904632568, 0.0], [0.0, 0.0, 0.7589655321303497, 0.6511308017887766]], reachable_arms=None)\n",
      "CostmapLocation.Location(pose=[[0.64000004529953, -0.7400000095367432, 0.0], [0.0, 0.0, 0.7630200397425034, 0.6463748285254838]], reachable_arms=None)\n",
      "CostmapLocation.Location(pose=[[0.64000004529953, -0.7200000286102295, 0.0], [0.0, 0.0, 0.7677517866419696, 0.6407473715186536]], reachable_arms=None)\n",
      "CostmapLocation.Location(pose=[[0.4400000274181366, -0.7799999713897705, 0.0], [0.0, 0.0, 0.5019268310813995, 0.8649100856393017]], reachable_arms=None)\n",
      "CostmapLocation.Location(pose=[[0.5800000429153442, -0.7200000286102295, 0.0], [0.0, 0.0, 0.6743383639950643, 0.7384224880408641]], reachable_arms=None)\n",
      "CostmapLocation.Location(pose=[[0.5800000429153442, -0.7400000095367432, 0.0], [0.0, 0.0, 0.6771095555339467, 0.7358822254984972]], reachable_arms=None)\n",
      "CostmapLocation.Location(pose=[[0.5800000429153442, -0.7599999904632568, 0.0], [0.0, 0.0, 0.679449652999899, 0.7337221333981393]], reachable_arms=None)\n",
      "CostmapLocation.Location(pose=[[0.5800000429153442, -0.7799999713897705, 0.0], [0.0, 0.0, 0.6814517939196532, 0.7318630012261084]], reachable_arms=None)\n",
      "CostmapLocation.Location(pose=[[0.5800000429153442, -0.800000011920929, 0.0], [0.0, 0.0, 0.683184138505315, 0.7302461454158801]], reachable_arms=None)\n",
      "CostmapLocation.Location(pose=[[0.42000001668930054, -0.7200000286102295, 0.0], [0.0, 0.0, 0.42823025012307225, 0.9036696591562268]], reachable_arms=None)\n",
      "CostmapLocation.Location(pose=[[0.42000001668930054, -0.7400000095367432, 0.0], [0.0, 0.0, 0.4472136239330325, 0.894427176783378]], reachable_arms=None)\n",
      "CostmapLocation.Location(pose=[[0.5400000214576721, -0.7200000286102295, 0.0], [0.0, 0.0, 0.6069937041024838, 0.7947066396979117]], reachable_arms=None)\n",
      "CostmapLocation.Location(pose=[[0.5400000214576721, -0.7400000095367432, 0.0], [0.0, 0.0, 0.6154122462502463, 0.7882054092463627]], reachable_arms=None)\n",
      "CostmapLocation.Location(pose=[[0.5400000214576721, -0.800000011920929, 0.0], [0.0, 0.0, 0.6339889351534752, 0.7733421171143873]], reachable_arms=None)\n",
      "CostmapLocation.Location(pose=[[0.5400000214576721, -0.8199999928474426, 0.0], [0.0, 0.0, 0.6386358605022576, 0.7695090887575928]], reachable_arms=None)\n",
      "CostmapLocation.Location(pose=[[0.5200000405311584, -0.7799999713897705, 0.0], [0.0, 0.0, 0.6021955557916494, 0.7983486159471854]], reachable_arms=None)\n"
     ]
    }
   ],
   "source": [
    "from pycram.designators.location_designator import *\n",
    "from pycram.designators.object_designator import *\n",
    "\n",
    "robot_desig = BelieveObject(types=[\"robot\"]).resolve()\n",
    "milk_desig = BelieveObject(names=[\"Milk\"]).resolve()\n",
    "location_desig = CostmapLocation(target=milk_desig, visible_for=robot_desig)\n",
    "\n",
    "print(f\"Resolved: {location_desig.resolve()}\")\n",
    "print()\n",
    "\n",
    "for pose in location_desig:\n",
    "    print(pose)\n",
    "                              "
   ]
  },
  {
   "cell_type": "markdown",
   "metadata": {},
   "source": [
    "# Action Designator\n",
    "Action Designator are used to describe high-level actions. Action Designator are usually composed of other Designators to describe the high-level action in detail. "
   ]
  },
  {
   "cell_type": "code",
   "execution_count": 25,
   "metadata": {},
   "outputs": [],
   "source": [
    "from pycram.designators.action_designator import *\n",
    "from pycram.resolver.plans import Arms\n",
    "from pycram.enums import Arms\n",
    "\n",
    "with simulated_robot:\n",
    "    ParkArmsAction([Arms.BOTH]).resolve().perform()\n"
   ]
  },
  {
   "cell_type": "markdown",
   "metadata": {},
   "source": [
    "# Making a simple plan\n",
    "To get familiar with the PyCRAM Framework we will write a simple pick and place plan. This plan will let the robot grab a cereal box from the kitchen counter and place it on the kitchen island. This is a simple pick and place plan."
   ]
  },
  {
   "cell_type": "code",
   "execution_count": 26,
   "metadata": {},
   "outputs": [],
   "source": [
    "from pycram.designators.object_designator import *\n",
    "cereal = Object(\"cereal\", \"cereal\", \"breakfast_cereal.stl\", position=[1.4, 1, 0.95])\n"
   ]
  },
  {
   "cell_type": "code",
   "execution_count": 27,
   "metadata": {},
   "outputs": [],
   "source": [
    "cereal_desig = ObjectDesignatorDescription(names=[\"cereal\"])\n",
    "kitchen_desig = ObjectDesignatorDescription(names=[\"kitchen\"])\n",
    "robot_desig = ObjectDesignatorDescription(names=[\"pr2\"]).resolve()\n",
    "with simulated_robot:\n",
    "    ParkArmsAction([Arms.BOTH]).resolve().perform()\n",
    "\n",
    "    MoveTorsoAction([0.3]).resolve().perform()\n",
    "\n",
    "    pickup_pose = CostmapLocation(target=cereal_desig.resolve(), reachable_for=robot_desig).resolve()\n",
    "    pickup_arm = pickup_pose.reachable_arms[0]\n",
    "\n",
    "    NavigateAction(target_locations=[pickup_pose.pose]).resolve().perform()\n",
    "\n",
    "    PickUpAction(object_designator_description=cereal_desig, arms=[pickup_arm], grasps=[\"front\"]).resolve().perform()\n",
    "\n",
    "    ParkArmsAction([Arms.BOTH]).resolve().perform()\n",
    "\n",
    "    place_island = SemanticCostmapLocation(\"kitchen_island_surface\", kitchen_desig.resolve(), cereal_desig.resolve()).resolve()\n",
    "\n",
    "    place_stand = CostmapLocation(place_island.pose, reachable_for=robot_desig, reachable_arm=pickup_arm).resolve()\n",
    "\n",
    "    NavigateAction(target_locations=[place_stand.pose]).resolve().perform()\n",
    "\n",
    "    PlaceAction(cereal_desig, target_locations=[place_island.pose], arms=[pickup_arm]).resolve().perform()\n",
    "\n",
    "    ParkArmsAction([Arms.BOTH]).resolve().perform()\n",
    "    \n",
    "    \n",
    "    "
   ]
  },
  {
   "cell_type": "markdown",
   "metadata": {},
   "source": [
    "# Task Trees\n",
    "Task trees are a hirachical representation of all Actions involved in a plan. The Task tree can later be used to inspect and restructre the execution order of Actions in the plan."
   ]
  },
  {
   "cell_type": "code",
   "execution_count": 29,
   "metadata": {},
   "outputs": [
    {
     "name": "stdout",
     "output_type": "stream",
     "text": [
      "no_operation()\n",
      "├── perform(ParkArmsAction, )\n",
      "├── perform(ParkArmsAction, )\n",
      "├── perform(MoveTorsoAction, )\n",
      "├── perform(NavigateAction, )\n",
      "├── perform(PickUpAction, )\n",
      "├── perform(ParkArmsAction, )\n",
      "├── perform(NavigateAction, )\n",
      "├── perform(PlaceAction, )\n",
      "└── perform(ParkArmsAction, )\n"
     ]
    }
   ],
   "source": [
    "import pycram.task\n",
    "import anytree\n",
    "tt = pycram.task.task_tree\n",
    "print(anytree.RenderTree(tt))"
   ]
  },
  {
   "cell_type": "code",
   "execution_count": 30,
   "metadata": {},
   "outputs": [],
   "source": [
    "from anytree.dotexport import RenderTreeGraph, DotExporter\n",
    "RenderTreeGraph(tt).to_picture(\"tree.png\")"
   ]
  },
  {
   "cell_type": "markdown",
   "metadata": {},
   "source": [
    "# ORM\n"
   ]
  },
  {
   "cell_type": "code",
   "execution_count": 31,
   "metadata": {},
   "outputs": [
    {
     "data": {
      "text/plain": [
       "pycram.orm.task.TaskTreeNode(1, 1, 2023-04-25 16:33:54.418393, None, RUNNING, None)"
      ]
     },
     "execution_count": 31,
     "metadata": {},
     "output_type": "execute_result"
    }
   ],
   "source": [
    "import sqlalchemy\n",
    "import sqlalchemy.orm\n",
    "import pycram.orm.base\n",
    "import pycram.orm.task\n",
    "import pycram.orm.object_designator\n",
    "import pycram.orm.motion_designator\n",
    "import pycram.orm.action_designator\n",
    "\n",
    "engine = sqlalchemy.create_engine(\"sqlite+pysqlite:///:memory:\", echo=False)\n",
    "session = sqlalchemy.orm.Session(bind=engine)\n",
    "pycram.orm.base.Base.metadata.create_all(engine)\n",
    "session.commit()\n",
    "\n",
    "\n",
    "tt.insert(session)"
   ]
  },
  {
   "cell_type": "code",
   "execution_count": 32,
   "metadata": {},
   "outputs": [
    {
     "name": "stdout",
     "output_type": "stream",
     "text": [
      "pycram.orm.action_designator.NavigateAction(4, Navigate, 1, 1)\n",
      "pycram.orm.action_designator.NavigateAction(7, Navigate, 3, 3)\n"
     ]
    }
   ],
   "source": [
    "navigations = session.query(pycram.orm.action_designator.NavigateAction).all()\n",
    "print(*navigations, sep=\"\\n\")"
   ]
  },
  {
   "cell_type": "code",
   "execution_count": 34,
   "metadata": {},
   "outputs": [
    {
     "name": "stdout",
     "output_type": "stream",
     "text": [
      "(pycram.orm.action_designator.NavigateAction(4, Navigate, 1, 1), pycram.orm.base.Position(1, 0.7799999713897705, 0.7400000095367432, 0.0), pycram.orm.base.Quaternion(1, 0.0, 0.0, 0.1972379359404665, 0.9803556480308279))\n",
      "(pycram.orm.action_designator.NavigateAction(7, Navigate, 3, 3), pycram.orm.base.Position(3, -1.9075000286102295, 0.7792000770568848, 0.0), pycram.orm.base.Quaternion(3, 0.0, 0.0, 0.16439898301071468, 0.9863939245479175))\n"
     ]
    }
   ],
   "source": [
    "navigations = session.query(pycram.orm.action_designator.NavigateAction, \n",
    "                            pycram.orm.base.Position, \n",
    "                            pycram.orm.base.Quaternion).\\\n",
    "                                join(pycram.orm.base.Position).\\\n",
    "                                join(pycram.orm.base.Quaternion).all()\n",
    "print(*navigations, sep=\"\\n\")"
   ]
  }
 ],
 "metadata": {
  "kernelspec": {
   "display_name": "Python 3",
   "language": "python",
   "name": "python3"
  },
  "language_info": {
   "codemirror_mode": {
    "name": "ipython",
    "version": 3
   },
   "file_extension": ".py",
   "mimetype": "text/x-python",
   "name": "python",
   "nbconvert_exporter": "python",
   "pygments_lexer": "ipython3",
   "version": "3.8.10"
  }
 },
 "nbformat": 4,
 "nbformat_minor": 4
}
