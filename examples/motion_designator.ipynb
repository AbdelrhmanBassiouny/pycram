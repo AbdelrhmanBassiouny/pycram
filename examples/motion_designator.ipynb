{
 "cells": [
  {
   "cell_type": "markdown",
   "id": "100fd461",
   "metadata": {},
   "source": [
    "# Motion Designator\n",
    "Motion designator are similar to action designator, but unlike action designator, motion designator represent atomar low-level motions. Motion designator "
   ]
  },
  {
   "cell_type": "code",
   "execution_count": null,
   "id": "09bd8d8e",
   "metadata": {},
   "outputs": [],
   "source": [
    "from pycram.bullet_world import BulletWold, Object\n",
    "\n",
    "world = BulletWorld()\n",
    "pr2 = Object(\"pr2\", \"robot\", \"pr2.urdf\")"
   ]
  },
  {
   "cell_type": "markdown",
   "id": "dc410ddb",
   "metadata": {},
   "source": [
    "## Move"
   ]
  },
  {
   "cell_type": "code",
   "execution_count": null,
   "id": "1e8af6b0",
   "metadata": {},
   "outputs": [],
   "source": [
    "from pycram.designators.motion_designator import MoveMotion\n",
    "from pycram.process_module import simulated_robot\n",
    "\n",
    "with simulated_robot:\n",
    "    motion_description = MoveMotion(target=[[1, 0, 0], [0, 0, 0, 1]])\n",
    "    \n",
    "    motion_desig = motion_description.resolve()\n",
    "    \n",
    "    motion_desig.perform()"
   ]
  },
  {
   "cell_type": "markdown",
   "id": "1fdcff63",
   "metadata": {},
   "source": [
    "## MoveTCP"
   ]
  },
  {
   "cell_type": "code",
   "execution_count": null,
   "id": "712e8d98",
   "metadata": {},
   "outputs": [],
   "source": [
    "from pycram.designators.motion_designator import MoveTCP\n",
    "from pycram.process_module import simulated_robot\n",
    "\n",
    "with simulated_robot:\n",
    "    motion_description = MoveTCP(target=[], arm=\"right\")\n",
    "    \n",
    "    motion_description.resolve().perform()"
   ]
  },
  {
   "cell_type": "markdown",
   "id": "549c6655",
   "metadata": {},
   "source": [
    "## Looking"
   ]
  },
  {
   "cell_type": "code",
   "execution_count": null,
   "id": "a2ba661e",
   "metadata": {},
   "outputs": [],
   "source": [
    "from pycram.designators.motion_designator import LookingMotion\n",
    "from pycram.process_module import simulated_robot\n",
    "\n",
    "with simulated_robot:\n",
    "    motion_description = LookingMotion(target=[])\n",
    "    \n",
    "    motion_description.resolve().perform()"
   ]
  },
  {
   "cell_type": "markdown",
   "id": "4cfd144b",
   "metadata": {},
   "source": [
    "## Move Gripper"
   ]
  },
  {
   "cell_type": "code",
   "execution_count": 1,
   "id": "d76c7b60",
   "metadata": {},
   "outputs": [
    {
     "ename": "TypeError",
     "evalue": "__init__() missing 1 required positional argument: 'gripper'",
     "output_type": "error",
     "traceback": [
      "\u001b[0;31m---------------------------------------------------------------------------\u001b[0m",
      "\u001b[0;31mTypeError\u001b[0m                                 Traceback (most recent call last)",
      "\u001b[0;32m<ipython-input-1-da68359fa421>\u001b[0m in \u001b[0;36m<module>\u001b[0;34m\u001b[0m\n\u001b[1;32m      3\u001b[0m \u001b[0;34m\u001b[0m\u001b[0m\n\u001b[1;32m      4\u001b[0m \u001b[0;32mwith\u001b[0m \u001b[0msimulated_robot\u001b[0m\u001b[0;34m:\u001b[0m\u001b[0;34m\u001b[0m\u001b[0;34m\u001b[0m\u001b[0m\n\u001b[0;32m----> 5\u001b[0;31m     \u001b[0mmotion_description\u001b[0m \u001b[0;34m=\u001b[0m \u001b[0mMoveGripperMotion\u001b[0m\u001b[0;34m(\u001b[0m\u001b[0mmotion\u001b[0m\u001b[0;34m=\u001b[0m\u001b[0;34m\"open\"\u001b[0m\u001b[0;34m,\u001b[0m \u001b[0;34m)\u001b[0m\u001b[0;34m\u001b[0m\u001b[0;34m\u001b[0m\u001b[0m\n\u001b[0m\u001b[1;32m      6\u001b[0m \u001b[0;34m\u001b[0m\u001b[0m\n\u001b[1;32m      7\u001b[0m     \u001b[0mmotion_description\u001b[0m\u001b[0;34m.\u001b[0m\u001b[0mresolve\u001b[0m\u001b[0;34m(\u001b[0m\u001b[0;34m)\u001b[0m\u001b[0;34m.\u001b[0m\u001b[0mperform\u001b[0m\u001b[0;34m(\u001b[0m\u001b[0;34m)\u001b[0m\u001b[0;34m\u001b[0m\u001b[0;34m\u001b[0m\u001b[0m\n",
      "\u001b[0;31mTypeError\u001b[0m: __init__() missing 1 required positional argument: 'gripper'"
     ]
    }
   ],
   "source": [
    "from pycram.designators.motion_designator import MoveGripperMotion\n",
    "from pycram.process_module import simulated_robot\n",
    "\n",
    "with simulated_robot:\n",
    "    motion_description = MoveGripperMotion(motion=\"open\", gripper=\"left\")\n",
    "    \n",
    "    motion_description.resolve().perform()"
   ]
  },
  {
   "cell_type": "markdown",
   "id": "93cbca41",
   "metadata": {},
   "source": [
    "## Detecting "
   ]
  },
  {
   "cell_type": "code",
   "execution_count": null,
   "id": "eadeb6fc",
   "metadata": {},
   "outputs": [],
   "source": [
    "from pycram.designators.motion_designator import DetectingMotion\n",
    "from pycram.process_module import simulated_robot\n",
    "\n",
    "with simulated_robot:\n",
    "    motion_description = DetectingMotion(motion=\"open\", gripper=\"left\")\n",
    "    \n",
    "    motion_description.resolve().perform()"
   ]
  },
  {
   "cell_type": "markdown",
   "id": "8b79cb1d",
   "metadata": {},
   "source": [
    "## Move Arm Joints"
   ]
  },
  {
   "cell_type": "code",
   "execution_count": null,
   "id": "7fa844c5",
   "metadata": {},
   "outputs": [],
   "source": [
    "from pycram.designators.motion_designator import MoveArmJointsMotion\n",
    "from pycram.process_module import simulated_robot\n",
    "\n",
    "with simulated_robot:\n",
    "    motion_description = MoveArmJointsMotion(right_arm_poses={})\n",
    "    \n",
    "    motion_description.resolve().perform()"
   ]
  },
  {
   "cell_type": "markdown",
   "id": "f58ba042",
   "metadata": {},
   "source": [
    "## World State Detecting"
   ]
  },
  {
   "cell_type": "code",
   "execution_count": null,
   "id": "7f8f02a2",
   "metadata": {},
   "outputs": [],
   "source": [
    "from pycram.designators.motion_designator import WorldStateDetectingMotion\n",
    "from pycram.process_module import simulated_robot\n",
    "\n",
    "with simulated_robot:\n",
    "    motion_description = WorldStateDetectingMotion(object_type=\"milk\")\n",
    "    \n",
    "    obj = motion_description.resolve().perform()\n",
    "    \n",
    "    print(obj)"
   ]
  },
  {
   "cell_type": "markdown",
   "id": "9e423d4a",
   "metadata": {},
   "source": [
    "## Move Joints"
   ]
  },
  {
   "cell_type": "code",
   "execution_count": null,
   "id": "492187d9",
   "metadata": {},
   "outputs": [],
   "source": [
    "from pycram.designators.motion_designator import MoveJointsMotion\n",
    "from pycram.process_module import simulated_robot\n",
    "\n",
    "with simulated_robot:\n",
    "    motion_description = MoveJointsMotion(names=[], positions=[])\n",
    "    \n",
    "    motion_description.resolve().perform()"
   ]
  }
 ],
 "metadata": {
  "kernelspec": {
   "display_name": "Python 3",
   "language": "python",
   "name": "python3"
  },
  "language_info": {
   "codemirror_mode": {
    "name": "ipython",
    "version": 3
   },
   "file_extension": ".py",
   "mimetype": "text/x-python",
   "name": "python",
   "nbconvert_exporter": "python",
   "pygments_lexer": "ipython3",
   "version": "3.8.10"
  }
 },
 "nbformat": 4,
 "nbformat_minor": 5
}
