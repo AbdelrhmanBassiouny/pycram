{
 "cells": [
  {
   "cell_type": "markdown",
   "metadata": {},
   "source": [
    "# Motion Designator\n",
    "Motion designator are similar to action designator, but unlike action designator, motion designator represent atomar low-level motions. Motion designator only take the parameter that they should execute and not a list of possible parameter, like the other designator. Like action designator motion designator can be performed, performing motion designator verifies the parameter and passes the designator to the respective process module. \n",
    "\n",
    "Since motion designaotr perform motion on the robot, we need a robot which we can use. Therefore, we will create a BulletWorld as well as a PR2 robot."
   ]
  },
  {
   "cell_type": "code",
   "execution_count": 1,
   "metadata": {},
   "outputs": [
    {
     "name": "stderr",
     "output_type": "stream",
     "text": [
      "Unknown attribute \"type\" in /robot[@name='pr2']/link[@name='base_laser_link']\n",
      "Unknown attribute \"type\" in /robot[@name='pr2']/link[@name='wide_stereo_optical_frame']\n",
      "Unknown attribute \"type\" in /robot[@name='pr2']/link[@name='narrow_stereo_optical_frame']\n",
      "Unknown attribute \"type\" in /robot[@name='pr2']/link[@name='laser_tilt_link']\n",
      "Unknown attribute \"type\" in /robot[@name='pr2']/link[@name='base_laser_link']\n",
      "Unknown attribute \"type\" in /robot[@name='pr2']/link[@name='wide_stereo_optical_frame']\n",
      "Unknown attribute \"type\" in /robot[@name='pr2']/link[@name='narrow_stereo_optical_frame']\n",
      "Unknown attribute \"type\" in /robot[@name='pr2']/link[@name='laser_tilt_link']\n"
     ]
    }
   ],
   "source": [
    "from pycram.bullet_world import BulletWorld, Object\n",
    "\n",
    "world = BulletWorld()\n",
    "pr2 = Object(\"pr2\", \"robot\", \"pr2.urdf\")"
   ]
  },
  {
   "cell_type": "markdown",
   "metadata": {},
   "source": [
    "The following cell can be used after testing the examples, to close the BulletWorld."
   ]
  },
  {
   "cell_type": "code",
   "execution_count": 10,
   "metadata": {},
   "outputs": [
    {
     "name": "stdout",
     "output_type": "stream",
     "text": [
      "shutdown request: [/pycram] Reason: new node registered with same name\n"
     ]
    }
   ],
   "source": [
    "world.exit()"
   ]
  },
  {
   "cell_type": "markdown",
   "metadata": {},
   "source": [
    "## Move\n",
    "Move is used to let the robot drive to the given target pose. Motion designator are used in the same way as the other designator, first create a description then resolve it to the actual designator and lastly, perform the resolved designator. "
   ]
  },
  {
   "cell_type": "code",
   "execution_count": 4,
   "metadata": {},
   "outputs": [],
   "source": [
    "from pycram.designators.motion_designator import MoveMotion\n",
    "from pycram.process_module import simulated_robot\n",
    "\n",
    "with simulated_robot:\n",
    "    motion_description = MoveMotion(target=[[1, 0, 0], [0, 0, 0, 1]])\n",
    "    \n",
    "    motion_desig = motion_description.resolve()\n",
    "    \n",
    "    motion_desig.perform()"
   ]
  },
  {
   "cell_type": "code",
   "execution_count": 19,
   "metadata": {},
   "outputs": [],
   "source": [
    "world.reset_bullet_world()"
   ]
  },
  {
   "cell_type": "markdown",
   "metadata": {},
   "source": [
    "## MoveTCP\n",
    "MoveTCP is used to move the tool center point (TCP) of the given arm to the target position specified by the parameter. Like any designator we start by creating a description and then resolving and performing it."
   ]
  },
  {
   "cell_type": "code",
   "execution_count": 2,
   "metadata": {},
   "outputs": [],
   "source": [
    "from pycram.designators.motion_designator import MoveTCPMotion\n",
    "from pycram.process_module import simulated_robot\n",
    "\n",
    "with simulated_robot:\n",
    "    motion_description = MoveTCPMotion(target=[[0.5, 0.6, 0.6], [0, 0, 0, 1]], arm=\"left\")\n",
    "    \n",
    "    motion_description.resolve().perform()"
   ]
  },
  {
   "cell_type": "markdown",
   "metadata": {},
   "source": [
    "## Looking\n",
    "Looking motion designator adjusts the robot state such that the cameras point towards the target pose. Although this motion designator takes the target as position and orientation, in reality only the position is used. "
   ]
  },
  {
   "cell_type": "code",
   "execution_count": 3,
   "metadata": {},
   "outputs": [],
   "source": [
    "from pycram.designators.motion_designator import LookingMotion\n",
    "from pycram.process_module import simulated_robot\n",
    "\n",
    "with simulated_robot:\n",
    "    motion_description = LookingMotion(target=[[1, 1, 1], [0, 0, 0, 1]])\n",
    "    \n",
    "    motion_description.resolve().perform()"
   ]
  },
  {
   "cell_type": "markdown",
   "metadata": {},
   "source": [
    "## Move Gripper\n",
    "Move gripper moves the gripper of an arm to one of two states. The states can be ```open``` and ```close```, which open and close the gripper respectivly."
   ]
  },
  {
   "cell_type": "code",
   "execution_count": 4,
   "metadata": {},
   "outputs": [],
   "source": [
    "from pycram.designators.motion_designator import MoveGripperMotion\n",
    "from pycram.process_module import simulated_robot\n",
    "\n",
    "with simulated_robot:\n",
    "    motion_description = MoveGripperMotion(motion=\"open\", gripper=\"left\")\n",
    "    \n",
    "    motion_description.resolve().perform()"
   ]
  },
  {
   "cell_type": "markdown",
   "metadata": {},
   "source": [
    "## Detecting \n",
    "This is the motion designator implementation of detecting, if an object with the given object type is in the field of view (FOV) this motion designator will return an object designator describing the object.\n",
    "\n",
    "Since we need an object that we can detect, we will spawn a milk for this."
   ]
  },
  {
   "cell_type": "code",
   "execution_count": 5,
   "metadata": {},
   "outputs": [],
   "source": [
    "milk = Object(\"milk\", \"milk\", \"milk.stl\", position=[1.5, 0, 1])"
   ]
  },
  {
   "cell_type": "code",
   "execution_count": 6,
   "metadata": {},
   "outputs": [
    {
     "name": "stdout",
     "output_type": "stream",
     "text": [
      "ObjectDesignatorDescription.Object(name=milk, type=milk, bullet_world_object=Object(world=<pycram.bullet_world.BulletWorld object at 0x7f37805c73a0>, name=milk, type=milk, color=[1, 1, 1, 1], id=3, path=/home/jonas/workspace/ros/src/pycram-1/src/pycram/../../resources/cached/milk.urdf, joints={}, links={}, attachments={}, cids={}, original_pose=[[1.5, 0, 1], [0, 0, 0, 1]], base_origin_shift=[ 4.15300950e-04 -6.29518181e-05  8.96554102e-02]), pose=((1.5, 0.0, 1.0), (0.0, 0.0, 0.0, 1.0)))\n"
     ]
    }
   ],
   "source": [
    "from pycram.designators.motion_designator import DetectingMotion, LookingMotion\n",
    "from pycram.process_module import simulated_robot\n",
    "\n",
    "with simulated_robot:\n",
    "    LookingMotion(target=[[1.5, 0, 1], [0, 0, 0, 1]]).resolve().perform()\n",
    "    \n",
    "    motion_description = DetectingMotion(object_type=\"milk\")\n",
    "    \n",
    "    obj = motion_description.resolve().perform()\n",
    "    \n",
    "    print(obj)"
   ]
  },
  {
   "cell_type": "markdown",
   "metadata": {},
   "source": [
    "## Move Arm Joints\n",
    "This motion designator moves one or both arms. Movement targets can either be a dictionary with joint name as key and target pose as value or a pre-defined configuration like 'park'."
   ]
  },
  {
   "cell_type": "code",
   "execution_count": 7,
   "metadata": {},
   "outputs": [],
   "source": [
    "from pycram.designators.motion_designator import MoveArmJointsMotion\n",
    "from pycram.process_module import simulated_robot\n",
    "\n",
    "with simulated_robot:\n",
    "    motion_description = MoveArmJointsMotion(left_arm_config=\"park\", right_arm_poses={\"r_shoulder_pan_joint\": -0.7})\n",
    "    \n",
    "    motion_description.resolve().perform()"
   ]
  },
  {
   "cell_type": "markdown",
   "metadata": {},
   "source": [
    "## World State Detecting\n",
    "World state detecting is also used to detect objects, however, the object is not required to be in the FOV of the robot. As long as the object is somewhere in the beliefe state (BulletWorld) a resolved object designator will be returned.\n",
    "\n",
    "Sine we want to detect something we will spawn an object that we can detect. If you already spawned the milk the the previous example you can skip this step."
   ]
  },
  {
   "cell_type": "code",
   "execution_count": null,
   "metadata": {},
   "outputs": [],
   "source": [
    "milk = Object(\"milk\", \"milk\", \"milk.stl\", position=[-1, 0, 1])"
   ]
  },
  {
   "cell_type": "code",
   "execution_count": 8,
   "metadata": {},
   "outputs": [
    {
     "name": "stdout",
     "output_type": "stream",
     "text": [
      "Object(world=<pycram.bullet_world.BulletWorld object at 0x7f37805c73a0>, name=milk, type=milk, color=[1, 1, 1, 1], id=3, path=/home/jonas/workspace/ros/src/pycram-1/src/pycram/../../resources/cached/milk.urdf, joints={}, links={}, attachments={}, cids={}, original_pose=[[1.5, 0, 1], [0, 0, 0, 1]], base_origin_shift=[ 4.15300950e-04 -6.29518181e-05  8.96554102e-02])\n"
     ]
    }
   ],
   "source": [
    "from pycram.designators.motion_designator import WorldStateDetectingMotion\n",
    "from pycram.process_module import simulated_robot\n",
    "\n",
    "with simulated_robot:\n",
    "    motion_description = WorldStateDetectingMotion(object_type=\"milk\")\n",
    "    \n",
    "    obj = motion_description.resolve().perform()\n",
    "    \n",
    "    print(obj)"
   ]
  },
  {
   "cell_type": "markdown",
   "metadata": {},
   "source": [
    "## Move Joints\n",
    "Move joints can move any number of joints of the robot, the designator takes two lists as parameter. The first list are the names of all joints that should be moved and the second list are the positions to which the joints should be moved."
   ]
  },
  {
   "cell_type": "code",
   "execution_count": 9,
   "metadata": {},
   "outputs": [],
   "source": [
    "from pycram.designators.motion_designator import MoveJointsMotion\n",
    "from pycram.process_module import simulated_robot\n",
    "\n",
    "with simulated_robot:\n",
    "    motion_description = MoveJointsMotion(names=[\"torso_lift_joint\", \"r_shoulder_pan_joint\"], positions=[0.2, -1.2])\n",
    "    \n",
    "    motion_description.resolve().perform()"
   ]
  }
 ],
 "metadata": {
  "kernelspec": {
   "display_name": "Python 3",
   "language": "python",
   "name": "python3"
  },
  "language_info": {
   "codemirror_mode": {
    "name": "ipython",
    "version": 3
   },
   "file_extension": ".py",
   "mimetype": "text/x-python",
   "name": "python",
   "nbconvert_exporter": "python",
   "pygments_lexer": "ipython3",
   "version": "3.8.10"
  }
 },
 "nbformat": 4,
 "nbformat_minor": 5
}
