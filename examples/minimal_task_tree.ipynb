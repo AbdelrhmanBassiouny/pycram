{
 "cells": [
  {
   "cell_type": "markdown",
   "source": [
    "First we have to import the necessary functionality from pycram."
   ],
   "metadata": {
    "collapsed": false,
    "pycharm": {
     "name": "#%% md\n"
    }
   }
  },
  {
   "cell_type": "code",
   "execution_count": 1,
   "metadata": {
    "collapsed": true,
    "pycharm": {
     "name": "#%%\n"
    }
   },
   "outputs": [
    {
     "ename": "ModuleNotFoundError",
     "evalue": "No module named 'pybullet'",
     "output_type": "error",
     "traceback": [
      "\u001B[0;31m---------------------------------------------------------------------------\u001B[0m",
      "\u001B[0;31mModuleNotFoundError\u001B[0m                       Traceback (most recent call last)",
      "\u001B[0;32m<ipython-input-1-2d62fe570567>\u001B[0m in \u001B[0;36m<module>\u001B[0;34m\u001B[0m\n\u001B[0;32m----> 1\u001B[0;31m \u001B[0;32mfrom\u001B[0m \u001B[0mpycram\u001B[0m\u001B[0;34m.\u001B[0m\u001B[0mbullet_world\u001B[0m \u001B[0;32mimport\u001B[0m \u001B[0mBulletWorld\u001B[0m\u001B[0;34m\u001B[0m\u001B[0;34m\u001B[0m\u001B[0m\n\u001B[0m\u001B[1;32m      2\u001B[0m \u001B[0;32mfrom\u001B[0m \u001B[0mpycram\u001B[0m\u001B[0;34m.\u001B[0m\u001B[0mrobot_descriptions\u001B[0m\u001B[0;34m.\u001B[0m\u001B[0mrobot_description_handler\u001B[0m \u001B[0;32mimport\u001B[0m \u001B[0mInitializedRobotDescription\u001B[0m \u001B[0;32mas\u001B[0m \u001B[0mrobot_description\u001B[0m\u001B[0;34m\u001B[0m\u001B[0;34m\u001B[0m\u001B[0m\n\u001B[1;32m      3\u001B[0m \u001B[0;32mimport\u001B[0m \u001B[0mpycram\u001B[0m\u001B[0;34m.\u001B[0m\u001B[0mtask\u001B[0m\u001B[0;34m\u001B[0m\u001B[0;34m\u001B[0m\u001B[0m\n\u001B[1;32m      4\u001B[0m \u001B[0;32mfrom\u001B[0m \u001B[0mpycram\u001B[0m\u001B[0;34m.\u001B[0m\u001B[0mresolver\u001B[0m\u001B[0;34m.\u001B[0m\u001B[0mplans\u001B[0m \u001B[0;32mimport\u001B[0m \u001B[0mArms\u001B[0m\u001B[0;34m\u001B[0m\u001B[0;34m\u001B[0m\u001B[0m\n\u001B[1;32m      5\u001B[0m \u001B[0;32mfrom\u001B[0m \u001B[0mpycram\u001B[0m\u001B[0;34m.\u001B[0m\u001B[0mdesignators\u001B[0m\u001B[0;34m.\u001B[0m\u001B[0maction_designator\u001B[0m \u001B[0;32mimport\u001B[0m \u001B[0;34m*\u001B[0m\u001B[0;34m\u001B[0m\u001B[0;34m\u001B[0m\u001B[0m\n",
      "\u001B[0;32m~/catkin_ws/src/pycram-1/src/pycram/__init__.py\u001B[0m in \u001B[0;36m<module>\u001B[0;34m\u001B[0m\n\u001B[1;32m     20\u001B[0m \u001B[0;32mimport\u001B[0m \u001B[0mlogging\u001B[0m\u001B[0;34m\u001B[0m\u001B[0;34m\u001B[0m\u001B[0m\n\u001B[1;32m     21\u001B[0m \u001B[0;32mimport\u001B[0m \u001B[0mlogging\u001B[0m\u001B[0;34m.\u001B[0m\u001B[0mconfig\u001B[0m\u001B[0;34m\u001B[0m\u001B[0;34m\u001B[0m\u001B[0m\n\u001B[0;32m---> 22\u001B[0;31m \u001B[0;32mimport\u001B[0m \u001B[0mpycram\u001B[0m\u001B[0;34m.\u001B[0m\u001B[0mprocess_modules\u001B[0m\u001B[0;34m.\u001B[0m\u001B[0mavailable_process_modules\u001B[0m\u001B[0;34m\u001B[0m\u001B[0;34m\u001B[0m\u001B[0m\n\u001B[0m\u001B[1;32m     23\u001B[0m \u001B[0;34m\u001B[0m\u001B[0m\n\u001B[1;32m     24\u001B[0m \u001B[0mlogging\u001B[0m\u001B[0;34m.\u001B[0m\u001B[0mbasicConfig\u001B[0m\u001B[0;34m(\u001B[0m\u001B[0mlevel\u001B[0m\u001B[0;34m=\u001B[0m\u001B[0mlogging\u001B[0m\u001B[0;34m.\u001B[0m\u001B[0mWARNING\u001B[0m\u001B[0;34m,\u001B[0m \u001B[0mformat\u001B[0m\u001B[0;34m=\u001B[0m\u001B[0;34m'%(levelname)s - %(name)s  - Line:%(lineno)d - %(message)s'\u001B[0m\u001B[0;34m)\u001B[0m\u001B[0;34m\u001B[0m\u001B[0;34m\u001B[0m\u001B[0m\n",
      "\u001B[0;32m~/catkin_ws/src/pycram-1/src/pycram/process_modules/available_process_modules.py\u001B[0m in \u001B[0;36m<module>\u001B[0;34m\u001B[0m\n\u001B[1;32m      1\u001B[0m \u001B[0;32mfrom\u001B[0m \u001B[0mrospy\u001B[0m \u001B[0;32mimport\u001B[0m \u001B[0mlogerr\u001B[0m\u001B[0;34m\u001B[0m\u001B[0;34m\u001B[0m\u001B[0m\n\u001B[1;32m      2\u001B[0m \u001B[0;34m\u001B[0m\u001B[0m\n\u001B[0;32m----> 3\u001B[0;31m \u001B[0;32mfrom\u001B[0m \u001B[0;34m.\u001B[0m\u001B[0mboxy_process_modules\u001B[0m \u001B[0;32mimport\u001B[0m \u001B[0mBoxyProcessModulesSimulated\u001B[0m\u001B[0;34m,\u001B[0m \u001B[0mBoxyProcessModulesReal\u001B[0m\u001B[0;34m\u001B[0m\u001B[0;34m\u001B[0m\u001B[0m\n\u001B[0m\u001B[1;32m      4\u001B[0m \u001B[0;32mfrom\u001B[0m \u001B[0;34m.\u001B[0m\u001B[0mdonbot_process_modules\u001B[0m \u001B[0;32mimport\u001B[0m \u001B[0mDonbotProcessModulesSimulated\u001B[0m\u001B[0;34m,\u001B[0m \u001B[0mDonbotProcessModulesReal\u001B[0m\u001B[0;34m\u001B[0m\u001B[0;34m\u001B[0m\u001B[0m\n\u001B[1;32m      5\u001B[0m \u001B[0;32mfrom\u001B[0m \u001B[0;34m.\u001B[0m\u001B[0mhsr_process_modules\u001B[0m \u001B[0;32mimport\u001B[0m \u001B[0mHSRProcessModulesSimulated\u001B[0m\u001B[0;34m,\u001B[0m \u001B[0mHSRProcessModulesReal\u001B[0m\u001B[0;34m\u001B[0m\u001B[0;34m\u001B[0m\u001B[0m\n",
      "\u001B[0;32m~/catkin_ws/src/pycram-1/src/pycram/process_modules/boxy_process_modules.py\u001B[0m in \u001B[0;36m<module>\u001B[0;34m\u001B[0m\n\u001B[1;32m      1\u001B[0m \u001B[0;32mimport\u001B[0m \u001B[0mtime\u001B[0m\u001B[0;34m\u001B[0m\u001B[0;34m\u001B[0m\u001B[0m\n\u001B[1;32m      2\u001B[0m \u001B[0;34m\u001B[0m\u001B[0m\n\u001B[0;32m----> 3\u001B[0;31m \u001B[0;32mimport\u001B[0m \u001B[0mpybullet\u001B[0m \u001B[0;32mas\u001B[0m \u001B[0mp\u001B[0m\u001B[0;34m\u001B[0m\u001B[0;34m\u001B[0m\u001B[0m\n\u001B[0m\u001B[1;32m      4\u001B[0m \u001B[0;34m\u001B[0m\u001B[0m\n\u001B[1;32m      5\u001B[0m \u001B[0;32mimport\u001B[0m \u001B[0mpycram\u001B[0m\u001B[0;34m.\u001B[0m\u001B[0mbullet_world_reasoning\u001B[0m \u001B[0;32mas\u001B[0m \u001B[0mbtr\u001B[0m\u001B[0;34m\u001B[0m\u001B[0;34m\u001B[0m\u001B[0m\n",
      "\u001B[0;31mModuleNotFoundError\u001B[0m: No module named 'pybullet'"
     ]
    }
   ],
   "source": [
    "from pycram.bullet_world import BulletWorld\n",
    "from pycram.robot_descriptions.robot_description_handler import InitializedRobotDescription as robot_description\n",
    "import pycram.task\n",
    "from pycram.resolver.plans import Arms\n",
    "from pycram.designators.action_designator import *\n",
    "from pycram.designators.location_designator import *\n",
    "from pycram.process_module import simulated_robot"
   ]
  },
  {
   "cell_type": "markdown",
   "source": [
    "Next we will create a bullet world with a PR2 in a kitchen containing milk and cereal."
   ],
   "metadata": {
    "collapsed": false,
    "pycharm": {
     "name": "#%% md\n"
    }
   }
  },
  {
   "cell_type": "code",
   "execution_count": null,
   "outputs": [],
   "source": [
    "world = BulletWorld()\n",
    "robot = Object(robot_description.i.name, \"robot\", robot_description.i.name + \".urdf\")\n",
    "kitchen = Object(\"kitchen\", \"environment\", \"kitchen.urdf\")\n",
    "milk = Object(\"milk\", \"milk\", \"milk.stl\", position=[1.3, 1, 0.9])\n",
    "cereal = Object(\"cereal\", \"cereal\", \"breakfast_cereal.stl\", position=[1.3, 0.7, 0.95])\n",
    "milk_desig = ObjectDesignator(Object(name=\"milk\", type=\"milk\"))\n",
    "cereal_desig = ObjectDesignator(Object(name=\"cereal\", type=\"cereal\"))"
   ],
   "metadata": {
    "collapsed": false,
    "pycharm": {
     "name": "#%%\n"
    }
   }
  },
  {
   "cell_type": "markdown",
   "source": [
    "Finally, we create a plan where the robot parks his arms, walks to the kitchen counter and picks the thingy. Then we execute the plan."
   ],
   "metadata": {
    "collapsed": false,
    "pycharm": {
     "name": "#%% md\n"
    }
   }
  },
  {
   "cell_type": "code",
   "execution_count": null,
   "outputs": [],
   "source": [
    "@pycram.task.with_tree\n",
    "def plan():\n",
    "    with simulated_robot:\n",
    "        ActionDesignator(ParkArmsAction(Arms.BOTH)).perform()\n",
    "\n",
    "        location = LocationDesignator(CostmapLocation(target=milk, reachable_for=robot))\n",
    "        pose = location.reference()\n",
    "        ActionDesignator(\n",
    "            NavigateAction(target_position=pose[\"position\"], target_orientation=pose[\"orientation\"])).perform()\n",
    "        ActionDesignator(ParkArmsAction(Arms.BOTH)).perform()\n",
    "\n",
    "        picked_up_arm = pose[\"arms\"][0]\n",
    "        ActionDesignator(PickUpAction(object_designator=milk_desig, arm=pose[\"arms\"][0], grasp=\"front\")).perform()\n",
    "\n",
    "        ActionDesignator(ParkArmsAction(Arms.BOTH)).perform()\n",
    "        place_island = LocationDesignator(SemanticCostmapLocation(\"kitchen_island_surface\", kitchen, milk_desig.prop_value(\"object\")))\n",
    "        pose_island = place_island.reference()\n",
    "\n",
    "        place_location = LocationDesignator(CostmapLocation(target=list(pose_island.values()), reachable_for=robot, reachable_arm=picked_up_arm))\n",
    "        pose = place_location.reference()\n",
    "\n",
    "        ActionDesignator(NavigateAction(target_position=pose[\"position\"], target_orientation=pose[\"orientation\"])).perform()\n",
    "\n",
    "        ActionDesignator(PlaceAction(object_designator=milk_desig, target_location=list(pose_island.values()), arm=picked_up_arm)).perform()\n",
    "\n",
    "        ActionDesignator(ParkArmsAction(Arms.BOTH)).perform()\n",
    "\n",
    "plan()"
   ],
   "metadata": {
    "collapsed": false,
    "pycharm": {
     "name": "#%%\n"
    }
   }
  }
 ],
 "metadata": {
  "kernelspec": {
   "display_name": "Python 3",
   "language": "python",
   "name": "python3"
  },
  "language_info": {
   "codemirror_mode": {
    "name": "ipython",
    "version": 2
   },
   "file_extension": ".py",
   "mimetype": "text/x-python",
   "name": "python",
   "nbconvert_exporter": "python",
   "pygments_lexer": "ipython2",
   "version": "2.7.6"
  }
 },
 "nbformat": 4,
 "nbformat_minor": 0
}