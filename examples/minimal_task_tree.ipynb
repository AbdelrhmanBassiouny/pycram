{
 "cells": [
  {
   "cell_type": "markdown",
   "source": [
    "# TaskTree Tutorial\n",
    "\n",
    "In this tutorial we will walk through the capabilities of task trees in pycram.\n",
    "\n",
    "First we have to import the necessary functionality from pycram."
   ],
   "metadata": {
    "collapsed": false,
    "pycharm": {
     "name": "#%% md\n"
    }
   }
  },
  {
   "cell_type": "code",
   "execution_count": 1,
   "metadata": {
    "collapsed": true,
    "pycharm": {
     "name": "#%%\n"
    }
   },
   "outputs": [
    {
     "name": "stderr",
     "output_type": "stream",
     "text": [
      "pybullet build time: Sep 20 2021 20:33:29\n",
      "Unknown attribute \"type\" in /robot[@name='pr2']/link[@name='base_laser_link']\n",
      "Unknown attribute \"type\" in /robot[@name='pr2']/link[@name='wide_stereo_optical_frame']\n",
      "Unknown attribute \"type\" in /robot[@name='pr2']/link[@name='narrow_stereo_optical_frame']\n",
      "Unknown attribute \"type\" in /robot[@name='pr2']/link[@name='laser_tilt_link']\n",
      "Unknown attribute \"type\" in /robot[@name='pr2']/link[@name='base_laser_link']\n",
      "Unknown attribute \"type\" in /robot[@name='pr2']/link[@name='wide_stereo_optical_frame']\n",
      "Unknown attribute \"type\" in /robot[@name='pr2']/link[@name='narrow_stereo_optical_frame']\n",
      "Unknown attribute \"type\" in /robot[@name='pr2']/link[@name='laser_tilt_link']\n"
     ]
    }
   ],
   "source": [
    "from pycram.bullet_world import BulletWorld\n",
    "from pycram.robot_descriptions.robot_description_handler import InitializedRobotDescription as robot_description\n",
    "import pycram.task\n",
    "from pycram.resolver.plans import Arms\n",
    "from pycram.designators.action_designator import *\n",
    "from pycram.designators.location_designator import *\n",
    "from pycram.process_module import simulated_robot\n",
    "from pycram.designators.object_designator import *\n",
    "import anytree\n",
    "import pycram.plan_failures"
   ]
  },
  {
   "cell_type": "markdown",
   "source": [
    "Next we will create a bullet world with a PR2 in a kitchen containing milk and cereal."
   ],
   "metadata": {
    "collapsed": false,
    "pycharm": {
     "name": "#%% md\n"
    }
   }
  },
  {
   "cell_type": "code",
   "execution_count": 2,
   "outputs": [],
   "source": [
    "world = BulletWorld()\n",
    "robot = Object(robot_description.i.name, \"robot\", robot_description.i.name + \".urdf\")\n",
    "kitchen = Object(\"kitchen\", \"environment\", \"kitchen.urdf\")\n",
    "milk = Object(\"milk\", \"milk\", \"milk.stl\", position=[1.3, 1, 0.9])\n",
    "cereal = Object(\"cereal\", \"cereal\", \"breakfast_cereal.stl\", position=[1.3, 0.7, 0.95])\n",
    "milk_desig = ObjectDesignator(ObjectDesignatorDescription(name=\"milk\", type=\"milk\"))\n",
    "cereal_desig = ObjectDesignator(ObjectDesignatorDescription(name=\"cereal\", type=\"cereal\"))"
   ],
   "metadata": {
    "collapsed": false,
    "pycharm": {
     "name": "#%%\n"
    }
   }
  },
  {
   "cell_type": "markdown",
   "source": [
    "Finally, we create a plan where the robot parks his arms, walks to the kitchen counter and picks the thingy. Then we execute the plan."
   ],
   "metadata": {
    "collapsed": false,
    "pycharm": {
     "name": "#%% md\n"
    }
   }
  },
  {
   "cell_type": "code",
   "execution_count": 3,
   "outputs": [
    {
     "name": "stdout",
     "output_type": "stream",
     "text": [
      "Parking arms Arms.BOTH.\n",
      "Moving to [0.7199999690055847, 1.0399999618530273, 0.0]. Orientation: [-0.0, 0.0, 0.03442140918758331, -0.9994074077119606].\n",
      "(0.7199999690055847, 1.0399999618530273, 0.0)\n",
      "Parking arms Arms.BOTH.\n",
      "Picking up ObjectDesignator({'resolver': 'grounding', 'type': 'milk', 'name': 'milk', 'object': None, 'pose': None}) with left.\n",
      "Not attached to anything!\n",
      "Parking arms Arms.BOTH.\n",
      "Moving to [-1.9075000286102295, 0.7792000770568848, 0.0]. Orientation: [0.0, 0.0, 0.1643989830107149, 0.9863939245479174].\n",
      "(-1.9075000286102295, 0.7792000770568848, 0.0)\n",
      "Placing ObjectDesignator({'resolver': 'grounding', 'type': 'milk', 'name': 'milk', 'object': <pycram.bullet_world.Object object at 0x7f7250e188e0>, 'pose': ((1.3, 1.0, 0.9), (0.0, 0.0, 0.0, 1.0))}) with left at [[-1.2074999809265137, 1.019200086593628, 0.9439613818399623], [0.0, 0.0, 0.6339889056055381, 0.7733421413379024]].\n",
      "Parking arms Arms.BOTH.\n"
     ]
    }
   ],
   "source": [
    "@pycram.task.with_tree\n",
    "def plan():\n",
    "    with simulated_robot:\n",
    "        ActionDesignator(ParkArmsAction(Arms.BOTH)).perform()\n",
    "\n",
    "        location = LocationDesignator(CostmapLocation(target=milk, reachable_for=robot))\n",
    "        pose = location.reference()\n",
    "        ActionDesignator(\n",
    "            NavigateAction(target_position=pose[\"position\"], target_orientation=pose[\"orientation\"])).perform()\n",
    "        ActionDesignator(ParkArmsAction(Arms.BOTH)).perform()\n",
    "\n",
    "        picked_up_arm = pose[\"arms\"][0]\n",
    "        ActionDesignator(PickUpAction(object_designator=milk_desig, arm=pose[\"arms\"][0], grasp=\"front\")).perform()\n",
    "\n",
    "        ActionDesignator(ParkArmsAction(Arms.BOTH)).perform()\n",
    "        place_island = LocationDesignator(SemanticCostmapLocation(\"kitchen_island_surface\", kitchen, milk_desig.prop_value(\"object\")))\n",
    "        pose_island = place_island.reference()\n",
    "\n",
    "        place_location = LocationDesignator(CostmapLocation(target=list(pose_island.values()), reachable_for=robot, reachable_arm=picked_up_arm))\n",
    "        pose = place_location.reference()\n",
    "\n",
    "        ActionDesignator(NavigateAction(target_position=pose[\"position\"], target_orientation=pose[\"orientation\"])).perform()\n",
    "\n",
    "        ActionDesignator(PlaceAction(object_designator=milk_desig, target_location=list(pose_island.values()), arm=picked_up_arm)).perform()\n",
    "\n",
    "        ActionDesignator(ParkArmsAction(Arms.BOTH)).perform()\n",
    "\n",
    "plan()\n"
   ],
   "metadata": {
    "collapsed": false,
    "pycharm": {
     "name": "#%%\n"
    }
   }
  },
  {
   "cell_type": "markdown",
   "source": [
    "Now we get the task tree from its module and render it. Rendering can be done with any render method described in the anytree package. We will use ascii rendering here for ease of displaying."
   ],
   "metadata": {
    "collapsed": false,
    "pycharm": {
     "name": "#%% md\n"
    }
   }
  },
  {
   "cell_type": "code",
   "execution_count": 4,
   "outputs": [
    {
     "name": "stdout",
     "output_type": "stream",
     "text": [
      "no_operation()\n",
      "+-- plan()\n",
      "    |-- <pycram.designators.action_designator.ParkArmsAction object at 0x7f72413e7d00>.park_arms(arms = Arms.BOTH)\n",
      "    |-- <pycram.designators.action_designator.NavigateAction object at 0x7f72413e7f40>.navigate(target = [0.7199999690055847, 1.0399999618530273, 0.0], orientation = [-0.0, 0.0, 0.03442140918758331, -0.9994074077119606])\n",
      "    |-- <pycram.designators.action_designator.ParkArmsAction object at 0x7f72413e7eb0>.park_arms(arms = Arms.BOTH)\n",
      "    |-- <pycram.designators.action_designator.PickUpAction object at 0x7f72414014c0>.pick_up(arm = left, object_desig = ObjectDesignator({'resolver': 'grounding', 'type': 'milk', 'name': 'milk', 'object': <pycram.bullet_world.Object object at 0x7f7250e188e0>, 'pose': ((1.3, 1.0, 0.9), (0.0, 0.0, 0.0, 1.0))}), grasp = front)\n",
      "    |-- <pycram.designators.action_designator.ParkArmsAction object at 0x7f7241401970>.park_arms(arms = Arms.BOTH)\n",
      "    |-- <pycram.designators.action_designator.NavigateAction object at 0x7f7241401f10>.navigate(target = [-1.9075000286102295, 0.7792000770568848, 0.0], orientation = [0.0, 0.0, 0.1643989830107149, 0.9863939245479174])\n",
      "    |-- <pycram.designators.action_designator.PlaceAction object at 0x7f7241401df0>.place(arm = left, object_desig = ObjectDesignator({'resolver': 'grounding', 'type': 'milk', 'name': 'milk', 'object': <pycram.bullet_world.Object object at 0x7f7250e188e0>, 'pose': ((1.3, 1.0, 0.9), (0.0, 0.0, 0.0, 1.0))}), target = [[-1.2074999809265137, 1.019200086593628, 0.9439613818399623], [0.0, 0.0, 0.6339889056055381, 0.7733421413379024]])\n",
      "    +-- <pycram.designators.action_designator.ParkArmsAction object at 0x7f729408e0a0>.park_arms(arms = Arms.BOTH)\n"
     ]
    }
   ],
   "source": [
    "tt = pycram.task.task_tree\n",
    "print(anytree.RenderTree(tt, style=anytree.render.AsciiStyle()))"
   ],
   "metadata": {
    "collapsed": false,
    "pycharm": {
     "name": "#%%\n"
    }
   }
  },
  {
   "cell_type": "markdown",
   "source": [
    "As we see every task in the plan got recorded correctly. It is noticeable that the tree begins with a NoOperation node. This is done because several, not connected, plans that get executed after each other should still appear in the task tree. Hence, a NoOperation node is the root of any tree. If we re-execute the plan we would see them appear in the same tree even though they are not connected."
   ],
   "metadata": {
    "collapsed": false,
    "pycharm": {
     "name": "#%% md\n"
    }
   }
  },
  {
   "cell_type": "code",
   "execution_count": 5,
   "outputs": [
    {
     "name": "stdout",
     "output_type": "stream",
     "text": [
      "Parking arms Arms.BOTH.\n",
      "Moving to [0.7199999690055847, 1.0399999618530273, 0.0]. Orientation: [-0.0, 0.0, 0.03442140918758331, -0.9994074077119606].\n",
      "(0.7199999690055847, 1.0399999618530273, 0.0)\n",
      "Parking arms Arms.BOTH.\n",
      "Picking up ObjectDesignator({'resolver': 'grounding', 'type': 'milk', 'name': 'milk', 'object': <pycram.bullet_world.Object object at 0x7f7250e188e0>, 'pose': ((1.3, 1.0, 0.9), (0.0, 0.0, 0.0, 1.0))}) with left.\n",
      "Not attached to anything!\n",
      "Parking arms Arms.BOTH.\n",
      "Moving to [-1.9075000286102295, 0.7792000770568848, 0.0]. Orientation: [0.0, 0.0, 0.1643989830107149, 0.9863939245479174].\n",
      "(-1.9075000286102295, 0.7792000770568848, 0.0)\n",
      "Placing ObjectDesignator({'resolver': 'grounding', 'type': 'milk', 'name': 'milk', 'object': <pycram.bullet_world.Object object at 0x7f7250e188e0>, 'pose': ((1.3, 1.0, 0.9), (0.0, 0.0, 0.0, 1.0))}) with left at [[-1.2074999809265137, 1.019200086593628, 0.9439613818399623], [0.0, 0.0, 0.6339889056055381, 0.7733421413379024]].\n",
      "Parking arms Arms.BOTH.\n",
      "no_operation()\n",
      "|-- plan()\n",
      "|   |-- <pycram.designators.action_designator.ParkArmsAction object at 0x7f72413e7d00>.park_arms(arms = Arms.BOTH)\n",
      "|   |-- <pycram.designators.action_designator.NavigateAction object at 0x7f72413e7f40>.navigate(target = [0.7199999690055847, 1.0399999618530273, 0.0], orientation = [-0.0, 0.0, 0.03442140918758331, -0.9994074077119606])\n",
      "|   |-- <pycram.designators.action_designator.ParkArmsAction object at 0x7f72413e7eb0>.park_arms(arms = Arms.BOTH)\n",
      "|   |-- <pycram.designators.action_designator.PickUpAction object at 0x7f72414014c0>.pick_up(arm = left, object_desig = ObjectDesignator({'resolver': 'grounding', 'type': 'milk', 'name': 'milk', 'object': <pycram.bullet_world.Object object at 0x7f7250e188e0>, 'pose': ((1.3, 1.0, 0.9), (0.0, 0.0, 0.0, 1.0))}), grasp = front)\n",
      "|   |-- <pycram.designators.action_designator.ParkArmsAction object at 0x7f7241401970>.park_arms(arms = Arms.BOTH)\n",
      "|   |-- <pycram.designators.action_designator.NavigateAction object at 0x7f7241401f10>.navigate(target = [-1.9075000286102295, 0.7792000770568848, 0.0], orientation = [0.0, 0.0, 0.1643989830107149, 0.9863939245479174])\n",
      "|   |-- <pycram.designators.action_designator.PlaceAction object at 0x7f7241401df0>.place(arm = left, object_desig = ObjectDesignator({'resolver': 'grounding', 'type': 'milk', 'name': 'milk', 'object': <pycram.bullet_world.Object object at 0x7f7250e188e0>, 'pose': ((1.3, 1.0, 0.9), (0.0, 0.0, 0.0, 1.0))}), target = [[-1.2074999809265137, 1.019200086593628, 0.9439613818399623], [0.0, 0.0, 0.6339889056055381, 0.7733421413379024]])\n",
      "|   +-- <pycram.designators.action_designator.ParkArmsAction object at 0x7f729408e0a0>.park_arms(arms = Arms.BOTH)\n",
      "+-- plan()\n",
      "    |-- <pycram.designators.action_designator.ParkArmsAction object at 0x7f72b456b730>.park_arms(arms = Arms.BOTH)\n",
      "    |-- <pycram.designators.action_designator.NavigateAction object at 0x7f7241401340>.navigate(target = [0.7199999690055847, 1.0399999618530273, 0.0], orientation = [-0.0, 0.0, 0.03442140918758331, -0.9994074077119606])\n",
      "    |-- <pycram.designators.action_designator.ParkArmsAction object at 0x7f72413e7bb0>.park_arms(arms = Arms.BOTH)\n",
      "    |-- <pycram.designators.action_designator.PickUpAction object at 0x7f72413e7820>.pick_up(arm = left, object_desig = ObjectDesignator({'resolver': 'grounding', 'type': 'milk', 'name': 'milk', 'object': <pycram.bullet_world.Object object at 0x7f7250e188e0>, 'pose': ((1.3, 1.0, 0.9), (0.0, 0.0, 0.0, 1.0))}), grasp = front)\n",
      "    |-- <pycram.designators.action_designator.ParkArmsAction object at 0x7f72413e70d0>.park_arms(arms = Arms.BOTH)\n",
      "    |-- <pycram.designators.action_designator.NavigateAction object at 0x7f724140d640>.navigate(target = [-1.9075000286102295, 0.7792000770568848, 0.0], orientation = [0.0, 0.0, 0.1643989830107149, 0.9863939245479174])\n",
      "    |-- <pycram.designators.action_designator.PlaceAction object at 0x7f724140db80>.place(arm = left, object_desig = ObjectDesignator({'resolver': 'grounding', 'type': 'milk', 'name': 'milk', 'object': <pycram.bullet_world.Object object at 0x7f7250e188e0>, 'pose': ((1.3, 1.0, 0.9), (0.0, 0.0, 0.0, 1.0))}), target = [[-1.2074999809265137, 1.019200086593628, 0.9439613818399623], [0.0, 0.0, 0.6339889056055381, 0.7733421413379024]])\n",
      "    +-- <pycram.designators.action_designator.ParkArmsAction object at 0x7f7241401f70>.park_arms(arms = Arms.BOTH)\n"
     ]
    }
   ],
   "source": [
    "world.reset_bullet_world()\n",
    "plan()\n",
    "print(anytree.RenderTree(tt, style=anytree.render.AsciiStyle()))"
   ],
   "metadata": {
    "collapsed": false,
    "pycharm": {
     "name": "#%%\n"
    }
   }
  },
  {
   "cell_type": "markdown",
   "source": [
    "Projecting a plan in a new environment with its own task tree that only exists while the projected plan is running can be done with the ``with`` keyword. When this is done, both the bullet world and task tree are saved and new, freshly reset objects are available. At the end of a with block the old state is restored. The root for such things is then called ``simulation()``."
   ],
   "metadata": {
    "collapsed": false,
    "pycharm": {
     "name": "#%% md\n"
    }
   }
  },
  {
   "cell_type": "code",
   "execution_count": 6,
   "outputs": [
    {
     "name": "stdout",
     "output_type": "stream",
     "text": [
      "simulation()\n",
      "no_operation()\n",
      "|-- plan()\n",
      "|   |-- <pycram.designators.action_designator.ParkArmsAction object at 0x7f72413e7d00>.park_arms(arms = Arms.BOTH)\n",
      "|   |-- <pycram.designators.action_designator.NavigateAction object at 0x7f72413e7f40>.navigate(target = [0.7199999690055847, 1.0399999618530273, 0.0], orientation = [-0.0, 0.0, 0.03442140918758331, -0.9994074077119606])\n",
      "|   |-- <pycram.designators.action_designator.ParkArmsAction object at 0x7f72413e7eb0>.park_arms(arms = Arms.BOTH)\n",
      "|   |-- <pycram.designators.action_designator.PickUpAction object at 0x7f72414014c0>.pick_up(arm = left, object_desig = ObjectDesignator({'resolver': 'grounding', 'type': 'milk', 'name': 'milk', 'object': <pycram.bullet_world.Object object at 0x7f7250e188e0>, 'pose': ((1.3, 1.0, 0.9), (0.0, 0.0, 0.0, 1.0))}), grasp = front)\n",
      "|   |-- <pycram.designators.action_designator.ParkArmsAction object at 0x7f7241401970>.park_arms(arms = Arms.BOTH)\n",
      "|   |-- <pycram.designators.action_designator.NavigateAction object at 0x7f7241401f10>.navigate(target = [-1.9075000286102295, 0.7792000770568848, 0.0], orientation = [0.0, 0.0, 0.1643989830107149, 0.9863939245479174])\n",
      "|   |-- <pycram.designators.action_designator.PlaceAction object at 0x7f7241401df0>.place(arm = left, object_desig = ObjectDesignator({'resolver': 'grounding', 'type': 'milk', 'name': 'milk', 'object': <pycram.bullet_world.Object object at 0x7f7250e188e0>, 'pose': ((1.3, 1.0, 0.9), (0.0, 0.0, 0.0, 1.0))}), target = [[-1.2074999809265137, 1.019200086593628, 0.9439613818399623], [0.0, 0.0, 0.6339889056055381, 0.7733421413379024]])\n",
      "|   +-- <pycram.designators.action_designator.ParkArmsAction object at 0x7f729408e0a0>.park_arms(arms = Arms.BOTH)\n",
      "+-- plan()\n",
      "    |-- <pycram.designators.action_designator.ParkArmsAction object at 0x7f72b456b730>.park_arms(arms = Arms.BOTH)\n",
      "    |-- <pycram.designators.action_designator.NavigateAction object at 0x7f7241401340>.navigate(target = [0.7199999690055847, 1.0399999618530273, 0.0], orientation = [-0.0, 0.0, 0.03442140918758331, -0.9994074077119606])\n",
      "    |-- <pycram.designators.action_designator.ParkArmsAction object at 0x7f72413e7bb0>.park_arms(arms = Arms.BOTH)\n",
      "    |-- <pycram.designators.action_designator.PickUpAction object at 0x7f72413e7820>.pick_up(arm = left, object_desig = ObjectDesignator({'resolver': 'grounding', 'type': 'milk', 'name': 'milk', 'object': <pycram.bullet_world.Object object at 0x7f7250e188e0>, 'pose': ((1.3, 1.0, 0.9), (0.0, 0.0, 0.0, 1.0))}), grasp = front)\n",
      "    |-- <pycram.designators.action_designator.ParkArmsAction object at 0x7f72413e70d0>.park_arms(arms = Arms.BOTH)\n",
      "    |-- <pycram.designators.action_designator.NavigateAction object at 0x7f724140d640>.navigate(target = [-1.9075000286102295, 0.7792000770568848, 0.0], orientation = [0.0, 0.0, 0.1643989830107149, 0.9863939245479174])\n",
      "    |-- <pycram.designators.action_designator.PlaceAction object at 0x7f724140db80>.place(arm = left, object_desig = ObjectDesignator({'resolver': 'grounding', 'type': 'milk', 'name': 'milk', 'object': <pycram.bullet_world.Object object at 0x7f7250e188e0>, 'pose': ((1.3, 1.0, 0.9), (0.0, 0.0, 0.0, 1.0))}), target = [[-1.2074999809265137, 1.019200086593628, 0.9439613818399623], [0.0, 0.0, 0.6339889056055381, 0.7733421413379024]])\n",
      "    +-- <pycram.designators.action_designator.ParkArmsAction object at 0x7f7241401f70>.park_arms(arms = Arms.BOTH)\n"
     ]
    }
   ],
   "source": [
    "with pycram.task.SimulatedTaskTree() as stt:\n",
    "    print(anytree.RenderTree(pycram.task.task_tree, style=anytree.render.AsciiStyle()))\n",
    "print(anytree.RenderTree(pycram.task.task_tree, style=anytree.render.AsciiStyle()))"
   ],
   "metadata": {
    "collapsed": false,
    "pycharm": {
     "name": "#%%\n"
    }
   }
  },
  {
   "cell_type": "markdown",
   "source": [
    "Task tree can be manipulated with ordinary anytree manipulation. If we for example want to discard the second plan, we would write"
   ],
   "metadata": {
    "collapsed": false,
    "pycharm": {
     "name": "#%% md\n"
    }
   }
  },
  {
   "cell_type": "code",
   "execution_count": 7,
   "outputs": [
    {
     "name": "stdout",
     "output_type": "stream",
     "text": [
      "no_operation()\n",
      "+-- plan()\n",
      "    |-- <pycram.designators.action_designator.ParkArmsAction object at 0x7f72413e7d00>.park_arms(arms = Arms.BOTH)\n",
      "    |-- <pycram.designators.action_designator.NavigateAction object at 0x7f72413e7f40>.navigate(target = [0.7199999690055847, 1.0399999618530273, 0.0], orientation = [-0.0, 0.0, 0.03442140918758331, -0.9994074077119606])\n",
      "    |-- <pycram.designators.action_designator.ParkArmsAction object at 0x7f72413e7eb0>.park_arms(arms = Arms.BOTH)\n",
      "    |-- <pycram.designators.action_designator.PickUpAction object at 0x7f72414014c0>.pick_up(arm = left, object_desig = ObjectDesignator({'resolver': 'grounding', 'type': 'milk', 'name': 'milk', 'object': <pycram.bullet_world.Object object at 0x7f7250e188e0>, 'pose': ((1.3, 1.0, 0.9), (0.0, 0.0, 0.0, 1.0))}), grasp = front)\n",
      "    |-- <pycram.designators.action_designator.ParkArmsAction object at 0x7f7241401970>.park_arms(arms = Arms.BOTH)\n",
      "    |-- <pycram.designators.action_designator.NavigateAction object at 0x7f7241401f10>.navigate(target = [-1.9075000286102295, 0.7792000770568848, 0.0], orientation = [0.0, 0.0, 0.1643989830107149, 0.9863939245479174])\n",
      "    |-- <pycram.designators.action_designator.PlaceAction object at 0x7f7241401df0>.place(arm = left, object_desig = ObjectDesignator({'resolver': 'grounding', 'type': 'milk', 'name': 'milk', 'object': <pycram.bullet_world.Object object at 0x7f7250e188e0>, 'pose': ((1.3, 1.0, 0.9), (0.0, 0.0, 0.0, 1.0))}), target = [[-1.2074999809265137, 1.019200086593628, 0.9439613818399623], [0.0, 0.0, 0.6339889056055381, 0.7733421413379024]])\n",
      "    +-- <pycram.designators.action_designator.ParkArmsAction object at 0x7f729408e0a0>.park_arms(arms = Arms.BOTH)\n"
     ]
    }
   ],
   "source": [
    "tt.root.children = (tt.root.children[0],)\n",
    "print(anytree.RenderTree(tt, style=anytree.render.AsciiStyle()))"
   ],
   "metadata": {
    "collapsed": false,
    "pycharm": {
     "name": "#%%\n"
    }
   }
  },
  {
   "cell_type": "markdown",
   "source": [
    "We can now re-execute this (modified) plan by executing the leaf in pre-ordering iteration using the anytree functionality. This will not append the re-execution to the task tree."
   ],
   "metadata": {
    "collapsed": false,
    "pycharm": {
     "name": "#%% md\n"
    }
   }
  },
  {
   "cell_type": "code",
   "execution_count": 8,
   "outputs": [
    {
     "name": "stdout",
     "output_type": "stream",
     "text": [
      "Parking arms Arms.BOTH.\n",
      "Moving to [0.7199999690055847, 1.0399999618530273, 0.0]. Orientation: [-0.0, 0.0, 0.03442140918758331, -0.9994074077119606].\n",
      "(0.7199999690055847, 1.0399999618530273, 0.0)\n",
      "Parking arms Arms.BOTH.\n",
      "Picking up ObjectDesignator({'resolver': 'grounding', 'type': 'milk', 'name': 'milk', 'object': <pycram.bullet_world.Object object at 0x7f7250e188e0>, 'pose': ((1.3, 1.0, 0.9), (0.0, 0.0, 0.0, 1.0))}) with left.\n",
      "Not attached to anything!\n",
      "Parking arms Arms.BOTH.\n",
      "Moving to [-1.9075000286102295, 0.7792000770568848, 0.0]. Orientation: [0.0, 0.0, 0.1643989830107149, 0.9863939245479174].\n",
      "(-1.9075000286102295, 0.7792000770568848, 0.0)\n",
      "Placing ObjectDesignator({'resolver': 'grounding', 'type': 'milk', 'name': 'milk', 'object': <pycram.bullet_world.Object object at 0x7f7250e188e0>, 'pose': ((1.3, 1.0, 0.9), (0.0, 0.0, 0.0, 1.0))}) with left at [[-1.2074999809265137, 1.019200086593628, 0.9439613818399623], [0.0, 0.0, 0.6339889056055381, 0.7733421413379024]].\n",
      "Parking arms Arms.BOTH.\n",
      "no_operation()\n",
      "+-- plan()\n",
      "    |-- <pycram.designators.action_designator.ParkArmsAction object at 0x7f72413e7d00>.park_arms(arms = Arms.BOTH)\n",
      "    |-- <pycram.designators.action_designator.NavigateAction object at 0x7f72413e7f40>.navigate(target = [0.7199999690055847, 1.0399999618530273, 0.0], orientation = [-0.0, 0.0, 0.03442140918758331, -0.9994074077119606])\n",
      "    |-- <pycram.designators.action_designator.ParkArmsAction object at 0x7f72413e7eb0>.park_arms(arms = Arms.BOTH)\n",
      "    |-- <pycram.designators.action_designator.PickUpAction object at 0x7f72414014c0>.pick_up(arm = left, object_desig = ObjectDesignator({'resolver': 'grounding', 'type': 'milk', 'name': 'milk', 'object': <pycram.bullet_world.Object object at 0x7f7250e188e0>, 'pose': ((1.3, 1.0, 0.9), (0.0, 0.0, 0.0, 1.0))}), grasp = front)\n",
      "    |-- <pycram.designators.action_designator.ParkArmsAction object at 0x7f7241401970>.park_arms(arms = Arms.BOTH)\n",
      "    |-- <pycram.designators.action_designator.NavigateAction object at 0x7f7241401f10>.navigate(target = [-1.9075000286102295, 0.7792000770568848, 0.0], orientation = [0.0, 0.0, 0.1643989830107149, 0.9863939245479174])\n",
      "    |-- <pycram.designators.action_designator.PlaceAction object at 0x7f7241401df0>.place(arm = left, object_desig = ObjectDesignator({'resolver': 'grounding', 'type': 'milk', 'name': 'milk', 'object': <pycram.bullet_world.Object object at 0x7f7250e188e0>, 'pose': ((1.3, 1.0, 0.9), (0.0, 0.0, 0.0, 1.0))}), target = [[-1.2074999809265137, 1.019200086593628, 0.9439613818399623], [0.0, 0.0, 0.6339889056055381, 0.7733421413379024]])\n",
      "    +-- <pycram.designators.action_designator.ParkArmsAction object at 0x7f729408e0a0>.park_arms(arms = Arms.BOTH)\n"
     ]
    }
   ],
   "source": [
    "world.reset_bullet_world()\n",
    "with simulated_robot:\n",
    "    [node.code.execute() for node in tt.root.leaves]\n",
    "print(anytree.RenderTree(pycram.task.task_tree, style=anytree.render.AsciiStyle()))"
   ],
   "metadata": {
    "collapsed": false,
    "pycharm": {
     "name": "#%%\n"
    }
   }
  },
  {
   "cell_type": "markdown",
   "source": [
    "Nodes in the task tree contain additional information about the status and time of a task."
   ],
   "metadata": {
    "collapsed": false,
    "pycharm": {
     "name": "#%% md\n"
    }
   }
  },
  {
   "cell_type": "code",
   "execution_count": 9,
   "outputs": [
    {
     "name": "stdout",
     "output_type": "stream",
     "text": [
      "Code: plan() \n",
      " start_time: 2023-04-12 09:48:29.359173 \n",
      " Status: TaskStatus.SUCCEEDED \n",
      " end_time: 2023-04-12 09:48:34.153726 \n",
      " \n"
     ]
    }
   ],
   "source": [
    "print(pycram.task.task_tree.children[0])"
   ],
   "metadata": {
    "collapsed": false,
    "pycharm": {
     "name": "#%%\n"
    }
   }
  },
  {
   "cell_type": "markdown",
   "source": [
    "The task tree can also be reset to an empty one by invoking"
   ],
   "metadata": {
    "collapsed": false,
    "pycharm": {
     "name": "#%% md\n"
    }
   }
  },
  {
   "cell_type": "code",
   "execution_count": 10,
   "outputs": [
    {
     "name": "stdout",
     "output_type": "stream",
     "text": [
      "no_operation()\n"
     ]
    }
   ],
   "source": [
    "pycram.task.reset_tree()\n",
    "print(anytree.RenderTree(pycram.task.task_tree, style=anytree.render.AsciiStyle()))"
   ],
   "metadata": {
    "collapsed": false,
    "pycharm": {
     "name": "#%%\n"
    }
   }
  },
  {
   "cell_type": "markdown",
   "source": [
    "If a plan fails using the PlanFailure exception, the plan will not stop. Instead, the error will be logged and saved in the task tree as a failed subtask. First let's create a simple failing plan and execute it."
   ],
   "metadata": {
    "collapsed": false,
    "pycharm": {
     "name": "#%% md\n"
    }
   }
  },
  {
   "cell_type": "code",
   "execution_count": 11,
   "outputs": [
    {
     "ename": "PlanFailure",
     "evalue": "Oopsie!",
     "output_type": "error",
     "traceback": [
      "\u001B[0;31m---------------------------------------------------------------------------\u001B[0m",
      "\u001B[0;31mPlanFailure\u001B[0m                               Traceback (most recent call last)",
      "Cell \u001B[0;32mIn[11], line 5\u001B[0m\n\u001B[1;32m      1\u001B[0m \u001B[38;5;129m@pycram\u001B[39m\u001B[38;5;241m.\u001B[39mtask\u001B[38;5;241m.\u001B[39mwith_tree\n\u001B[1;32m      2\u001B[0m \u001B[38;5;28;01mdef\u001B[39;00m \u001B[38;5;21mfailing_plan\u001B[39m():\n\u001B[1;32m      3\u001B[0m     \u001B[38;5;28;01mraise\u001B[39;00m pycram\u001B[38;5;241m.\u001B[39mplan_failures\u001B[38;5;241m.\u001B[39mPlanFailure(\u001B[38;5;124m\"\u001B[39m\u001B[38;5;124mOopsie!\u001B[39m\u001B[38;5;124m\"\u001B[39m)\n\u001B[0;32m----> 5\u001B[0m \u001B[43mfailing_plan\u001B[49m\u001B[43m(\u001B[49m\u001B[43m)\u001B[49m\n",
      "File \u001B[0;32m~/catkin_ws/src/pycram-1/src/pycram/task.py:296\u001B[0m, in \u001B[0;36mwith_tree.<locals>.handle_tree\u001B[0;34m(*args, **kwargs)\u001B[0m\n\u001B[1;32m    294\u001B[0m task_tree\u001B[38;5;241m.\u001B[39mstatus \u001B[38;5;241m=\u001B[39m TaskStatus\u001B[38;5;241m.\u001B[39mCREATED\n\u001B[1;32m    295\u001B[0m task_tree\u001B[38;5;241m.\u001B[39mstart_time \u001B[38;5;241m=\u001B[39m datetime\u001B[38;5;241m.\u001B[39mdatetime\u001B[38;5;241m.\u001B[39mnow()\n\u001B[0;32m--> 296\u001B[0m \u001B[43mtask_tree\u001B[49m\u001B[38;5;241;43m.\u001B[39;49m\u001B[43mcode\u001B[49m\u001B[38;5;241;43m.\u001B[39;49m\u001B[43mexecute\u001B[49m\u001B[43m(\u001B[49m\u001B[43m)\u001B[49m\n\u001B[1;32m    298\u001B[0m \u001B[38;5;66;03m# if it succeeded set the flag\u001B[39;00m\n\u001B[1;32m    299\u001B[0m task_tree\u001B[38;5;241m.\u001B[39mstatus \u001B[38;5;241m=\u001B[39m TaskStatus\u001B[38;5;241m.\u001B[39mSUCCEEDED\n",
      "File \u001B[0;32m~/catkin_ws/src/pycram-1/src/pycram/task.py:65\u001B[0m, in \u001B[0;36mCode.execute\u001B[0;34m(self)\u001B[0m\n\u001B[1;32m     59\u001B[0m \u001B[38;5;28;01mdef\u001B[39;00m \u001B[38;5;21mexecute\u001B[39m(\u001B[38;5;28mself\u001B[39m) \u001B[38;5;241m-\u001B[39m\u001B[38;5;241m>\u001B[39m Any:\n\u001B[1;32m     60\u001B[0m \u001B[38;5;250m    \u001B[39m\u001B[38;5;124;03m\"\"\"\u001B[39;00m\n\u001B[1;32m     61\u001B[0m \u001B[38;5;124;03m    Execute the code with its arguments\u001B[39;00m\n\u001B[1;32m     62\u001B[0m \n\u001B[1;32m     63\u001B[0m \u001B[38;5;124;03m    :returns: Anything that the function associated with this object will return.\u001B[39;00m\n\u001B[1;32m     64\u001B[0m \u001B[38;5;124;03m    \"\"\"\u001B[39;00m\n\u001B[0;32m---> 65\u001B[0m     \u001B[38;5;28;01mreturn\u001B[39;00m \u001B[38;5;28;43mself\u001B[39;49m\u001B[38;5;241;43m.\u001B[39;49m\u001B[43mfunction\u001B[49m\u001B[43m(\u001B[49m\u001B[38;5;241;43m*\u001B[39;49m\u001B[38;5;241;43m*\u001B[39;49m\u001B[38;5;28;43mself\u001B[39;49m\u001B[38;5;241;43m.\u001B[39;49m\u001B[43mkwargs\u001B[49m\u001B[43m)\u001B[49m\n",
      "Cell \u001B[0;32mIn[11], line 3\u001B[0m, in \u001B[0;36mfailing_plan\u001B[0;34m()\u001B[0m\n\u001B[1;32m      1\u001B[0m \u001B[38;5;129m@pycram\u001B[39m\u001B[38;5;241m.\u001B[39mtask\u001B[38;5;241m.\u001B[39mwith_tree\n\u001B[1;32m      2\u001B[0m \u001B[38;5;28;01mdef\u001B[39;00m \u001B[38;5;21mfailing_plan\u001B[39m():\n\u001B[0;32m----> 3\u001B[0m     \u001B[38;5;28;01mraise\u001B[39;00m pycram\u001B[38;5;241m.\u001B[39mplan_failures\u001B[38;5;241m.\u001B[39mPlanFailure(\u001B[38;5;124m\"\u001B[39m\u001B[38;5;124mOopsie!\u001B[39m\u001B[38;5;124m\"\u001B[39m)\n",
      "\u001B[0;31mPlanFailure\u001B[0m: Oopsie!"
     ]
    }
   ],
   "source": [
    "@pycram.task.with_tree\n",
    "def failing_plan():\n",
    "    raise pycram.plan_failures.PlanFailure(\"Oopsie!\")\n",
    "\n",
    "failing_plan()"
   ],
   "metadata": {
    "collapsed": false,
    "pycharm": {
     "name": "#%%\n"
    }
   }
  },
  {
   "cell_type": "markdown",
   "source": [],
   "metadata": {
    "collapsed": false,
    "pycharm": {
     "name": "#%% md\n"
    }
   }
  },
  {
   "cell_type": "markdown",
   "source": [
    "We can now investigate the nodes of the tree, and we will see that the tree indeed contains a failed task."
   ],
   "metadata": {
    "collapsed": false,
    "pycharm": {
     "name": "#%% md\n"
    }
   }
  },
  {
   "cell_type": "code",
   "execution_count": null,
   "outputs": [],
   "source": [
    "print(anytree.RenderTree(pycram.task.task_tree, style=anytree.render.AsciiStyle()))\n",
    "print(pycram.task.task_tree.children[0])"
   ],
   "metadata": {
    "collapsed": false,
    "pycharm": {
     "name": "#%%\n"
    }
   }
  },
  {
   "cell_type": "code",
   "execution_count": null,
   "outputs": [],
   "source": [
    "world.exit()"
   ],
   "metadata": {
    "collapsed": false,
    "pycharm": {
     "name": "#%%\n"
    }
   }
  }
 ],
 "metadata": {
  "kernelspec": {
   "name": "rosjpt",
   "language": "python",
   "display_name": "rosjpt"
  },
  "language_info": {
   "codemirror_mode": {
    "name": "ipython",
    "version": 2
   },
   "file_extension": ".py",
   "mimetype": "text/x-python",
   "name": "python",
   "nbconvert_exporter": "python",
   "pygments_lexer": "ipython2",
   "version": "2.7.6"
  }
 },
 "nbformat": 4,
 "nbformat_minor": 0
}