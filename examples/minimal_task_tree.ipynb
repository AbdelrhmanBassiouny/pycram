{
 "cells": [
  {
   "cell_type": "markdown",
   "metadata": {},
   "source": [
    "# TaskTree Tutorial\n",
    "\n",
    "In this tutorial we will walk through the capabilities of task trees in pycram.\n",
    "\n",
    "First we have to import the necessary functionality from pycram."
   ]
  },
  {
   "cell_type": "code",
   "execution_count": 1,
   "metadata": {
    "ExecuteTime": {
     "end_time": "2024-01-05T11:47:15.273850937Z",
     "start_time": "2024-01-05T11:47:14.439086041Z"
    }
   },
   "outputs": [],
   "source": [
    "from pycram.worlds.bullet_world import BulletWorld\n",
    "from pycram.world_concepts.world_object import Object\n",
    "from pycram.robot_description import RobotDescription\n",
    "import pycram.tasktree\n",
    "from pycram.datastructures.enums import Arms, ObjectType\n",
    "from pycram.designators.action_designator import *\n",
    "from pycram.designators.location_designator import *\n",
    "from pycram.process_module import simulated_robot\n",
    "from pycram.designators.object_designator import *\n",
    "from pycram.datastructures.pose import Pose\n",
    "from pycram.datastructures.enums import ObjectType, WorldMode\n",
    "import anytree\n",
    "import pycram.plan_failures"
   ]
  },
  {
   "cell_type": "markdown",
   "metadata": {},
   "source": [
    "Next we will create a bullet world with a PR2 in a kitchen containing milk and cereal."
   ]
  },
  {
   "cell_type": "code",
   "execution_count": 2,
   "metadata": {
    "ExecuteTime": {
     "end_time": "2024-01-05T11:47:21.361713709Z",
     "start_time": "2024-01-05T11:47:15.370855034Z"
    }
   },
   "outputs": [
    {
     "name": "stderr",
     "output_type": "stream",
     "text": [
      "Scalar element defined multiple times: limit\n",
      "Unknown tag \"rgba_color\" in /robot[@name='milk_object']/link[@name='milk_main']/visual[1]/material[@name='white']\n",
      "Scalar element defined multiple times: limit\n",
      "Unknown tag \"rgba_color\" in /robot[@name='cereal_object']/link[@name='cereal_main']/visual[1]/material[@name='white']\n",
      "Unknown tag \"rgba_color\" in /robot[@name='milk_object']/link[@name='milk_main']/visual[1]/material[@name='white']\n",
      "Unknown tag \"rgba_color\" in /robot[@name='cereal_object']/link[@name='cereal_main']/visual[1]/material[@name='white']\n"
     ]
    }
   ],
   "source": [
    "world = BulletWorld(WorldMode.GUI)\n",
    "pr2 = Object(\"pr2\", ObjectType.ROBOT, \"pr2.urdf\")\n",
    "kitchen = Object(\"kitchen\", ObjectType.ENVIRONMENT, \"kitchen.urdf\")\n",
    "milk = Object(\"milk\", ObjectType.MILK, \"milk.stl\", pose=Pose([1.3, 1, 0.9]))\n",
    "cereal = Object(\"cereal\", ObjectType.BREAKFAST_CEREAL, \"breakfast_cereal.stl\", pose=Pose([1.3, 0.7, 0.95]))\n",
    "milk_desig = ObjectDesignatorDescription(names=[\"milk\"])\n",
    "cereal_desig = ObjectDesignatorDescription(names=[\"cereal\"])\n",
    "robot_desig = ObjectDesignatorDescription(names=[\"pr2\"]).resolve()\n",
    "kitchen_desig = ObjectDesignatorDescription(names=[\"kitchen\"])"
   ]
  },
  {
   "cell_type": "markdown",
   "metadata": {},
   "source": [
    "Finally, we create a plan where the robot parks his arms, walks to the kitchen counter and picks the cereal and places it on the table. Then we execute the plan."
   ]
  },
  {
   "cell_type": "code",
   "execution_count": 8,
   "metadata": {
    "ExecuteTime": {
     "end_time": "2024-01-05T11:47:35.217688853Z",
     "start_time": "2024-01-05T11:47:21.361234790Z"
    }
   },
   "outputs": [
    {
     "ename": "ROSInterruptException",
     "evalue": "rospy shutdown",
     "output_type": "error",
     "traceback": [
      "\u001B[0;31m---------------------------------------------------------------------------\u001B[0m",
      "\u001B[0;31mROSInterruptException\u001B[0m                     Traceback (most recent call last)",
      "Cell \u001B[0;32mIn[8], line 25\u001B[0m\n\u001B[1;32m     21\u001B[0m         ParkArmsAction([Arms\u001B[38;5;241m.\u001B[39mBOTH])\u001B[38;5;241m.\u001B[39mresolve()\u001B[38;5;241m.\u001B[39mperform()\n\u001B[1;32m     23\u001B[0m         ParkArmsActionPerformable(Arms\u001B[38;5;241m.\u001B[39mBOTH)\u001B[38;5;241m.\u001B[39mperform()\n\u001B[0;32m---> 25\u001B[0m \u001B[43mplan\u001B[49m\u001B[43m(\u001B[49m\u001B[43m)\u001B[49m\n",
      "File \u001B[0;32m~/workspace/ros/src/pycram-1/src/pycram/tasktree.py:247\u001B[0m, in \u001B[0;36mwith_tree.<locals>.handle_tree\u001B[0;34m(*args, **kwargs)\u001B[0m\n\u001B[1;32m    245\u001B[0m task_tree\u001B[38;5;241m.\u001B[39mstatus \u001B[38;5;241m=\u001B[39m TaskStatus\u001B[38;5;241m.\u001B[39mCREATED\n\u001B[1;32m    246\u001B[0m task_tree\u001B[38;5;241m.\u001B[39mstart_time \u001B[38;5;241m=\u001B[39m datetime\u001B[38;5;241m.\u001B[39mdatetime\u001B[38;5;241m.\u001B[39mnow()\n\u001B[0;32m--> 247\u001B[0m result \u001B[38;5;241m=\u001B[39m \u001B[43mfun\u001B[49m\u001B[43m(\u001B[49m\u001B[38;5;241;43m*\u001B[39;49m\u001B[43margs\u001B[49m\u001B[43m,\u001B[49m\u001B[43m \u001B[49m\u001B[38;5;241;43m*\u001B[39;49m\u001B[38;5;241;43m*\u001B[39;49m\u001B[43mkwargs\u001B[49m\u001B[43m)\u001B[49m\n\u001B[1;32m    249\u001B[0m \u001B[38;5;66;03m# if it succeeded set the flag\u001B[39;00m\n\u001B[1;32m    250\u001B[0m task_tree\u001B[38;5;241m.\u001B[39mstatus \u001B[38;5;241m=\u001B[39m TaskStatus\u001B[38;5;241m.\u001B[39mSUCCEEDED\n",
      "Cell \u001B[0;32mIn[8], line 6\u001B[0m, in \u001B[0;36mplan\u001B[0;34m()\u001B[0m\n\u001B[1;32m      4\u001B[0m ParkArmsActionPerformable(Arms\u001B[38;5;241m.\u001B[39mBOTH)\u001B[38;5;241m.\u001B[39mperform()\n\u001B[1;32m      5\u001B[0m MoveTorsoAction([\u001B[38;5;241m0.22\u001B[39m])\u001B[38;5;241m.\u001B[39mresolve()\u001B[38;5;241m.\u001B[39mperform()\n\u001B[0;32m----> 6\u001B[0m pickup_pose \u001B[38;5;241m=\u001B[39m \u001B[43mCostmapLocation\u001B[49m\u001B[43m(\u001B[49m\u001B[43mtarget\u001B[49m\u001B[38;5;241;43m=\u001B[39;49m\u001B[43mcereal_desig\u001B[49m\u001B[38;5;241;43m.\u001B[39;49m\u001B[43mresolve\u001B[49m\u001B[43m(\u001B[49m\u001B[43m)\u001B[49m\u001B[43m,\u001B[49m\u001B[43m \u001B[49m\u001B[43mreachable_for\u001B[49m\u001B[38;5;241;43m=\u001B[39;49m\u001B[43mrobot_desig\u001B[49m\u001B[43m)\u001B[49m\u001B[38;5;241;43m.\u001B[39;49m\u001B[43mresolve\u001B[49m\u001B[43m(\u001B[49m\u001B[43m)\u001B[49m\n\u001B[1;32m      7\u001B[0m pickup_arm \u001B[38;5;241m=\u001B[39m pickup_pose\u001B[38;5;241m.\u001B[39mreachable_arms[\u001B[38;5;241m0\u001B[39m]\n\u001B[1;32m      8\u001B[0m NavigateAction(target_locations\u001B[38;5;241m=\u001B[39m[pickup_pose\u001B[38;5;241m.\u001B[39mpose])\u001B[38;5;241m.\u001B[39mresolve()\u001B[38;5;241m.\u001B[39mperform()\n",
      "File \u001B[0;32m~/workspace/ros/src/pycram-1/src/pycram/designators/location_designator.py:139\u001B[0m, in \u001B[0;36mCostmapLocation.ground\u001B[0;34m(self)\u001B[0m\n\u001B[1;32m    133\u001B[0m \u001B[38;5;28;01mdef\u001B[39;00m \u001B[38;5;21mground\u001B[39m(\u001B[38;5;28mself\u001B[39m) \u001B[38;5;241m-\u001B[39m\u001B[38;5;241m>\u001B[39m Location:\n\u001B[1;32m    134\u001B[0m \u001B[38;5;250m    \u001B[39m\u001B[38;5;124;03m\"\"\"\u001B[39;00m\n\u001B[1;32m    135\u001B[0m \u001B[38;5;124;03m    Default specialized_designators which returns the first result from the iterator of this instance.\u001B[39;00m\n\u001B[1;32m    136\u001B[0m \n\u001B[1;32m    137\u001B[0m \u001B[38;5;124;03m    :return: A resolved location\u001B[39;00m\n\u001B[1;32m    138\u001B[0m \u001B[38;5;124;03m    \"\"\"\u001B[39;00m\n\u001B[0;32m--> 139\u001B[0m     \u001B[38;5;28;01mreturn\u001B[39;00m \u001B[38;5;28;43mnext\u001B[39;49m\u001B[43m(\u001B[49m\u001B[38;5;28;43miter\u001B[39;49m\u001B[43m(\u001B[49m\u001B[38;5;28;43mself\u001B[39;49m\u001B[43m)\u001B[49m\u001B[43m)\u001B[49m\n",
      "File \u001B[0;32m~/workspace/ros/src/pycram-1/src/pycram/designators/location_designator.py:191\u001B[0m, in \u001B[0;36mCostmapLocation.__iter__\u001B[0;34m(self)\u001B[0m\n\u001B[1;32m    189\u001B[0m \u001B[38;5;28;01mfor\u001B[39;00m description \u001B[38;5;129;01min\u001B[39;00m RobotDescription\u001B[38;5;241m.\u001B[39mcurrent_robot_description\u001B[38;5;241m.\u001B[39mget_manipulator_chains():\n\u001B[1;32m    190\u001B[0m     hand_links \u001B[38;5;241m+\u001B[39m\u001B[38;5;241m=\u001B[39m description\u001B[38;5;241m.\u001B[39mlinks\n\u001B[0;32m--> 191\u001B[0m valid, arms \u001B[38;5;241m=\u001B[39m \u001B[43mreachability_validator\u001B[49m\u001B[43m(\u001B[49m\u001B[43mmaybe_pose\u001B[49m\u001B[43m,\u001B[49m\u001B[43m \u001B[49m\u001B[43mtest_robot\u001B[49m\u001B[43m,\u001B[49m\u001B[43m \u001B[49m\u001B[43mtarget_pose\u001B[49m\u001B[43m,\u001B[49m\n\u001B[1;32m    192\u001B[0m \u001B[43m                                     \u001B[49m\u001B[43mallowed_collision\u001B[49m\u001B[38;5;241;43m=\u001B[39;49m\u001B[43m{\u001B[49m\u001B[43mtest_robot\u001B[49m\u001B[43m:\u001B[49m\u001B[43m \u001B[49m\u001B[43mhand_links\u001B[49m\u001B[43m}\u001B[49m\u001B[43m)\u001B[49m\n\u001B[1;32m    193\u001B[0m \u001B[38;5;28;01mif\u001B[39;00m \u001B[38;5;28mself\u001B[39m\u001B[38;5;241m.\u001B[39mreachable_arm:\n\u001B[1;32m    194\u001B[0m     res \u001B[38;5;241m=\u001B[39m res \u001B[38;5;129;01mand\u001B[39;00m valid \u001B[38;5;129;01mand\u001B[39;00m \u001B[38;5;28mself\u001B[39m\u001B[38;5;241m.\u001B[39mreachable_arm \u001B[38;5;129;01min\u001B[39;00m arms\n",
      "File \u001B[0;32m~/workspace/ros/src/pycram-1/src/pycram/pose_generator_and_validator.py:204\u001B[0m, in \u001B[0;36mreachability_validator\u001B[0;34m(pose, robot, target, allowed_collision)\u001B[0m\n\u001B[1;32m    201\u001B[0m joint_state_before_ik \u001B[38;5;241m=\u001B[39m robot\u001B[38;5;241m.\u001B[39mget_positions_of_all_joints()\n\u001B[1;32m    202\u001B[0m \u001B[38;5;28;01mtry\u001B[39;00m:\n\u001B[1;32m    203\u001B[0m     \u001B[38;5;66;03m# test the possible solution and apply it to the robot\u001B[39;00m\n\u001B[0;32m--> 204\u001B[0m     pose, joint_states \u001B[38;5;241m=\u001B[39m \u001B[43mrequest_ik\u001B[49m\u001B[43m(\u001B[49m\u001B[43mtarget\u001B[49m\u001B[43m,\u001B[49m\u001B[43m \u001B[49m\u001B[43mrobot\u001B[49m\u001B[43m,\u001B[49m\u001B[43m \u001B[49m\u001B[43mjoints\u001B[49m\u001B[43m,\u001B[49m\u001B[43m \u001B[49m\u001B[43mtool_frame\u001B[49m\u001B[43m)\u001B[49m\n\u001B[1;32m    205\u001B[0m     robot\u001B[38;5;241m.\u001B[39mset_pose(pose)\n\u001B[1;32m    206\u001B[0m     robot\u001B[38;5;241m.\u001B[39mset_joint_positions(joint_states)\n",
      "File \u001B[0;32m~/workspace/ros/src/pycram-1/src/pycram/external_interfaces/ik.py:172\u001B[0m, in \u001B[0;36mrequest_ik\u001B[0;34m(target_pose, robot, joints, gripper)\u001B[0m\n\u001B[1;32m    161\u001B[0m \u001B[38;5;250m\u001B[39m\u001B[38;5;124;03m\"\"\"\u001B[39;00m\n\u001B[1;32m    162\u001B[0m \u001B[38;5;124;03mTop-level method to request ik solution for a given pose. This method will check if the giskard node is running\u001B[39;00m\n\u001B[1;32m    163\u001B[0m \u001B[38;5;124;03mand if so will call the giskard service. If the giskard node is not running the kdl_ik_service will be called.\u001B[39;00m\n\u001B[0;32m   (...)\u001B[0m\n\u001B[1;32m    169\u001B[0m \u001B[38;5;124;03m:return: A Pose at which the robt should stand as well as a dictionary of joint values\u001B[39;00m\n\u001B[1;32m    170\u001B[0m \u001B[38;5;124;03m\"\"\"\u001B[39;00m\n\u001B[1;32m    171\u001B[0m \u001B[38;5;28;01mif\u001B[39;00m \u001B[38;5;124m\"\u001B[39m\u001B[38;5;124m/giskard\u001B[39m\u001B[38;5;124m\"\u001B[39m \u001B[38;5;129;01mnot\u001B[39;00m \u001B[38;5;129;01min\u001B[39;00m rosnode\u001B[38;5;241m.\u001B[39mget_node_names():\n\u001B[0;32m--> 172\u001B[0m     \u001B[38;5;28;01mreturn\u001B[39;00m robot\u001B[38;5;241m.\u001B[39mpose, \u001B[43mrequest_kdl_ik\u001B[49m\u001B[43m(\u001B[49m\u001B[43mtarget_pose\u001B[49m\u001B[43m,\u001B[49m\u001B[43m \u001B[49m\u001B[43mrobot\u001B[49m\u001B[43m,\u001B[49m\u001B[43m \u001B[49m\u001B[43mjoints\u001B[49m\u001B[43m,\u001B[49m\u001B[43m \u001B[49m\u001B[43mgripper\u001B[49m\u001B[43m)\u001B[49m\n\u001B[1;32m    173\u001B[0m \u001B[38;5;28;01mreturn\u001B[39;00m request_giskard_ik(target_pose, robot, gripper)\n",
      "File \u001B[0;32m~/workspace/ros/src/pycram-1/src/pycram/external_interfaces/ik.py:199\u001B[0m, in \u001B[0;36mrequest_kdl_ik\u001B[0;34m(target_pose, robot, joints, gripper)\u001B[0m\n\u001B[1;32m    196\u001B[0m wrist_tool_frame_offset \u001B[38;5;241m=\u001B[39m robot\u001B[38;5;241m.\u001B[39mget_transform_between_links(end_effector, gripper)\n\u001B[1;32m    197\u001B[0m target_diff \u001B[38;5;241m=\u001B[39m target_torso\u001B[38;5;241m.\u001B[39mto_transform(\u001B[38;5;124m\"\u001B[39m\u001B[38;5;124mtarget\u001B[39m\u001B[38;5;124m\"\u001B[39m)\u001B[38;5;241m.\u001B[39minverse_times(wrist_tool_frame_offset)\u001B[38;5;241m.\u001B[39mto_pose()\n\u001B[0;32m--> 199\u001B[0m inv \u001B[38;5;241m=\u001B[39m \u001B[43mcall_ik\u001B[49m\u001B[43m(\u001B[49m\u001B[43mbase_link\u001B[49m\u001B[43m,\u001B[49m\u001B[43m \u001B[49m\u001B[43mend_effector\u001B[49m\u001B[43m,\u001B[49m\u001B[43m \u001B[49m\u001B[43mtarget_diff\u001B[49m\u001B[43m,\u001B[49m\u001B[43m \u001B[49m\u001B[43mrobot\u001B[49m\u001B[43m,\u001B[49m\u001B[43m \u001B[49m\u001B[43mjoints\u001B[49m\u001B[43m)\u001B[49m\n\u001B[1;32m    201\u001B[0m \u001B[38;5;28;01mreturn\u001B[39;00m \u001B[38;5;28mdict\u001B[39m(\u001B[38;5;28mzip\u001B[39m(joints, inv))\n",
      "File \u001B[0;32m~/workspace/ros/src/pycram-1/src/pycram/external_interfaces/ik.py:78\u001B[0m, in \u001B[0;36mcall_ik\u001B[0;34m(root_link, tip_link, target_pose, robot_object, joints)\u001B[0m\n\u001B[1;32m     75\u001B[0m     ik_service \u001B[38;5;241m=\u001B[39m \u001B[38;5;124m\"\u001B[39m\u001B[38;5;124m/kdl_ik_service/get_ik\u001B[39m\u001B[38;5;124m\"\u001B[39m\n\u001B[1;32m     77\u001B[0m rospy\u001B[38;5;241m.\u001B[39mloginfo_once(\u001B[38;5;124mf\u001B[39m\u001B[38;5;124m\"\u001B[39m\u001B[38;5;124mWaiting for IK service: \u001B[39m\u001B[38;5;132;01m{\u001B[39;00mik_service\u001B[38;5;132;01m}\u001B[39;00m\u001B[38;5;124m\"\u001B[39m)\n\u001B[0;32m---> 78\u001B[0m \u001B[43mrospy\u001B[49m\u001B[38;5;241;43m.\u001B[39;49m\u001B[43mwait_for_service\u001B[49m\u001B[43m(\u001B[49m\u001B[43mik_service\u001B[49m\u001B[43m)\u001B[49m\n\u001B[1;32m     80\u001B[0m req \u001B[38;5;241m=\u001B[39m _make_request_msg(root_link, tip_link, target_pose, robot_object, joints)\n\u001B[1;32m     81\u001B[0m req\u001B[38;5;241m.\u001B[39mpose_stamped\u001B[38;5;241m.\u001B[39mheader\u001B[38;5;241m.\u001B[39mframe_id \u001B[38;5;241m=\u001B[39m root_link\n",
      "File \u001B[0;32m/opt/ros/noetic/lib/python3/dist-packages/rospy/impl/tcpros_service.py:166\u001B[0m, in \u001B[0;36mwait_for_service\u001B[0;34m(service, timeout)\u001B[0m\n\u001B[1;32m    164\u001B[0m     time\u001B[38;5;241m.\u001B[39msleep(\u001B[38;5;241m0.3\u001B[39m)\n\u001B[1;32m    165\u001B[0m \u001B[38;5;28;01mif\u001B[39;00m rospy\u001B[38;5;241m.\u001B[39mcore\u001B[38;5;241m.\u001B[39mis_shutdown():\n\u001B[0;32m--> 166\u001B[0m     \u001B[38;5;28;01mraise\u001B[39;00m ROSInterruptException(\u001B[38;5;124m\"\u001B[39m\u001B[38;5;124mrospy shutdown\u001B[39m\u001B[38;5;124m\"\u001B[39m)\n",
      "\u001B[0;31mROSInterruptException\u001B[0m: rospy shutdown"
     ]
    }
   ],
   "source": [
    "@pycram.tasktree.with_tree\n",
    "def plan():\n",
    "    with simulated_robot:\n",
    "        ParkArmsActionPerformable(Arms.BOTH).perform()\n",
    "        MoveTorsoAction([0.22]).resolve().perform()\n",
    "        pickup_pose = CostmapLocation(target=cereal_desig.resolve(), reachable_for=robot_desig).resolve()\n",
    "        pickup_arm = pickup_pose.reachable_arms[0]\n",
    "        NavigateAction(target_locations=[pickup_pose.pose]).resolve().perform()\n",
    "        PickUpAction(object_designator_description=cereal_desig, arms=[pickup_arm], grasps=[Grasp.FRONT]).resolve().perform()\n",
    "        ParkArmsAction([Arms.BOTH]).resolve().perform()\n",
    "\n",
    "        place_island = SemanticCostmapLocation(\"kitchen_island_surface\", kitchen_desig.resolve(),\n",
    "                                           cereal_desig.resolve()).resolve()\n",
    "\n",
    "        place_stand = CostmapLocation(place_island.pose, reachable_for=robot_desig, reachable_arm=pickup_arm).resolve()\n",
    "\n",
    "        NavigateAction(target_locations=[place_stand.pose]).resolve().perform()\n",
    "\n",
    "        PlaceAction(cereal_desig, target_locations=[place_island.pose], arms=[pickup_arm]).resolve().perform()\n",
    "\n",
    "        ParkArmsAction([Arms.BOTH]).resolve().perform()\n",
    "\n",
    "        ParkArmsActionPerformable(Arms.BOTH).perform()\n",
    "\n",
    "plan()\n"
   ]
  },
  {
   "cell_type": "markdown",
   "metadata": {},
   "source": [
    "Now we get the task tree from its module and render it. Rendering can be done with any render method described in the anytree package. We will use ascii rendering here for ease of displaying."
   ]
  },
  {
   "cell_type": "code",
   "execution_count": null,
   "metadata": {
    "ExecuteTime": {
     "end_time": "2024-01-05T11:47:35.222415842Z",
     "start_time": "2024-01-05T11:47:35.217889291Z"
    }
   },
   "outputs": [],
   "source": [
    "tt = pycram.task.task_tree\n",
    "print(anytree.RenderTree(tt))"
   ]
  },
  {
   "cell_type": "markdown",
   "metadata": {},
   "source": [
    "As we see every task in the plan got recorded correctly. It is noticeable that the tree begins with a NoOperation node. This is done because several, not connected, plans that get executed after each other should still appear in the task tree. Hence, a NoOperation node is the root of any tree. If we re-execute the plan we would see them appear in the same tree even though they are not connected."
   ]
  },
  {
   "cell_type": "code",
   "execution_count": null,
   "metadata": {
    "ExecuteTime": {
     "end_time": "2024-01-05T11:47:49.422118950Z",
     "start_time": "2024-01-05T11:47:35.221784522Z"
    }
   },
   "outputs": [],
   "source": [
    "world.reset_bullet_world()\n",
    "plan()\n",
    "print(anytree.RenderTree(tt))"
   ]
  },
  {
   "cell_type": "markdown",
   "metadata": {},
   "source": [
    "Projecting a plan in a new environment with its own task tree that only exists while the projected plan is running can be done with the ``with`` keyword. When this is done, both the bullet world and task tree are saved and new, freshly reset objects are available. At the end of a with block the old state is restored. The root for such things is then called ``simulation()``."
   ]
  },
  {
   "cell_type": "code",
   "execution_count": null,
   "metadata": {
    "ExecuteTime": {
     "end_time": "2024-01-05T11:47:49.434500008Z",
     "start_time": "2024-01-05T11:47:49.422026208Z"
    }
   },
   "outputs": [],
   "source": [
    "with pycram.tasktree.SimulatedTaskTree() as stt:\n",
    "    print(anytree.RenderTree(pycram.task.task_tree))\n",
    "print(anytree.RenderTree(pycram.task.task_tree))"
   ]
  },
  {
   "cell_type": "markdown",
   "metadata": {},
   "source": [
    "Task tree can be manipulated with ordinary anytree manipulation. If we for example want to discard the second plan, we would write"
   ]
  },
  {
   "cell_type": "code",
   "execution_count": null,
   "metadata": {
    "ExecuteTime": {
     "end_time": "2024-01-05T11:47:49.438410783Z",
     "start_time": "2024-01-05T11:47:49.433036544Z"
    }
   },
   "outputs": [],
   "source": [
    "tt.root.children = (tt.root.children[0],)\n",
    "print(anytree.RenderTree(tt, style=anytree.render.AsciiStyle()))"
   ]
  },
  {
   "cell_type": "markdown",
   "metadata": {},
   "source": [
    "We can now re-execute this (modified) plan by executing the leaf in pre-ordering iteration using the anytree functionality. This will not append the re-execution to the task tree."
   ]
  },
  {
   "cell_type": "code",
   "execution_count": null,
   "metadata": {
    "ExecuteTime": {
     "end_time": "2024-01-05T11:47:57.076211143Z",
     "start_time": "2024-01-05T11:47:49.437672197Z"
    }
   },
   "outputs": [],
   "source": [
    "world.reset_world()\n",
    "with simulated_robot:\n",
    "    [node.code.execute() for node in tt.root.leaves]\n",
    "print(anytree.RenderTree(pycram.task.task_tree, style=anytree.render.AsciiStyle()))"
   ]
  },
  {
   "cell_type": "markdown",
   "metadata": {},
   "source": [
    "Nodes in the task tree contain additional information about the status and time of a task."
   ]
  },
  {
   "cell_type": "code",
   "execution_count": null,
   "metadata": {
    "ExecuteTime": {
     "end_time": "2024-01-05T11:47:57.081178616Z",
     "start_time": "2024-01-05T11:47:57.077818445Z"
    }
   },
   "outputs": [],
   "source": [
    "print(pycram.task.task_tree.children[0])"
   ]
  },
  {
   "cell_type": "markdown",
   "metadata": {},
   "source": [
    "The task tree can also be reset to an empty one by invoking"
   ]
  },
  {
   "cell_type": "code",
   "execution_count": null,
   "metadata": {
    "ExecuteTime": {
     "end_time": "2024-01-05T11:47:57.090325704Z",
     "start_time": "2024-01-05T11:47:57.081062518Z"
    }
   },
   "outputs": [],
   "source": [
    "pycram.tasktree.reset_tree()\n",
    "print(anytree.RenderTree(pycram.task.task_tree, style=anytree.render.AsciiStyle()))"
   ]
  },
  {
   "cell_type": "markdown",
   "metadata": {},
   "source": [
    "If a plan fails using the PlanFailure exception, the plan will not stop. Instead, the error will be logged and saved in the task tree as a failed subtask. First let's create a simple failing plan and execute it."
   ]
  },
  {
   "cell_type": "code",
   "execution_count": null,
   "metadata": {
    "ExecuteTime": {
     "end_time": "2024-01-05T11:47:57.130889801Z",
     "start_time": "2024-01-05T11:47:57.129989892Z"
    }
   },
   "outputs": [],
   "source": [
    "@pycram.task.with_tree\n",
    "def failing_plan():\n",
    "    raise pycram.plan_failures.PlanFailure(\"Oopsie!\")\n",
    "\n",
    "try:\n",
    "    failing_plan()\n",
    "except pycram.plan_failures.PlanFailure as e:\n",
    "    print(e)"
   ]
  },
  {
   "cell_type": "markdown",
   "metadata": {},
   "source": [
    "We can now investigate the nodes of the tree, and we will see that the tree indeed contains a failed task."
   ]
  },
  {
   "cell_type": "code",
   "execution_count": 12,
   "metadata": {
    "ExecuteTime": {
     "end_time": "2024-01-05T11:47:57.131271385Z",
     "start_time": "2024-01-05T11:47:57.130193323Z"
    }
   },
   "outputs": [
    {
     "name": "stdout",
     "output_type": "stream",
     "text": [
      "no_operation()\n",
      "+-- failing_plan()\n",
      "Code: failing_plan() \n",
      " start_time: 2024-01-05 12:47:57.088480 \n",
      " Status: TaskStatus.FAILED \n",
      " end_time: 2024-01-05 12:47:57.089024 \n",
      " \n"
     ]
    }
   ],
   "source": [
    "print(anytree.RenderTree(pycram.task.task_tree, style=anytree.render.AsciiStyle()))\n",
    "print(pycram.tasktree.task_tree.children[0])"
   ]
  },
  {
   "cell_type": "code",
   "execution_count": 13,
   "metadata": {
    "ExecuteTime": {
     "end_time": "2024-01-05T11:47:57.328473210Z",
     "start_time": "2024-01-05T11:47:57.130261104Z"
    }
   },
   "outputs": [],
   "source": [
    "world.exit()"
   ]
  }
 ],
 "metadata": {
  "kernelspec": {
   "display_name": "Python 3",
   "language": "python",
   "name": "python3"
  },
  "language_info": {
   "codemirror_mode": {
    "name": "ipython",
    "version": 3
   },
   "file_extension": ".py",
   "mimetype": "text/x-python",
   "name": "python",
   "nbconvert_exporter": "python",
   "pygments_lexer": "ipython3",
   "version": "3.8.10"
  }
 },
 "nbformat": 4,
 "nbformat_minor": 1
}
