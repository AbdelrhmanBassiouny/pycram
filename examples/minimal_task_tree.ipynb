{
 "cells": [
  {
   "cell_type": "markdown",
   "metadata": {
    "pycharm": {
     "name": "#%% md\n"
    }
   },
   "source": [
    "# TaskTree Tutorial\n",
    "\n",
    "In this tutorial we will walk through the capabilities of task trees in pycram.\n",
    "\n",
    "First we have to import the necessary functionality from pycram."
   ]
  },
  {
   "cell_type": "code",
   "execution_count": 1,
   "metadata": {
    "pycharm": {
     "name": "#%%\n"
    }
   },
   "outputs": [
    {
     "name": "stderr",
     "output_type": "stream",
     "text": [
      "Unknown attribute \"type\" in /robot[@name='pr2']/link[@name='base_laser_link']\n",
      "Unknown attribute \"type\" in /robot[@name='pr2']/link[@name='wide_stereo_optical_frame']\n",
      "Unknown attribute \"type\" in /robot[@name='pr2']/link[@name='narrow_stereo_optical_frame']\n",
      "Unknown attribute \"type\" in /robot[@name='pr2']/link[@name='laser_tilt_link']\n",
      "Unknown attribute \"type\" in /robot[@name='pr2']/link[@name='base_laser_link']\n",
      "Unknown attribute \"type\" in /robot[@name='pr2']/link[@name='wide_stereo_optical_frame']\n",
      "Unknown attribute \"type\" in /robot[@name='pr2']/link[@name='narrow_stereo_optical_frame']\n",
      "Unknown attribute \"type\" in /robot[@name='pr2']/link[@name='laser_tilt_link']\n"
     ]
    }
   ],
   "source": [
    "from pycram.bullet_world import BulletWorld\n",
    "from pycram.robot_descriptions.robot_description_handler import InitializedRobotDescription as robot_description\n",
    "import pycram.task\n",
    "from pycram.resolver.plans import Arms\n",
    "from pycram.designators.action_designator import *\n",
    "from pycram.designators.location_designator import *\n",
    "from pycram.process_module import simulated_robot\n",
    "from pycram.designators.object_designator import *\n",
    "import anytree\n",
    "import pycram.plan_failures"
   ]
  },
  {
   "cell_type": "markdown",
   "metadata": {
    "pycharm": {
     "name": "#%% md\n"
    }
   },
   "source": [
    "Next we will create a bullet world with a PR2 in a kitchen containing milk and cereal."
   ]
  },
  {
   "cell_type": "code",
   "execution_count": 2,
   "metadata": {
    "pycharm": {
     "name": "#%%\n"
    }
   },
   "outputs": [],
   "source": [
    "world = BulletWorld()\n",
    "robot = Object(robot_description.i.name, \"robot\", robot_description.i.name + \".urdf\")\n",
    "kitchen = Object(\"kitchen\", \"environment\", \"kitchen.urdf\")\n",
    "milk = Object(\"milk\", \"milk\", \"milk.stl\", position=[1.3, 1, 0.9])\n",
    "cereal = Object(\"cereal\", \"cereal\", \"breakfast_cereal.stl\", position=[1.3, 0.7, 0.95])\n",
    "milk_desig = ObjectDesignator(ObjectDesignatorDescription(name=\"milk\", type=\"milk\"))\n",
    "cereal_desig = ObjectDesignator(ObjectDesignatorDescription(name=\"cereal\", type=\"cereal\"))"
   ]
  },
  {
   "cell_type": "markdown",
   "metadata": {
    "pycharm": {
     "name": "#%% md\n"
    }
   },
   "source": [
    "Finally, we create a plan where the robot parks his arms, walks to the kitchen counter and picks the thingy. Then we execute the plan."
   ]
  },
  {
   "cell_type": "code",
   "execution_count": 3,
   "metadata": {
    "pycharm": {
     "name": "#%%\n"
    }
   },
   "outputs": [
    {
     "name": "stdout",
     "output_type": "stream",
     "text": [
      "Parking arms Arms.BOTH.\n",
      "Moving to [0.7199999690055847, 1.0399999618530273, 0.0]. Orientation: [-0.0, 0.0, 0.03442140918758331, -0.9994074077119606].\n",
      "(0.7199999690055847, 1.0399999618530273, 0.0)\n",
      "Parking arms Arms.BOTH.\n",
      "Picking up ObjectDesignator({'resolver': 'grounding', 'type': 'milk', 'name': 'milk', 'object': None, 'pose': None}) with left.\n",
      "Not attached to anything!\n",
      "Parking arms Arms.BOTH.\n",
      "Moving to [-1.9075000286102295, 0.7792000770568848, 0.0]. Orientation: [0.0, 0.0, 0.16439898301071468, 0.9863939245479175].\n",
      "(-1.9075000286102295, 0.7792000770568848, 0.0)\n",
      "Placing ObjectDesignator({'resolver': 'grounding', 'type': 'milk', 'name': 'milk', 'object': <pycram.bullet_world.Object object at 0x7f0a8346b460>, 'pose': ((1.3, 1.0, 0.9), (0.0, 0.0, 0.0, 1.0))}) with left at [[-1.2074999809265137, 1.019200086593628, 0.9439613818399623], [0.0, 0.0, 0.6339889056055381, 0.7733421413379024]].\n",
      "Parking arms Arms.BOTH.\n"
     ]
    }
   ],
   "source": [
    "@pycram.task.with_tree\n",
    "def plan():\n",
    "    with simulated_robot:\n",
    "        ActionDesignator(ParkArmsAction(Arms.BOTH)).perform()\n",
    "\n",
    "        location = LocationDesignator(CostmapLocation(target=milk, reachable_for=robot))\n",
    "        pose = location.reference()\n",
    "        ActionDesignator(\n",
    "            NavigateAction(target_position=pose[\"position\"], target_orientation=pose[\"orientation\"])).perform()\n",
    "        ActionDesignator(ParkArmsAction(Arms.BOTH)).perform()\n",
    "\n",
    "        picked_up_arm = pose[\"arms\"][0]\n",
    "        ActionDesignator(PickUpAction(object_designator=milk_desig, arm=pose[\"arms\"][0], grasp=\"front\")).perform()\n",
    "\n",
    "        ActionDesignator(ParkArmsAction(Arms.BOTH)).perform()\n",
    "        place_island = LocationDesignator(SemanticCostmapLocation(\"kitchen_island_surface\", kitchen, milk_desig.prop_value(\"object\")))\n",
    "        pose_island = place_island.reference()\n",
    "\n",
    "        place_location = LocationDesignator(CostmapLocation(target=list(pose_island.values()), reachable_for=robot, reachable_arm=picked_up_arm))\n",
    "        pose = place_location.reference()\n",
    "\n",
    "        ActionDesignator(NavigateAction(target_position=pose[\"position\"], target_orientation=pose[\"orientation\"])).perform()\n",
    "\n",
    "        ActionDesignator(PlaceAction(object_designator=milk_desig, target_location=list(pose_island.values()), arm=picked_up_arm)).perform()\n",
    "\n",
    "        ActionDesignator(ParkArmsAction(Arms.BOTH)).perform()\n",
    "\n",
    "plan()\n"
   ]
  },
  {
   "cell_type": "markdown",
   "metadata": {
    "pycharm": {
     "name": "#%% md\n"
    }
   },
   "source": [
    "Now we get the task tree from its module and render it. Rendering can be done with any render method described in the anytree package. We will use ascii rendering here for ease of displaying."
   ]
  },
  {
   "cell_type": "code",
   "execution_count": 4,
   "metadata": {
    "pycharm": {
     "name": "#%%\n"
    }
   },
   "outputs": [
    {
     "name": "stdout",
     "output_type": "stream",
     "text": [
      "no_operation()\n",
      "+-- plan()\n",
      "    |-- park_arms(arms = Arms.BOTH)\n",
      "    |-- navigate(target = [0.7199999690055847, 1.0399999618530273, 0.0], orientation = [-0.0, 0.0, 0.03442140918758331, -0.9994074077119606])\n",
      "    |-- park_arms(arms = Arms.BOTH)\n",
      "    |-- pick_up(arm = left, object_desig = ObjectDesignator({'resolver': 'grounding', 'type': 'milk', 'name': 'milk', 'object': <pycram.bullet_world.Object object at 0x7f0a8346b460>, 'pose': ((1.3, 1.0, 0.9), (0.0, 0.0, 0.0, 1.0))}), grasp = front)\n",
      "    |-- park_arms(arms = Arms.BOTH)\n",
      "    |-- navigate(target = [-1.9075000286102295, 0.7792000770568848, 0.0], orientation = [0.0, 0.0, 0.16439898301071468, 0.9863939245479175])\n",
      "    |-- place(arm = left, object_desig = ObjectDesignator({'resolver': 'grounding', 'type': 'milk', 'name': 'milk', 'object': <pycram.bullet_world.Object object at 0x7f0a8346b460>, 'pose': ((1.3, 1.0, 0.9), (0.0, 0.0, 0.0, 1.0))}), target = [[-1.2074999809265137, 1.019200086593628, 0.9439613818399623], [0.0, 0.0, 0.6339889056055381, 0.7733421413379024]])\n",
      "    +-- park_arms(arms = Arms.BOTH)\n"
     ]
    }
   ],
   "source": [
    "tt = pycram.task.task_tree\n",
    "print(anytree.RenderTree(tt, style=anytree.render.AsciiStyle()))"
   ]
  },
  {
   "cell_type": "markdown",
   "metadata": {
    "pycharm": {
     "name": "#%% md\n"
    }
   },
   "source": [
    "As we see every task in the plan got recorded correctly. It is noticeable that the tree begins with a NoOperation node. This is done because several, not connected, plans that get executed after each other should still appear in the task tree. Hence, a NoOperation node is the root of any tree. If we re-execute the plan we would see them appear in the same tree even though they are not connected."
   ]
  },
  {
   "cell_type": "code",
   "execution_count": 5,
   "metadata": {
    "pycharm": {
     "name": "#%%\n"
    }
   },
   "outputs": [
    {
     "name": "stdout",
     "output_type": "stream",
     "text": [
      "Parking arms Arms.BOTH.\n",
      "Moving to [0.7199999690055847, 1.0399999618530273, 0.0]. Orientation: [-0.0, 0.0, 0.03442140918758331, -0.9994074077119606].\n",
      "(0.7199999690055847, 1.0399999618530273, 0.0)\n",
      "Parking arms Arms.BOTH.\n",
      "Picking up ObjectDesignator({'resolver': 'grounding', 'type': 'milk', 'name': 'milk', 'object': <pycram.bullet_world.Object object at 0x7f0a8346b460>, 'pose': ((1.3, 1.0, 0.9), (0.0, 0.0, 0.0, 1.0))}) with left.\n",
      "Not attached to anything!\n",
      "Parking arms Arms.BOTH.\n",
      "Moving to [-1.9075000286102295, 0.7792000770568848, 0.0]. Orientation: [0.0, 0.0, 0.16439898301071468, 0.9863939245479175].\n",
      "(-1.9075000286102295, 0.7792000770568848, 0.0)\n",
      "Placing ObjectDesignator({'resolver': 'grounding', 'type': 'milk', 'name': 'milk', 'object': <pycram.bullet_world.Object object at 0x7f0a8346b460>, 'pose': ((1.3, 1.0, 0.9), (0.0, 0.0, 0.0, 1.0))}) with left at [[-1.2074999809265137, 1.019200086593628, 0.9439613818399623], [0.0, 0.0, 0.6339889056055381, 0.7733421413379024]].\n",
      "Parking arms Arms.BOTH.\n",
      "no_operation()\n",
      "|-- plan()\n",
      "|   |-- park_arms(arms = Arms.BOTH)\n",
      "|   |-- navigate(target = [0.7199999690055847, 1.0399999618530273, 0.0], orientation = [-0.0, 0.0, 0.03442140918758331, -0.9994074077119606])\n",
      "|   |-- park_arms(arms = Arms.BOTH)\n",
      "|   |-- pick_up(arm = left, object_desig = ObjectDesignator({'resolver': 'grounding', 'type': 'milk', 'name': 'milk', 'object': <pycram.bullet_world.Object object at 0x7f0a8346b460>, 'pose': ((1.3, 1.0, 0.9), (0.0, 0.0, 0.0, 1.0))}), grasp = front)\n",
      "|   |-- park_arms(arms = Arms.BOTH)\n",
      "|   |-- navigate(target = [-1.9075000286102295, 0.7792000770568848, 0.0], orientation = [0.0, 0.0, 0.16439898301071468, 0.9863939245479175])\n",
      "|   |-- place(arm = left, object_desig = ObjectDesignator({'resolver': 'grounding', 'type': 'milk', 'name': 'milk', 'object': <pycram.bullet_world.Object object at 0x7f0a8346b460>, 'pose': ((1.3, 1.0, 0.9), (0.0, 0.0, 0.0, 1.0))}), target = [[-1.2074999809265137, 1.019200086593628, 0.9439613818399623], [0.0, 0.0, 0.6339889056055381, 0.7733421413379024]])\n",
      "|   +-- park_arms(arms = Arms.BOTH)\n",
      "+-- plan()\n",
      "    |-- park_arms(arms = Arms.BOTH)\n",
      "    |-- navigate(target = [0.7199999690055847, 1.0399999618530273, 0.0], orientation = [-0.0, 0.0, 0.03442140918758331, -0.9994074077119606])\n",
      "    |-- park_arms(arms = Arms.BOTH)\n",
      "    |-- pick_up(arm = left, object_desig = ObjectDesignator({'resolver': 'grounding', 'type': 'milk', 'name': 'milk', 'object': <pycram.bullet_world.Object object at 0x7f0a8346b460>, 'pose': ((1.3, 1.0, 0.9), (0.0, 0.0, 0.0, 1.0))}), grasp = front)\n",
      "    |-- park_arms(arms = Arms.BOTH)\n",
      "    |-- navigate(target = [-1.9075000286102295, 0.7792000770568848, 0.0], orientation = [0.0, 0.0, 0.16439898301071468, 0.9863939245479175])\n",
      "    |-- place(arm = left, object_desig = ObjectDesignator({'resolver': 'grounding', 'type': 'milk', 'name': 'milk', 'object': <pycram.bullet_world.Object object at 0x7f0a8346b460>, 'pose': ((1.3, 1.0, 0.9), (0.0, 0.0, 0.0, 1.0))}), target = [[-1.2074999809265137, 1.019200086593628, 0.9439613818399623], [0.0, 0.0, 0.6339889056055381, 0.7733421413379024]])\n",
      "    +-- park_arms(arms = Arms.BOTH)\n"
     ]
    }
   ],
   "source": [
    "world.reset_bullet_world()\n",
    "plan()\n",
    "print(anytree.RenderTree(tt, style=anytree.render.AsciiStyle()))"
   ]
  },
  {
   "cell_type": "markdown",
   "metadata": {
    "pycharm": {
     "name": "#%% md\n"
    }
   },
   "source": [
    "Projecting a plan in a new environment with its own task tree that only exists while the projected plan is running can be done with the ``with`` keyword. When this is done, both the bullet world and task tree are saved and new, freshly reset objects are available. At the end of a with block the old state is restored. The root for such things is then called ``simulation()``."
   ]
  },
  {
   "cell_type": "code",
   "execution_count": 6,
   "metadata": {
    "pycharm": {
     "name": "#%%\n"
    }
   },
   "outputs": [
    {
     "name": "stdout",
     "output_type": "stream",
     "text": [
      "simulation()\n",
      "no_operation()\n",
      "|-- plan()\n",
      "|   |-- park_arms(arms = Arms.BOTH)\n",
      "|   |-- navigate(target = [0.7199999690055847, 1.0399999618530273, 0.0], orientation = [-0.0, 0.0, 0.03442140918758331, -0.9994074077119606])\n",
      "|   |-- park_arms(arms = Arms.BOTH)\n",
      "|   |-- pick_up(arm = left, object_desig = ObjectDesignator({'resolver': 'grounding', 'type': 'milk', 'name': 'milk', 'object': <pycram.bullet_world.Object object at 0x7f0a8346b460>, 'pose': ((1.3, 1.0, 0.9), (0.0, 0.0, 0.0, 1.0))}), grasp = front)\n",
      "|   |-- park_arms(arms = Arms.BOTH)\n",
      "|   |-- navigate(target = [-1.9075000286102295, 0.7792000770568848, 0.0], orientation = [0.0, 0.0, 0.16439898301071468, 0.9863939245479175])\n",
      "|   |-- place(arm = left, object_desig = ObjectDesignator({'resolver': 'grounding', 'type': 'milk', 'name': 'milk', 'object': <pycram.bullet_world.Object object at 0x7f0a8346b460>, 'pose': ((1.3, 1.0, 0.9), (0.0, 0.0, 0.0, 1.0))}), target = [[-1.2074999809265137, 1.019200086593628, 0.9439613818399623], [0.0, 0.0, 0.6339889056055381, 0.7733421413379024]])\n",
      "|   +-- park_arms(arms = Arms.BOTH)\n",
      "+-- plan()\n",
      "    |-- park_arms(arms = Arms.BOTH)\n",
      "    |-- navigate(target = [0.7199999690055847, 1.0399999618530273, 0.0], orientation = [-0.0, 0.0, 0.03442140918758331, -0.9994074077119606])\n",
      "    |-- park_arms(arms = Arms.BOTH)\n",
      "    |-- pick_up(arm = left, object_desig = ObjectDesignator({'resolver': 'grounding', 'type': 'milk', 'name': 'milk', 'object': <pycram.bullet_world.Object object at 0x7f0a8346b460>, 'pose': ((1.3, 1.0, 0.9), (0.0, 0.0, 0.0, 1.0))}), grasp = front)\n",
      "    |-- park_arms(arms = Arms.BOTH)\n",
      "    |-- navigate(target = [-1.9075000286102295, 0.7792000770568848, 0.0], orientation = [0.0, 0.0, 0.16439898301071468, 0.9863939245479175])\n",
      "    |-- place(arm = left, object_desig = ObjectDesignator({'resolver': 'grounding', 'type': 'milk', 'name': 'milk', 'object': <pycram.bullet_world.Object object at 0x7f0a8346b460>, 'pose': ((1.3, 1.0, 0.9), (0.0, 0.0, 0.0, 1.0))}), target = [[-1.2074999809265137, 1.019200086593628, 0.9439613818399623], [0.0, 0.0, 0.6339889056055381, 0.7733421413379024]])\n",
      "    +-- park_arms(arms = Arms.BOTH)\n"
     ]
    }
   ],
   "source": [
    "with pycram.task.SimulatedTaskTree() as stt:\n",
    "    print(anytree.RenderTree(pycram.task.task_tree, style=anytree.render.AsciiStyle()))\n",
    "print(anytree.RenderTree(pycram.task.task_tree, style=anytree.render.AsciiStyle()))"
   ]
  },
  {
   "cell_type": "markdown",
   "metadata": {
    "pycharm": {
     "name": "#%% md\n"
    }
   },
   "source": [
    "Task tree can be manipulated with ordinary anytree manipulation. If we for example want to discard the second plan, we would write"
   ]
  },
  {
   "cell_type": "code",
   "execution_count": 7,
   "metadata": {
    "pycharm": {
     "name": "#%%\n"
    }
   },
   "outputs": [
    {
     "name": "stdout",
     "output_type": "stream",
     "text": [
      "no_operation()\n",
      "+-- plan()\n",
      "    |-- park_arms(arms = Arms.BOTH)\n",
      "    |-- navigate(target = [0.7199999690055847, 1.0399999618530273, 0.0], orientation = [-0.0, 0.0, 0.03442140918758331, -0.9994074077119606])\n",
      "    |-- park_arms(arms = Arms.BOTH)\n",
      "    |-- pick_up(arm = left, object_desig = ObjectDesignator({'resolver': 'grounding', 'type': 'milk', 'name': 'milk', 'object': <pycram.bullet_world.Object object at 0x7f0a8346b460>, 'pose': ((1.3, 1.0, 0.9), (0.0, 0.0, 0.0, 1.0))}), grasp = front)\n",
      "    |-- park_arms(arms = Arms.BOTH)\n",
      "    |-- navigate(target = [-1.9075000286102295, 0.7792000770568848, 0.0], orientation = [0.0, 0.0, 0.16439898301071468, 0.9863939245479175])\n",
      "    |-- place(arm = left, object_desig = ObjectDesignator({'resolver': 'grounding', 'type': 'milk', 'name': 'milk', 'object': <pycram.bullet_world.Object object at 0x7f0a8346b460>, 'pose': ((1.3, 1.0, 0.9), (0.0, 0.0, 0.0, 1.0))}), target = [[-1.2074999809265137, 1.019200086593628, 0.9439613818399623], [0.0, 0.0, 0.6339889056055381, 0.7733421413379024]])\n",
      "    +-- park_arms(arms = Arms.BOTH)\n"
     ]
    }
   ],
   "source": [
    "tt.root.children = (tt.root.children[0],)\n",
    "print(anytree.RenderTree(tt, style=anytree.render.AsciiStyle()))"
   ]
  },
  {
   "cell_type": "markdown",
   "metadata": {
    "pycharm": {
     "name": "#%% md\n"
    }
   },
   "source": [
    "We can now re-execute this (modified) plan by executing the leaf in pre-ordering iteration using the anytree functionality. This will not append the re-execution to the task tree."
   ]
  },
  {
   "cell_type": "code",
   "execution_count": 8,
   "metadata": {
    "pycharm": {
     "name": "#%%\n"
    }
   },
   "outputs": [
    {
     "name": "stdout",
     "output_type": "stream",
     "text": [
      "Parking arms Arms.BOTH.\n",
      "Moving to [0.7199999690055847, 1.0399999618530273, 0.0]. Orientation: [-0.0, 0.0, 0.03442140918758331, -0.9994074077119606].\n",
      "(0.7199999690055847, 1.0399999618530273, 0.0)\n",
      "Parking arms Arms.BOTH.\n",
      "Picking up ObjectDesignator({'resolver': 'grounding', 'type': 'milk', 'name': 'milk', 'object': <pycram.bullet_world.Object object at 0x7f0a8346b460>, 'pose': ((1.3, 1.0, 0.9), (0.0, 0.0, 0.0, 1.0))}) with left.\n",
      "Not attached to anything!\n",
      "Parking arms Arms.BOTH.\n",
      "Moving to [-1.9075000286102295, 0.7792000770568848, 0.0]. Orientation: [0.0, 0.0, 0.16439898301071468, 0.9863939245479175].\n",
      "(-1.9075000286102295, 0.7792000770568848, 0.0)\n",
      "Placing ObjectDesignator({'resolver': 'grounding', 'type': 'milk', 'name': 'milk', 'object': <pycram.bullet_world.Object object at 0x7f0a8346b460>, 'pose': ((1.3, 1.0, 0.9), (0.0, 0.0, 0.0, 1.0))}) with left at [[-1.2074999809265137, 1.019200086593628, 0.9439613818399623], [0.0, 0.0, 0.6339889056055381, 0.7733421413379024]].\n",
      "Parking arms Arms.BOTH.\n",
      "no_operation()\n",
      "+-- plan()\n",
      "    |-- park_arms(arms = Arms.BOTH)\n",
      "    |-- navigate(target = [0.7199999690055847, 1.0399999618530273, 0.0], orientation = [-0.0, 0.0, 0.03442140918758331, -0.9994074077119606])\n",
      "    |-- park_arms(arms = Arms.BOTH)\n",
      "    |-- pick_up(arm = left, object_desig = ObjectDesignator({'resolver': 'grounding', 'type': 'milk', 'name': 'milk', 'object': <pycram.bullet_world.Object object at 0x7f0a8346b460>, 'pose': ((1.3, 1.0, 0.9), (0.0, 0.0, 0.0, 1.0))}), grasp = front)\n",
      "    |-- park_arms(arms = Arms.BOTH)\n",
      "    |-- navigate(target = [-1.9075000286102295, 0.7792000770568848, 0.0], orientation = [0.0, 0.0, 0.16439898301071468, 0.9863939245479175])\n",
      "    |-- place(arm = left, object_desig = ObjectDesignator({'resolver': 'grounding', 'type': 'milk', 'name': 'milk', 'object': <pycram.bullet_world.Object object at 0x7f0a8346b460>, 'pose': ((1.3, 1.0, 0.9), (0.0, 0.0, 0.0, 1.0))}), target = [[-1.2074999809265137, 1.019200086593628, 0.9439613818399623], [0.0, 0.0, 0.6339889056055381, 0.7733421413379024]])\n",
      "    +-- park_arms(arms = Arms.BOTH)\n"
     ]
    }
   ],
   "source": [
    "world.reset_bullet_world()\n",
    "with simulated_robot:\n",
    "    [node.code.execute() for node in tt.root.leaves]\n",
    "print(anytree.RenderTree(pycram.task.task_tree, style=anytree.render.AsciiStyle()))"
   ]
  },
  {
   "cell_type": "markdown",
   "metadata": {
    "pycharm": {
     "name": "#%% md\n"
    }
   },
   "source": [
    "Nodes in the task tree contain additional information about the status and time of a task."
   ]
  },
  {
   "cell_type": "code",
   "execution_count": 9,
   "metadata": {
    "pycharm": {
     "name": "#%%\n"
    }
   },
   "outputs": [
    {
     "name": "stdout",
     "output_type": "stream",
     "text": [
      "Code: plan() \n",
      " start_time: 2023-04-13 11:14:37.899141 \n",
      " Status: TaskStatus.SUCCEEDED \n",
      " end_time: 2023-04-13 11:14:42.710393 \n",
      " \n"
     ]
    }
   ],
   "source": [
    "print(pycram.task.task_tree.children[0])"
   ]
  },
  {
   "cell_type": "markdown",
   "metadata": {
    "pycharm": {
     "name": "#%% md\n"
    }
   },
   "source": [
    "The task tree can also be reset to an empty one by invoking"
   ]
  },
  {
   "cell_type": "code",
   "execution_count": 10,
   "metadata": {
    "pycharm": {
     "name": "#%%\n"
    }
   },
   "outputs": [
    {
     "name": "stdout",
     "output_type": "stream",
     "text": [
      "no_operation()\n"
     ]
    }
   ],
   "source": [
    "pycram.task.reset_tree()\n",
    "print(anytree.RenderTree(pycram.task.task_tree, style=anytree.render.AsciiStyle()))"
   ]
  },
  {
   "cell_type": "markdown",
   "metadata": {
    "pycharm": {
     "name": "#%% md\n"
    }
   },
   "source": [
    "If a plan fails using the PlanFailure exception, the plan will not stop. Instead, the error will be logged and saved in the task tree as a failed subtask. First let's create a simple failing plan and execute it."
   ]
  },
  {
   "cell_type": "code",
   "execution_count": 11,
   "metadata": {
    "pycharm": {
     "name": "#%%\n"
    }
   },
   "outputs": [],
   "source": [
    "@pycram.task.with_tree\n",
    "def failing_plan():\n",
    "    raise pycram.plan_failures.PlanFailure(\"Oopsie!\")\n",
    "\n",
    "failing_plan()"
   ]
  },
  {
   "cell_type": "markdown",
   "metadata": {
    "pycharm": {
     "name": "#%% md\n"
    }
   },
   "source": [
    "We can now investigate the nodes of the tree, and we will see that the tree indeed contains a failed task."
   ]
  },
  {
   "cell_type": "code",
   "execution_count": 12,
   "metadata": {
    "pycharm": {
     "name": "#%%\n"
    }
   },
   "outputs": [
    {
     "name": "stdout",
     "output_type": "stream",
     "text": [
      "no_operation()\n",
      "+-- failing_plan()\n",
      "Code: failing_plan() \n",
      " start_time: 2023-04-13 11:16:19.802825 \n",
      " Status: TaskStatus.FAILED \n",
      " end_time: 2023-04-13 11:16:19.803078 \n",
      " \n"
     ]
    }
   ],
   "source": [
    "print(anytree.RenderTree(pycram.task.task_tree, style=anytree.render.AsciiStyle()))\n",
    "print(pycram.task.task_tree.children[0])"
   ]
  },
  {
   "cell_type": "code",
   "execution_count": 13,
   "metadata": {
    "pycharm": {
     "name": "#%%\n"
    }
   },
   "outputs": [
    {
     "name": "stdout",
     "output_type": "stream",
     "text": [
      "shutdown request: [/pycram] Reason: new node registered with same name\n"
     ]
    }
   ],
   "source": [
    "world.exit()"
   ]
  }
 ],
 "metadata": {
  "kernelspec": {
   "display_name": "Python 3",
   "language": "python",
   "name": "python3"
  },
  "language_info": {
   "codemirror_mode": {
    "name": "ipython",
    "version": 3
   },
   "file_extension": ".py",
   "mimetype": "text/x-python",
   "name": "python",
   "nbconvert_exporter": "python",
   "pygments_lexer": "ipython3",
   "version": "3.8.10"
  }
 },
 "nbformat": 4,
 "nbformat_minor": 1
}
