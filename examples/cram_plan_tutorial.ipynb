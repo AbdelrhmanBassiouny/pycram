{
 "cells": [
  {
   "cell_type": "markdown",
   "source": [
    "# TaskTree Tutorial\n",
    "\n",
    "In this tutorial we will walk through the capabilities of task trees in pycram.\n",
    "\n",
    "First we have to import the necessary functionality from pycram."
   ],
   "metadata": {
    "collapsed": false
   }
  },
  {
   "cell_type": "code",
   "execution_count": 1,
   "metadata": {
    "collapsed": true,
    "ExecuteTime": {
     "start_time": "2023-04-14T18:34:59.920597Z",
     "end_time": "2023-04-14T18:35:00.898668Z"
    }
   },
   "outputs": [
    {
     "name": "stderr",
     "output_type": "stream",
     "text": [
      "pybullet build time: Sep 20 2021 20:33:29\n",
      "Unknown attribute \"type\" in /robot[@name='pr2']/link[@name='base_laser_link']\n",
      "Unknown attribute \"type\" in /robot[@name='pr2']/link[@name='wide_stereo_optical_frame']\n",
      "Unknown attribute \"type\" in /robot[@name='pr2']/link[@name='narrow_stereo_optical_frame']\n",
      "Unknown attribute \"type\" in /robot[@name='pr2']/link[@name='laser_tilt_link']\n",
      "Unknown attribute \"type\" in /robot[@name='pr2']/link[@name='base_laser_link']\n",
      "Unknown attribute \"type\" in /robot[@name='pr2']/link[@name='wide_stereo_optical_frame']\n",
      "Unknown attribute \"type\" in /robot[@name='pr2']/link[@name='narrow_stereo_optical_frame']\n",
      "Unknown attribute \"type\" in /robot[@name='pr2']/link[@name='laser_tilt_link']\n"
     ]
    }
   ],
   "source": [
    "from pycram.bullet_world import BulletWorld\n",
    "from pycram.robot_descriptions.robot_description_handler import InitializedRobotDescription as robot_description\n",
    "import pycram.task\n",
    "from pycram.resolver.plans import Arms\n",
    "from pycram.designators.action_designator import *\n",
    "from pycram.designators.location_designator import *\n",
    "from pycram.process_module import simulated_robot\n",
    "from pycram.designators.object_designator import *\n",
    "import anytree\n",
    "import pycram.plan_failures"
   ]
  },
  {
   "cell_type": "markdown",
   "source": [
    "Next we will create a bullet world with a PR2 in a kitchen containing milk and cereal."
   ],
   "metadata": {
    "collapsed": false
   }
  },
  {
   "cell_type": "code",
   "execution_count": null,
   "outputs": [],
   "source": [],
   "metadata": {
    "collapsed": false
   }
  },
  {
   "cell_type": "code",
   "execution_count": 2,
   "outputs": [],
   "source": [
    "world = BulletWorld()\n",
    "robot = Object(robot_description.i.name, \"robot\", robot_description.i.name + \".urdf\")\n",
    "apartment = Object(\"apartment\", \"environment\", \"/home/abassi/cram_ws/src/iai_maps/iai_apartment/urdf/apartment.urdf\", position=[-1.5, -2.5, 0])\n",
    "table_top = apartment.get_link_position(\"cooktop\")\n",
    "# milk = Object(\"milk\", \"milk\", \"milk.stl\", position=[table_top[0]-0.15, table_top[1], table_top[2]])\n",
    "# milk.set_position(position=milk.get_position(), base=True)\n",
    "# cereal = Object(\"cereal\", \"cereal\", \"breakfast_cereal.stl\", position=table_top)\n",
    "# cereal.set_position(position=[table_top[0]-0.1, table_top[1] + 0.5, table_top[2]], base=True)\n",
    "# milk_desig = ObjectDesignator(ObjectDesignatorDescription(name=\"milk\", type=\"milk\"))\n",
    "# cereal_desig = ObjectDesignator(ObjectDesignatorDescription(name=\"cereal\", type=\"cereal\"))"
   ],
   "metadata": {
    "collapsed": false,
    "ExecuteTime": {
     "start_time": "2023-04-14T18:35:02.310328Z",
     "end_time": "2023-04-14T18:35:14.236507Z"
    }
   }
  },
  {
   "cell_type": "code",
   "execution_count": 3,
   "outputs": [],
   "source": [
    "import numpy as np\n",
    "\n",
    "def get_n_random_positions(pose_list, n=4, dist=0.5):\n",
    "    positions = [pos[0] for pos in pose_list]\n",
    "    all_indices = list(range(len(positions)))\n",
    "    # pos_idx = np.random.choice(all_indices)\n",
    "    pos_idx = all_indices[0]\n",
    "    all_indices.remove(pos_idx)\n",
    "    n_positions = np.zeros((n,3))\n",
    "    for i in range(n):\n",
    "        n_positions[i,:] = positions[pos_idx]\n",
    "    found_count = 1\n",
    "    found_indices = [pos_idx]\n",
    "    for i in range(len(positions)-1):\n",
    "        # pos_idx = np.random.choice(all_indices)\n",
    "        pos_idx = all_indices[i]\n",
    "        diff = np.absolute(np.linalg.norm(n_positions - positions[pos_idx], axis=1))\n",
    "        # print(diff)\n",
    "        min_diff = np.min(diff)\n",
    "        # print(min_diff)\n",
    "        if min_diff >= dist:\n",
    "            # print(\"found\")\n",
    "            n_positions[found_count,:] = positions[pos_idx]\n",
    "            found_indices.append(pos_idx)\n",
    "            found_count += 1\n",
    "        all_indices.remove(pos_idx)\n",
    "        if found_count == n:\n",
    "            break\n",
    "    found_poses = [pose_list[i] for i in found_indices]\n",
    "    # found_positions = [positions[i] for i in found_indices]\n",
    "    # for i in range(len(found_positions)):\n",
    "    #     print(found_poses[i][0])\n",
    "    #     print(found_positions[i])\n",
    "    #     assert np.allclose(found_positions[i],found_poses[i][0])\n",
    "    # for i in range(len(found_poses)):\n",
    "    #     for j in range(i+1,len(found_poses)):\n",
    "    #         pos1 = np.array(found_poses[i][0])\n",
    "    #         pos2 = np.array(found_poses[j][0])\n",
    "    #         diff = np.absolute(np.linalg.norm(pos1 - pos2))\n",
    "    #         print(diff)\n",
    "    #         assert diff >= dist\n",
    "    return found_poses\n",
    "\n",
    "\n"
   ],
   "metadata": {
    "collapsed": false,
    "ExecuteTime": {
     "start_time": "2023-04-14T18:36:07.315673Z",
     "end_time": "2023-04-14T18:36:07.357038Z"
    }
   }
  },
  {
   "cell_type": "code",
   "execution_count": 5,
   "outputs": [
    {
     "name": "stdout",
     "output_type": "stream",
     "text": [
      "bowl\n",
      "([1.389640212059021, 1.7239844799041748, 0.921999990940094], [-0.0, 0.0, 0.7385697797052483, -0.6741770394385594])\n",
      "milk\n",
      "([1.3888438940048218, 1.2239850759506226, 0.921999990940094], [-0.0, 0.0, 0.7525015983779697, -0.6585904223708395])\n",
      "breakfast_cereal\n",
      "([1.4052444696426392, -1.0360441207885742, 0.921999990940094], [0.0, 0.0, 0.7518593655690526, 0.6593235127053347])\n",
      "spoon\n",
      "([1.3880475759506226, 0.7239856719970703, 0.921999990940094], [-0.0, 0.0, 0.7886953551919237, -0.6147842196239957])\n",
      "[([1.389640212059021, 1.7239844799041748, 0.921999990940094], [-0.0, 0.0, 0.7385697797052483, -0.6741770394385594]), ([1.3888438940048218, 1.2239850759506226, 0.921999990940094], [-0.0, 0.0, 0.7525015983779697, -0.6585904223708395]), ([1.4052444696426392, -1.0360441207885742, 0.921999990940094], [0.0, 0.0, 0.7518593655690526, 0.6593235127053347]), ([1.3880475759506226, 0.7239856719970703, 0.921999990940094], [-0.0, 0.0, 0.7886953551919237, -0.6147842196239957])]\n"
     ]
    }
   ],
   "source": [
    "from pycram.costmaps import SemanticCostmap\n",
    "from pycram.pose_generator_and_validator import pose_generator\n",
    "scm = SemanticCostmap(apartment,\"island_countertop\")\n",
    "poses_list = list(pose_generator(scm))\n",
    "poses_list.sort(reverse=True, key=lambda x: np.linalg.norm(x[0]))\n",
    "object_poses = get_n_random_positions(poses_list)\n",
    "object_names = [\"bowl\", \"milk\", \"breakfast_cereal\", \"spoon\"]\n",
    "objects = {}\n",
    "object_desig = {}\n",
    "for obj_name, obj_pose in zip(object_names, object_poses):\n",
    "    print(obj_name)\n",
    "    print(obj_pose)\n",
    "    objects[obj_name] = Object(obj_name, obj_name, obj_name+\".stl\", position=[obj_pose[0][0], obj_pose[0][1], table_top[2]])\n",
    "    objects[obj_name].move_base_to_origin_pos()\n",
    "    objects[obj_name].original_pose = objects[obj_name].get_position_and_orientation()\n",
    "    object_desig[obj_name] = ObjectDesignator(ObjectDesignatorDescription(name=obj_name, type=obj_name))\n",
    "print(object_poses)"
   ],
   "metadata": {
    "collapsed": false,
    "ExecuteTime": {
     "start_time": "2023-04-14T18:36:29.839007Z",
     "end_time": "2023-04-14T18:36:30.157824Z"
    }
   }
  },
  {
   "cell_type": "markdown",
   "source": [
    "If You want to visualize all apartment frames"
   ],
   "metadata": {
    "collapsed": false
   }
  },
  {
   "cell_type": "code",
   "execution_count": 6,
   "outputs": [],
   "source": [
    "import pybullet as p\n",
    "for link_name in apartment.links.keys():\n",
    "    world.add_vis_axis(apartment.get_link_position_and_orientation(link_name))\n",
    "    p.addUserDebugText(link_name, apartment.get_link_position(link_name))"
   ],
   "metadata": {
    "collapsed": false,
    "ExecuteTime": {
     "start_time": "2023-04-14T18:09:00.623241Z",
     "end_time": "2023-04-14T18:09:20.316256Z"
    }
   }
  },
  {
   "cell_type": "code",
   "execution_count": 7,
   "outputs": [],
   "source": [
    "world.remove_vis_axis()\n",
    "p.removeAllUserDebugItems()"
   ],
   "metadata": {
    "collapsed": false,
    "ExecuteTime": {
     "start_time": "2023-04-14T18:10:23.815102Z",
     "end_time": "2023-04-14T18:10:34.708807Z"
    }
   }
  },
  {
   "cell_type": "markdown",
   "source": [
    "Finally, we create a plan where the robot parks his arms, walks to the kitchen counter and picks the thingy. Then we execute the plan."
   ],
   "metadata": {
    "collapsed": false
   }
  },
  {
   "cell_type": "markdown",
   "source": [],
   "metadata": {
    "collapsed": false
   }
  },
  {
   "cell_type": "code",
   "execution_count": 6,
   "outputs": [
    {
     "name": "stdout",
     "output_type": "stream",
     "text": [
      "Parking arms Arms.BOTH.\n",
      "Moving to [1.5893018245697021, 2.246276617050171, 0.0]. Orientation: [-0.0, 0.0, 0.8243115669267845, -0.5661364152134265].\n",
      "(1.5893018245697021, 2.246276617050171, 0.0)\n",
      "Parking arms Arms.BOTH.\n",
      "Picking up ObjectDesignator({'resolver': 'grounding', 'type': 'bowl', 'name': 'bowl', 'object': None, 'pose': None}) with right.\n",
      "Parking arms Arms.BOTH.\n",
      "Moving to [2.1486527919769287, 1.163985252380371, 0.0]. Orientation: [-0.0, 0.0, 0.9992242377126355, -0.039381756786647744].\n",
      "(2.1486527919769287, 1.163985252380371, 0.0)\n",
      "Placing ObjectDesignator({'resolver': 'grounding', 'type': 'bowl', 'name': 'bowl', 'object': <pycram.bullet_world.Object object at 0x7f1e2755afd0>, 'pose': ((1.3893018253147602, 1.726276684552431, 0.979470837533474), (0.0, 0.0, 0.0, 1.0))}) with right at [[1.3886528015136719, 1.10398530960083, 0.9614115809914588], [-0.0, 0.0, 0.7579203761145179, -0.6523470728610865]].\n",
      "Parking arms Arms.BOTH.\n",
      "Parking arms Arms.BOTH.\n",
      "no solution\n",
      "Parking arms Arms.BOTH.\n",
      "no solution\n",
      "Parking arms Arms.BOTH.\n",
      "no solution\n",
      "Parking arms Arms.BOTH.\n",
      "no solution\n",
      "Parking arms Arms.BOTH.\n",
      "no solution\n",
      "Parking arms Arms.BOTH.\n",
      "no solution\n",
      "Parking arms Arms.BOTH.\n",
      "no solution\n",
      "Parking arms Arms.BOTH.\n",
      "no solution\n",
      "Parking arms Arms.BOTH.\n",
      "no solution\n",
      "Parking arms Arms.BOTH.\n",
      "no solution\n",
      "Parking arms Arms.BOTH.\n",
      "no solution\n",
      "Parking arms Arms.BOTH.\n",
      "no solution\n",
      "Parking arms Arms.BOTH.\n",
      "Moving to [1.2864885330200195, -1.7950267791748047, 0.0]. Orientation: [0.0, 0.0, 0.649629673222473, 0.7602508057666647].\n",
      "(1.2864885330200195, -1.7950267791748047, 0.0)\n",
      "Parking arms Arms.BOTH.\n",
      "Picking up ObjectDesignator({'resolver': 'grounding', 'type': 'breakfast_cereal', 'name': 'breakfast_cereal', 'object': None, 'pose': None}) with left.\n",
      "Parking arms Arms.BOTH.\n",
      "no solution\n",
      "Parking arms Arms.BOTH.\n",
      "Moving to [1.2664885520935059, -1.7950267791748047, 0.0]. Orientation: [0.0, 0.0, 0.6398584185926659, 0.7684928133405625].\n",
      "(1.2664885520935059, -1.7950267791748047, 0.0)\n",
      "Parking arms Arms.BOTH.\n",
      "Picking up ObjectDesignator({'resolver': 'grounding', 'type': 'breakfast_cereal', 'name': 'breakfast_cereal', 'object': <pycram.bullet_world.Object object at 0x7f1d89aac4f0>, 'pose': ((1.4064885303378105, -1.0350268054753542, 1.0488566955162757), (0.0, 0.0, 0.0, 1.0))}) with left.\n",
      "Parking arms Arms.BOTH.\n",
      "no solution\n",
      "Parking arms Arms.BOTH.\n",
      "no solution\n",
      "[0, 0.25, 0.3]\n"
     ]
    }
   ],
   "source": [
    "\n",
    "@pycram.task.with_tree\n",
    "def plan(obj, obj_desig, torso=0.2, place=\"countertop\"):\n",
    "    world.reset_bullet_world()\n",
    "    with simulated_robot:\n",
    "        ActionDesignator(ParkArmsAction(Arms.BOTH)).perform()\n",
    "\n",
    "        ActionDesignator(MoveTorsoAction(torso)).perform()\n",
    "\n",
    "        location = LocationDesignator(CostmapLocation(target=obj, reachable_for=robot))\n",
    "        pose = location.reference()\n",
    "\n",
    "        ActionDesignator(\n",
    "            NavigateAction(target_position=pose[\"position\"], target_orientation=pose[\"orientation\"])).perform()\n",
    "        ActionDesignator(ParkArmsAction(Arms.BOTH)).perform()\n",
    "        good_torsos.append(torso)\n",
    "        picked_up_arm = pose[\"arms\"][0]\n",
    "        ActionDesignator(PickUpAction(object_designator=obj_desig, arm=pose[\"arms\"][0], grasp=\"front\")).perform()\n",
    "\n",
    "        ActionDesignator(ParkArmsAction(Arms.BOTH)).perform()\n",
    "        scm = SemanticCostmapLocation(place, apartment, obj_desig.prop_value(\"object\"))\n",
    "        place_island = LocationDesignator(scm)\n",
    "        pose_island = place_island.reference()\n",
    "\n",
    "        place_location = LocationDesignator(CostmapLocation(target=list(pose_island.values()), reachable_for=robot, reachable_arm=picked_up_arm))\n",
    "        pose = place_location.reference()\n",
    "\n",
    "        ActionDesignator(NavigateAction(target_position=pose[\"position\"], target_orientation=pose[\"orientation\"])).perform()\n",
    "\n",
    "        ActionDesignator(PlaceAction(object_designator=obj_desig, target_location=list(pose_island.values()), arm=picked_up_arm)).perform()\n",
    "\n",
    "        ActionDesignator(ParkArmsAction(Arms.BOTH)).perform()\n",
    "\n",
    "good_torsos = []\n",
    "for obj_name in object_names:\n",
    "    done = False\n",
    "    torso = 0.25 if len(good_torsos) == 0 else good_torsos[-1]\n",
    "    while not done:\n",
    "        try:\n",
    "            plan(objects[obj_name], object_desig[obj_name], torso=torso, place=\"island_countertop\")\n",
    "            done = True\n",
    "            objects[obj_name].original_pose = objects[obj_name].get_position_and_orientation()\n",
    "        except:\n",
    "            print(\"no solution\")\n",
    "            torso += 0.05\n",
    "            if torso > 0.3:\n",
    "                break\n",
    "print(good_torsos)"
   ],
   "metadata": {
    "collapsed": false,
    "ExecuteTime": {
     "start_time": "2023-04-14T18:36:59.647627Z",
     "end_time": "2023-04-14T18:37:50.233387Z"
    }
   }
  },
  {
   "cell_type": "markdown",
   "source": [],
   "metadata": {
    "collapsed": false
   }
  },
  {
   "cell_type": "markdown",
   "source": [
    "Now we get the task tree from its module and render it. Rendering can be done with any render method described in the anytree package. We will use ascii rendering here for ease of displaying."
   ],
   "metadata": {
    "collapsed": false
   }
  },
  {
   "cell_type": "code",
   "execution_count": 4,
   "outputs": [
    {
     "name": "stdout",
     "output_type": "stream",
     "text": [
      "no_operation()\n",
      "+-- plan()\n",
      "    |-- <pycram.designators.action_designator.ParkArmsAction object at 0x7f5ea8453a30>.park_arms(arms = Arms.BOTH)\n",
      "    |-- <pycram.designators.action_designator.NavigateAction object at 0x7f5ea8453f70>.navigate(target = [0.7199999690055847, 1.0399999618530273, 0.0], orientation = [-0.0, 0.0, 0.03442140918758331, -0.9994074077119606])\n",
      "    |-- <pycram.designators.action_designator.ParkArmsAction object at 0x7f5ea8453d30>.park_arms(arms = Arms.BOTH)\n",
      "    |-- <pycram.designators.action_designator.PickUpAction object at 0x7f5e302ca280>.pick_up(arm = left, object_desig = ObjectDesignator({'resolver': 'grounding', 'type': 'milk', 'name': 'milk', 'object': <pycram.bullet_world.Object object at 0x7f5ea8413eb0>, 'pose': ((1.3, 1.0, 0.9), (0.0, 0.0, 0.0, 1.0))}), grasp = front)\n",
      "    |-- <pycram.designators.action_designator.ParkArmsAction object at 0x7f5e302ca730>.park_arms(arms = Arms.BOTH)\n",
      "    |-- <pycram.designators.action_designator.NavigateAction object at 0x7f5e302ca700>.navigate(target = [-1.9075000286102295, 0.7792000770568848, 0.0], orientation = [0.0, 0.0, 0.16439898301071468, 0.9863939245479175])\n",
      "    |-- <pycram.designators.action_designator.PlaceAction object at 0x7f5e302ca0d0>.place(arm = left, object_desig = ObjectDesignator({'resolver': 'grounding', 'type': 'milk', 'name': 'milk', 'object': <pycram.bullet_world.Object object at 0x7f5ea8413eb0>, 'pose': ((1.3, 1.0, 0.9), (0.0, 0.0, 0.0, 1.0))}), target = [[-1.2074999809265137, 1.019200086593628, 0.9439613818399623], [0.0, 0.0, 0.6339889056055381, 0.7733421413379024]])\n",
      "    +-- <pycram.designators.action_designator.ParkArmsAction object at 0x7f5e302d7430>.park_arms(arms = Arms.BOTH)\n"
     ]
    }
   ],
   "source": [
    "tt = pycram.task.task_tree\n",
    "print(anytree.RenderTree(tt, style=anytree.render.AsciiStyle()))"
   ],
   "metadata": {
    "collapsed": false,
    "ExecuteTime": {
     "start_time": "2023-04-13T10:49:56.916067Z",
     "end_time": "2023-04-13T10:49:56.924918Z"
    }
   }
  },
  {
   "cell_type": "markdown",
   "source": [
    "As we see every task in the plan got recorded correctly. It is noticeable that the tree begins with a NoOperation node. This is done because several, not connected, plans that get executed after each other should still appear in the task tree. Hence, a NoOperation node is the root of any tree. If we re-execute the plan we would see them appear in the same tree even though they are not connected."
   ],
   "metadata": {
    "collapsed": false
   }
  },
  {
   "cell_type": "code",
   "execution_count": 5,
   "outputs": [
    {
     "name": "stdout",
     "output_type": "stream",
     "text": [
      "Parking arms Arms.BOTH.\n",
      "Moving to [0.7199999690055847, 1.0399999618530273, 0.0]. Orientation: [-0.0, 0.0, 0.03442140918758331, -0.9994074077119606].\n",
      "(0.7199999690055847, 1.0399999618530273, 0.0)\n",
      "Parking arms Arms.BOTH.\n",
      "Picking up ObjectDesignator({'resolver': 'grounding', 'type': 'milk', 'name': 'milk', 'object': <pycram.bullet_world.Object object at 0x7f5ea8413eb0>, 'pose': ((1.3, 1.0, 0.9), (0.0, 0.0, 0.0, 1.0))}) with left.\n",
      "Not attached to anything!\n",
      "Parking arms Arms.BOTH.\n",
      "Moving to [-1.9075000286102295, 0.7792000770568848, 0.0]. Orientation: [0.0, 0.0, 0.16439898301071468, 0.9863939245479175].\n",
      "(-1.9075000286102295, 0.7792000770568848, 0.0)\n",
      "Placing ObjectDesignator({'resolver': 'grounding', 'type': 'milk', 'name': 'milk', 'object': <pycram.bullet_world.Object object at 0x7f5ea8413eb0>, 'pose': ((1.3, 1.0, 0.9), (0.0, 0.0, 0.0, 1.0))}) with left at [[-1.2074999809265137, 1.019200086593628, 0.9439613818399623], [0.0, 0.0, 0.6339889056055381, 0.7733421413379024]].\n",
      "Parking arms Arms.BOTH.\n",
      "no_operation()\n",
      "|-- plan()\n",
      "|   |-- <pycram.designators.action_designator.ParkArmsAction object at 0x7f5ea8453a30>.park_arms(arms = Arms.BOTH)\n",
      "|   |-- <pycram.designators.action_designator.NavigateAction object at 0x7f5ea8453f70>.navigate(target = [0.7199999690055847, 1.0399999618530273, 0.0], orientation = [-0.0, 0.0, 0.03442140918758331, -0.9994074077119606])\n",
      "|   |-- <pycram.designators.action_designator.ParkArmsAction object at 0x7f5ea8453d30>.park_arms(arms = Arms.BOTH)\n",
      "|   |-- <pycram.designators.action_designator.PickUpAction object at 0x7f5e302ca280>.pick_up(arm = left, object_desig = ObjectDesignator({'resolver': 'grounding', 'type': 'milk', 'name': 'milk', 'object': <pycram.bullet_world.Object object at 0x7f5ea8413eb0>, 'pose': ((1.3, 1.0, 0.9), (0.0, 0.0, 0.0, 1.0))}), grasp = front)\n",
      "|   |-- <pycram.designators.action_designator.ParkArmsAction object at 0x7f5e302ca730>.park_arms(arms = Arms.BOTH)\n",
      "|   |-- <pycram.designators.action_designator.NavigateAction object at 0x7f5e302ca700>.navigate(target = [-1.9075000286102295, 0.7792000770568848, 0.0], orientation = [0.0, 0.0, 0.16439898301071468, 0.9863939245479175])\n",
      "|   |-- <pycram.designators.action_designator.PlaceAction object at 0x7f5e302ca0d0>.place(arm = left, object_desig = ObjectDesignator({'resolver': 'grounding', 'type': 'milk', 'name': 'milk', 'object': <pycram.bullet_world.Object object at 0x7f5ea8413eb0>, 'pose': ((1.3, 1.0, 0.9), (0.0, 0.0, 0.0, 1.0))}), target = [[-1.2074999809265137, 1.019200086593628, 0.9439613818399623], [0.0, 0.0, 0.6339889056055381, 0.7733421413379024]])\n",
      "|   +-- <pycram.designators.action_designator.ParkArmsAction object at 0x7f5e302d7430>.park_arms(arms = Arms.BOTH)\n",
      "+-- plan()\n",
      "    |-- <pycram.designators.action_designator.ParkArmsAction object at 0x7f5e9f6d38b0>.park_arms(arms = Arms.BOTH)\n",
      "    |-- <pycram.designators.action_designator.NavigateAction object at 0x7f5e302cab20>.navigate(target = [0.7199999690055847, 1.0399999618530273, 0.0], orientation = [-0.0, 0.0, 0.03442140918758331, -0.9994074077119606])\n",
      "    |-- <pycram.designators.action_designator.ParkArmsAction object at 0x7f5e302ca1c0>.park_arms(arms = Arms.BOTH)\n",
      "    |-- <pycram.designators.action_designator.PickUpAction object at 0x7f5e9f6d3670>.pick_up(arm = left, object_desig = ObjectDesignator({'resolver': 'grounding', 'type': 'milk', 'name': 'milk', 'object': <pycram.bullet_world.Object object at 0x7f5ea8413eb0>, 'pose': ((1.3, 1.0, 0.9), (0.0, 0.0, 0.0, 1.0))}), grasp = front)\n",
      "    |-- <pycram.designators.action_designator.ParkArmsAction object at 0x7f5e9f6d3610>.park_arms(arms = Arms.BOTH)\n",
      "    |-- <pycram.designators.action_designator.NavigateAction object at 0x7f5ec83c6280>.navigate(target = [-1.9075000286102295, 0.7792000770568848, 0.0], orientation = [0.0, 0.0, 0.16439898301071468, 0.9863939245479175])\n",
      "    |-- <pycram.designators.action_designator.PlaceAction object at 0x7f5ec83c69a0>.place(arm = left, object_desig = ObjectDesignator({'resolver': 'grounding', 'type': 'milk', 'name': 'milk', 'object': <pycram.bullet_world.Object object at 0x7f5ea8413eb0>, 'pose': ((1.3, 1.0, 0.9), (0.0, 0.0, 0.0, 1.0))}), target = [[-1.2074999809265137, 1.019200086593628, 0.9439613818399623], [0.0, 0.0, 0.6339889056055381, 0.7733421413379024]])\n",
      "    +-- <pycram.designators.action_designator.ParkArmsAction object at 0x7f5e9f6d3490>.park_arms(arms = Arms.BOTH)\n"
     ]
    }
   ],
   "source": [
    "world.reset_bullet_world()\n",
    "plan()\n",
    "print(anytree.RenderTree(tt, style=anytree.render.AsciiStyle()))"
   ],
   "metadata": {
    "collapsed": false,
    "ExecuteTime": {
     "start_time": "2023-04-13T10:50:00.022503Z",
     "end_time": "2023-04-13T10:50:04.750336Z"
    }
   }
  },
  {
   "cell_type": "markdown",
   "source": [
    "Projecting a plan in a new environment with its own task tree that only exists while the projected plan is running can be done with the ``with`` keyword. When this is done, both the bullet world and task tree are saved and new, freshly reset objects are available. At the end of a with block the old state is restored. The root for such things is then called ``simulation()``."
   ],
   "metadata": {
    "collapsed": false
   }
  },
  {
   "cell_type": "code",
   "execution_count": 6,
   "outputs": [
    {
     "name": "stdout",
     "output_type": "stream",
     "text": [
      "simulation()\n",
      "no_operation()\n",
      "|-- plan()\n",
      "|   |-- <pycram.designators.action_designator.ParkArmsAction object at 0x7f5ea8453a30>.park_arms(arms = Arms.BOTH)\n",
      "|   |-- <pycram.designators.action_designator.NavigateAction object at 0x7f5ea8453f70>.navigate(target = [0.7199999690055847, 1.0399999618530273, 0.0], orientation = [-0.0, 0.0, 0.03442140918758331, -0.9994074077119606])\n",
      "|   |-- <pycram.designators.action_designator.ParkArmsAction object at 0x7f5ea8453d30>.park_arms(arms = Arms.BOTH)\n",
      "|   |-- <pycram.designators.action_designator.PickUpAction object at 0x7f5e302ca280>.pick_up(arm = left, object_desig = ObjectDesignator({'resolver': 'grounding', 'type': 'milk', 'name': 'milk', 'object': <pycram.bullet_world.Object object at 0x7f5ea8413eb0>, 'pose': ((1.3, 1.0, 0.9), (0.0, 0.0, 0.0, 1.0))}), grasp = front)\n",
      "|   |-- <pycram.designators.action_designator.ParkArmsAction object at 0x7f5e302ca730>.park_arms(arms = Arms.BOTH)\n",
      "|   |-- <pycram.designators.action_designator.NavigateAction object at 0x7f5e302ca700>.navigate(target = [-1.9075000286102295, 0.7792000770568848, 0.0], orientation = [0.0, 0.0, 0.16439898301071468, 0.9863939245479175])\n",
      "|   |-- <pycram.designators.action_designator.PlaceAction object at 0x7f5e302ca0d0>.place(arm = left, object_desig = ObjectDesignator({'resolver': 'grounding', 'type': 'milk', 'name': 'milk', 'object': <pycram.bullet_world.Object object at 0x7f5ea8413eb0>, 'pose': ((1.3, 1.0, 0.9), (0.0, 0.0, 0.0, 1.0))}), target = [[-1.2074999809265137, 1.019200086593628, 0.9439613818399623], [0.0, 0.0, 0.6339889056055381, 0.7733421413379024]])\n",
      "|   +-- <pycram.designators.action_designator.ParkArmsAction object at 0x7f5e302d7430>.park_arms(arms = Arms.BOTH)\n",
      "+-- plan()\n",
      "    |-- <pycram.designators.action_designator.ParkArmsAction object at 0x7f5e9f6d38b0>.park_arms(arms = Arms.BOTH)\n",
      "    |-- <pycram.designators.action_designator.NavigateAction object at 0x7f5e302cab20>.navigate(target = [0.7199999690055847, 1.0399999618530273, 0.0], orientation = [-0.0, 0.0, 0.03442140918758331, -0.9994074077119606])\n",
      "    |-- <pycram.designators.action_designator.ParkArmsAction object at 0x7f5e302ca1c0>.park_arms(arms = Arms.BOTH)\n",
      "    |-- <pycram.designators.action_designator.PickUpAction object at 0x7f5e9f6d3670>.pick_up(arm = left, object_desig = ObjectDesignator({'resolver': 'grounding', 'type': 'milk', 'name': 'milk', 'object': <pycram.bullet_world.Object object at 0x7f5ea8413eb0>, 'pose': ((1.3, 1.0, 0.9), (0.0, 0.0, 0.0, 1.0))}), grasp = front)\n",
      "    |-- <pycram.designators.action_designator.ParkArmsAction object at 0x7f5e9f6d3610>.park_arms(arms = Arms.BOTH)\n",
      "    |-- <pycram.designators.action_designator.NavigateAction object at 0x7f5ec83c6280>.navigate(target = [-1.9075000286102295, 0.7792000770568848, 0.0], orientation = [0.0, 0.0, 0.16439898301071468, 0.9863939245479175])\n",
      "    |-- <pycram.designators.action_designator.PlaceAction object at 0x7f5ec83c69a0>.place(arm = left, object_desig = ObjectDesignator({'resolver': 'grounding', 'type': 'milk', 'name': 'milk', 'object': <pycram.bullet_world.Object object at 0x7f5ea8413eb0>, 'pose': ((1.3, 1.0, 0.9), (0.0, 0.0, 0.0, 1.0))}), target = [[-1.2074999809265137, 1.019200086593628, 0.9439613818399623], [0.0, 0.0, 0.6339889056055381, 0.7733421413379024]])\n",
      "    +-- <pycram.designators.action_designator.ParkArmsAction object at 0x7f5e9f6d3490>.park_arms(arms = Arms.BOTH)\n"
     ]
    }
   ],
   "source": [
    "with pycram.task.SimulatedTaskTree() as stt:\n",
    "    print(anytree.RenderTree(pycram.task.task_tree, style=anytree.render.AsciiStyle()))\n",
    "print(anytree.RenderTree(pycram.task.task_tree, style=anytree.render.AsciiStyle()))"
   ],
   "metadata": {
    "collapsed": false,
    "ExecuteTime": {
     "start_time": "2023-04-13T10:50:08.940548Z",
     "end_time": "2023-04-13T10:50:08.965958Z"
    }
   }
  },
  {
   "cell_type": "markdown",
   "source": [
    "Task tree can be manipulated with ordinary anytree manipulation. If we for example want to discard the second plan, we would write"
   ],
   "metadata": {
    "collapsed": false
   }
  },
  {
   "cell_type": "code",
   "execution_count": 7,
   "outputs": [
    {
     "name": "stdout",
     "output_type": "stream",
     "text": [
      "no_operation()\n",
      "+-- plan()\n",
      "    |-- <pycram.designators.action_designator.ParkArmsAction object at 0x7f5ea8453a30>.park_arms(arms = Arms.BOTH)\n",
      "    |-- <pycram.designators.action_designator.NavigateAction object at 0x7f5ea8453f70>.navigate(target = [0.7199999690055847, 1.0399999618530273, 0.0], orientation = [-0.0, 0.0, 0.03442140918758331, -0.9994074077119606])\n",
      "    |-- <pycram.designators.action_designator.ParkArmsAction object at 0x7f5ea8453d30>.park_arms(arms = Arms.BOTH)\n",
      "    |-- <pycram.designators.action_designator.PickUpAction object at 0x7f5e302ca280>.pick_up(arm = left, object_desig = ObjectDesignator({'resolver': 'grounding', 'type': 'milk', 'name': 'milk', 'object': <pycram.bullet_world.Object object at 0x7f5ea8413eb0>, 'pose': ((1.3, 1.0, 0.9), (0.0, 0.0, 0.0, 1.0))}), grasp = front)\n",
      "    |-- <pycram.designators.action_designator.ParkArmsAction object at 0x7f5e302ca730>.park_arms(arms = Arms.BOTH)\n",
      "    |-- <pycram.designators.action_designator.NavigateAction object at 0x7f5e302ca700>.navigate(target = [-1.9075000286102295, 0.7792000770568848, 0.0], orientation = [0.0, 0.0, 0.16439898301071468, 0.9863939245479175])\n",
      "    |-- <pycram.designators.action_designator.PlaceAction object at 0x7f5e302ca0d0>.place(arm = left, object_desig = ObjectDesignator({'resolver': 'grounding', 'type': 'milk', 'name': 'milk', 'object': <pycram.bullet_world.Object object at 0x7f5ea8413eb0>, 'pose': ((1.3, 1.0, 0.9), (0.0, 0.0, 0.0, 1.0))}), target = [[-1.2074999809265137, 1.019200086593628, 0.9439613818399623], [0.0, 0.0, 0.6339889056055381, 0.7733421413379024]])\n",
      "    +-- <pycram.designators.action_designator.ParkArmsAction object at 0x7f5e302d7430>.park_arms(arms = Arms.BOTH)\n"
     ]
    }
   ],
   "source": [
    "tt.root.children = (tt.root.children[0],)\n",
    "print(anytree.RenderTree(tt, style=anytree.render.AsciiStyle()))"
   ],
   "metadata": {
    "collapsed": false,
    "ExecuteTime": {
     "start_time": "2023-04-13T10:50:11.717057Z",
     "end_time": "2023-04-13T10:50:11.726747Z"
    }
   }
  },
  {
   "cell_type": "markdown",
   "source": [
    "We can now re-execute this (modified) plan by executing the leaf in pre-ordering iteration using the anytree functionality. This will not append the re-execution to the task tree."
   ],
   "metadata": {
    "collapsed": false
   }
  },
  {
   "cell_type": "code",
   "execution_count": 8,
   "outputs": [
    {
     "name": "stdout",
     "output_type": "stream",
     "text": [
      "Parking arms Arms.BOTH.\n",
      "Moving to [0.7199999690055847, 1.0399999618530273, 0.0]. Orientation: [-0.0, 0.0, 0.03442140918758331, -0.9994074077119606].\n",
      "(0.7199999690055847, 1.0399999618530273, 0.0)\n",
      "Parking arms Arms.BOTH.\n",
      "Picking up ObjectDesignator({'resolver': 'grounding', 'type': 'milk', 'name': 'milk', 'object': <pycram.bullet_world.Object object at 0x7f5ea8413eb0>, 'pose': ((1.3, 1.0, 0.9), (0.0, 0.0, 0.0, 1.0))}) with left.\n",
      "Not attached to anything!\n",
      "Parking arms Arms.BOTH.\n",
      "Moving to [-1.9075000286102295, 0.7792000770568848, 0.0]. Orientation: [0.0, 0.0, 0.16439898301071468, 0.9863939245479175].\n",
      "(-1.9075000286102295, 0.7792000770568848, 0.0)\n",
      "Placing ObjectDesignator({'resolver': 'grounding', 'type': 'milk', 'name': 'milk', 'object': <pycram.bullet_world.Object object at 0x7f5ea8413eb0>, 'pose': ((1.3, 1.0, 0.9), (0.0, 0.0, 0.0, 1.0))}) with left at [[-1.2074999809265137, 1.019200086593628, 0.9439613818399623], [0.0, 0.0, 0.6339889056055381, 0.7733421413379024]].\n",
      "Parking arms Arms.BOTH.\n",
      "no_operation()\n",
      "+-- plan()\n",
      "    |-- <pycram.designators.action_designator.ParkArmsAction object at 0x7f5ea8453a30>.park_arms(arms = Arms.BOTH)\n",
      "    |-- <pycram.designators.action_designator.NavigateAction object at 0x7f5ea8453f70>.navigate(target = [0.7199999690055847, 1.0399999618530273, 0.0], orientation = [-0.0, 0.0, 0.03442140918758331, -0.9994074077119606])\n",
      "    |-- <pycram.designators.action_designator.ParkArmsAction object at 0x7f5ea8453d30>.park_arms(arms = Arms.BOTH)\n",
      "    |-- <pycram.designators.action_designator.PickUpAction object at 0x7f5e302ca280>.pick_up(arm = left, object_desig = ObjectDesignator({'resolver': 'grounding', 'type': 'milk', 'name': 'milk', 'object': <pycram.bullet_world.Object object at 0x7f5ea8413eb0>, 'pose': ((1.3, 1.0, 0.9), (0.0, 0.0, 0.0, 1.0))}), grasp = front)\n",
      "    |-- <pycram.designators.action_designator.ParkArmsAction object at 0x7f5e302ca730>.park_arms(arms = Arms.BOTH)\n",
      "    |-- <pycram.designators.action_designator.NavigateAction object at 0x7f5e302ca700>.navigate(target = [-1.9075000286102295, 0.7792000770568848, 0.0], orientation = [0.0, 0.0, 0.16439898301071468, 0.9863939245479175])\n",
      "    |-- <pycram.designators.action_designator.PlaceAction object at 0x7f5e302ca0d0>.place(arm = left, object_desig = ObjectDesignator({'resolver': 'grounding', 'type': 'milk', 'name': 'milk', 'object': <pycram.bullet_world.Object object at 0x7f5ea8413eb0>, 'pose': ((1.3, 1.0, 0.9), (0.0, 0.0, 0.0, 1.0))}), target = [[-1.2074999809265137, 1.019200086593628, 0.9439613818399623], [0.0, 0.0, 0.6339889056055381, 0.7733421413379024]])\n",
      "    +-- <pycram.designators.action_designator.ParkArmsAction object at 0x7f5e302d7430>.park_arms(arms = Arms.BOTH)\n"
     ]
    }
   ],
   "source": [
    "world.reset_bullet_world()\n",
    "with simulated_robot:\n",
    "    [node.code.execute() for node in tt.root.leaves]\n",
    "print(anytree.RenderTree(pycram.task.task_tree, style=anytree.render.AsciiStyle()))"
   ],
   "metadata": {
    "collapsed": false,
    "ExecuteTime": {
     "start_time": "2023-04-13T10:50:14.041891Z",
     "end_time": "2023-04-13T10:50:18.110775Z"
    }
   }
  },
  {
   "cell_type": "markdown",
   "source": [
    "Nodes in the task tree contain additional information about the status and time of a task."
   ],
   "metadata": {
    "collapsed": false
   }
  },
  {
   "cell_type": "code",
   "execution_count": 9,
   "outputs": [
    {
     "name": "stdout",
     "output_type": "stream",
     "text": [
      "Code: plan() \n",
      " start_time: 2023-04-13 10:49:43.184007 \n",
      " Status: TaskStatus.SUCCEEDED \n",
      " end_time: 2023-04-13 10:49:47.980515 \n",
      " \n"
     ]
    }
   ],
   "source": [
    "print(pycram.task.task_tree.children[0])"
   ],
   "metadata": {
    "collapsed": false,
    "ExecuteTime": {
     "start_time": "2023-04-13T10:50:21.063201Z",
     "end_time": "2023-04-13T10:50:21.074256Z"
    }
   }
  },
  {
   "cell_type": "markdown",
   "source": [
    "The task tree can also be reset to an empty one by invoking"
   ],
   "metadata": {
    "collapsed": false
   }
  },
  {
   "cell_type": "code",
   "execution_count": 10,
   "outputs": [
    {
     "name": "stdout",
     "output_type": "stream",
     "text": [
      "no_operation()\n"
     ]
    }
   ],
   "source": [
    "pycram.task.reset_tree()\n",
    "print(anytree.RenderTree(pycram.task.task_tree, style=anytree.render.AsciiStyle()))"
   ],
   "metadata": {
    "collapsed": false,
    "ExecuteTime": {
     "start_time": "2023-04-13T10:50:23.988659Z",
     "end_time": "2023-04-13T10:50:23.996623Z"
    }
   }
  },
  {
   "cell_type": "markdown",
   "source": [
    "If a plan fails using the PlanFailure exception, the plan will not stop. Instead, the error will be logged and saved in the task tree as a failed subtask. First let's create a simple failing plan and execute it."
   ],
   "metadata": {
    "collapsed": false
   }
  },
  {
   "cell_type": "code",
   "execution_count": 11,
   "outputs": [],
   "source": [
    "@pycram.task.with_tree\n",
    "def failing_plan():\n",
    "    raise pycram.plan_failures.PlanFailure(\"Oopsie!\")\n",
    "\n",
    "failing_plan()"
   ],
   "metadata": {
    "collapsed": false,
    "ExecuteTime": {
     "start_time": "2023-04-13T10:50:27.496138Z",
     "end_time": "2023-04-13T10:50:27.502622Z"
    }
   }
  },
  {
   "cell_type": "markdown",
   "source": [],
   "metadata": {
    "collapsed": false
   }
  },
  {
   "cell_type": "markdown",
   "source": [
    "We can now investigate the nodes of the tree, and we will see that the tree indeed contains a failed task."
   ],
   "metadata": {
    "collapsed": false
   }
  },
  {
   "cell_type": "code",
   "execution_count": 12,
   "outputs": [
    {
     "name": "stdout",
     "output_type": "stream",
     "text": [
      "no_operation()\n",
      "+-- failing_plan()\n",
      "Code: failing_plan() \n",
      " start_time: 2023-04-13 10:50:27.493840 \n",
      " Status: TaskStatus.FAILED \n",
      " end_time: 2023-04-13 10:50:27.494815 \n",
      " \n"
     ]
    }
   ],
   "source": [
    "print(anytree.RenderTree(pycram.task.task_tree, style=anytree.render.AsciiStyle()))\n",
    "print(pycram.task.task_tree.children[0])"
   ],
   "metadata": {
    "collapsed": false,
    "ExecuteTime": {
     "start_time": "2023-04-13T10:50:31.132328Z",
     "end_time": "2023-04-13T10:50:31.140127Z"
    }
   }
  },
  {
   "cell_type": "code",
   "execution_count": 1,
   "outputs": [
    {
     "ename": "NameError",
     "evalue": "name 'world' is not defined",
     "output_type": "error",
     "traceback": [
      "\u001B[0;31m---------------------------------------------------------------------------\u001B[0m",
      "\u001B[0;31mNameError\u001B[0m                                 Traceback (most recent call last)",
      "Cell \u001B[0;32mIn[1], line 1\u001B[0m\n\u001B[0;32m----> 1\u001B[0m \u001B[43mworld\u001B[49m\u001B[38;5;241m.\u001B[39mexit()\n",
      "\u001B[0;31mNameError\u001B[0m: name 'world' is not defined"
     ]
    }
   ],
   "source": [
    "world.exit()"
   ],
   "metadata": {
    "collapsed": false,
    "ExecuteTime": {
     "start_time": "2023-04-13T10:50:34.256310Z",
     "end_time": "2023-04-13T10:50:34.484428Z"
    }
   }
  },
  {
   "cell_type": "code",
   "execution_count": null,
   "outputs": [],
   "source": [],
   "metadata": {
    "collapsed": false
   }
  }
 ],
 "metadata": {
  "kernelspec": {
   "name": "pycram",
   "language": "python",
   "display_name": "pycram"
  },
  "language_info": {
   "codemirror_mode": {
    "name": "ipython",
    "version": 2
   },
   "file_extension": ".py",
   "mimetype": "text/x-python",
   "name": "python",
   "nbconvert_exporter": "python",
   "pygments_lexer": "ipython2",
   "version": "2.7.6"
  }
 },
 "nbformat": 4,
 "nbformat_minor": 0
}
