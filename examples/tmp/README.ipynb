{
 "cells": [
  {
   "cell_type": "markdown",
   "id": "592e20bb",
   "metadata": {},
   "source": [
    "# Examples\n",
    "This directory contains jupyter notebooks that should showcase some of the features provided by PyCRAM.\n",
    "Notebooks are named after the feature that they show, an exception to this the ```intro``` notebook which contains\n",
    "short examples of most of PyCRAMs features.\n",
    "\n",
    "## Install\n",
    "To execute this examples you need to install jupyter, which can be done via the package manager.\n",
    "```\n",
    "apt-get install jupyter\n",
    "```\n",
    "\n",
    "## Execute the examples\n",
    "Examples can be executed from jupyter notebook. First, start jupyter notebook by navigating into this \n",
    "directory and execute the command:\n",
    "```\n",
    "jupyter notebook\n",
    "``` \n",
    "Afterward a new tab should open in the browser, if this is not the case you have to copy one of the links\n",
    "shown in the terminal into the browser. Now you should see a file explorer from which you can choose an \n",
    "example. \n",
    "\n",
    "To execute the code in the example select a cell and press ```CTRL+ENTER```"
   ]
  }
 ],
 "metadata": {
  "jupytext": {
   "cell_metadata_filter": "-all",
   "main_language": "python",
   "notebook_metadata_filter": "-all"
  }
 },
 "nbformat": 4,
 "nbformat_minor": 5
}
