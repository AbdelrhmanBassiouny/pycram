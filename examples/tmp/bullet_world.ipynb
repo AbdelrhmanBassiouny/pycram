{
 "cells": [
  {
   "cell_type": "markdown",
   "id": "131fd5f2",
   "metadata": {},
   "source": [
    "# Bullet World\n",
    "This Notebook will show you the basics of working with the PyCRAM BulletWorld.\n",
    "\n",
    "First we need to import and create a BulletWorld."
   ]
  },
  {
   "cell_type": "code",
   "execution_count": null,
   "id": "1076da8a",
   "metadata": {},
   "outputs": [],
   "source": [
    "from pycram.worlds.bullet_world import BulletWorld\n",
    "from pycram.datastructures.pose import Pose\n",
    "from pycram.datastructures.enums import ObjectType, WorldMode\n",
    "\n",
    "world = BulletWorld(mode=WorldMode.GUI)"
   ]
  },
  {
   "cell_type": "markdown",
   "id": "59d7c93d",
   "metadata": {},
   "source": [
    "This new window is the BulletWorld, PyCRAMs internal physics simulation. You can use the mouse to move the camera around:\n",
    "\n",
    "  * Press the left mouse button to rotate the camera\n",
    "  * Press the right mouse button to move the camera \n",
    "  * Press the middle mouse button (scroll wheel) and move the mouse up or down to zoom\n",
    "    \n",
    "At the moment the BulletWorld only contains a floor, this is spawned by default when creating the BulletWorld. Furthermore, the gravity is set to 9.8 m^2, which is the same gravitation as the one on earth. "
   ]
  },
  {
   "cell_type": "markdown",
   "id": "ee1e8577",
   "metadata": {},
   "source": [
    "To spawn new things in the BulletWorld we need to import the Object class and create and instance of it. "
   ]
  },
  {
   "cell_type": "code",
   "execution_count": null,
   "id": "2f3bc2e8",
   "metadata": {},
   "outputs": [],
   "source": [
    "from pycram.world_concepts.world_object import Object\n",
    "\n",
    "milk = Object(\"milk\", ObjectType.MILK, \"milk.stl\", pose=Pose([0, 0, 1]))"
   ]
  },
  {
   "cell_type": "markdown",
   "id": "0b1c03e7",
   "metadata": {},
   "source": [
    "As you can see this spawns a milk floating in the air. What we did here was create a new Object which has the name \"milk\" as well as the type ```ObjectType.MILK ``` , is spawned from the file \"milk.stl\" and is at the position [0, 0, 1]. \n",
    "\n",
    "The type of an Object can either be from the enum ObjectType or a string. However, it is recommended to use the enum since this would make for a more consistent naming of types which makes it easier to work with types. But since the types of the enum might not fit your case you can also use strings. \n",
    "\n",
    "The first three of these parameters are required while the position is optional. As you can see it was sufficient to only specify the filename for PyCRAM to spawn the milk mesh. When only providing a filename, PyCRAM will search in its resource directory for a matching file and use it. \n",
    "\n",
    "For a complete list of all parameters that can be used to crate an Object please check the documentation. \n",
    "\n",
    "\n",
    "\n",
    "Since the Object is spawned, we can now interact with it. First we want to move it around and change its orientation"
   ]
  },
  {
   "cell_type": "code",
   "execution_count": null,
   "id": "c8e7a6aa",
   "metadata": {},
   "outputs": [],
   "source": [
    "milk.set_position(Pose([1, 1, 1]))"
   ]
  },
  {
   "cell_type": "code",
   "execution_count": null,
   "id": "14dcce1b",
   "metadata": {},
   "outputs": [],
   "source": [
    "milk.set_orientation(Pose(orientation=[1,0, 0, 1]))"
   ]
  },
  {
   "cell_type": "code",
   "execution_count": null,
   "id": "7b33892f",
   "metadata": {},
   "outputs": [],
   "source": [
    "milk.set_pose(Pose([0, 0, 1], [0, 0, 0, 1]))"
   ]
  },
  {
   "cell_type": "markdown",
   "id": "1bcb32b0",
   "metadata": {},
   "source": [
    "In the same sense as setting the position or orientation, you can also get the position and orientation."
   ]
  },
  {
   "cell_type": "code",
   "execution_count": null,
   "id": "ff465c8f",
   "metadata": {},
   "outputs": [],
   "source": [
    "print(f\"Position: \\n{milk.get_position()}\")\n",
    "\n",
    "print(f\"Orientation: \\n{milk.get_orientation()}\")\n",
    "\n",
    "print(f\"Pose: \\n{milk.get_pose()}\")"
   ]
  },
  {
   "cell_type": "markdown",
   "id": "44fa9e83",
   "metadata": {},
   "source": [
    "## Attachments\n",
    "You can attach Objects to each other simply by calling the attach method on one of them and providing the other as parameter. Since attachments are bi-directional it doesn't matter on which Object you call the method. \n",
    "\n",
    "First we need another Object"
   ]
  },
  {
   "cell_type": "code",
   "execution_count": null,
   "id": "18c604a0",
   "metadata": {},
   "outputs": [],
   "source": [
    "cereal = Object(\"cereal\", ObjectType.BREAKFAST_CEREAL, \"breakfast_cereal.stl\", pose=Pose([1, 0, 1]))"
   ]
  },
  {
   "cell_type": "code",
   "execution_count": null,
   "id": "8c0417be",
   "metadata": {},
   "outputs": [],
   "source": [
    "milk.attach(cereal)"
   ]
  },
  {
   "cell_type": "markdown",
   "id": "3b26e20a",
   "metadata": {},
   "source": [
    "Now since they are attached to each other, if we move one of them the other will move in conjunction."
   ]
  },
  {
   "cell_type": "code",
   "execution_count": null,
   "id": "7efd193e",
   "metadata": {},
   "outputs": [],
   "source": [
    "milk.set_position(Pose([1,1,1]))"
   ]
  },
  {
   "cell_type": "markdown",
   "id": "67456e8c",
   "metadata": {},
   "source": [
    "In the same way the Object can also be detached, just call the detach method on one of the two attached Objects."
   ]
  },
  {
   "cell_type": "code",
   "execution_count": null,
   "id": "1af2cbde",
   "metadata": {},
   "outputs": [],
   "source": [
    "cereal.detach(milk)"
   ]
  },
  {
   "cell_type": "markdown",
   "id": "3d58ec9a",
   "metadata": {},
   "source": [
    "## Links and Joints\n",
    "Objects spawned from mesh files do not have links or joints, but if you spawn things from a URDF like a robot they will have a lot of links and joints. Every Object has two dictionaries as attributes, namely ```links``` and ```joints``` which contain every link or joint as key and a unique id, used by PyBullet, as value. \n",
    "\n",
    "We will see this at the example of the PR2:"
   ]
  },
  {
   "cell_type": "code",
   "execution_count": null,
   "id": "c98248f7",
   "metadata": {},
   "outputs": [],
   "source": [
    "pr2 = Object(\"pr2\", ObjectType.ROBOT, \"pr2.urdf\")\n",
    "print(pr2.links)"
   ]
  },
  {
   "cell_type": "markdown",
   "id": "fffc1daf",
   "metadata": {},
   "source": [
    "For links there are similar methods available as for the pose. However, you can only **get** the position and orientation of a link. "
   ]
  },
  {
   "cell_type": "code",
   "execution_count": null,
   "id": "6ea7e081",
   "metadata": {},
   "outputs": [],
   "source": [
    "print(f\"Position: \\n{pr2.get_link_position('torso_lift_link')}\")\n",
    "\n",
    "print(f\"Orientation: \\n{pr2.get_link_orientation('torso_lift_link')}\")\n",
    "\n",
    "print(f\"Pose: \\n{pr2.get_link_pose('torso_lift_link')}\")"
   ]
  },
  {
   "cell_type": "markdown",
   "id": "86345fc6",
   "metadata": {},
   "source": [
    "Methods available for joints are:\n",
    "\n",
    "  * ```get_joint_state```\n",
    "  * ```set_joint_state```\n",
    "  * ```get_joint_limits```\n",
    "  \n",
    "We will see how these methods work at the example of the torso_lift_joint:"
   ]
  },
  {
   "cell_type": "code",
   "execution_count": null,
   "id": "4887dce7",
   "metadata": {},
   "outputs": [],
   "source": [
    "print(f\"Joint limits: {pr2.get_joint_limits('torso_lift_joint')}\")\n",
    "\n",
    "print(f\"Current Joint state: {pr2.get_joint_position('torso_lift_joint')}\")\n",
    "\n",
    "pr2.set_joint_position(\"torso_lift_joint\", 0.2)\n",
    "\n",
    "print(f\"New Joint state: {pr2.get_joint_position('torso_lift_joint')}\")"
   ]
  },
  {
   "cell_type": "markdown",
   "id": "912b1974",
   "metadata": {},
   "source": [
    "## Misc Methods\n",
    "There are a few methods that don't fit any category but could be helpful anyway. The first two are ```get_color``` and ```set_color```, as the name implies they can be used to get or set the color for specific links or the whole Object. "
   ]
  },
  {
   "cell_type": "code",
   "execution_count": null,
   "id": "e62e0e51",
   "metadata": {},
   "outputs": [],
   "source": [
    "print(f\"Pr2 forearm color: {pr2.get_link_color('r_forearm_link')}\")"
   ]
  },
  {
   "cell_type": "code",
   "execution_count": null,
   "id": "faef7798",
   "metadata": {},
   "outputs": [],
   "source": [
    "pr2.set_link_color(\"r_forearm_link\", [1, 0, 0])"
   ]
  },
  {
   "cell_type": "markdown",
   "id": "b3dd5b01",
   "metadata": {},
   "source": [
    "Lastly, there is ```get_AABB```, AABB stands for *A*xis *A*ligned *B*ounding *B*ox. This method returns two points in world coordinates which span a rectangle representing the AABB."
   ]
  },
  {
   "cell_type": "code",
   "execution_count": null,
   "id": "2764234d",
   "metadata": {
    "lines_to_next_cell": 2
   },
   "outputs": [],
   "source": [
    "pr2.get_axis_aligned_bounding_box()"
   ]
  },
  {
   "cell_type": "markdown",
   "id": "10d2140a",
   "metadata": {},
   "source": [
    "To close the BulletWorld again please use the ```exit``` method since it will also terminate threads running in the background"
   ]
  },
  {
   "cell_type": "code",
   "execution_count": null,
   "id": "4c197184",
   "metadata": {},
   "outputs": [],
   "source": [
    "world.exit()"
   ]
  }
 ],
 "metadata": {
  "kernelspec": {
   "display_name": "Python 3",
   "language": "python",
   "name": "python3"
  }
 },
 "nbformat": 4,
 "nbformat_minor": 5
}
