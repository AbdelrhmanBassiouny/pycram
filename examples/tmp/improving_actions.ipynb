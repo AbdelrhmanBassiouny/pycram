{
 "cells": [
  {
   "cell_type": "markdown",
   "id": "7955572a",
   "metadata": {},
   "source": [
    "# Improving Actions using Probabilities\n",
    "\n",
    "In this tutorial we will look at probabilistic specifications of actions and especially at an advance plan to pick up objects.\n",
    "After this tutorial you will know:\n",
    "- Why are probabilities useful for robotics \n",
    "- How to use probabilistic models to specify actions\n",
    "- How to use probabilistic machine learning to improve actions"
   ]
  },
  {
   "cell_type": "markdown",
   "id": "62a938e1",
   "metadata": {},
   "source": [
    "Let's start by importing all the necessary modules."
   ]
  },
  {
   "cell_type": "code",
   "execution_count": null,
   "id": "73e24456",
   "metadata": {},
   "outputs": [],
   "source": [
    "import numpy as np\n",
    "import os\n",
    "import random\n",
    "\n",
    "import pandas as pd\n",
    "import sqlalchemy.orm\n",
    "\n",
    "import plotly\n",
    "plotly.offline.init_notebook_mode()\n",
    "import plotly.graph_objects as go\n",
    "import tqdm\n",
    "\n",
    "from probabilistic_model.learning.jpt.jpt import JPT\n",
    "from probabilistic_model.learning.jpt.variables import infer_variables_from_dataframe\n",
    "from random_events.product_algebra import Event, SimpleEvent\n",
    "\n",
    "import pycram.orm.base\n",
    "from pycram.designators.action_designator import MoveTorsoActionPerformable\n",
    "from pycram.plan_failures import PlanFailure\n",
    "from pycram.designators.object_designator import ObjectDesignatorDescription\n",
    "from pycram.worlds.bullet_world import BulletWorld\n",
    "from pycram.world_concepts.world_object import Object\n",
    "from pycram.robot_descriptions import robot_description\n",
    "from pycram.datastructures.enums import ObjectType, WorldMode\n",
    "from pycram.datastructures.pose import Pose\n",
    "from pycram.ros.viz_marker_publisher import VizMarkerPublisher\n",
    "from pycram.process_module import ProcessModule, simulated_robot\n",
    "from pycram.designators.specialized_designators.probabilistic.probabilistic_action import MoveAndPickUp, Arms, Grasp\n",
    "from pycram.tasktree import task_tree, reset_tree\n",
    "\n",
    "ProcessModule.execution_delay = False\n",
    "np.random.seed(69)\n",
    "random.seed(69)"
   ]
  },
  {
   "cell_type": "markdown",
   "id": "c04e4274",
   "metadata": {},
   "source": [
    "Next, we connect to a database where we can store and load robot experiences."
   ]
  },
  {
   "cell_type": "code",
   "execution_count": null,
   "id": "055d659b",
   "metadata": {},
   "outputs": [],
   "source": [
    "pycrorm_uri = os.getenv('PYCRORM_URI')\n",
    "pycrorm_uri = \"mysql+pymysql://\" + pycrorm_uri\n",
    "engine = sqlalchemy.create_engine('sqlite:///:memory:')\n",
    "session = sqlalchemy.orm.sessionmaker(bind=engine)()\n",
    "pycram.orm.base.Base.metadata.create_all(engine)"
   ]
  },
  {
   "cell_type": "markdown",
   "id": "00f8384a",
   "metadata": {},
   "source": [
    "Now we construct an empty world with just a floating milk, where we can learn about PickUp actions."
   ]
  },
  {
   "cell_type": "code",
   "execution_count": null,
   "id": "5cf392cb",
   "metadata": {},
   "outputs": [],
   "source": [
    "world = BulletWorld(WorldMode.DIRECT)\n",
    "print(world.prospection_world)\n",
    "robot = Object(robot_description.name, ObjectType.ROBOT, robot_description.name + \".urdf\")\n",
    "milk = Object(\"milk\", ObjectType.MILK, \"milk.stl\", pose=Pose([1.3, 1, 0.9]))\n",
    "viz_marker_publisher = VizMarkerPublisher()\n",
    "milk_description = ObjectDesignatorDescription(types=[ObjectType.MILK]).ground()"
   ]
  },
  {
   "cell_type": "markdown",
   "id": "64141111",
   "metadata": {},
   "source": [
    "Next, we create a default, probabilistic model that describes how to pick up objects. We visualize the default policy. The default policy tries to pick up the object by standing close to it, but not too close. "
   ]
  },
  {
   "cell_type": "code",
   "execution_count": null,
   "id": "d20206f3",
   "metadata": {},
   "outputs": [],
   "source": [
    "fpa = MoveAndPickUp(milk_description, arms=[Arms.LEFT, Arms.RIGHT], grasps=[Grasp.FRONT.value, Grasp.LEFT.value, Grasp.RIGHT.value, Grasp.TOP.value])\n",
    "print(world.current_world)\n",
    "p_xy = fpa.policy.marginal([fpa.variables.relative_x, fpa.variables.relative_y])\n",
    "fig = go.Figure(p_xy.root.plot(), p_xy.root.plotly_layout())\n",
    "fig.update_layout(title=\"Marginal View of relative x and y position of the robot with respect to the object.\")\n",
    "fig.show()"
   ]
  },
  {
   "cell_type": "markdown",
   "id": "7c3a80d5",
   "metadata": {},
   "source": [
    "Next, we will perform pick up tasks using the default policy and observe the success rate.\n",
    "The robot will now experiment with the behaviour specified by the default policy and observe his success rate in doing so.\n",
    "After finishing the experiments, we insert the results into the database."
   ]
  },
  {
   "cell_type": "code",
   "execution_count": null,
   "id": "de8e9589",
   "metadata": {},
   "outputs": [],
   "source": [
    "pycram.orm.base.ProcessMetaData().description = \"Experimenting with Pick Up Actions\"\n",
    "fpa.sample_amount = 500\n",
    "print(world.current_world)\n",
    "with simulated_robot:\n",
    "    print(world.current_world)\n",
    "    fpa.batch_rollout()\n",
    "task_tree.insert(session)\n",
    "reset_tree()\n",
    "session.commit()"
   ]
  },
  {
   "cell_type": "markdown",
   "id": "d722e604",
   "metadata": {},
   "source": [
    "Let's query the data that is needed to learn a pick up action and have a look at it."
   ]
  },
  {
   "cell_type": "code",
   "execution_count": null,
   "id": "d8b79c82",
   "metadata": {},
   "outputs": [],
   "source": [
    "samples = pd.read_sql(fpa.query_for_database(), engine)\n",
    "samples"
   ]
  },
  {
   "cell_type": "markdown",
   "id": "df567524",
   "metadata": {},
   "source": [
    "We can now learn a probabilistic model from the data. We will use the JPT algorithm to learn a model from the data."
   ]
  },
  {
   "cell_type": "code",
   "execution_count": null,
   "id": "c9bc1cc3",
   "metadata": {},
   "outputs": [],
   "source": [
    "variables = infer_variables_from_dataframe(samples, scale_continuous_types=False)\n",
    "model = JPT(variables, min_samples_leaf=25)\n",
    "model.fit(samples)\n",
    "model = model.probabilistic_circuit"
   ]
  },
  {
   "cell_type": "code",
   "execution_count": null,
   "id": "c9322392",
   "metadata": {},
   "outputs": [],
   "source": [
    "arm, grasp, relative_x, relative_y = model.variables"
   ]
  },
  {
   "cell_type": "markdown",
   "id": "41fd58d5",
   "metadata": {},
   "source": [
    "Let's have a look at how the model looks like. We will visualize the model density when we condition on grasping the object from the front with the left arm."
   ]
  },
  {
   "cell_type": "code",
   "execution_count": null,
   "id": "a2d50d60",
   "metadata": {},
   "outputs": [],
   "source": [
    "event = SimpleEvent({arm:Arms.LEFT, grasp: Grasp.FRONT}).as_composite_set()\n",
    "conditional_model, conditional_probability = model.conditional(event)\n",
    "p_xy = conditional_model.marginal([relative_x, relative_y])\n",
    "fig = go.Figure(p_xy.plot(), p_xy.plotly_layout())\n",
    "fig.show()"
   ]
  },
  {
   "cell_type": "markdown",
   "id": "87613ff3",
   "metadata": {},
   "source": [
    "Let's make a monte carlo estimate on the success probability of the new model."
   ]
  },
  {
   "cell_type": "code",
   "execution_count": null,
   "id": "b6a75673",
   "metadata": {},
   "outputs": [],
   "source": [
    "fpa.policy = model\n",
    "fpa.sample_amount = 100\n",
    "with simulated_robot:\n",
    "    fpa.batch_rollout()"
   ]
  },
  {
   "cell_type": "markdown",
   "id": "234f4ac2",
   "metadata": {},
   "source": [
    "We can see, that our new and improved model has a success probability of 60% as opposed to the 30% from the standard policy."
   ]
  },
  {
   "cell_type": "markdown",
   "id": "37baa505",
   "metadata": {},
   "source": [
    "Next, we put the learned model to the test in a complex environment, where the milk is placed in a difficult to access area."
   ]
  },
  {
   "cell_type": "code",
   "execution_count": null,
   "id": "60c219aa",
   "metadata": {},
   "outputs": [],
   "source": [
    "kitchen = Object(\"kitchen\", ObjectType.ENVIRONMENT, \"apartment.urdf\")\n",
    "\n",
    "milk.set_pose(Pose([0.5, 3.15, 1.04]))\n",
    "milk_description = ObjectDesignatorDescription(types=[ObjectType.MILK]).ground()\n",
    "fpa = MoveAndPickUp(milk_description, arms=[Arms.LEFT, Arms.RIGHT], grasps=[Grasp.FRONT, Grasp.LEFT, Grasp.RIGHT, Grasp.TOP], policy=model)\n",
    "fpa.sample_amount = 200\n"
   ]
  },
  {
   "cell_type": "code",
   "execution_count": null,
   "id": "83b579e0",
   "metadata": {},
   "outputs": [],
   "source": [
    "p_xy = model.marginal([relative_x, relative_y])\n",
    "fig = go.Figure(p_xy.plot(), p_xy.plotly_layout())\n",
    "fig.show()"
   ]
  },
  {
   "cell_type": "markdown",
   "id": "d2a0bc92",
   "metadata": {},
   "source": [
    "Let's look at the density of the relative x and y position of the robot with respect to the milk. We can see that he would like to access the object from the right front area."
   ]
  },
  {
   "cell_type": "code",
   "execution_count": null,
   "id": "369ab2c1",
   "metadata": {},
   "outputs": [],
   "source": [
    "grounded_model = fpa.ground_model()\n",
    "p_xy = grounded_model.marginal([relative_x, relative_y]).simplify()\n",
    "fig = go.Figure(p_xy.plot(), p_xy.plotly_layout())\n",
    "fig.update_layout(title=\"Marginal View of relative x and y position with respect to the milk\",\n",
    "                  xaxis_range=[-1, 1], yaxis_range=[-1, 1])\n",
    "fig.show()"
   ]
  },
  {
   "cell_type": "markdown",
   "id": "b6479bb3",
   "metadata": {},
   "source": [
    "Finally, we observe our improved plan in action."
   ]
  },
  {
   "cell_type": "code",
   "execution_count": null,
   "id": "dc65dbee",
   "metadata": {},
   "outputs": [],
   "source": [
    "from pycram.designators.action_designator import ParkArmsActionPerformable\n",
    "\n",
    "world.reset_world()\n",
    "milk.set_pose(Pose([0.5, 3.15, 1.04]))\n",
    "with simulated_robot:\n",
    "    \n",
    "    MoveTorsoActionPerformable(0.3).perform()\n",
    "    for sample in fpa:\n",
    "        try:\n",
    "            ParkArmsActionPerformable(Arms.RIGHT).perform()\n",
    "            sample.perform()\n",
    "            break\n",
    "        except PlanFailure as e:\n",
    "            continue"
   ]
  },
  {
   "cell_type": "code",
   "execution_count": null,
   "id": "68dfeb31",
   "metadata": {},
   "outputs": [],
   "source": [
    "# world.exit()\n",
    "# viz_marker_publisher._stop_publishing()"
   ]
  }
 ],
 "metadata": {
  "kernelspec": {
   "display_name": "Python 3",
   "language": "python",
   "name": "python3"
  }
 },
 "nbformat": 4,
 "nbformat_minor": 5
}
