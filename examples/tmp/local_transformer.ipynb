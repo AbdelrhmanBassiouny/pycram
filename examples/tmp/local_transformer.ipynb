{
 "cells": [
  {
   "cell_type": "markdown",
   "id": "75d54e8a",
   "metadata": {},
   "source": [
    "# Local Transformer\n",
    "The local transformer is used to handle transforms between different frames in PyCRAM. This is useful when you want to transform a pose from one frame to another, for example, from the map frame to the frame of an object. This example will introduce the Local Transformer and how to use it to transform poses between frames.\n",
    "\n",
    "## Setting up the Environment\n",
    "\n",
    "This step involves importing the required modules and initializing key components for our tasks.\n"
   ]
  },
  {
   "cell_type": "code",
   "execution_count": null,
   "id": "6f81f42b",
   "metadata": {
    "lines_to_next_cell": 2
   },
   "outputs": [],
   "source": [
    "from pycram.worlds.bullet_world import BulletWorld\n",
    "from pycram.world_concepts.world_object import Object\n",
    "from pycram.datastructures.pose import Transform, Pose\n",
    "from pycram.local_transformer import LocalTransformer\n",
    "from pycram.datastructures.enums import WorldMode"
   ]
  },
  {
   "cell_type": "markdown",
   "id": "567848b9",
   "metadata": {},
   "source": [
    "## Initializing the World\n",
    "\n",
    "Every robot simulation requires a world where it can interact. This world serves as the playground where the robot performs tasks. \n",
    "Let's start by creating this world.\n",
    "\n",
    "Since the local transformer can only transform between frames of objects which are in the world, we need to create a world first.\n"
   ]
  },
  {
   "cell_type": "code",
   "execution_count": null,
   "id": "9ee864b7",
   "metadata": {
    "lines_to_next_cell": 2
   },
   "outputs": [],
   "source": [
    "# Create an instance of the BulletWorld\n",
    "world = BulletWorld(WorldMode.GUI)\n"
   ]
  },
  {
   "cell_type": "markdown",
   "id": "29d87fec",
   "metadata": {},
   "source": [
    "## Adding Objects to the World\n",
    "\n",
    "For our robot to perform meaningful tasks, we need to populate its world with objects. \n",
    "In this section, we'll add a variety of objects, from a simple floor plane to kitchen setups and items like milk and bowls. \n",
    "These objects will be used in subsequent tasks, to provide the frames to which we will transform poses.\n"
   ]
  },
  {
   "cell_type": "code",
   "execution_count": null,
   "id": "43339663",
   "metadata": {},
   "outputs": [],
   "source": [
    "from pycram.worlds.bullet_world import Object\n",
    "from pycram.datastructures.enums import ObjectType\n",
    "\n",
    "kitchen = Object(\"kitchen\", ObjectType.ENVIRONMENT, \"kitchen.urdf\")\n",
    "milk = Object(\"milk\", ObjectType.MILK, \"milk.stl\", pose=Pose([0.9, 1, 0.95]))\n",
    "bowl = Object(\"bowl\", ObjectType.BOWL, \"bowl.stl\", pose=Pose([1.6, 1, 0.90]))"
   ]
  },
  {
   "cell_type": "markdown",
   "id": "be3273ea",
   "metadata": {},
   "source": [
    "## Creating a Local Transfomer\n",
    "The local transformer is implemented as a singelton, meaing regardless of how much and where an instance is created it will always be the same instance. This is done since the local transfomer collects all transformations between frames and would there always be a new instance, all transformations woulb need to be re-collected. "
   ]
  },
  {
   "cell_type": "code",
   "execution_count": null,
   "id": "84ed7b91",
   "metadata": {},
   "outputs": [],
   "source": [
    "from pycram.local_transformer import LocalTransformer\n",
    "\n",
    "local_transformer = LocalTransformer()\n",
    "print(local_transformer)\n",
    "\n",
    "new_local_transformer = LocalTransformer()\n",
    "print(new_local_transformer)"
   ]
  },
  {
   "cell_type": "markdown",
   "id": "e301100a",
   "metadata": {},
   "source": [
    "## Transformations with LocalTransformer\n",
    "Now that we have our world set up, let's perform some transformations. We'll use the LocalTransformer to transform poses relative to our objects."
   ]
  },
  {
   "cell_type": "code",
   "execution_count": null,
   "id": "59f56b39",
   "metadata": {},
   "outputs": [],
   "source": [
    "from pycram.local_transformer import LocalTransformer\n",
    "\n",
    "l = LocalTransformer()\n",
    "test_pose = Pose([1, 1, 1], [0, 0, 0, 1], \"map\")\n",
    "\n",
    "transformed_pose = l.transform_to_object_frame(test_pose, milk)\n",
    "print(transformed_pose)\n",
    "\n",
    "print(\"-------------------\")\n",
    "new_pose = l.transform_pose(transformed_pose, \"map\")\n",
    "print(new_pose)"
   ]
  },
  {
   "cell_type": "markdown",
   "id": "562c64c0",
   "metadata": {},
   "source": [
    "In the above code, we first transformed a pose to the object frame of the milk object, and then we transformed it back to the map frame. This demonstrates how we can easily manipulate poses relative to objects in our environment.\n",
    "You can also transform poses relative to other poses. by using the transform_pose method. Further you can set a Transform."
   ]
  },
  {
   "cell_type": "code",
   "execution_count": null,
   "id": "294a7132",
   "metadata": {},
   "outputs": [],
   "source": [
    "from pycram.datastructures.pose import Transform\n",
    "\n",
    "l.setTransform(Transform([1, 1, 1], [0, 0, 0, 1], \"map\", \"test_frame\"))\n",
    "p = Pose()\n",
    "\n",
    "transformed_pose = l.transform_pose(p, \"test_frame\")"
   ]
  },
  {
   "cell_type": "markdown",
   "id": "c1728596",
   "metadata": {},
   "source": [
    "## Transformation frames\n",
    "As you can see in the example above the frame_id of the object is not 'milk' but 'milk_4'. This is done since frame_ids need to be unique, however, the name of an Object does not. To solve this problem the name of an Object is concatenated with a unique id therefore making it unique. \n",
    "\n",
    "Furthermore, links of an Object are represented by the Object frame_id + '/' + link name. Since link names need to be unique for an URDF this is no problem.\n",
    "\n",
    "These frames need to be used in whenever you are transforming something with the local transformer. To get the base frame of an Object, meaning the frame name without any link there is the attribute tf_frame and for the frame of a link there is the collection links from which you can access all link objects by name, link objects also have the attribute tf_frame which gives the tf_frame of the link. "
   ]
  },
  {
   "cell_type": "code",
   "execution_count": null,
   "id": "b4df893a",
   "metadata": {},
   "outputs": [],
   "source": [
    "print(milk.tf_frame)\n",
    "\n",
    "print(kitchen.get_link_tf_frame(\"kitchen_island_surface\"))"
   ]
  },
  {
   "cell_type": "markdown",
   "id": "4936319e",
   "metadata": {},
   "source": [
    "You can use the cell below to exit the simulation."
   ]
  },
  {
   "cell_type": "code",
   "execution_count": null,
   "id": "2b67b760",
   "metadata": {},
   "outputs": [],
   "source": [
    "world.exit()"
   ]
  }
 ],
 "metadata": {
  "kernelspec": {
   "display_name": "Python 3",
   "language": "python",
   "name": "python3"
  }
 },
 "nbformat": 4,
 "nbformat_minor": 5
}
