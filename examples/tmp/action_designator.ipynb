{
 "cells": [
  {
   "cell_type": "markdown",
   "id": "534af974",
   "metadata": {},
   "source": [
    "# Action Designator\n",
    "This example will show the different kinds of Action Designators that are available. We will see how to create Action Designators and what they do.\n",
    "\n",
    "\n",
    "Action Designators are high-level descriptions of actions which the robot should execute. \n",
    "\n",
    "Action Designators are created from an Action Designator Description, which describes the type of action as well as the parameter for this action. Parameter are given as a list of possible parameters.\n",
    "For example, if you want to describe the robot moving to a table you would need a ```NavigateAction``` and a list of poses that are near the table. The Action Designator Description will then pick one of the poses and return a performable Action Designator which contains the picked pose. \n",
    "\n"
   ]
  },
  {
   "cell_type": "markdown",
   "id": "69536d4a",
   "metadata": {},
   "source": [
    "## Navigate Action\n",
    "We will start with a simple example of the ```NavigateAction```. \n",
    "\n",
    "First, we need a BulletWorld with a robot."
   ]
  },
  {
   "cell_type": "code",
   "execution_count": null,
   "id": "92c695e2",
   "metadata": {},
   "outputs": [],
   "source": [
    "from pycram.worlds.bullet_world import BulletWorld\n",
    "from pycram.world_concepts.world_object import Object\n",
    "from pycram.datastructures.enums import ObjectType, WorldMode\n",
    "\n",
    "world = BulletWorld(WorldMode.GUI)\n",
    "pr2 = Object(\"pr2\", ObjectType.ROBOT, \"pr2.urdf\")"
   ]
  },
  {
   "cell_type": "markdown",
   "id": "f67dce1b",
   "metadata": {},
   "source": [
    "To move the robot we need to create a description and resolve it to an actual Designator. The description of navigation only needs a list of possible poses."
   ]
  },
  {
   "cell_type": "code",
   "execution_count": null,
   "id": "1716a1e4",
   "metadata": {},
   "outputs": [],
   "source": [
    "from pycram.designators.action_designator import NavigateAction\n",
    "from pycram.datastructures.pose import Pose\n",
    "\n",
    "pose = Pose([1, 0, 0], [0, 0, 0, 1])\n",
    "\n",
    "# This is the Designator Description\n",
    "navigate_description = NavigateAction(target_locations=[pose])\n",
    "\n",
    "# This is the performable Designator\n",
    "navigate_designator = navigate_description.resolve()"
   ]
  },
  {
   "cell_type": "markdown",
   "id": "8f2722f8",
   "metadata": {},
   "source": [
    "What we now did was: create the pose where we want to move the robot, create a description describing a navigation with a list of possible poses (in this case the list contains only one pose) and create an action designator from the description. The action designator contains the pose picked from the list of possible poses and can be performed."
   ]
  },
  {
   "cell_type": "code",
   "execution_count": null,
   "id": "d912e9c8",
   "metadata": {},
   "outputs": [],
   "source": [
    "from pycram.process_module import simulated_robot\n",
    "\n",
    "with simulated_robot:\n",
    "    navigate_designator.perform()"
   ]
  },
  {
   "cell_type": "markdown",
   "id": "295b7701",
   "metadata": {},
   "source": [
    "Every designator that is performed needs to be in an environment that specifies where to perform the designator either on the real robot or the simulated one. This environment is called ```simulated_robot``` similar there is also a ```real_robot``` environment. \n",
    "\n",
    "There are also decorators which do the same thing but for whole methods, they are called ```with_real_robot``` and ```with_simulated_robot```."
   ]
  },
  {
   "cell_type": "markdown",
   "id": "2d5dce90",
   "metadata": {},
   "source": [
    "## Move Torso\n",
    "This action designator moves the torso up or down, specifically it sets the torso joint to a given value.\n",
    "\n",
    "We start again by creating a description and resolving it to a designator. Afterwards, the designator is performed in a ```simulated_robot``` environment. "
   ]
  },
  {
   "cell_type": "code",
   "execution_count": null,
   "id": "012b884c",
   "metadata": {},
   "outputs": [],
   "source": [
    "from pycram.designators.action_designator import MoveTorsoAction\n",
    "from pycram.process_module import simulated_robot\n",
    "\n",
    "torso_pose = 0.2\n",
    "\n",
    "torso_desig = MoveTorsoAction([torso_pose]).resolve()\n",
    "\n",
    "with simulated_robot:\n",
    "    torso_desig.perform()"
   ]
  },
  {
   "cell_type": "markdown",
   "id": "3e5806f5",
   "metadata": {},
   "source": [
    "## Set Gripper\n",
    "As the name implies, this action designator is used to open or close the gripper. \n",
    "\n",
    "The procedure is similar to the last time, but this time we will shorten it a bit."
   ]
  },
  {
   "cell_type": "code",
   "execution_count": null,
   "id": "3363e3a6",
   "metadata": {},
   "outputs": [],
   "source": [
    "from pycram.designators.action_designator import SetGripperAction\n",
    "from pycram.process_module import simulated_robot\n",
    "from pycram.datastructures.enums import GripperState, Arms\n",
    "\n",
    "gripper = Arms.RIGHT\n",
    "motion = GripperState.OPEN\n",
    "\n",
    "with simulated_robot:\n",
    "    SetGripperAction(grippers=[gripper], motions=[motion]).resolve().perform()"
   ]
  },
  {
   "cell_type": "markdown",
   "id": "e13297a6",
   "metadata": {},
   "source": [
    "## Park Arms\n",
    "Park arms is used to move one or both arms into the default parking position."
   ]
  },
  {
   "cell_type": "code",
   "execution_count": null,
   "id": "7994d142",
   "metadata": {},
   "outputs": [],
   "source": [
    "from pycram.designators.action_designator import ParkArmsAction\n",
    "from pycram.process_module import simulated_robot\n",
    "from pycram.datastructures.enums import Arms\n",
    "\n",
    "with simulated_robot:\n",
    "    ParkArmsAction([Arms.BOTH]).resolve().perform()"
   ]
  },
  {
   "cell_type": "markdown",
   "id": "c55b1a72",
   "metadata": {},
   "source": [
    "## Pick Up and Place\n",
    "Since these two are dependent on each other, meaning you can only place something when you picked it up beforehand, they will be shown together. \n",
    "\n",
    "These action designators use object designators, which will not be further explained in this tutorial so please check the example on object designators for more details. \n",
    "\n",
    "To start we need an environment in which we can pick up and place things as well as an object to pick up."
   ]
  },
  {
   "cell_type": "code",
   "execution_count": null,
   "id": "da852200",
   "metadata": {},
   "outputs": [],
   "source": [
    "kitchen = Object(\"kitchen\", ObjectType.ENVIRONMENT, \"kitchen.urdf\")\n",
    "milk = Object(\"milk\", ObjectType.MILK, \"milk.stl\", pose=Pose([1.3, 1, 0.9]))\n",
    "\n",
    "world.reset_world()"
   ]
  },
  {
   "cell_type": "code",
   "execution_count": null,
   "id": "b4c12d4a",
   "metadata": {},
   "outputs": [],
   "source": [
    "from pycram.designators.action_designator import PickUpAction, PlaceAction, ParkArmsAction, MoveTorsoAction, NavigateAction\n",
    "from pycram.designators.object_designator import BelieveObject\n",
    "from pycram.process_module import simulated_robot\n",
    "from pycram.datastructures.enums import Arms, Grasp\n",
    "from pycram.datastructures.pose import Pose\n",
    "\n",
    "milk_desig = BelieveObject(names=[\"milk\"])\n",
    "arm = Arms.RIGHT\n",
    "\n",
    "with simulated_robot:\n",
    "    ParkArmsAction([Arms.BOTH]).resolve().perform()\n",
    "    \n",
    "    MoveTorsoAction([0.3]).resolve().perform()\n",
    "    \n",
    "    NavigateAction([Pose([0.78, 1, 0.0], \n",
    "                     [0.0, 0.0, 0.014701099828940344, 0.9998919329926708])]).resolve().perform()\n",
    "    \n",
    "    PickUpAction(object_designator_description=milk_desig, \n",
    "                     arms=[arm], \n",
    "                     grasps=[Grasp.RIGHT]).resolve().perform()\n",
    "    \n",
    "    NavigateAction([Pose([-1.90, 0.78, 0.0], \n",
    "                     [0.0, 0.0, 0.16439898301071468, 0.9863939245479175])]).resolve().perform()\n",
    "    \n",
    "    PlaceAction(object_designator_description=milk_desig, \n",
    "                target_locations=[Pose([-1.20, 1.0192, 0.9624], \n",
    "                                   #[0.0, 0.0, 0.6339889056055381, 0.7733421413379024])], \n",
    "                                       [0, 0, 0, 1])],\n",
    "                arms=[arm]).resolve().perform()"
   ]
  },
  {
   "cell_type": "code",
   "execution_count": null,
   "id": "a57fba0b",
   "metadata": {},
   "outputs": [],
   "source": [
    "world.reset_world()"
   ]
  },
  {
   "cell_type": "markdown",
   "id": "f304de73",
   "metadata": {},
   "source": [
    "## Look At\n",
    "Look at lets the robot look at a specific point, for example if it should look at an object for detecting. "
   ]
  },
  {
   "cell_type": "code",
   "execution_count": null,
   "id": "05de6a22",
   "metadata": {},
   "outputs": [],
   "source": [
    "from pycram.designators.action_designator import LookAtAction\n",
    "from pycram.process_module import simulated_robot\n",
    "from pycram.datastructures.pose import Pose\n",
    "\n",
    "target_location = Pose([1, 0, 0.5], [0, 0, 0, 1])\n",
    "with simulated_robot:\n",
    "    LookAtAction(targets=[target_location]).resolve().perform()"
   ]
  },
  {
   "cell_type": "markdown",
   "id": "256b6105",
   "metadata": {},
   "source": [
    "## Detect\n",
    "Detect is used to detect objects in the field of vision (FOV) of the robot. We will use the milk used in the pick up/place example, if you didn't execute that example you can spawn the milk with the following cell. The detect designator will return a resolved instance of an ObjectDesignatorDescription. "
   ]
  },
  {
   "cell_type": "code",
   "execution_count": null,
   "id": "f0118bcf",
   "metadata": {},
   "outputs": [],
   "source": [
    "milk = Object(\"milk\", ObjectType.MILK, \"milk.stl\", pose=Pose([1.3, 1, 0.9]))"
   ]
  },
  {
   "cell_type": "code",
   "execution_count": null,
   "id": "a214ab26",
   "metadata": {},
   "outputs": [],
   "source": [
    "from pycram.designators.action_designator import DetectAction, LookAtAction, ParkArmsAction, NavigateAction\n",
    "from pycram.designators.object_designator import BelieveObject\n",
    "from pycram.datastructures.enums import Arms\n",
    "from pycram.process_module import simulated_robot\n",
    "from pycram.datastructures.pose import Pose\n",
    "\n",
    "milk_desig = BelieveObject(names=[\"milk\"])\n",
    "\n",
    "with simulated_robot:\n",
    "    ParkArmsAction([Arms.BOTH]).resolve().perform()\n",
    "    \n",
    "    NavigateAction([Pose([0, 1, 0], [0, 0, 0, 1])]).resolve().perform()\n",
    "    \n",
    "    LookAtAction(targets=[milk_desig.resolve().pose]).resolve().perform()\n",
    "    \n",
    "    obj_desig = DetectAction(milk_desig).resolve().perform()\n",
    "    \n",
    "    print(obj_desig)"
   ]
  },
  {
   "cell_type": "markdown",
   "id": "e8d912b4",
   "metadata": {},
   "source": [
    "## Transporting\n",
    "Transporting can transport an object from its current position to another target position. It is similar to the Pick and Place plan used in the Pick-up and Place example. Since we need an Object which we can transport we spawn a milk, you don't need to do this if you already have spawned it in a previous example."
   ]
  },
  {
   "cell_type": "code",
   "execution_count": null,
   "id": "b544b3e1",
   "metadata": {},
   "outputs": [],
   "source": [
    "kitchen = Object(\"kitchen\", ObjectType.ENVIRONMENT, \"kitchen.urdf\")\n",
    "milk = Object(\"milk\", ObjectType.MILK, \"milk.stl\", pose=Pose([1.3, 1, 0.9]))"
   ]
  },
  {
   "cell_type": "code",
   "execution_count": null,
   "id": "a10c448c",
   "metadata": {},
   "outputs": [],
   "source": [
    "from pycram.designators.action_designator import *\n",
    "from pycram.designators.object_designator import *\n",
    "from pycram.process_module import simulated_robot\n",
    "from pycram.datastructures.pose import Pose\n",
    "from pycram.datastructures.enums import Arms\n",
    "\n",
    "milk_desig = BelieveObject(names=[\"milk\"])\n",
    "\n",
    "description = TransportAction(milk_desig,\n",
    "                            [Arms.LEFT],\n",
    "                            [Pose([-1.35, 0.78, 0.95],\n",
    "                                  [0.0, 0.0, 0.16439898301071468, 0.9863939245479175])])\n",
    "with simulated_robot:\n",
    "    MoveTorsoAction([0.2]).resolve().perform()\n",
    "    description.resolve().perform()"
   ]
  },
  {
   "cell_type": "markdown",
   "id": "59be61b9",
   "metadata": {},
   "source": [
    "## Opening\n",
    "Opening allows the robot to open a drawer, the drawer is identified by an ObjectPart designator which describes the handle of the drawer that should be grasped. \n",
    "\n",
    "For the moment this designator works only in the apartment environment, therefore we remove the kitchen and spawn the apartment."
   ]
  },
  {
   "cell_type": "code",
   "execution_count": null,
   "id": "5b8b6cd6",
   "metadata": {},
   "outputs": [],
   "source": [
    "kitchen.remove()"
   ]
  },
  {
   "cell_type": "code",
   "execution_count": null,
   "id": "eda17cb3",
   "metadata": {},
   "outputs": [],
   "source": [
    "apartment = Object(\"apartment\", ObjectType.ENVIRONMENT, \"apartment.urdf\")"
   ]
  },
  {
   "cell_type": "code",
   "execution_count": null,
   "id": "c38ef90e",
   "metadata": {},
   "outputs": [],
   "source": [
    "from pycram.designators.action_designator import *\n",
    "from pycram.designators.object_designator import *\n",
    "from pycram.datastructures.enums import Arms\n",
    "from pycram.process_module import simulated_robot\n",
    "from pycram.datastructures.pose import Pose\n",
    "\n",
    "apartment_desig = BelieveObject(names=[\"apartment\"]).resolve()\n",
    "handle_deisg = ObjectPart(names=[\"handle_cab10_t\"], part_of=apartment_desig)\n",
    "\n",
    "with simulated_robot:\n",
    "    MoveTorsoAction([0.25]).resolve().perform()\n",
    "    ParkArmsAction([Arms.BOTH]).resolve().perform()\n",
    "    NavigateAction([Pose([1.7474915981292725, 2.6873629093170166, 0.0],\n",
    "                         [-0.0, 0.0, 0.5253598267689507, -0.850880163370435])]).resolve().perform()\n",
    "    OpenAction(handle_deisg, [Arms.RIGHT]).resolve().perform()"
   ]
  },
  {
   "cell_type": "markdown",
   "id": "5349eb8b",
   "metadata": {},
   "source": [
    "## Closing\n",
    "Closing lets the robot close an open drawer, like opening the drawer is identified by an ObjectPart designator describing the handle to be grasped. \n",
    "\n",
    "This action designator only works in the apartment environment for the moment, therefore we remove the kitchen and spawn the apartment. Additionally, we open the drawer such that we can close it with the action designator."
   ]
  },
  {
   "cell_type": "code",
   "execution_count": null,
   "id": "19c0a5d1",
   "metadata": {},
   "outputs": [],
   "source": [
    "kitchen.remove()"
   ]
  },
  {
   "cell_type": "code",
   "execution_count": null,
   "id": "43d7f214",
   "metadata": {},
   "outputs": [],
   "source": [
    "apartment = Object(\"apartment\", ObjectType.ENVIRONMENT, \"apartment.urdf\")\n",
    "apartment.set_joint_state(\"cabinet10_drawer_top_joint\", 0.4)"
   ]
  },
  {
   "cell_type": "code",
   "execution_count": null,
   "id": "79e7ffaf",
   "metadata": {},
   "outputs": [],
   "source": [
    "from pycram.designators.action_designator import *\n",
    "from pycram.designators.object_designator import *\n",
    "from pycram.datastructures.enums import Arms\n",
    "from pycram.process_module import simulated_robot\n",
    "from pycram.datastructures.pose import Pose\n",
    "\n",
    "apartment_desig = BelieveObject(names=[\"apartment\"]).resolve()\n",
    "handle_deisg = ObjectPart(names=[\"handle_cab10_t\"], part_of=apartment_desig)\n",
    "\n",
    "with simulated_robot:\n",
    "    MoveTorsoAction([0.25]).resolve().perform()\n",
    "    ParkArmsAction([Arms.BOTH]).resolve().perform()\n",
    "    NavigateAction([Pose([1.7474915981292725, 2.8073629093170166, 0.0],\n",
    "                         [-0.0, 0.0, 0.5253598267689507, -0.850880163370435])]).resolve().perform()\n",
    "    CloseAction(handle_deisg, [Arms.RIGHT]).resolve().perform()"
   ]
  },
  {
   "cell_type": "code",
   "execution_count": null,
   "id": "a9cb9e99",
   "metadata": {},
   "outputs": [],
   "source": [
    "world.exit()"
   ]
  }
 ],
 "metadata": {
  "kernelspec": {
   "display_name": "Python 3",
   "language": "python",
   "name": "python3"
  }
 },
 "nbformat": 4,
 "nbformat_minor": 5
}
