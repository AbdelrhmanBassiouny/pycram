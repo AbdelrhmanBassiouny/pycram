{
 "cells": [
  {
   "cell_type": "markdown",
   "id": "f78b3917",
   "metadata": {},
   "source": [
    "# Object Designator\n",
    "Object designators are used to describe objects located in the BulletWorld or the real environment and then resolve them during runtime to concrete objects.\n",
    "\n",
    "Object designators are different from the Object class in bullet_world.py in the way that they just describe an object and do not create objects or provide methods to manipulate them. Nevertheless, object designators contain a reference to the BulletWorld object.\n",
    "\n",
    "An Object designator takes two parameters, of which at least one has to be provided. These parameters are:\n",
    "\n",
    "   * A list of names \n",
    "   * A list of types \n",
    "   \n",
    "Object Designators work similar to Location designators, they get constrains describing a set of objects and when resolved return a specific instance. \n",
    "\n",
    "For all following examples we need a BulletWorld, so let's create one."
   ]
  },
  {
   "cell_type": "code",
   "execution_count": null,
   "id": "7b540403",
   "metadata": {},
   "outputs": [],
   "source": [
    "from pycram.worlds.bullet_world import BulletWorld\n",
    "from pycram.world_concepts.world_object import Object\n",
    "from pycram.datastructures.enums import ObjectType, WorldMode\n",
    "from pycram.datastructures.pose import Pose\n",
    "\n",
    "world = BulletWorld(WorldMode.GUI)"
   ]
  },
  {
   "cell_type": "markdown",
   "id": "b942dfde",
   "metadata": {},
   "source": [
    "## Believe Object\n",
    "This object designator is used to describe objects that are located in the BulletWorld. So objects that are in the belief state, hence the name. In the future when there is a perception interface, there will be a ```RealObject``` description which will be used to describe objects in the real world. \n",
    "\n",
    "Since ```BelieveObject``` describes Objects in the BulletWorld we create a few."
   ]
  },
  {
   "cell_type": "code",
   "execution_count": null,
   "id": "9969ac7b",
   "metadata": {},
   "outputs": [],
   "source": [
    "kitchen = Object(\"kitchen\", ObjectType.ENVIRONMENT, \"kitchen.urdf\")\n",
    "milk = Object(\"milk\", ObjectType.MILK, \"milk.stl\", pose=Pose([1.3, 1, 0.9]))\n",
    "cereal = Object(\"froot_loops\", ObjectType.BREAKFAST_CEREAL, \"breakfast_cereal.stl\", pose=Pose([1.3, 0.9, 0.95]))\n",
    "spoon = Object(\"spoon\", ObjectType.SPOON, \"spoon.stl\", pose=Pose([1.3, 1.1, 0.87]))"
   ]
  },
  {
   "cell_type": "markdown",
   "id": "ba99f63a",
   "metadata": {},
   "source": [
    "Now that we have objects we can create an object designator to describe them. For the start we want an object designator only describing the milk. Since all objects have unique names we can create an object designator using a list with only the name of the object. "
   ]
  },
  {
   "cell_type": "code",
   "execution_count": null,
   "id": "c5f283dd",
   "metadata": {},
   "outputs": [],
   "source": [
    "from pycram.designators.object_designator import BelieveObject\n",
    "\n",
    "object_description = BelieveObject(names=[\"milk\"])\n",
    "\n",
    "print(object_description.resolve())"
   ]
  },
  {
   "cell_type": "markdown",
   "id": "388ccb81",
   "metadata": {},
   "source": [
    "You can also use the type to describe objects, so now we want to have an object designator that describes every food in the world. "
   ]
  },
  {
   "cell_type": "code",
   "execution_count": null,
   "id": "1367dc8c",
   "metadata": {},
   "outputs": [],
   "source": [
    "from pycram.designators.object_designator import BelieveObject\n",
    "\n",
    "object_description = BelieveObject(types=[ObjectType.MILK, ObjectType.BREAKFAST_CEREAL])\n",
    "\n",
    "print(object_description.resolve())"
   ]
  },
  {
   "cell_type": "markdown",
   "id": "890af764",
   "metadata": {},
   "source": [
    "## Object Part \n",
    "Part of object designators can be used to describe something as part of another object. For example, you could describe a specific drawer as part of the kitchen. This is necessary since the drawer is no single BulletWorld Object but rather a link of the kitchen which is a BulletWorld Object.\n",
    "\n",
    "For this example we need just need the kitchen, if you didn't spawn it in the previous example you can spawn it with the following cell."
   ]
  },
  {
   "cell_type": "code",
   "execution_count": null,
   "id": "f9bf60b3",
   "metadata": {},
   "outputs": [],
   "source": [
    "kitchen = Object(\"kitchen\", ObjectType.ENVIRONMENT, \"kitchen.urdf\")"
   ]
  },
  {
   "cell_type": "code",
   "execution_count": null,
   "id": "f2e6bb11",
   "metadata": {},
   "outputs": [],
   "source": [
    "from pycram.designators.object_designator import ObjectPart, BelieveObject\n",
    "\n",
    "kitchen_desig = BelieveObject(names=[\"kitchen\"]).resolve()\n",
    "\n",
    "object_description = ObjectPart(names=[\"sink_area_left_upper_drawer_main\"], part_of=kitchen_desig)\n",
    "\n",
    "print(object_description.resolve())"
   ]
  },
  {
   "cell_type": "markdown",
   "id": "83e2127d",
   "metadata": {},
   "source": [
    "## Object Designators as Generators \n",
    "Similar to location designators object designators can be used as generators to iterate through every object that they are describing. We will see this at the example of an object designator describing every type of food. \n",
    "\n",
    "For this we need some objects, so if you didn't already spawn them you can use the next cell for this."
   ]
  },
  {
   "cell_type": "code",
   "execution_count": null,
   "id": "1064c5d3",
   "metadata": {},
   "outputs": [],
   "source": [
    "kitchen = Object(\"kitchen\", ObjectType.ENVIRONMENT, \"kitchen.urdf\")\n",
    "milk = Object(\"milk\", ObjectType.MILK, \"milk.stl\", pose=Pose([1.3, 1, 0.9]))\n",
    "cereal = Object(\"froot_loops\", ObjectType.BREAKFAST_CEREAL, \"breakfast_cereal.stl\", pose=Pose([1.3, 0.9, 0.95]))\n",
    "spoon = Object(\"spoon\", ObjectType.SPOON, \"spoon.stl\", pose=Pose([1.3, 1.1, 0.87]))"
   ]
  },
  {
   "cell_type": "code",
   "execution_count": null,
   "id": "487b4888",
   "metadata": {},
   "outputs": [],
   "source": [
    "from pycram.designators.object_designator import BelieveObject\n",
    "\n",
    "object_description = BelieveObject(types=[ObjectType.MILK, ObjectType.BREAKFAST_CEREAL])\n",
    "\n",
    "for obj in object_description:\n",
    "    print(obj, \"\\n\")"
   ]
  },
  {
   "cell_type": "markdown",
   "id": "555eaa41",
   "metadata": {},
   "source": [
    "To close the world use the following exit function."
   ]
  },
  {
   "cell_type": "code",
   "execution_count": null,
   "id": "995b88c3",
   "metadata": {},
   "outputs": [],
   "source": [
    "world.exit()"
   ]
  }
 ],
 "metadata": {
  "kernelspec": {
   "display_name": "Python 3",
   "language": "python",
   "name": "python3"
  }
 },
 "nbformat": 4,
 "nbformat_minor": 5
}
