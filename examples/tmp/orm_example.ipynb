{
 "cells": [
  {
   "cell_type": "markdown",
   "id": "101b0abc",
   "metadata": {},
   "source": [
    "# Hands on Object Relational Mapping in PyCram\n",
    "\n",
    "This tutorial will walk you through the serialization of a minimal plan in pycram.\n",
    "First we will import sqlalchemy, create an in memory database and connect a session to it."
   ]
  },
  {
   "cell_type": "code",
   "execution_count": null,
   "id": "848c0914",
   "metadata": {},
   "outputs": [],
   "source": [
    "import sqlalchemy\n",
    "import sqlalchemy.orm\n",
    "\n",
    "engine = sqlalchemy.create_engine(\"sqlite+pysqlite:///:memory:\", echo=False)\n",
    "session = sqlalchemy.orm.Session(bind=engine)\n",
    "session"
   ]
  },
  {
   "cell_type": "markdown",
   "id": "33ec0bd1",
   "metadata": {},
   "source": [
    "Next we create the database schema using the sqlalchemy functionality. For that we need to import the base class of pycram.orm."
   ]
  },
  {
   "cell_type": "code",
   "execution_count": null,
   "id": "e5f6274d",
   "metadata": {},
   "outputs": [],
   "source": [
    "import pycram.orm.base\n",
    "import pycram.orm.action_designator\n",
    "pycram.orm.base.Base.metadata.create_all(engine)\n",
    "session.commit()"
   ]
  },
  {
   "cell_type": "markdown",
   "id": "672ca3a6",
   "metadata": {},
   "source": [
    "Next we will write a simple plan where the robot parks his arms and then moves somewhere. We will construct a TaskTree around it such that we can serialize it later. As usual, we first create a world and then define the plan. By doing so, we obtain the task tree."
   ]
  },
  {
   "cell_type": "code",
   "execution_count": null,
   "id": "0afea382",
   "metadata": {},
   "outputs": [],
   "source": [
    "from pycram.designators.action_designator import *\n",
    "from pycram.designators.location_designator import *\n",
    "from pycram.process_module import simulated_robot\n",
    "from pycram.datastructures.enums import Arms, ObjectType, Grasp, WorldMode\n",
    "from pycram.tasktree import with_tree\n",
    "import pycram.tasktree\n",
    "from pycram.worlds.bullet_world import BulletWorld\n",
    "from pycram.world_concepts.world_object import Object\n",
    "from pycram.designators.object_designator import *\n",
    "from pycram.datastructures.pose import Pose\n",
    "import anytree\n",
    "\n",
    "world = BulletWorld(WorldMode.GUI)\n",
    "pr2 = Object(\"pr2\", ObjectType.ROBOT, \"pr2.urdf\")\n",
    "kitchen = Object(\"kitchen\", ObjectType.ENVIRONMENT, \"kitchen.urdf\")\n",
    "milk = Object(\"milk\", ObjectType.MILK, \"milk.stl\", pose=Pose([1.3, 1, 0.9]))\n",
    "cereal = Object(\"cereal\", ObjectType.BREAKFAST_CEREAL, \"breakfast_cereal.stl\", pose=Pose([1.3, 0.7, 0.95]))\n",
    "milk_desig = ObjectDesignatorDescription(names=[\"milk\"])\n",
    "cereal_desig = ObjectDesignatorDescription(names=[\"cereal\"])\n",
    "robot_desig = ObjectDesignatorDescription(names=[\"pr2\"]).resolve()\n",
    "kitchen_desig = ObjectDesignatorDescription(names=[\"kitchen\"])\n",
    "\n",
    "@with_tree\n",
    "def plan():\n",
    "    with simulated_robot:\n",
    "        ParkArmsActionPerformable(Arms.BOTH).perform()\n",
    "        MoveTorsoAction([0.2]).resolve().perform()\n",
    "        pickup_pose = CostmapLocation(target=cereal_desig.resolve(), reachable_for=robot_desig).resolve()\n",
    "        pickup_arm = pickup_pose.reachable_arms[0]\n",
    "        NavigateAction(target_locations=[pickup_pose.pose]).resolve().perform()\n",
    "        PickUpAction(object_designator_description=cereal_desig, arms=[pickup_arm], grasps=[Grasp.FRONT]).resolve().perform()\n",
    "        ParkArmsAction([Arms.BOTH]).resolve().perform()\n",
    "\n",
    "        place_island = SemanticCostmapLocation(\"kitchen_island_surface\", kitchen_desig.resolve(),\n",
    "                                           cereal_desig.resolve()).resolve()\n",
    "\n",
    "        place_stand = CostmapLocation(place_island.pose, reachable_for=robot_desig, reachable_arm=pickup_arm).resolve()\n",
    "\n",
    "        NavigateAction(target_locations=[place_stand.pose]).resolve().perform()\n",
    "\n",
    "        PlaceAction(cereal_desig, target_locations=[place_island.pose], arms=[pickup_arm]).resolve().perform()\n",
    "\n",
    "        ParkArmsActionPerformable(Arms.BOTH).perform()\n",
    "\n",
    "plan()\n",
    "\n",
    "# set description of what we are doing\n",
    "pycram.orm.base.ProcessMetaData().description = \"Tutorial for getting familiar with the ORM.\"\n",
    "task_tree = pycram.tasktree.task_tree\n",
    "print(anytree.RenderTree(task_tree))"
   ]
  },
  {
   "cell_type": "markdown",
   "id": "aa300f4c",
   "metadata": {},
   "source": [
    "Next we serialize the task tree by recursively inserting from its root."
   ]
  },
  {
   "cell_type": "code",
   "execution_count": null,
   "id": "ab8dce6a",
   "metadata": {},
   "outputs": [],
   "source": [
    "task_tree.root.insert(session)"
   ]
  },
  {
   "cell_type": "markdown",
   "id": "da253a18",
   "metadata": {},
   "source": [
    "We can look at our experiment (Process)MetaData to get some context on the data we just created."
   ]
  },
  {
   "cell_type": "code",
   "execution_count": null,
   "id": "b74ce84e",
   "metadata": {},
   "outputs": [],
   "source": [
    "from sqlalchemy import select\n",
    "\n",
    "print(*session.scalars(select(pycram.orm.base.ProcessMetaData)).all())"
   ]
  },
  {
   "cell_type": "markdown",
   "id": "d4ca47c0",
   "metadata": {},
   "source": [
    "Lastly we can look at various table to see how the structures got logged.\n",
    "For example, we can get all the navigate actions that occurred."
   ]
  },
  {
   "cell_type": "code",
   "execution_count": null,
   "id": "2daa78cc",
   "metadata": {},
   "outputs": [],
   "source": [
    "navigations = session.scalars(select(pycram.orm.action_designator.NavigateAction)).all()\n",
    "print(*navigations, sep=\"\\n\")"
   ]
  },
  {
   "cell_type": "markdown",
   "id": "c073978b",
   "metadata": {},
   "source": [
    "Due to the inheritance mapped in the ORM package, we can also obtain all executed actions with just one query. "
   ]
  },
  {
   "cell_type": "code",
   "execution_count": null,
   "id": "a801e869",
   "metadata": {},
   "outputs": [],
   "source": [
    "actions = session.scalars(select(pycram.orm.action_designator.Action)).all()\n",
    "print(*actions, sep=\"\\n\")"
   ]
  },
  {
   "cell_type": "markdown",
   "id": "8f74a80e",
   "metadata": {},
   "source": [
    "Of course all relational algebra operators, such as filtering and joining also work in pycram.orm queries. Let's say we need all the poses of objects, that were picked up by a robot. Since we defined a relationship between the PickUpAction table and the Object table and between the Object table and the Pose table in the ORM class schema, we can just use the join operator without any further specification:"
   ]
  },
  {
   "cell_type": "code",
   "execution_count": null,
   "id": "42b01ecc",
   "metadata": {},
   "outputs": [],
   "source": [
    "object_actions = (session.scalars(select(pycram.orm.base.Pose)\n",
    "                  .join(pycram.orm.action_designator.PickUpAction.object)\n",
    "                  .join(pycram.orm.object_designator.Object.pose))\n",
    "                  .all())\n",
    "print(*object_actions, sep=\"\\n\")\n"
   ]
  },
  {
   "cell_type": "markdown",
   "id": "869b4709",
   "metadata": {},
   "source": [
    "Did you notice, that for the joins we did not join the tables together in a typical sql kind of way, but rather used the relationships defined in the ORM classes and wrote joins like PickUpAction.object or Object.pose? This is because the ORM package automatically creates the joins for us, so we only have to join on the attributes that hold the relationship. This is a huge advantage over writing sql queries by hand, since we do not have to worry about the join conditions. \n",
    "This is a strong tool, but it is crucial to use it properly. Very important to note: The order of the joins matters! For instance, if we joined the Pose table with the Object table first, and placed the join between the PickUpAction table and the Object table second, sqlalchemy would have selected the Pose not from the join between all three tables, but rather from a join between the Pose and the Object table + from a join between the PickUpAction table and the Object table. These mistakes can lead to wrong results or even to errors (the above-mentioned example would actually lead to an error due to the Object table being accessed twice in two separate joins in the same query and therefore the column names of the Object tables would have been ambiguous and could not be used by sqlalchemy to join).\n",
    "\n",
    "Make sure to check out the other examples of ORM querying."
   ]
  },
  {
   "cell_type": "markdown",
   "id": "5d818e88",
   "metadata": {},
   "source": [
    "If we want to filter for all successful tasks we can just add the filter operator:"
   ]
  },
  {
   "cell_type": "code",
   "execution_count": null,
   "id": "de386097",
   "metadata": {},
   "outputs": [],
   "source": [
    "from pycram.orm.tasktree import TaskTreeNode\n",
    "\n",
    "successful_tasks = session.scalars(select(TaskTreeNode).where(TaskTreeNode.status == \"SUCCEEDED\"))\n",
    "print(*successful_tasks, sep=\"\\n\")"
   ]
  },
  {
   "cell_type": "markdown",
   "id": "120fa771",
   "metadata": {},
   "source": [
    "As expected all but the root node succeeded, since the root node is still running.\n",
    "\n",
    "Writing an extension to the ORM package is also done with ease. We need to create a new ActionDesignator class and its ORM equivalent, where we define our new table. Let's say we want to log all the things the robot says. We will create a new ActionDesignator class called Saying and its ORM equivalent called ORMSaying. "
   ]
  },
  {
   "cell_type": "code",
   "execution_count": null,
   "id": "65e098f7",
   "metadata": {},
   "outputs": [],
   "source": [
    "from sqlalchemy.orm import Mapped, mapped_column, Session\n",
    "from pycram.orm.action_designator import Action\n",
    "from dataclasses import dataclass\n",
    "\n",
    "\n",
    "# define ORM class from pattern in every pycram.orm class\n",
    "class ORMSaying(Action):\n",
    "\n",
    "    id: Mapped[int] = mapped_column(sqlalchemy.ForeignKey(f'{Action.__tablename__}.id'), primary_key=True, init=False)\n",
    "    # since we do not want to add any custom specifications to our column, we don't even need to define mapped_column, sqlalchemy does this internally.\n",
    "    text: Mapped[str] \n",
    "\n",
    "# define brand new action designator\n",
    "\n",
    "@dataclass \n",
    "class SayingActionPerformable(ActionDesignatorDescription.Action):\n",
    "    \n",
    "    text: str\n",
    "        \n",
    "    @with_tree\n",
    "    def perform(self) -> None:\n",
    "        print(self.text)\n",
    "\n",
    "    def to_sql(self) -> ORMSaying:\n",
    "        return ORMSaying(self.text)\n",
    "\n",
    "    def insert(self, session: Session, *args, **kwargs) -> ORMSaying:\n",
    "        action = super().insert(session)\n",
    "        session.add(action)\n",
    "        session.commit()\n",
    "        return action\n"
   ]
  },
  {
   "cell_type": "markdown",
   "id": "6c766bb3",
   "metadata": {},
   "source": [
    "Now we got our new ActionDesignator called Saying and its ORM version. Since this class got created after all other classes got inserted into the database (in the beginning of the notebook) we have to insert it manually. "
   ]
  },
  {
   "cell_type": "code",
   "execution_count": null,
   "id": "3bcc7c3b",
   "metadata": {},
   "outputs": [],
   "source": [
    "ORMSaying.metadata.create_all(bind=engine)"
   ]
  },
  {
   "cell_type": "markdown",
   "id": "08ef8f59",
   "metadata": {},
   "source": [
    "Now we can create and insert a Saying action. Since this is the last part where we interact with the BulletWorld, we can also close it."
   ]
  },
  {
   "cell_type": "code",
   "execution_count": null,
   "id": "644bad13",
   "metadata": {},
   "outputs": [],
   "source": [
    "# create a saying action and insert it\n",
    "SayingActionPerformable(\"Patchie, Patchie; Where is my Patchie?\").perform()\n",
    "pycram.tasktree.task_tree.root.insert(session)\n",
    "session.commit()\n",
    "\n",
    "world.exit()"
   ]
  },
  {
   "cell_type": "markdown",
   "id": "0ddd57d8",
   "metadata": {},
   "source": [
    "It is notable that committing the object to the session fills its primary key. Hence, there is no worries about assigning unique IDs manually.\n",
    "Finally, we can double-check that our object exists in the database."
   ]
  },
  {
   "cell_type": "code",
   "execution_count": null,
   "id": "56d3f08e",
   "metadata": {},
   "outputs": [],
   "source": [
    "session.scalars(select(ORMSaying)).all()"
   ]
  }
 ],
 "metadata": {
  "kernelspec": {
   "display_name": "Python 3",
   "language": "python",
   "name": "python3"
  }
 },
 "nbformat": 4,
 "nbformat_minor": 5
}
