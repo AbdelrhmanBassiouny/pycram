{
 "cells": [
  {
   "cell_type": "markdown",
   "id": "081ea104",
   "metadata": {},
   "source": [
    "# Location Designator\n",
    "This example will show you what location designators are, how to use them and what they are capable of. \n",
    "\n",
    "Location Designators are used to semantically describe locations in the world. You could, for example, create a location designator that describes every position where a robot can be placed without colliding with the environment. Location designator can describe locations for:\n",
    "\n",
    "   * Visibility \n",
    "   * Reachability\n",
    "   * Occupancy \n",
    "   * URDF Links (for example a table)\n",
    "\n",
    "To find locations that fit the given constrains, location designator create Costmaps. Costmaps are a 2D distribution that have a value greater than 0 for every position that fits the costmap criteria.\n",
    "\n",
    "Location designators work similar to other designators, meaning you have to create a location designator description which describes the location. This description can then be resolved to the actual 6D pose on runtime.\n",
    "\n",
    "## Occupancy\n",
    "\n",
    "We will start with a simple location designator that describes a location where the robot can be placed without colliding with the environment. To do this we need a BulletWorld since the costmaps are mostly created from the current state of the BulletWorld. "
   ]
  },
  {
   "cell_type": "code",
   "execution_count": null,
   "id": "9400a093",
   "metadata": {},
   "outputs": [],
   "source": [
    "from pycram.worlds.bullet_world import BulletWorld\n",
    "from pycram.world_concepts.world_object import Object\n",
    "from pycram.datastructures.enums import ObjectType, WorldMode\n",
    "from pycram.datastructures.pose import Pose\n",
    "\n",
    "world = BulletWorld()\n",
    "kitchen = Object(\"kitchen\", ObjectType.ENVIRONMENT, \"kitchen.urdf\")"
   ]
  },
  {
   "cell_type": "markdown",
   "id": "5859a4fa",
   "metadata": {},
   "source": [
    "Next up we will create the location designator description, the ```CostmapLocation``` that we will be using needs a target as a parameter. This target describes what the location designator is for, this could either be a pose or object that the robot should be able to see or reach.\n",
    "\n",
    "In this case we only want poses where the robot can be placed, this is the default behaviour of the location designator which we will be extending later. "
   ]
  },
  {
   "cell_type": "code",
   "execution_count": null,
   "id": "19fa7f72",
   "metadata": {},
   "outputs": [],
   "source": [
    "from pycram.designators.location_designator import CostmapLocation\n",
    "\n",
    "target = kitchen.get_pose()\n",
    "\n",
    "location_description = CostmapLocation(target)\n",
    "\n",
    "pose = location_description.resolve()\n",
    "\n",
    "print(pose)"
   ]
  },
  {
   "cell_type": "markdown",
   "id": "242ae8ed",
   "metadata": {},
   "source": [
    "## Reachable\n",
    "Next we want to locations from where the robot can reach a specific point, like an object the robot should pick up. This can also be done with the ```CostmapLocation``` description, but this time we need to provide an additional argument. The additional argument is the robo which should be able to reach the pose. \n",
    "\n",
    "Since a robot is needed we will use the PR2 and use a milk as a target point for the robot to reach. The torso of the PR2 will be set to 0.2 since otherwise the arms of the robot will be too low to reach on the countertop.\n"
   ]
  },
  {
   "cell_type": "code",
   "execution_count": null,
   "id": "92e2d555",
   "metadata": {},
   "outputs": [],
   "source": [
    "pr2 = Object(\"pr2\", ObjectType.ROBOT, \"pr2.urdf\")\n",
    "pr2.set_joint_state(\"torso_lift_joint\", 0.2)\n",
    "milk = Object(\"milk\", ObjectType.MILK, \"milk.stl\", pose=Pose([1.3, 1, 0.9]))\n"
   ]
  },
  {
   "cell_type": "code",
   "execution_count": null,
   "id": "b76fec9c",
   "metadata": {},
   "outputs": [],
   "source": [
    "from pycram.designators.location_designator import CostmapLocation\n",
    "from pycram.designators.object_designator import BelieveObject\n",
    "\n",
    "target = BelieveObject(names=[\"milk\"]).resolve()\n",
    "robot_desig = BelieveObject(names=[\"pr2\"]).resolve()\n",
    "\n",
    "location_description = CostmapLocation(target=target, reachable_for=robot_desig)\n",
    "\n",
    "print(location_description.resolve())"
   ]
  },
  {
   "cell_type": "markdown",
   "id": "7b7e2ad9",
   "metadata": {},
   "source": [
    "As you can see we get a pose near the countertop where the robot can be placed without colliding with it. Furthermore, we get a list of arms with which the robot can reach the given object."
   ]
  },
  {
   "cell_type": "markdown",
   "id": "3baa0e9e",
   "metadata": {},
   "source": [
    "## Visibile\n",
    "The ```CostmapLocation``` can also find position from which the robot can see a given object or location. This is very similar to how reachable locations are described, meaning we provide a object designator or a pose and a robot designator but this time we use the ```visible_for``` parameter.  \n",
    "\n",
    "For this example we need the milk as well as the PR2, so if you did not spawn them during the previous location designator you can spawn them with the following cell.  "
   ]
  },
  {
   "cell_type": "code",
   "execution_count": null,
   "id": "288ae517",
   "metadata": {},
   "outputs": [],
   "source": [
    "pr2 = Object(\"pr2\", ObjectType.ROBOT, \"pr2.urdf\")\n",
    "milk = Object(\"milk\", ObjectType.MILK, \"milk.stl\", pose=Pose([1.3, 1, 0.9]))"
   ]
  },
  {
   "cell_type": "code",
   "execution_count": null,
   "id": "ed696d29",
   "metadata": {},
   "outputs": [],
   "source": [
    "from pycram.designators.location_designator import CostmapLocation\n",
    "from pycram.designators.object_designator import BelieveObject\n",
    "\n",
    "target = BelieveObject(names=[\"milk\"]).resolve()\n",
    "robot_desig = BelieveObject(names=[\"pr2\"]).resolve()\n",
    "\n",
    "location_description = CostmapLocation(target=target, visible_for=robot_desig)\n",
    "\n",
    "print(location_description.resolve())"
   ]
  },
  {
   "cell_type": "markdown",
   "id": "f71fc6e4",
   "metadata": {},
   "source": [
    "## Semantic \n",
    "Semantic location designator are used to create location descriptions for semantic entities, like a table. An example of this is: You have a robot that picked up an object and should place it on a table. Semantic location designator then allows to find poses that are on this table.\n",
    "\n",
    "Semantic location designator need an object from which the target entity is a part and the URDF link representing the entity. In this case we want a position on the kitchen island, so we have to provide the kitchen object designator since the island is a part of the kitchen and the link name of the island surface. \n",
    "\n",
    "For this example we need the kitchen as well as the milk. If you spawned them in one of the previous examples you don't need to execute the following cell."
   ]
  },
  {
   "cell_type": "code",
   "execution_count": null,
   "id": "0ef03d29",
   "metadata": {},
   "outputs": [],
   "source": [
    "kitchen = Object(\"kitchen\", ObjectType.ENVIRONMENT, \"kitchen.urdf\")\n",
    "milk = Object(\"milk\", ObjectType.MILK, \"milk.stl\")"
   ]
  },
  {
   "cell_type": "code",
   "execution_count": null,
   "id": "3384bc01",
   "metadata": {},
   "outputs": [],
   "source": [
    "from pycram.designators.location_designator import SemanticCostmapLocation \n",
    "from pycram.designators.object_designator import BelieveObject\n",
    "\n",
    "kitchen_desig = BelieveObject(names=[\"kitchen\"]).resolve()\n",
    "milk_desig = BelieveObject(names=[\"milk\"]).resolve()\n",
    "\n",
    "location_description = SemanticCostmapLocation(urdf_link_name=\"kitchen_island_surface\", \n",
    "                                               part_of=kitchen_desig,\n",
    "                                              for_object=milk_desig)\n",
    "\n",
    "print(location_description.resolve())"
   ]
  },
  {
   "cell_type": "markdown",
   "id": "970d2f04",
   "metadata": {},
   "source": [
    "## Location Designator as Generator\n",
    "Location designator descriptions implement an iter method, so they can be used as generators which generate valid poses for the location described in the description. This can be useful if the first pose does not work for some reason. \n",
    "\n",
    "We will see this at the example of a location designator for visibility. For this example we need the milk, if you already have a milk spawned in you world you can ignore the following cell."
   ]
  },
  {
   "cell_type": "code",
   "execution_count": null,
   "id": "2e628f8e",
   "metadata": {},
   "outputs": [],
   "source": [
    "milk = Object(\"milk\", ObjectType.MILK, \"milk.stl\")"
   ]
  },
  {
   "cell_type": "code",
   "execution_count": null,
   "id": "80cf709f",
   "metadata": {},
   "outputs": [],
   "source": [
    "from pycram.designators.location_designator import CostmapLocation\n",
    "from pycram.designators.object_designator import BelieveObject\n",
    "\n",
    "target = BelieveObject(names=[\"milk\"]).resolve()\n",
    "robot_desig = BelieveObject(names=[\"pr2\"]).resolve()\n",
    "\n",
    "location_description = CostmapLocation(target=target, visible_for=robot_desig)\n",
    "\n",
    "for pose in location_description:\n",
    "    print(pose.pose)"
   ]
  },
  {
   "cell_type": "markdown",
   "id": "0ae30e05",
   "metadata": {},
   "source": [
    "## Accessing Locations\n",
    "Accessing describes a location from which the robot can open a drawer. The drawer is specified by a ObjetcPart designator which describes the handle of the drawer.\n",
    "\n",
    "At the moment this location designator only works in the apartment environment, so please remove the kitchen if you spawned it in a previous example. Furthermore, we need a robot, so we also spawn the PR2 if it isn't spawned already."
   ]
  },
  {
   "cell_type": "code",
   "execution_count": null,
   "id": "98186d23",
   "metadata": {},
   "outputs": [],
   "source": [
    "kitchen.remove()"
   ]
  },
  {
   "cell_type": "code",
   "execution_count": null,
   "id": "7431d50d",
   "metadata": {},
   "outputs": [],
   "source": [
    "apartment = Object(\"apartment\", ObjectType.ENVIRONMENT, \"apartment.urdf\")"
   ]
  },
  {
   "cell_type": "code",
   "execution_count": null,
   "id": "c76428e2",
   "metadata": {},
   "outputs": [],
   "source": [
    "pr2 = Object(\"pr2\", ObjectType.ROBOT, \"pr2.urdf\")\n",
    "pr2.set_joint_state(\"torso_lift_joint\", 0.25)"
   ]
  },
  {
   "cell_type": "code",
   "execution_count": null,
   "id": "3ddd7efe",
   "metadata": {},
   "outputs": [],
   "source": [
    "from pycram.designators.object_designator import *\n",
    "from pycram.designators.location_designator import *\n",
    "\n",
    "apartment_desig = BelieveObject(names=[\"apartment\"])\n",
    "handle_desig = ObjectPart(names=[\"handle_cab10_t\"], part_of=apartment_desig.resolve())\n",
    "robot_desig = BelieveObject(names=[\"pr2\"])\n",
    "\n",
    "access_location = AccessingLocation(handle_desig.resolve(), robot_desig.resolve()).resolve()\n",
    "print(access_location.pose)"
   ]
  },
  {
   "cell_type": "markdown",
   "id": "501b40ee",
   "metadata": {},
   "source": [
    "## Giskard Location\n",
    "Some robots like the HSR or the Stretch2 need a full-body ik solver to utilize the whole body. For this case robots the ```GiskardLocation``` can be used. This location designator uses giskard as an ik solver to find a pose for the robot to reach a target pose. \n",
    "\n",
    "**Note:** The GiskardLocation relies on Giskard, therefore Giskard needs to run in order for this Location Designator to work."
   ]
  },
  {
   "cell_type": "code",
   "execution_count": null,
   "id": "bbe18382",
   "metadata": {},
   "outputs": [],
   "source": [
    "from pycram.designators.specialized_designators.location.giskard_location import GiskardLocation\n",
    "\n",
    "robot_desig = BelieveObject(names=[\"pr2\"]).resolve()\n",
    "\n",
    "loc = GiskardLocation(target=Pose([1, 1, 1]), reachable_for=robot_desig).resolve()\n",
    "print(loc.pose)"
   ]
  },
  {
   "cell_type": "markdown",
   "id": "5c42e759",
   "metadata": {
    "lines_to_next_cell": 0
   },
   "source": [
    "If you are finished with this example you can close the world with the following cell:"
   ]
  },
  {
   "cell_type": "code",
   "execution_count": null,
   "id": "a66dcff6",
   "metadata": {},
   "outputs": [],
   "source": [
    "world.exit()"
   ]
  }
 ],
 "metadata": {
  "kernelspec": {
   "display_name": "Python 3",
   "language": "python",
   "name": "python3"
  }
 },
 "nbformat": 4,
 "nbformat_minor": 5
}
