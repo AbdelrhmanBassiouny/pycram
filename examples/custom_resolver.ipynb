{
 "cells": [
  {
   "cell_type": "markdown",
   "metadata": {},
   "source": [
    "# Creating a custom Location Costmap\n",
    "\n",
    "In this tutorial we will walk through the creation of a costmap through machine learning.\n",
    "First we need to gather a lot of data. For that we will write a randomized experiment for grasping a couple of objects.\n",
    "In the experiment the robot will try to grasp a randomized object using random poses and torso heights."
   ]
  },
  {
   "cell_type": "code",
   "execution_count": 2,
   "metadata": {
    "ExecuteTime": {
     "end_time": "2023-09-26T15:11:26.947376251Z",
     "start_time": "2023-09-26T15:11:25.716520860Z"
    }
   },
   "outputs": [
    {
     "name": "stdout",
     "output_type": "stream",
     "text": [
      "Defaulting to user installation because normal site-packages is not writeable\n",
      "Collecting pyjpt\n",
      "  Downloading pyjpt-0.1.27-cp38-cp38-manylinux_2_17_x86_64.manylinux2014_x86_64.whl (8.3 MB)\n",
      "\u001b[2K     \u001b[38;2;114;156;31m━━━━━━━━━━━━━━━━━━━━━━━━━━━━━━━━━━━━━━━━\u001b[0m \u001b[32m8.3/8.3 MB\u001b[0m \u001b[31m10.4 MB/s\u001b[0m eta \u001b[36m0:00:00\u001b[0mm eta \u001b[36m0:00:01\u001b[0m[36m0:00:01\u001b[0m\n",
      "\u001b[?25hCollecting dnutils>=0.3.12 (from pyjpt)\n",
      "  Downloading dnutils-0.3.12.tar.gz (47 kB)\n",
      "\u001b[2K     \u001b[38;2;114;156;31m━━━━━━━━━━━━━━━━━━━━━━━━━━━━━━━━━━━━━━━━\u001b[0m \u001b[32m47.9/47.9 kB\u001b[0m \u001b[31m6.8 MB/s\u001b[0m eta \u001b[36m0:00:00\u001b[0m\n",
      "\u001b[?25h  Preparing metadata (setup.py) ... \u001b[?25ldone\n",
      "\u001b[?25hRequirement already satisfied: graphviz>=0.20.1 in /usr/local/lib/python3.8/dist-packages (from pyjpt) (0.20.1)\n",
      "Collecting scipy>=1.10.1 (from pyjpt)\n",
      "  Downloading scipy-1.10.1-cp38-cp38-manylinux_2_17_x86_64.manylinux2014_x86_64.whl (34.5 MB)\n",
      "\u001b[2K     \u001b[38;2;114;156;31m━━━━━━━━━━━━━━━━━━━━━━━━━━━━━━━━━━━━━━━━\u001b[0m \u001b[32m34.5/34.5 MB\u001b[0m \u001b[31m4.4 MB/s\u001b[0m eta \u001b[36m0:00:00\u001b[0mm eta \u001b[36m0:00:01\u001b[0m[36m0:00:01\u001b[0m\n",
      "\u001b[?25hRequirement already satisfied: numpy>=1.24.3 in /usr/local/lib/python3.8/dist-packages (from pyjpt) (1.24.3)\n",
      "Collecting matplotlib>=3.7.1 (from pyjpt)\n",
      "  Downloading matplotlib-3.7.3-cp38-cp38-manylinux_2_12_x86_64.manylinux2010_x86_64.whl (9.2 MB)\n",
      "\u001b[2K     \u001b[38;2;114;156;31m━━━━━━━━━━━━━━━━━━━━━━━━━━━━━━━━━━━━━━━━\u001b[0m \u001b[32m9.2/9.2 MB\u001b[0m \u001b[31m3.8 MB/s\u001b[0m eta \u001b[36m0:00:00\u001b[0mm eta \u001b[36m0:00:01\u001b[0m[36m0:00:01\u001b[0m\n",
      "\u001b[?25hCollecting pandas>=2.0.1 (from pyjpt)\n",
      "  Downloading pandas-2.0.3-cp38-cp38-manylinux_2_17_x86_64.manylinux2014_x86_64.whl (12.4 MB)\n",
      "\u001b[2K     \u001b[38;2;114;156;31m━━━━━━━━━━━━━━━━━━━━━━━━━━━━━━━━━━━━━━━━\u001b[0m \u001b[32m12.4/12.4 MB\u001b[0m \u001b[31m6.7 MB/s\u001b[0m eta \u001b[36m0:00:00\u001b[0mm eta \u001b[36m0:00:01\u001b[0m0:01\u001b[0m:01\u001b[0m\n",
      "\u001b[?25hCollecting arff>=0.9 (from pyjpt)\n",
      "  Downloading arff-0.9.tar.gz (4.7 kB)\n",
      "  Preparing metadata (setup.py) ... \u001b[?25ldone\n",
      "\u001b[?25hCollecting fglib>=0.2.3 (from pyjpt)\n",
      "  Downloading fglib-0.2.3-py3-none-any.whl (17 kB)\n",
      "Collecting factorgraph>=0.0.3 (from pyjpt)\n",
      "  Downloading factorgraph-0.0.3.tar.gz (12 kB)\n",
      "  Preparing metadata (setup.py) ... \u001b[?25ldone\n",
      "\u001b[?25hRequirement already satisfied: deprecated in /usr/lib/python3/dist-packages (from pyjpt) (1.2.7)\n",
      "Collecting colored>=1.3.5 (from dnutils>=0.3.12->pyjpt)\n",
      "  Downloading colored-1.4.4.tar.gz (36 kB)\n",
      "  Preparing metadata (setup.py) ... \u001b[?25ldone\n",
      "\u001b[?25hCollecting portalocker (from dnutils>=0.3.12->pyjpt)\n",
      "  Downloading portalocker-2.8.2-py3-none-any.whl (17 kB)\n",
      "Collecting tabulate (from dnutils>=0.3.12->pyjpt)\n",
      "  Downloading tabulate-0.9.0-py3-none-any.whl (35 kB)\n",
      "Requirement already satisfied: networkx>=2.0 in /usr/local/lib/python3.8/dist-packages (from fglib>=0.2.3->pyjpt) (3.1)\n",
      "Collecting contourpy>=1.0.1 (from matplotlib>=3.7.1->pyjpt)\n",
      "  Downloading contourpy-1.1.1-cp38-cp38-manylinux_2_17_x86_64.manylinux2014_x86_64.whl (301 kB)\n",
      "\u001b[2K     \u001b[38;2;114;156;31m━━━━━━━━━━━━━━━━━━━━━━━━━━━━━━━━━━━━━━━\u001b[0m \u001b[32m301.1/301.1 kB\u001b[0m \u001b[31m6.2 MB/s\u001b[0m eta \u001b[36m0:00:00\u001b[0m MB/s\u001b[0m eta \u001b[36m0:00:01\u001b[0m\n",
      "\u001b[?25hRequirement already satisfied: cycler>=0.10 in /usr/lib/python3/dist-packages (from matplotlib>=3.7.1->pyjpt) (0.10.0)\n",
      "Collecting fonttools>=4.22.0 (from matplotlib>=3.7.1->pyjpt)\n",
      "  Downloading fonttools-4.42.1-cp38-cp38-manylinux_2_17_x86_64.manylinux2014_x86_64.whl (4.6 MB)\n",
      "\u001b[2K     \u001b[38;2;114;156;31m━━━━━━━━━━━━━━━━━━━━━━━━━━━━━━━━━━━━━━━━\u001b[0m \u001b[32m4.6/4.6 MB\u001b[0m \u001b[31m7.0 MB/s\u001b[0m eta \u001b[36m0:00:00\u001b[0m[36m0:00:01\u001b[0mm eta \u001b[36m0:00:01\u001b[0m\n",
      "\u001b[?25hRequirement already satisfied: kiwisolver>=1.0.1 in /usr/lib/python3/dist-packages (from matplotlib>=3.7.1->pyjpt) (1.0.1)\n",
      "Requirement already satisfied: packaging>=20.0 in /usr/local/lib/python3.8/dist-packages (from matplotlib>=3.7.1->pyjpt) (23.0)\n",
      "Requirement already satisfied: pillow>=6.2.0 in /usr/local/lib/python3.8/dist-packages (from matplotlib>=3.7.1->pyjpt) (9.2.0)\n",
      "Requirement already satisfied: pyparsing>=2.3.1 in /usr/lib/python3/dist-packages (from matplotlib>=3.7.1->pyjpt) (2.4.6)\n",
      "Requirement already satisfied: python-dateutil>=2.7 in /usr/local/lib/python3.8/dist-packages (from matplotlib>=3.7.1->pyjpt) (2.8.2)\n",
      "Requirement already satisfied: importlib-resources>=3.2.0 in /usr/local/lib/python3.8/dist-packages (from matplotlib>=3.7.1->pyjpt) (5.9.0)\n",
      "Requirement already satisfied: pytz>=2020.1 in /usr/local/lib/python3.8/dist-packages (from pandas>=2.0.1->pyjpt) (2022.6)\n",
      "Collecting tzdata>=2022.1 (from pandas>=2.0.1->pyjpt)\n",
      "  Downloading tzdata-2023.3-py2.py3-none-any.whl (341 kB)\n",
      "\u001b[2K     \u001b[38;2;114;156;31m━━━━━━━━━━━━━━━━━━━━━━━━━━━━━━━━━━━━━━━\u001b[0m \u001b[32m341.8/341.8 kB\u001b[0m \u001b[31m6.7 MB/s\u001b[0m eta \u001b[36m0:00:00\u001b[0m MB/s\u001b[0m eta \u001b[36m0:00:01\u001b[0m\n",
      "\u001b[?25hRequirement already satisfied: zipp>=3.1.0 in /usr/local/lib/python3.8/dist-packages (from importlib-resources>=3.2.0->matplotlib>=3.7.1->pyjpt) (3.8.1)\n",
      "Requirement already satisfied: six>=1.5 in /usr/lib/python3/dist-packages (from python-dateutil>=2.7->matplotlib>=3.7.1->pyjpt) (1.14.0)\n",
      "Building wheels for collected packages: arff, dnutils, factorgraph, colored\n",
      "  Building wheel for arff (setup.py) ... \u001b[?25ldone\n",
      "\u001b[?25h  Created wheel for arff: filename=arff-0.9-py3-none-any.whl size=4970 sha256=6a393e927c868cefe770c96b7eaf8cb137b45562c6b398dcbe7607127874ebaa\n",
      "  Stored in directory: /home/jdech/.cache/pip/wheels/8b/5b/6a/fdaf9e4b202a61789ddbc0341e3a0df5406d8e36edf08feaec\n",
      "  Building wheel for dnutils (setup.py) ... \u001b[?25ldone\n",
      "\u001b[?25h  Created wheel for dnutils: filename=dnutils-0.3.12-py3-none-any.whl size=48185 sha256=c384e0a0e76ed64aef0074a49845c00a0343968aed82d1b11da2b7175844983a\n",
      "  Stored in directory: /home/jdech/.cache/pip/wheels/f5/5c/3a/5e7a9bb4bf46522cbf59d723c7e87d892f09b88946bc923c18\n",
      "  Building wheel for factorgraph (setup.py) ... \u001b[?25ldone\n",
      "\u001b[?25h  Created wheel for factorgraph: filename=factorgraph-0.0.3-py3-none-any.whl size=11442 sha256=da3143da54aba99b0234401fd1579c8769d949afee64b231988c07fef9926b01\n",
      "  Stored in directory: /home/jdech/.cache/pip/wheels/79/9a/04/7b0f8377ab07101715a4b6d5c2421c535c0fc43526e1f2bb08\n",
      "  Building wheel for colored (setup.py) ... \u001b[?25ldone\n",
      "\u001b[?25h  Created wheel for colored: filename=colored-1.4.4-py3-none-any.whl size=14251 sha256=cb6fc781eaf0e0b88cab08987b3862adbb10a316dba1cab653887144e56d2c88\n",
      "  Stored in directory: /home/jdech/.cache/pip/wheels/6b/1d/d8/57b7135b55f8edab11eef771777a2ca4665f922f012f71c77b\n",
      "Successfully built arff dnutils factorgraph colored\n",
      "Installing collected packages: colored, arff, tzdata, tabulate, scipy, portalocker, fonttools, factorgraph, contourpy, pandas, matplotlib, dnutils, fglib, pyjpt\n",
      "Successfully installed arff-0.9 colored-1.4.4 contourpy-1.1.1 dnutils-0.3.12 factorgraph-0.0.3 fglib-0.2.3 fonttools-4.42.1 matplotlib-3.7.3 pandas-2.0.3 portalocker-2.8.2 pyjpt-0.1.27 scipy-1.10.1 tabulate-0.9.0 tzdata-2023.3\n",
      "\n",
      "\u001b[1m[\u001b[0m\u001b[34;49mnotice\u001b[0m\u001b[1;39;49m]\u001b[0m\u001b[39;49m A new release of pip is available: \u001b[0m\u001b[31;49m23.1.2\u001b[0m\u001b[39;49m -> \u001b[0m\u001b[32;49m23.2.1\u001b[0m\n",
      "\u001b[1m[\u001b[0m\u001b[34;49mnotice\u001b[0m\u001b[1;39;49m]\u001b[0m\u001b[39;49m To update, run: \u001b[0m\u001b[32;49mpython3 -m pip install --upgrade pip\u001b[0m\n"
     ]
    }
   ],
   "source": [
    "!pip install --upgrade pyjpt"
   ]
  },
  {
   "cell_type": "code",
   "execution_count": 1,
   "metadata": {
    "ExecuteTime": {
     "end_time": "2023-09-26T15:11:28.032045268Z",
     "start_time": "2023-09-26T15:11:26.961532244Z"
    }
   },
   "outputs": [],
   "source": [
    "import itertools\n",
    "import time\n",
    "from typing import Optional, List, Tuple\n",
    "\n",
    "import numpy as np\n",
    "\n",
    "import sqlalchemy.orm\n",
    "import tf\n",
    "import tqdm\n",
    "\n",
    "import pycram.orm.base\n",
    "import pycram.task\n",
    "from pycram.bullet_world import BulletWorld, Object as BulletWorldObject\n",
    "from pycram.designators.action_designator import MoveTorsoAction, PickUpAction, NavigateAction, ParkArmsAction\n",
    "from pycram.designators.object_designator import ObjectDesignatorDescription\n",
    "import pycram.enums\n",
    "from pycram.plan_failures import PlanFailure\n",
    "from pycram.process_module import ProcessModule\n",
    "\n",
    "from pycram.process_module import simulated_robot\n",
    "import sqlalchemy.orm\n",
    "from pycram.resolver.location.jpt_location import JPTCostmapLocation\n",
    "from pycram.orm.base import Position, RobotState\n",
    "from pycram.orm.task import TaskTreeNode, Code\n",
    "from pycram.orm.action_designator import PickUpAction as ORMPickUpAction\n",
    "from pycram.orm.object_designator import ObjectDesignator\n",
    "import sqlalchemy.sql\n",
    "import pandas as pd\n",
    "\n",
    "from pycram.pose import Pose\n",
    "\n",
    "ProcessModule.execution_delay = False\n",
    "pycram.orm.base.MetaData().description = \"Tutorial for learning from experience in a Grasping action.\"\n",
    "\n",
    "\n",
    "class GraspingExplorer:\n",
    "    \"\"\"Class to try randomized grasping plans.\"\"\"\n",
    "\n",
    "    world: Optional[BulletWorld]\n",
    "\n",
    "    def __init__(self, robots: Optional[List[Tuple[str, str]]] = None, objects: Optional[List[Tuple[str, str]]] = None,\n",
    "                 arms: Optional[List[str]] = None, grasps: Optional[List[str]] = None,\n",
    "                 samples_per_scenario: int = 1000):\n",
    "        \"\"\"\n",
    "        Create a GraspingExplorer.\n",
    "        :param robots: The robots to use\n",
    "        :param objects: The objects to try to grasp\n",
    "        :param arms: The arms of the robot to use\n",
    "        :param grasps: The grasp orientations to use\n",
    "        :param samples_per_scenario: The number of tries per scenario.\n",
    "        \"\"\"\n",
    "        # store exploration space\n",
    "        if not robots:\n",
    "            self.robots: List[Tuple[str, str]] = [(\"pr2\", \"pr2.urdf\")]\n",
    "\n",
    "        if not objects:\n",
    "            self.objects: List[Tuple[str, str]] = [(\"cereal\", \"breakfast_cereal.stl\"), (\"bowl\", \"bowl.stl\"),\n",
    "                                                   (\"milk\", \"milk.stl\"),\n",
    "                                                   (\"spoon\", \"spoon.stl\")]\n",
    "\n",
    "        if not arms:\n",
    "            self.arms: List[str] = [\"left\", \"right\"]\n",
    "\n",
    "        if not grasps:\n",
    "            self.grasps: List[str] = [\"left\", \"right\", \"front\", \"top\"]\n",
    "\n",
    "        # store trials per scenario\n",
    "        self.samples_per_scenario: int = samples_per_scenario\n",
    "\n",
    "        # chain hyperparameters\n",
    "        self.hyper_parameters = [self.robots, self.objects, self.arms, self.grasps]\n",
    "\n",
    "        self.total_tries = 0\n",
    "        self.total_failures = 0\n",
    "\n",
    "    def perform(self, session: sqlalchemy.orm.Session):\n",
    "        \"\"\"\n",
    "        Perform all experiments.\n",
    "        :param session: The database-session to insert the samples in.\n",
    "        \"\"\"\n",
    "\n",
    "        # create progress bar\n",
    "        progress_bar = tqdm.tqdm(\n",
    "            total=np.prod([len(p) for p in self.hyper_parameters]) * self.samples_per_scenario)\n",
    "\n",
    "        self.world = BulletWorld(\"DIRECT\")\n",
    "\n",
    "        # for every robot\n",
    "        for robot, robot_urdf in self.robots:\n",
    "\n",
    "            # spawn it\n",
    "            robot = BulletWorldObject(robot, \"robot\", robot_urdf)\n",
    "\n",
    "            # for every obj\n",
    "            for obj, obj_stl in self.objects:\n",
    "\n",
    "                # spawn it\n",
    "                bw_object = BulletWorldObject(obj, obj, obj_stl, Pose([0, 0, 0.75], [0, 0, 0, 1]))\n",
    "\n",
    "                # create object designator\n",
    "                object_designator = ObjectDesignatorDescription(names=[obj])\n",
    "\n",
    "                # for every arm and grasp pose\n",
    "                for arm, grasp in itertools.product(self.arms, self.grasps):\n",
    "                    # sample positions in 2D\n",
    "                    positions = np.random.uniform([-2, -2], [2, 2], (self.samples_per_scenario, 2))\n",
    "\n",
    "                    # for every position\n",
    "                    for position in positions:\n",
    "\n",
    "                        # set z axis to 0\n",
    "                        position = [*position, 0]\n",
    "\n",
    "                        # calculate orientation for robot to face the object\n",
    "                        angle = np.arctan2(position[1], position[0]) + np.pi\n",
    "                        orientation = list(tf.transformations.quaternion_from_euler(0, 0, angle, axes=\"sxyz\"))\n",
    "\n",
    "                        # try to execute a grasping plan\n",
    "                        with simulated_robot:\n",
    "\n",
    "                            ParkArmsAction.Action(pycram.enums.Arms.BOTH).perform()\n",
    "                            # navigate to sampled position\n",
    "                            NavigateAction([Pose(position, orientation)]).resolve().perform()\n",
    "\n",
    "                            # move torso\n",
    "                            height = np.random.uniform(0., 0.33, 1)[0]\n",
    "                            MoveTorsoAction.Action(height).perform()\n",
    "\n",
    "                            # try to pick it up\n",
    "                            try:\n",
    "                                PickUpAction(object_designator, [arm], [grasp]).resolve().perform()\n",
    "\n",
    "                            # if it fails\n",
    "                            except PlanFailure:\n",
    "\n",
    "                                # update failure stats\n",
    "                                self.total_failures += 1\n",
    "\n",
    "                            # reset BulletWorld\n",
    "                            self.world.reset_bullet_world()\n",
    "\n",
    "                            # update progress bar\n",
    "                            self.total_tries += 1\n",
    "\n",
    "                            # insert into database\n",
    "                            pycram.task.task_tree.insert(session, use_progress_bar=False)\n",
    "                            pycram.task.reset_tree()\n",
    "\n",
    "                            progress_bar.update()\n",
    "                            progress_bar.set_postfix(success_rate=(self.total_tries - self.total_failures) /\n",
    "                                                                  self.total_tries)\n",
    "\n",
    "                bw_object.remove()\n",
    "            robot.remove()\n",
    "\n",
    "        self.world.exit()"
   ]
  },
  {
   "cell_type": "markdown",
   "metadata": {},
   "source": [
    "Next we have to establish a connection to a database and execute the experiment a couple of times. Note that the (few) number of samples we generate is only for demonstrations.\n",
    "For robust and reliable machine learning millions of samples are required."
   ]
  },
  {
   "cell_type": "code",
   "execution_count": 4,
   "metadata": {
    "ExecuteTime": {
     "end_time": "2023-09-26T15:11:28.033234454Z",
     "start_time": "2023-09-26T15:11:28.032297670Z"
    }
   },
   "outputs": [
    {
     "name": "stderr",
     "output_type": "stream",
     "text": [
      "  0%|          | 0/960 [00:00<?, ?it/s]Unknown tag \"material\" in /robot[@name='plane']/link[@name='planeLink']/collision[1]\n",
      "Unknown tag \"contact\" in /robot[@name='plane']/link[@name='planeLink']\n",
      "Unknown attribute \"type\" in /robot[@name='pr2']/link[@name='base_laser_link']\n",
      "Unknown attribute \"type\" in /robot[@name='pr2']/link[@name='wide_stereo_optical_frame']\n",
      "Unknown attribute \"type\" in /robot[@name='pr2']/link[@name='narrow_stereo_optical_frame']\n",
      "Unknown attribute \"type\" in /robot[@name='pr2']/link[@name='laser_tilt_link']\n",
      "Unknown tag \"material\" in /robot[@name='plane']/link[@name='planeLink']/collision[1]\n",
      "Unknown tag \"contact\" in /robot[@name='plane']/link[@name='planeLink']\n",
      "Unknown attribute \"type\" in /robot[@name='pr2']/link[@name='base_laser_link']\n",
      "Unknown attribute \"type\" in /robot[@name='pr2']/link[@name='wide_stereo_optical_frame']\n",
      "Unknown attribute \"type\" in /robot[@name='pr2']/link[@name='narrow_stereo_optical_frame']\n",
      "Unknown attribute \"type\" in /robot[@name='pr2']/link[@name='laser_tilt_link']\n",
      "100%|██████████| 960/960 [01:06<00:00, 14.00it/s, success_rate=0.0792]"
     ]
    }
   ],
   "source": [
    "# engine = sqlalchemy.create_engine(\"sqlite+pysqlite:///:memory:\")\n",
    "# session = sqlalchemy.orm.Session(bind=engine)\n",
    "# pycram.orm.base.Base.metadata.create_all(bind=engine)\n",
    "# session.commit()\n",
    "\n",
    "# explorer = GraspingExplorer(samples_per_scenario=30)\n",
    "# explorer.perform(session)\n"
   ]
  },
  {
   "cell_type": "markdown",
   "metadata": {},
   "source": [
    "Write the database to a file if wanted."
   ]
  },
  {
   "cell_type": "code",
   "execution_count": 5,
   "metadata": {
    "ExecuteTime": {
     "end_time": "2023-09-26T15:11:28.043153677Z",
     "start_time": "2023-09-26T15:11:28.033690214Z"
    }
   },
   "outputs": [
    {
     "name": "stderr",
     "output_type": "stream",
     "text": [
      "\r",
      "100%|██████████| 960/960 [01:20<00:00, 14.00it/s, success_rate=0.0792]"
     ]
    }
   ],
   "source": [
    "# import os\n",
    "# con = engine.raw_connection()\n",
    "\n",
    "# with open(os.path.join(os.path. expanduser('~'), \"Documents\", \"costmap.dump\"), 'w') as f:\n",
    "#     for line in con.iterdump():\n",
    "#         f.write('%s\\n' % line)"
   ]
  },
  {
   "cell_type": "markdown",
   "metadata": {},
   "source": [
    "Read the database from a file instead of executing all the experiments."
   ]
  },
  {
   "cell_type": "code",
   "execution_count": 6,
   "metadata": {
    "ExecuteTime": {
     "end_time": "2023-09-26T15:11:28.125180856Z",
     "start_time": "2023-09-26T15:11:28.044257932Z"
    }
   },
   "outputs": [],
   "source": [
    "import os\n",
    "\n",
    "engine = sqlalchemy.create_engine(\"sqlite+pysqlite:///:memory:\")\n",
    "session = sqlalchemy.orm.Session(bind=engine)\n",
    "# pycram.orm.base.Base.metadata.create_all(bind=engine)\n",
    "session.commit()\n",
    "\n",
    "with engine.connect() as con:\n",
    "    with open(os.path.join(os.path. expanduser('~'), \"Documents\", \"costmap.dump\")) as file:\n",
    "        raw_connection = engine.raw_connection()\n",
    "        # raw_cursor = raw_connection()\n",
    "        raw_connection.executescript(file.read())"
   ]
  },
  {
   "cell_type": "markdown",
   "metadata": {},
   "source": [
    "Next we will create a dataframe from the just created database by joining the relevant information together using the pycram.orm package.\n",
    "We will get the following columns:\n",
    "    - status of the grasping task\n",
    "    - type of the grasped object\n",
    "    - arm used to grasp\n",
    "    - grasp pose\n",
    "    - torso height relative to the object\n",
    "    - x and y coordinate of the robot relative to the object.\n",
    "\n",
    "Keep in mind that filtering before joining is always advisable, hence the subquery."
   ]
  },
  {
   "cell_type": "code",
   "execution_count": 7,
   "metadata": {
    "ExecuteTime": {
     "end_time": "2023-09-26T15:11:28.218113114Z",
     "start_time": "2023-09-26T15:11:28.175509845Z"
    }
   },
   "outputs": [
    {
     "name": "stdout",
     "output_type": "stream",
     "text": [
      "     status    type    arm grasp  relative torso height         x         y\n",
      "0    FAILED  cereal   left  left               0.574307 -0.553904 -0.730451\n",
      "1    FAILED  cereal   left  left               0.521642  1.149205  0.561576\n",
      "2    FAILED  cereal   left  left               0.642827  0.135124  0.113082\n",
      "3    FAILED  cereal   left  left               0.600705  0.021554  1.308962\n",
      "4    FAILED  cereal   left  left               0.658590  0.689245 -1.832218\n",
      "..      ...     ...    ...   ...                    ...       ...       ...\n",
      "955  FAILED   spoon  right   top               0.535743 -0.079913  0.796938\n",
      "956  FAILED   spoon  right   top               0.456427 -1.601007 -1.225585\n",
      "957  FAILED   spoon  right   top               0.618545  0.824539  1.955952\n",
      "958  FAILED   spoon  right   top               0.567281  0.300509  1.308675\n",
      "959  FAILED   spoon  right   top               0.433956 -1.597492 -1.917662\n",
      "\n",
      "[960 rows x 7 columns]\n"
     ]
    }
   ],
   "source": [
    "robot_pos = sqlalchemy.orm.aliased(Position)\n",
    "object_pos = sqlalchemy.orm.aliased(Position)\n",
    "\n",
    "filtered_code = session.query(Code.id, Code.designator).filter(Code.designator != None).subquery(\"filtered_code\")\n",
    "\n",
    "query = session.query(TaskTreeNode.status, ObjectDesignator.type, ORMPickUpAction.arm, ORMPickUpAction.grasp,\n",
    "                      sqlalchemy.label(\"relative torso height\", object_pos.z - RobotState.torso_height),\n",
    "                      sqlalchemy.label(\"x\", robot_pos.x - object_pos.x),\n",
    "                      sqlalchemy.label(\"y\", robot_pos.y - object_pos.y)). \\\n",
    "    join(filtered_code, filtered_code.c.id == TaskTreeNode.id). \\\n",
    "    join(ORMPickUpAction, ORMPickUpAction.id == filtered_code.c.designator). \\\n",
    "    join(RobotState, RobotState.id == ORMPickUpAction.robot_state). \\\n",
    "    join(robot_pos, RobotState.position == robot_pos.id). \\\n",
    "    join(ObjectDesignator, ObjectDesignator.id == ORMPickUpAction.object). \\\n",
    "    join(object_pos, ObjectDesignator.position == object_pos.id)\n",
    "\n",
    "df = pd.read_sql(query.statement, session.get_bind())\n",
    "df[\"status\"] = df[\"status\"].apply(lambda x: str(x.name))\n",
    "print(df)"
   ]
  },
  {
   "cell_type": "markdown",
   "metadata": {},
   "source": [
    "Next we will define a joint probability distributions over these points using, for instance, a Joint Probability Tree."
   ]
  },
  {
   "cell_type": "code",
   "execution_count": 4,
   "metadata": {
    "ExecuteTime": {
     "end_time": "2023-09-26T15:11:28.218327191Z",
     "start_time": "2023-09-26T15:11:28.217851926Z"
    }
   },
   "outputs": [
    {
     "ename": "NameError",
     "evalue": "name 'df' is not defined",
     "output_type": "error",
     "traceback": [
      "\u001b[0;31m---------------------------------------------------------------------------\u001b[0m",
      "\u001b[0;31mNameError\u001b[0m                                 Traceback (most recent call last)",
      "Cell \u001b[0;32mIn[4], line 3\u001b[0m\n\u001b[1;32m      1\u001b[0m \u001b[38;5;28;01mimport\u001b[39;00m \u001b[38;5;21;01mjpt\u001b[39;00m\n\u001b[0;32m----> 3\u001b[0m model \u001b[38;5;241m=\u001b[39m jpt\u001b[38;5;241m.\u001b[39mtrees\u001b[38;5;241m.\u001b[39mJPT(variables\u001b[38;5;241m=\u001b[39mjpt\u001b[38;5;241m.\u001b[39minfer_from_dataframe(\u001b[43mdf\u001b[49m, scale_numeric_types\u001b[38;5;241m=\u001b[39m\u001b[38;5;28;01mFalse\u001b[39;00m, precision\u001b[38;5;241m=\u001b[39m\u001b[38;5;241m0.05\u001b[39m),\n\u001b[1;32m      4\u001b[0m                       min_samples_leaf\u001b[38;5;241m=\u001b[39m\u001b[38;5;241m5\u001b[39m, min_impurity_improvement\u001b[38;5;241m=\u001b[39m\u001b[38;5;241m0.01\u001b[39m)\n\u001b[1;32m      5\u001b[0m model\u001b[38;5;241m.\u001b[39mfit(df)\n",
      "\u001b[0;31mNameError\u001b[0m: name 'df' is not defined"
     ]
    }
   ],
   "source": [
    "import jpt\n",
    "\n",
    "model = jpt.trees.JPT(variables=jpt.infer_from_dataframe(df, scale_numeric_types=False, precision=0.05),\n",
    "                      min_samples_leaf=5, min_impurity_improvement=0.01)\n",
    "model.fit(df)"
   ]
  },
  {
   "cell_type": "markdown",
   "metadata": {},
   "source": [
    "Finally, we will insert our model in the existing JPT-Costmap wrapper, create a toy simulation and visualize our result."
   ]
  },
  {
   "cell_type": "code",
   "execution_count": 3,
   "metadata": {
    "ExecuteTime": {
     "end_time": "2023-09-26T15:11:36.813332330Z",
     "start_time": "2023-09-26T15:11:28.218030142Z"
    }
   },
   "outputs": [
    {
     "name": "stderr",
     "output_type": "stream",
     "text": [
      "Unknown tag \"material\" in /robot[@name='plane']/link[@name='planeLink']/collision[1]\n",
      "Unknown tag \"contact\" in /robot[@name='plane']/link[@name='planeLink']\n",
      "Unknown attribute \"type\" in /robot[@name='pr2']/link[@name='base_laser_link']\n",
      "Unknown attribute \"type\" in /robot[@name='pr2']/link[@name='wide_stereo_optical_frame']\n",
      "Unknown attribute \"type\" in /robot[@name='pr2']/link[@name='narrow_stereo_optical_frame']\n",
      "Unknown attribute \"type\" in /robot[@name='pr2']/link[@name='laser_tilt_link']\n",
      "Unknown tag \"material\" in /robot[@name='plane']/link[@name='planeLink']/collision[1]\n",
      "Unknown tag \"contact\" in /robot[@name='plane']/link[@name='planeLink']\n",
      "Unknown attribute \"type\" in /robot[@name='pr2']/link[@name='base_laser_link']\n",
      "Unknown attribute \"type\" in /robot[@name='pr2']/link[@name='wide_stereo_optical_frame']\n",
      "Unknown attribute \"type\" in /robot[@name='pr2']/link[@name='narrow_stereo_optical_frame']\n",
      "Unknown attribute \"type\" in /robot[@name='pr2']/link[@name='laser_tilt_link']\n"
     ]
    },
    {
     "ename": "NameError",
     "evalue": "name 'model' is not defined",
     "output_type": "error",
     "traceback": [
      "\u001b[0;31m---------------------------------------------------------------------------\u001b[0m",
      "\u001b[0;31mNameError\u001b[0m                                 Traceback (most recent call last)",
      "Cell \u001b[0;32mIn[3], line 8\u001b[0m\n\u001b[1;32m      6\u001b[0m cereal \u001b[38;5;241m=\u001b[39m BulletWorldObject(\u001b[38;5;124m\"\u001b[39m\u001b[38;5;124mmilk\u001b[39m\u001b[38;5;124m\"\u001b[39m, \u001b[38;5;124m\"\u001b[39m\u001b[38;5;124mmilk\u001b[39m\u001b[38;5;124m\"\u001b[39m, \u001b[38;5;124m\"\u001b[39m\u001b[38;5;124mmilk.stl\u001b[39m\u001b[38;5;124m\"\u001b[39m, pose\u001b[38;5;241m=\u001b[39mPose([\u001b[38;5;241m0\u001b[39m, \u001b[38;5;241m0\u001b[39m, \u001b[38;5;241m0.75\u001b[39m], [\u001b[38;5;241m0\u001b[39m,\u001b[38;5;241m0\u001b[39m,\u001b[38;5;241m0\u001b[39m,\u001b[38;5;241m1\u001b[39m]))\n\u001b[1;32m      7\u001b[0m np\u001b[38;5;241m.\u001b[39mrandom\u001b[38;5;241m.\u001b[39mseed(\u001b[38;5;241m420\u001b[39m)\n\u001b[0;32m----> 8\u001b[0m cml \u001b[38;5;241m=\u001b[39m JPTCostmapLocation(cereal, reachable_for\u001b[38;5;241m=\u001b[39mrobot, model\u001b[38;5;241m=\u001b[39m\u001b[43mmodel\u001b[49m)\n\u001b[1;32m      9\u001b[0m cml\u001b[38;5;241m.\u001b[39mvisualize()\n\u001b[1;32m     10\u001b[0m \u001b[38;5;28;01mwith\u001b[39;00m simulated_robot:\n",
      "\u001b[0;31mNameError\u001b[0m: name 'model' is not defined"
     ]
    }
   ],
   "source": [
    "ProcessModule.execution_delay = True\n",
    "\n",
    "world = BulletWorld(\"GUI\")\n",
    "robot = BulletWorldObject(\"pr2\", \"robot\", \"pr2.urdf\")\n",
    "\n",
    "cereal = BulletWorldObject(\"milk\", \"milk\", \"milk.stl\", pose=Pose([0, 0, 0.75], [0,0,0,1]))\n",
    "np.random.seed(420)\n",
    "cml = JPTCostmapLocation(cereal, reachable_for=robot, model=model)\n",
    "cml.visualize()\n",
    "with simulated_robot:\n",
    "    for sample in iter(cml):\n",
    "        ParkArmsAction.Action(pycram.enums.Arms.BOTH).perform()\n",
    "        NavigateAction.Action(sample.pose).perform()\n",
    "        MoveTorsoAction.Action(sample.torso_height).perform()\n",
    "        try:\n",
    "            PickUpAction.Action(\n",
    "                ObjectDesignatorDescription(types=[\"milk\"]).resolve(),\n",
    "                arm=sample.reachable_arm, grasp=sample.grasp).perform()\n",
    "            # time.sleep(5)\n",
    "        except pycram.plan_failures.PlanFailure as p:\n",
    "            continue\n",
    "        break\n",
    "world.exit()"
   ]
  },
  {
   "cell_type": "markdown",
   "metadata": {},
   "source": [
    "Congratulations, you made the PR2 learn how to grasp objects.\n",
    "Yeehaaw!🤠"
   ]
  }
 ],
 "metadata": {
  "kernelspec": {
   "display_name": "Python 3",
   "language": "python",
   "name": "python3"
  },
  "language_info": {
   "codemirror_mode": {
    "name": "ipython",
    "version": 3
   },
   "file_extension": ".py",
   "mimetype": "text/x-python",
   "name": "python",
   "nbconvert_exporter": "python",
   "pygments_lexer": "ipython3",
   "version": "3.8.10"
  }
 },
 "nbformat": 4,
 "nbformat_minor": 1
}
