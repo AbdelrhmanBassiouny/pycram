{
 "cells": [
  {
   "cell_type": "markdown",
   "metadata": {},
   "source": [
    "# Creating a custom Location Costmap\n",
    "\n",
    "In this tutorial we will walk through the creation of a costmap through probabilistic machine learning.\n",
    "\n",
    "After this tutorial you will know:\n",
    "- Why probabilities are a useful thing in robot planning\n",
    "- How to craft probabilistic models for your plan\n",
    "\n",
    "Lets start by installing the important package."
   ]
  },
  {
   "cell_type": "markdown",
   "source": [],
   "metadata": {
    "collapsed": false
   }
  },
  {
   "cell_type": "code",
   "metadata": {
    "ExecuteTime": {
     "end_time": "2024-03-07T14:18:35.388769Z",
     "start_time": "2024-03-07T14:18:34.325541Z"
    }
   },
   "source": [
    "!pip install --upgrade probabilistic_model"
   ],
   "outputs": [
    {
     "name": "stdout",
     "output_type": "stream",
     "text": [
      "Requirement already satisfied: probabilistic_model in /home/tom_sch/.virtualenvs/pycram/lib/python3.8/site-packages (3.3.4)\r\n",
      "Requirement already satisfied: random-events>=1.2.5 in /home/tom_sch/.virtualenvs/pycram/lib/python3.8/site-packages (from probabilistic_model) (1.2.5)\r\n",
      "Requirement already satisfied: networkx>=3.0 in /home/tom_sch/.virtualenvs/pycram/lib/python3.8/site-packages (from probabilistic_model) (3.1)\r\n",
      "Requirement already satisfied: portion>=2.4.2 in /home/tom_sch/.virtualenvs/pycram/lib/python3.8/site-packages (from probabilistic_model) (2.4.2)\r\n",
      "Requirement already satisfied: plotly>=5.19.0 in /home/tom_sch/.virtualenvs/pycram/lib/python3.8/site-packages (from probabilistic_model) (5.19.0)\r\n",
      "Requirement already satisfied: scipy>=1.10.0 in /home/tom_sch/.virtualenvs/pycram/lib/python3.8/site-packages (from probabilistic_model) (1.10.1)\r\n",
      "Requirement already satisfied: typing-extensions>=4.9.0 in /home/tom_sch/.virtualenvs/pycram/lib/python3.8/site-packages (from probabilistic_model) (4.10.0)\r\n",
      "Requirement already satisfied: numpy>=1.24.4 in /home/tom_sch/.virtualenvs/pycram/lib/python3.8/site-packages (from probabilistic_model) (1.24.4)\r\n",
      "Requirement already satisfied: tenacity>=6.2.0 in /home/tom_sch/.virtualenvs/pycram/lib/python3.8/site-packages (from plotly>=5.19.0->probabilistic_model) (8.2.2)\r\n",
      "Requirement already satisfied: packaging in /usr/lib/python3/dist-packages (from plotly>=5.19.0->probabilistic_model) (20.3)\r\n",
      "Requirement already satisfied: sortedcontainers~=2.2 in /home/tom_sch/.virtualenvs/pycram/lib/python3.8/site-packages (from portion>=2.4.2->probabilistic_model) (2.4.0)\r\n"
     ]
    }
   ],
   "execution_count": 1
  },
  {
   "cell_type": "markdown",
   "source": [
    "Next, we need to gather a lot of data. For that we will write a randomized experiment for grasping a couple of objects.\n",
    "In the experiment the robot will try to grasp a randomized object using random poses and torso heights."
   ],
   "metadata": {
    "collapsed": false
   }
  },
  {
   "cell_type": "code",
   "metadata": {
    "ExecuteTime": {
     "end_time": "2024-03-07T14:18:36.577596Z",
     "start_time": "2024-03-07T14:18:35.394399Z"
    }
   },
   "source": [
    "from pycram.designators.actions.actions import ParkArmsActionPerformable, MoveTorsoActionPerformable\n",
    "from tf import transformations\n",
    "import itertools\n",
    "from typing import Optional, List, Tuple\n",
    "import numpy as np\n",
    "import sqlalchemy.orm\n",
    "import tqdm\n",
    "import pycram.orm.base\n",
    "import pycram.task\n",
    "from pycram.bullet_world import BulletWorld, Object as BulletWorldObject\n",
    "from pycram.designators.action_designator import PickUpAction, NavigateAction\n",
    "from pycram.designators.object_designator import ObjectDesignatorDescription\n",
    "import pycram.enums\n",
    "from pycram.plan_failures import PlanFailure\n",
    "from pycram.process_module import ProcessModule\n",
    "from pycram.process_module import simulated_robot\n",
    "import pycram.orm\n",
    "\n",
    "import sqlalchemy.sql\n",
    "from pycram.pose import Pose\n",
    "from pycram.ros.viz_marker_publisher import VizMarkerPublisher\n",
    "        \n",
    "\n",
    "np.random.seed(420)\n",
    "\n",
    "ProcessModule.execution_delay = False\n",
    "pycram.orm.base.ProcessMetaData().description = \"Tutorial for learning from experience in a Grasping action.\"\n",
    "\n",
    "\n",
    "class GraspingExplorer:\n",
    "    \"\"\"Class to try randomized grasping plans.\"\"\"\n",
    "\n",
    "    world: Optional[BulletWorld]\n",
    "\n",
    "    def __init__(self, robots: Optional[List[Tuple[str, str]]] = None, objects: Optional[List[Tuple[str, str]]] = None,\n",
    "                 arms: Optional[List[str]] = None, grasps: Optional[List[str]] = None,\n",
    "                 samples_per_scenario: int = 1000):\n",
    "        \"\"\"\n",
    "        Create a GraspingExplorer.\n",
    "        :param robots: The robots to use\n",
    "        :param objects: The objects to try to grasp\n",
    "        :param arms: The arms of the robot to use\n",
    "        :param grasps: The grasp orientations to use\n",
    "        :param samples_per_scenario: The number of tries per scenario.\n",
    "        \"\"\"\n",
    "        # store exploration space\n",
    "        if not robots:\n",
    "            self.robots: List[Tuple[str, str]] = [(\"pr2\", \"pr2.urdf\")]\n",
    "\n",
    "        if not objects:\n",
    "            self.objects: List[Tuple[str, pycram.enums.ObjectType, str]] = [(\"cereal\", pycram.enums.ObjectType.BREAKFAST_CEREAL, \"breakfast_cereal.stl\"), \n",
    "                                                                            (\"bowl\", pycram.enums.ObjectType.BOWL, \"bowl.stl\"),\n",
    "                                                                            (\"milk\", pycram.enums.ObjectType.MILK, \"milk.stl\"),\n",
    "                                                                            (\"spoon\", pycram.enums.ObjectType.SPOON, \"spoon.stl\")]\n",
    "\n",
    "        if not arms:\n",
    "            self.arms: List[str] = [\"left\", \"right\"]\n",
    "\n",
    "        if not grasps:\n",
    "            self.grasps: List[str] = [\"left\", \"right\", \"front\", \"top\"]\n",
    "\n",
    "        # store trials per scenario\n",
    "        self.samples_per_scenario: int = samples_per_scenario\n",
    "\n",
    "        # chain hyperparameters\n",
    "        self.hyper_parameters = [self.robots, self.objects, self.arms, self.grasps]\n",
    "\n",
    "        self.total_tries = 0\n",
    "        self.total_failures = 0\n",
    "\n",
    "    def perform(self, session: sqlalchemy.orm.Session):\n",
    "        \"\"\"\n",
    "        Perform all experiments.\n",
    "        :param session: The database-session to insert the samples in.\n",
    "        \"\"\"\n",
    "\n",
    "        # create progress bar\n",
    "        progress_bar = tqdm.tqdm(\n",
    "            total=np.prod([len(p) for p in self.hyper_parameters]) * self.samples_per_scenario)\n",
    "\n",
    "        self.world = BulletWorld(\"DIRECT\")\n",
    "        \n",
    "        v = VizMarkerPublisher()\n",
    "\n",
    "\n",
    "        # for every robot\n",
    "        for robot, robot_urdf in self.robots:\n",
    "\n",
    "            # spawn it\n",
    "            robot = BulletWorldObject(robot, pycram.enums.ObjectType.ROBOT, robot_urdf)\n",
    "\n",
    "            # for every obj\n",
    "            for obj, obj_type, obj_stl in self.objects:\n",
    "\n",
    "                # spawn it\n",
    "                bw_object = BulletWorldObject(obj, obj_type, obj_stl, Pose([0, 0, 0.75], [0, 0, 0, 1]))\n",
    "\n",
    "                # create object designator\n",
    "                object_designator = ObjectDesignatorDescription(names=[obj])\n",
    "\n",
    "                # for every arm and grasp pose\n",
    "                for arm, grasp in itertools.product(self.arms, self.grasps):\n",
    "                    # sample positions in 2D\n",
    "                    positions = np.random.uniform([-2, -2], [2, 2], (self.samples_per_scenario, 2))\n",
    "\n",
    "                    # for every position\n",
    "                    for position in positions:\n",
    "\n",
    "                        # set z axis to 0\n",
    "                        position = [*position, 0]\n",
    "\n",
    "                        # calculate orientation for robot to face the object\n",
    "                        angle = np.arctan2(position[1], position[0]) + np.pi\n",
    "                        orientation = list(transformations.quaternion_from_euler(0, 0, angle, axes=\"sxyz\"))\n",
    "\n",
    "                        # try to execute a grasping plan\n",
    "                        with simulated_robot:\n",
    "\n",
    "                            ParkArmsActionPerformable(pycram.enums.Arms.BOTH).perform()\n",
    "                            # navigate to sampled position\n",
    "                            NavigateAction([Pose(position, orientation)]).resolve().perform()\n",
    "\n",
    "                            # move torso\n",
    "                            height = np.random.uniform(0., 0.33, 1)[0]\n",
    "                            MoveTorsoActionPerformable(height).perform()\n",
    "\n",
    "                            # try to pick it up\n",
    "                            try:\n",
    "                                PickUpAction(object_designator, [arm], [grasp]).resolve().perform()\n",
    "\n",
    "                            # if it fails\n",
    "                            except PlanFailure:\n",
    "\n",
    "                                # update failure stats\n",
    "                                self.total_failures += 1\n",
    "\n",
    "                            # reset BulletWorld\n",
    "                            self.world.reset_bullet_world()\n",
    "\n",
    "                            # update progress bar\n",
    "                            self.total_tries += 1\n",
    "\n",
    "                            # insert into database\n",
    "                            pycram.task.task_tree.insert(session, use_progress_bar=False)\n",
    "                            pycram.task.reset_tree()\n",
    "\n",
    "                            progress_bar.update()\n",
    "                            progress_bar.set_postfix(success_rate=(self.total_tries - self.total_failures) /\n",
    "                                                                  self.total_tries)\n",
    "\n",
    "                bw_object.remove()\n",
    "            robot.remove()\n",
    "\n",
    "        self.world.exit()"
   ],
   "outputs": [
    {
     "name": "stderr",
     "output_type": "stream",
     "text": [
      "Unknown attribute \"type\" in /robot[@name='pr2']/link[@name='base_laser_link']\n",
      "Unknown attribute \"type\" in /robot[@name='pr2']/link[@name='wide_stereo_optical_frame']\n",
      "Unknown attribute \"type\" in /robot[@name='pr2']/link[@name='narrow_stereo_optical_frame']\n",
      "Unknown attribute \"type\" in /robot[@name='pr2']/link[@name='laser_tilt_link']\n",
      "[WARN] [1709821116.366007]: Could not import RoboKudo messages, RoboKudo interface could not be initialized\n"
     ]
    }
   ],
   "execution_count": 2
  },
  {
   "cell_type": "markdown",
   "metadata": {},
   "source": [
    "Next we have to establish a connection to a database and execute the experiment a couple of times. Note that the (few) number of samples we generate is only for demonstrations.\n",
    "For robust and reliable machine learning millions of samples are required."
   ]
  },
  {
   "cell_type": "code",
   "metadata": {
    "scrolled": false,
    "ExecuteTime": {
     "end_time": "2024-03-07T14:18:36.594199Z",
     "start_time": "2024-03-07T14:18:36.578364Z"
    }
   },
   "source": [
    "engine = sqlalchemy.create_engine(\"sqlite+pysqlite:///:memory:\")\n",
    "session = sqlalchemy.orm.Session(bind=engine)\n",
    "pycram.orm.base.Base.metadata.create_all(bind=engine)\n",
    "session.commit()\n",
    "\n",
    "explorer = GraspingExplorer(samples_per_scenario=30)"
   ],
   "outputs": [],
   "execution_count": 3
  },
  {
   "cell_type": "markdown",
   "metadata": {},
   "source": [
    "Write the database to a file if wanted."
   ]
  },
  {
   "cell_type": "code",
   "metadata": {
    "ExecuteTime": {
     "end_time": "2024-03-07T14:20:14.842937Z",
     "start_time": "2024-03-07T14:18:36.594881Z"
    }
   },
   "source": [
    "import os\n",
    "explorer.perform(session)\n",
    "con = engine.raw_connection()\n",
    "\n",
    "with open(os.path.join(os.path. expanduser('~'), \"Documents\", \"costmap.dump\"), 'w') as f:\n",
    "    for line in con.iterdump():\n",
    "        f.write('%s\\n' % line)"
   ],
   "outputs": [
    {
     "name": "stderr",
     "output_type": "stream",
     "text": [
      "  0%|          | 0/960 [00:00<?, ?it/s]Unknown tag \"material\" in /robot[@name='plane']/link[@name='planeLink']/collision[1]\n",
      "Unknown tag \"contact\" in /robot[@name='plane']/link[@name='planeLink']\n",
      "Unknown attribute \"type\" in /robot[@name='pr2']/link[@name='base_laser_link']\n",
      "Unknown attribute \"type\" in /robot[@name='pr2']/link[@name='wide_stereo_optical_frame']\n",
      "Unknown attribute \"type\" in /robot[@name='pr2']/link[@name='narrow_stereo_optical_frame']\n",
      "Unknown attribute \"type\" in /robot[@name='pr2']/link[@name='laser_tilt_link']\n",
      "Unknown tag \"material\" in /robot[@name='plane']/link[@name='planeLink']/collision[1]\n",
      "Unknown tag \"contact\" in /robot[@name='plane']/link[@name='planeLink']\n",
      "Unknown attribute \"type\" in /robot[@name='pr2']/link[@name='base_laser_link']\n",
      "Unknown attribute \"type\" in /robot[@name='pr2']/link[@name='wide_stereo_optical_frame']\n",
      "Unknown attribute \"type\" in /robot[@name='pr2']/link[@name='narrow_stereo_optical_frame']\n",
      "Unknown attribute \"type\" in /robot[@name='pr2']/link[@name='laser_tilt_link']\n",
      "100%|██████████| 960/960 [01:37<00:00, 10.14it/s, success_rate=0.0854]"
     ]
    }
   ],
   "execution_count": 4
  },
  {
   "cell_type": "markdown",
   "metadata": {},
   "source": [
    "Read the database from a file instead of executing all the experiments."
   ]
  },
  {
   "cell_type": "code",
   "metadata": {
    "scrolled": true,
    "ExecuteTime": {
     "end_time": "2024-03-07T14:20:14.979345Z",
     "start_time": "2024-03-07T14:20:14.843840Z"
    }
   },
   "source": [
    "import os\n",
    "\n",
    "engine = sqlalchemy.create_engine(\"sqlite+pysqlite:///:memory:\")\n",
    "session = sqlalchemy.orm.Session(bind=engine)\n",
    "# pycram.orm.base.Base.metadata.create_all(bind=engine)\n",
    "session.commit()\n",
    "\n",
    "with engine.connect() as con:\n",
    "    with open(os.path.join(os.path. expanduser('~'), \"Documents\", \"costmap.dump\")) as file:\n",
    "        raw_connection = engine.raw_connection()\n",
    "        # raw_cursor = raw_connection()\n",
    "        raw_connection.executescript(file.read())"
   ],
   "outputs": [],
   "execution_count": 5
  },
  {
   "cell_type": "markdown",
   "metadata": {},
   "source": [
    "Next we will define a joint probability distributions over the parameters used in the pick-up actions, for instance, a Joint Probability Tree."
   ]
  },
  {
   "cell_type": "code",
   "metadata": {
    "ExecuteTime": {
     "end_time": "2024-03-07T14:20:15.369972Z",
     "start_time": "2024-03-07T14:20:14.980076Z"
    }
   },
   "source": [
    "from pycram.resolver.location.jpt_location import JPTCostmapLocation\n",
    "model = JPTCostmapLocation.fit_from_database(session, success_only=True)"
   ],
   "outputs": [
    {
     "name": "stderr",
     "output_type": "stream",
     "text": [
      "100%|██████████| 960/960 [01:38<00:00,  9.75it/s, success_rate=0.0854]\n"
     ]
    }
   ],
   "execution_count": 6
  },
  {
   "cell_type": "markdown",
   "metadata": {},
   "source": [
    "Finally, we will insert our model in the existing JPT-Costmap wrapper, create a toy simulation and visualize our result."
   ]
  },
  {
   "cell_type": "code",
   "metadata": {
    "collapsed": false,
    "ExecuteTime": {
     "end_time": "2024-03-07T14:20:54.990712Z",
     "start_time": "2024-03-07T14:20:43.617007Z"
    }
   },
   "source": [
    "import random\n",
    "from pycram.designators.actions.actions import NavigateActionPerformable, PickUpActionPerformable\n",
    "from pycram.ros.viz_marker_publisher import VizMarkerPublisher\n",
    "import time\n",
    "\n",
    "ProcessModule.execution_delay = True\n",
    "\n",
    "world = BulletWorld(\"DIRECT\")\n",
    "VizMarkerPublisher(interval=0.1)\n",
    "robot = BulletWorldObject(\"pr2\", pycram.enums.ObjectType.ROBOT, \"pr2.urdf\")\n",
    "\n",
    "milk = BulletWorldObject(\"milk\", pycram.enums.ObjectType.MILK, \"milk.stl\", pose=Pose([1, 0, 0.75], [0,0,0,1]))\n",
    "random.seed(420)\n",
    "np.random.seed(420)\n",
    "cml = JPTCostmapLocation(milk, reachable_for=robot, model=model)\n",
    "\n",
    "# cml.visualize()\n",
    "with simulated_robot:\n",
    "    for sample in iter(cml):\n",
    "        ParkArmsActionPerformable(pycram.enums.Arms.BOTH).perform()\n",
    "        NavigateActionPerformable(sample.pose).perform()\n",
    "        MoveTorsoActionPerformable(sample.torso_height).perform()\n",
    "        time.sleep(1)\n",
    "        try:\n",
    "            PickUpActionPerformable(ObjectDesignatorDescription(types=[milk.type]).resolve(), arm=sample.reachable_arm, grasp=sample.grasp).perform()\n",
    "            break\n",
    "        except pycram.plan_failures.PlanFailure as p:\n",
    "            continue\n",
    "time.sleep(5)\n",
    "world.exit()"
   ],
   "outputs": [
    {
     "name": "stderr",
     "output_type": "stream",
     "text": [
      "Unknown tag \"material\" in /robot[@name='plane']/link[@name='planeLink']/collision[1]\n",
      "Unknown tag \"contact\" in /robot[@name='plane']/link[@name='planeLink']\n",
      "Unknown attribute \"type\" in /robot[@name='pr2']/link[@name='base_laser_link']\n",
      "Unknown attribute \"type\" in /robot[@name='pr2']/link[@name='wide_stereo_optical_frame']\n",
      "Unknown attribute \"type\" in /robot[@name='pr2']/link[@name='narrow_stereo_optical_frame']\n",
      "Unknown attribute \"type\" in /robot[@name='pr2']/link[@name='laser_tilt_link']\n",
      "Unknown tag \"material\" in /robot[@name='plane']/link[@name='planeLink']/collision[1]\n",
      "Unknown tag \"contact\" in /robot[@name='plane']/link[@name='planeLink']\n",
      "Unknown attribute \"type\" in /robot[@name='pr2']/link[@name='base_laser_link']\n",
      "Unknown attribute \"type\" in /robot[@name='pr2']/link[@name='wide_stereo_optical_frame']\n",
      "Unknown attribute \"type\" in /robot[@name='pr2']/link[@name='narrow_stereo_optical_frame']\n",
      "Unknown attribute \"type\" in /robot[@name='pr2']/link[@name='laser_tilt_link']\n"
     ]
    }
   ],
   "execution_count": 8
  },
  {
   "cell_type": "markdown",
   "metadata": {},
   "source": [
    "Congratulations, you made the PR2 learn how to grasp objects.\n",
    "Yeehaaw!🤠\n",
    "\n",
    "If you want to learn more about the usage and integration of probabilities into the plan language, check out this [package](https://probabilistic-model.readthedocs.io/en/latest/index.html)."
   ]
  }
 ],
 "metadata": {
  "kernelspec": {
   "display_name": "pycram",
   "language": "python",
   "name": "pycram"
  },
  "language_info": {
   "codemirror_mode": {
    "name": "ipython",
    "version": 3
   },
   "file_extension": ".py",
   "mimetype": "text/x-python",
   "name": "python",
   "nbconvert_exporter": "python",
   "pygments_lexer": "ipython3",
   "version": "3.8.10"
  }
 },
 "nbformat": 4,
 "nbformat_minor": 1
}
