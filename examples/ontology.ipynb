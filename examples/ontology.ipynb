{
 "cells": [
  {
   "cell_type": "markdown",
   "metadata": {
    "collapsed": false,
    "jupyter": {
     "outputs_hidden": false
    }
   },
   "source": [
    "# Ontology interface\n",
    "\n",
    "This tutorial demonstrates basic usages of __owlready2__ API for ontology manipulation. Notably, new ontology concept triple classes (subject, predicate, object) will be dynamically created, with optional existing ontology parent classes that are loaded from an OWL ontology. Then through the interconnected relations specified in triples, designators and their corresponding ontology concepts can be double-way queried for input information in certain tasks, eg. making a robot motion plan. "
   ]
  },
  {
   "cell_type": "code",
   "metadata": {
    "collapsed": false,
    "jupyter": {
     "outputs_hidden": false
    },
    "ExecuteTime": {
     "end_time": "2024-06-10T15:10:59.203156Z",
     "start_time": "2024-06-10T15:10:58.674628Z"
    }
   },
   "source": [
    "from pathlib import Path\n",
    "from typing import Type\n",
    "from pycram.designator import ObjectDesignatorDescription"
   ],
   "outputs": [
    {
     "name": "stderr",
     "output_type": "stream",
     "text": [
      "Unknown attribute \"type\" in /robot[@name='pr2']/link[@name='base_laser_link']\n",
      "Unknown attribute \"type\" in /robot[@name='pr2']/link[@name='wide_stereo_optical_frame']\n",
      "Unknown attribute \"type\" in /robot[@name='pr2']/link[@name='narrow_stereo_optical_frame']\n",
      "Unknown attribute \"type\" in /robot[@name='pr2']/link[@name='laser_tilt_link']\n",
      "Failed to import Giskard messages, the real robot will not be available\n",
      "Could not import RoboKudo messages, RoboKudo interface could not be initialized\n",
      "pybullet build time: Nov 28 2023 23:51:11\n"
     ]
    }
   ],
   "execution_count": 1
  },
  {
   "cell_type": "markdown",
   "metadata": {
    "collapsed": false,
    "jupyter": {
     "outputs_hidden": false
    }
   },
   "source": [
    "# Owlready2\n",
    "\n",
    "[Owlready2](https://owlready2.readthedocs.io/en/latest/intro.html) is a Python package providing a transparent access to OWL ontologies. It supports various manipulation operations, including but not limited to loading, modification, saving ontologies. Built-in supported reasoners include [HermiT](http://www.hermit-reasoner.com) and [Pellet](https://github.com/stardog-union/pellet)."
   ]
  },
  {
   "cell_type": "code",
   "metadata": {
    "collapsed": false,
    "jupyter": {
     "outputs_hidden": false
    },
    "ExecuteTime": {
     "end_time": "2024-06-10T15:10:59.226009Z",
     "start_time": "2024-06-10T15:10:59.206962Z"
    }
   },
   "source": [
    "import logging\n",
    "try:\n",
    "    from owlready2 import *\n",
    "except ImportError:\n",
    "    owlready2 = None\n",
    "    logging.error(\"Could not import owlready2, Ontology Manager could not be initialized!\")\n",
    "\n",
    "logging.getLogger().setLevel(logging.INFO)"
   ],
   "outputs": [],
   "execution_count": 2
  },
  {
   "cell_type": "markdown",
   "metadata": {
    "collapsed": false,
    "jupyter": {
     "outputs_hidden": false
    }
   },
   "source": [
    "# Ontology Manager\n",
    "\n",
    "`OntologyManager` is the singleton class acting as the main interface between PyCram with ontologies, whereby object instances in the former could query relevant information based on the semantic connection with their corresponding ontology concepts.\n",
    "\n",
    "Such connection, as represented by triples (subject-predicate-object), could be also created on the fly if not pre-existing in the loaded ontology.\n",
    "\n",
    "Also new and updated concepts with their properties defined in runtime could be stored into an [SQLite3 file database](https://owlready2.readthedocs.io/en/latest/world.html) for reuse.\n",
    "\n",
    "Here we will use [SOMA ontology](https://ease-crc.github.io/soma) as the baseline to utilize the generalized concepts provided by it."
   ]
  },
  {
   "cell_type": "code",
   "metadata": {
    "collapsed": false,
    "jupyter": {
     "outputs_hidden": false
    },
    "ExecuteTime": {
     "end_time": "2024-06-10T15:10:59.485325Z",
     "start_time": "2024-06-10T15:10:59.226998Z"
    }
   },
   "source": [
    "from pycram.ontology.ontology import OntologyManager, SOMA_HOME_ONTOLOGY_IRI\n",
    "from pycram.ontology.ontology_common import OntologyConceptHolderStore, OntologyConceptHolder\n",
    "\n",
    "ontology_manager = OntologyManager(SOMA_HOME_ONTOLOGY_IRI)\n",
    "main_ontology = ontology_manager.main_ontology\n",
    "soma = ontology_manager.soma\n",
    "dul = ontology_manager.dul"
   ],
   "outputs": [
    {
     "name": "stdout",
     "output_type": "stream",
     "text": [
      "[INFO] [1718032259.480343]: Ontology [http://www.ease-crc.org/ont/SOMA-HOME.owl#]'s name: SOMA-HOME has been loaded\n",
      "[INFO] [1718032259.481191]: - main namespace: SOMA-HOME\n",
      "[INFO] [1718032259.481749]: - loaded ontologies:\n",
      "[INFO] [1718032259.482287]: http://www.ease-crc.org/ont/SOMA-HOME.owl#\n",
      "[INFO] [1718032259.482809]: http://www.ease-crc.org/ont/DUL.owl#\n",
      "[INFO] [1718032259.483329]: http://www.ease-crc.org/ont/SOMA.owl#\n"
     ]
    }
   ],
   "execution_count": 3
  },
  {
   "metadata": {},
   "cell_type": "markdown",
   "source": "[General class axioms](https://owlready2.readthedocs.io/en/latest/general_class_axioms.html) of the loaded ontologies can be queried by"
  },
  {
   "metadata": {
    "ExecuteTime": {
     "end_time": "2024-06-10T15:10:59.498494Z",
     "start_time": "2024-06-10T15:10:59.486550Z"
    }
   },
   "cell_type": "code",
   "source": [
    "print(f\"{main_ontology.name}: \", ontology_manager.get_ontology_general_class_axioms(main_ontology))\n",
    "print(f\"{soma.name}: \", ontology_manager.get_ontology_general_class_axioms(soma))\n",
    "print(f\"{dul.name}: \", ontology_manager.get_ontology_general_class_axioms(dul))"
   ],
   "outputs": [
    {
     "name": "stdout",
     "output_type": "stream",
     "text": [
      "SOMA-HOME:  [GeneralClassAxiom(SOMA.manifestsIn.some(DUL.Event)), GeneralClassAxiom(SOMA.SituationTransition & SOMA.manifestsIn.some(DUL.Event)), GeneralClassAxiom(SOMA.SituationTransition & SOMA.manifestsIn.some(DUL.Event)), GeneralClassAxiom(SOMA.hasInitialSituation.some(DUL.Situation)), GeneralClassAxiom(SOMA.hasTerminalSituation.some(DUL.Situation))]\n",
      "SOMA:  [GeneralClassAxiom(SOMA.manifestsIn.some(DUL.Event)), GeneralClassAxiom(SOMA.SituationTransition & SOMA.manifestsIn.some(DUL.Event)), GeneralClassAxiom(SOMA.SituationTransition & SOMA.manifestsIn.some(DUL.Event)), GeneralClassAxiom(SOMA.hasInitialSituation.some(DUL.Situation)), GeneralClassAxiom(SOMA.hasTerminalSituation.some(DUL.Situation))]\n",
      "DUL:  []\n"
     ]
    }
   ],
   "execution_count": 4
  },
  {
   "cell_type": "markdown",
   "metadata": {
    "collapsed": false,
    "jupyter": {
     "outputs_hidden": false
    }
   },
   "source": [
    "## Ontology Concept Holder\n",
    "__OntologyConceptHolder__ class, encapsulating an __owlready2.Thing__ instance, is used primarily as the binding connection between the `owlready2.Thing` ontology concept to PyCram designators. We make it that way, instead of creating a custom concept class that inherits from `owlready2.Thing` for the reasons below:\n",
    "\n",
    "- `owlready2` API does not have very robust support for client classes to inherit from theirs with added (non-semantic) attributes, particularly in our case, where classes like `DesignatorDescription` have their `metaclass` as `ABCMeta`, while it is `EntityClass` that is the metaclass used for basically all concepts (classes, properties) in `owlready2`. Since those two metaclasses just bear no relationship, for the inheritance to work, the only way is to create a child metaclass with both of those as parents, however without full support by `owlready2`, plus the second reason below will point out it's not worth the effort.\n",
    "\n",
    "\n",
    "- Essentially, we will have new ontology concept classes created dynamically, if their types inherit from `owlready2.Thing`, all custom non-semantic (of types known only by PyCram) attributes, which are defined by their own in child classes, will apparently be not savable into the ontology by `owlready2` api. Then the next time the ontology is loaded, those same dynamic classes will not be created anymore, thus without those attributes either, causing running error.\n",
    "\n",
    "As such, in short, an ontology concept class, either newly created on the fly or loaded from ontologies, has to be `owlready2.Thing` or its pure derived class (without non-semantic attributes), so to make itself reusable upon reloading.\n",
    "\n",
    "Notable attributes:\n",
    "\n",
    "- `ontology_concept`: An ontology concept of `owlready2.Thing` type or its pure child class (without custom non-semantic attributes), either dynamically created, or loaded from an ontology\n",
    "\n",
    "- `designators`: a list of `DesignatorDescription` instances associated with `ontology_concept`\n",
    "\n",
    "- `resolve`: a `Callable` typically returning a list of `DesignatorDescription` as specific designators, like `designators` or its subset, inferred from the ontology concept. In fact, it can be resolved to anything else relevant, up to the caller."
   ]
  },
  {
   "cell_type": "markdown",
   "metadata": {
    "collapsed": false,
    "jupyter": {
     "outputs_hidden": false
    }
   },
   "source": [
    "## Query ontology classes and their properties\n",
    "\n",
    "Classes in the loaded ontology can be queried based on their exact names, or part of them, or by namespace.\n",
    "Here, we can see essential info (ancestors, super/sub-classes, properties, direct instances, etc.) of the found ontology class."
   ]
  },
  {
   "cell_type": "code",
   "metadata": {
    "collapsed": false,
    "jupyter": {
     "outputs_hidden": false
    },
    "ExecuteTime": {
     "end_time": "2024-06-10T15:10:59.690835Z",
     "start_time": "2024-06-10T15:10:59.499068Z"
    }
   },
   "source": [
    "ontology_designed_container_class = ontology_manager.get_ontology_class('DesignedContainer')\n",
    "ontology_manager.print_ontology_class(ontology_designed_container_class)\n",
    "classes = ontology_manager.get_ontology_classes_by_subname('PhysicalObject'); print(classes[0])\n",
    "classes = ontology_manager.get_ontology_classes_by_namespace('SOMA'); print(classes[:2])"
   ],
   "outputs": [
    {
     "name": "stdout",
     "output_type": "stream",
     "text": [
      "[INFO] [1718032259.622970]: SOMA.DesignedContainer <class 'owlready2.entity.ThingClass'>\n",
      "[INFO] [1718032259.623913]: Defined class: False\n",
      "[INFO] [1718032259.624575]: Super classes: [DUL.DesignedArtifact, DUL.DesignedArtifact, SOMA.hasDisposition.some(SOMA.Containment), SOMA.hasDisposition.some(SOMA.Containment)]\n",
      "[INFO] [1718032259.625317]: Equivalent to: []\n",
      "[INFO] [1718032259.625952]: Indirectly equivalent to: []\n",
      "[INFO] [1718032259.626611]: Ancestors: [DUL.Object, SOMA.DesignedContainer, DUL.PhysicalObject, owl.Thing, DUL.DesignedArtifact, DUL.Entity, DUL.PhysicalArtifact]\n",
      "[INFO] [1718032259.627239]: Subclasses: [SOMA.Bottle, SOMA.Crockery, SOMA.Box, SOMA.Building, SOMA.Carafe, SOMA.Cupboard, SOMA.Dishwasher, SOMA.Dispenser, SOMA.Drawer, SOMA.Jar, SOMA.Pack, SOMA.Oven, SOMA.Shaker, SOMA.Refrigerator, SOMA.TrashContainer]\n",
      "[INFO] [1718032259.627837]: Disjoint unions: []\n",
      "[INFO] [1718032259.628546]: Properties: [rdf-schema.isDefinedBy, rdf-schema.comment, SOMA.hasDisposition, rdf-schema.label]\n",
      "[INFO] [1718032259.629150]: Indirect Properties: [rdf-schema.comment, rdf-schema.label, SOMA.hasDisposition, DUL.isParticipantIn, DUL.isDescribedBy, DUL.hasLocation, rdf-schema.isDefinedBy]\n",
      "[INFO] [1718032259.686150]: Instances: []\n",
      "[INFO] [1718032259.686727]: Direct Instances: []\n",
      "[INFO] [1718032259.687173]: Inverse Restrictions: []\n",
      "[INFO] [1718032259.687590]: -------------------\n",
      "DUL.PhysicalObject\n",
      "[SOMA.Affordance, SOMA.Disposition]\n"
     ]
    }
   ],
   "execution_count": 5
  },
  {
   "cell_type": "markdown",
   "metadata": {
    "collapsed": false,
    "jupyter": {
     "outputs_hidden": false
    }
   },
   "source": [
    "__Descendants__ of an ontology class can be also queried by"
   ]
  },
  {
   "cell_type": "code",
   "metadata": {
    "collapsed": false,
    "jupyter": {
     "outputs_hidden": false
    },
    "ExecuteTime": {
     "end_time": "2024-06-10T15:10:59.733132Z",
     "start_time": "2024-06-10T15:10:59.691517Z"
    }
   },
   "source": [
    "ontology_manager.get_ontology_descendant_classes(ontology_designed_container_class)[:5]"
   ],
   "outputs": [
    {
     "data": {
      "text/plain": [
       "[SOMA.Bottle, SOMA.DesignedContainer, SOMA.Bowl, SOMA.Crockery, SOMA.Box]"
      ]
     },
     "execution_count": 6,
     "metadata": {},
     "output_type": "execute_result"
    }
   ],
   "execution_count": 6
  },
  {
   "cell_type": "markdown",
   "metadata": {
    "collapsed": false,
    "jupyter": {
     "outputs_hidden": false
    }
   },
   "source": [
    "## Create a new ontology concept class and its individual\n",
    "\n",
    "A new ontology class can be created dynamically as inheriting from an existing class in the loaded ontology.\n",
    "Here we create the class and its instance, also known as [__individual__](https://owlready2.readthedocs.io/en/latest/class.html#creating-equivalent-classes) in ontology terms, which is then wrapped inside an `OntologyConceptHolder`."
   ]
  },
  {
   "cell_type": "code",
   "metadata": {
    "collapsed": false,
    "jupyter": {
     "outputs_hidden": false
    },
    "ExecuteTime": {
     "end_time": "2024-06-10T15:10:59.739763Z",
     "start_time": "2024-06-10T15:10:59.733851Z"
    }
   },
   "source": [
    "ontology_custom_container_class = ontology_manager.create_ontology_concept_class('CustomContainerConcept',\n",
    "                                                                                 ontology_designed_container_class)\n",
    "custom_container_concept_holder = OntologyConceptHolder(ontology_custom_container_class(name='ontology_custom_container_concept',\n",
    "                                                                                        namespace=main_ontology))"
   ],
   "outputs": [],
   "execution_count": 7
  },
  {
   "cell_type": "markdown",
   "metadata": {
    "collapsed": false,
    "jupyter": {
     "outputs_hidden": false
    }
   },
   "source": [
    "## Access ontology concept classes and individuals\n",
    "All ontology classes created on the fly purely inherit (without added non-semantic attributes) from `owlready2.Thing`, and so share the same namespace with the loaded ontology instance, `main_ontology`. They can then be accessible through that namespace by __main_ontology.<class_name>__.\n",
    "The same applies for individuals of those classes, accessible by __main_ontology.<class_individual_name>__"
   ]
  },
  {
   "cell_type": "code",
   "metadata": {
    "collapsed": false,
    "jupyter": {
     "outputs_hidden": false
    },
    "ExecuteTime": {
     "end_time": "2024-06-10T15:10:59.754898Z",
     "start_time": "2024-06-10T15:10:59.740301Z"
    }
   },
   "source": [
    "ontology_manager.print_ontology_class(main_ontology.CustomContainerConcept)\n",
    "print(f\"custom_container_concept is {main_ontology.ontology_custom_container_concept}: {custom_container_concept_holder.ontology_concept is main_ontology.ontology_custom_container_concept}\")"
   ],
   "outputs": [
    {
     "name": "stdout",
     "output_type": "stream",
     "text": [
      "[INFO] [1718032259.748604]: SOMA-HOME.CustomContainerConcept <class 'owlready2.entity.ThingClass'>\n",
      "[INFO] [1718032259.749294]: Defined class: False\n",
      "[INFO] [1718032259.749628]: Super classes: [SOMA.DesignedContainer, owl.Thing]\n",
      "[INFO] [1718032259.750009]: Equivalent to: []\n",
      "[INFO] [1718032259.750319]: Indirectly equivalent to: []\n",
      "[INFO] [1718032259.750617]: Ancestors: [SOMA-HOME.CustomContainerConcept, DUL.Object, SOMA.DesignedContainer, DUL.PhysicalObject, owl.Thing, DUL.DesignedArtifact, DUL.Entity, DUL.PhysicalArtifact]\n",
      "[INFO] [1718032259.750900]: Subclasses: []\n",
      "[INFO] [1718032259.751189]: Disjoint unions: []\n",
      "[INFO] [1718032259.751527]: Properties: []\n",
      "[INFO] [1718032259.751929]: Indirect Properties: [DUL.hasLocation, SOMA.hasDisposition, DUL.isDescribedBy, DUL.isParticipantIn]\n",
      "[INFO] [1718032259.752584]: Instances: [SOMA-HOME.ontology_custom_container_concept]\n",
      "[INFO] [1718032259.752911]: Direct Instances: [SOMA-HOME.ontology_custom_container_concept]\n",
      "[INFO] [1718032259.753197]: Inverse Restrictions: []\n",
      "[INFO] [1718032259.753467]: -------------------\n",
      "custom_container_concept is SOMA-HOME.ontology_custom_container_concept: True\n"
     ]
    }
   ],
   "execution_count": 8
  },
  {
   "cell_type": "markdown",
   "metadata": {
    "collapsed": false,
    "jupyter": {
     "outputs_hidden": false
    }
   },
   "source": [
    "For ones already existing in the ontology, they can only be accessed through their corresponding ontology, eg: `soma` as follows"
   ]
  },
  {
   "cell_type": "code",
   "metadata": {
    "collapsed": false,
    "jupyter": {
     "outputs_hidden": false
    },
    "ExecuteTime": {
     "end_time": "2024-06-10T15:10:59.770601Z",
     "start_time": "2024-06-10T15:10:59.755526Z"
    }
   },
   "source": [
    "ontology_manager.print_ontology_class(soma.Cup)"
   ],
   "outputs": [
    {
     "name": "stdout",
     "output_type": "stream",
     "text": [
      "[INFO] [1718032259.764114]: SOMA.Cup <class 'owlready2.entity.ThingClass'>\n",
      "[INFO] [1718032259.764669]: Defined class: False\n",
      "[INFO] [1718032259.765021]: Super classes: [SOMA.Crockery, SOMA.hasPhysicalComponent.some(SOMA.DesignedHandle)]\n",
      "[INFO] [1718032259.765315]: Equivalent to: []\n",
      "[INFO] [1718032259.765599]: Indirectly equivalent to: []\n",
      "[INFO] [1718032259.765884]: Ancestors: [SOMA.Cup, SOMA.DesignedTool, DUL.Object, SOMA.DesignedContainer, DUL.PhysicalObject, owl.Thing, SOMA.Crockery, DUL.DesignedArtifact, SOMA.Tableware, DUL.Entity, DUL.PhysicalArtifact]\n",
      "[INFO] [1718032259.766232]: Subclasses: []\n",
      "[INFO] [1718032259.766541]: Disjoint unions: []\n",
      "[INFO] [1718032259.766880]: Properties: [rdf-schema.isDefinedBy, rdf-schema.comment, SOMA.hasPhysicalComponent]\n",
      "[INFO] [1718032259.767890]: Indirect Properties: [rdf-schema.comment, SOMA.hasPhysicalComponent, SOMA.hasDisposition, DUL.isParticipantIn, DUL.isDescribedBy, DUL.hasLocation, rdf-schema.isDefinedBy]\n",
      "[INFO] [1718032259.768469]: Instances: []\n",
      "[INFO] [1718032259.768777]: Direct Instances: []\n",
      "[INFO] [1718032259.769046]: Inverse Restrictions: []\n",
      "[INFO] [1718032259.769296]: -------------------\n"
     ]
    }
   ],
   "execution_count": 9
  },
  {
   "cell_type": "markdown",
   "metadata": {
    "collapsed": false,
    "jupyter": {
     "outputs_hidden": false
    }
   },
   "source": [
    "## Connect ontology class individuals with designators\n",
    "After creating `custom_container_concept_holder` (wrapping `custom_container_concept` as an `owlready2.Thing`), we connect it to a designator (say `obj_designator`) by:\n",
    "\n",
    "- Appending to `obj_designator.ontology_concept_holders` with `custom_container_concept_holder`\n",
    "\n",
    "- Appending to `custom_container_concept_holder.designators` with `obj_designator`"
   ]
  },
  {
   "cell_type": "code",
   "metadata": {
    "collapsed": false,
    "jupyter": {
     "outputs_hidden": false
    },
    "ExecuteTime": {
     "end_time": "2024-06-10T15:10:59.784992Z",
     "start_time": "2024-06-10T15:10:59.771675Z"
    }
   },
   "source": [
    "custom_container_designator = ObjectDesignatorDescription(names=[\"obj\"])\n",
    "custom_container_designator.ontology_concept_holders.append(custom_container_concept_holder)\n",
    "custom_container_concept_holder.designators.append(custom_container_designator)"
   ],
   "outputs": [],
   "execution_count": 10
  },
  {
   "cell_type": "markdown",
   "metadata": {
    "collapsed": false,
    "jupyter": {
     "outputs_hidden": false
    }
   },
   "source": [
    "We can also automatize all the above setup with a single function call"
   ]
  },
  {
   "cell_type": "code",
   "metadata": {
    "collapsed": false,
    "jupyter": {
     "outputs_hidden": false
    },
    "ExecuteTime": {
     "end_time": "2024-06-10T15:10:59.795471Z",
     "start_time": "2024-06-10T15:10:59.785521Z"
    }
   },
   "source": [
    "another_custom_container_designator = ontology_manager.create_ontology_linked_designator(object_name=\"another_custom_container\",\n",
    "                                                                                         designator_class=ObjectDesignatorDescription,\n",
    "                                                                                         ontology_concept_name=\"AnotherCustomContainerConcept\",\n",
    "                                                                                         ontology_parent_class=ontology_designed_container_class)\n",
    "another_custom_container_concept = another_custom_container_designator.ontology_concept_holders[0].ontology_concept \n",
    "print(f\"Ontology concept: {another_custom_container_concept.name} of class {type(another_custom_container_concept)}\")\n",
    "another_custom_container_designator = OntologyConceptHolderStore().get_ontology_concept_holder_by_name(main_ontology.AnotherCustomContainerConcept.instances()[0].name).get_default_designator()\n",
    "print(f\"Designator: {another_custom_container_designator.names[0]} of type {type(another_custom_container_designator)}\")"
   ],
   "outputs": [
    {
     "name": "stdout",
     "output_type": "stream",
     "text": [
      "Ontology concept: another_custom_container_concept of class SOMA-HOME.AnotherCustomContainerConcept\n",
      "Designator: another_custom_container of type <class 'pycram.designator.ObjectDesignatorDescription'>\n"
     ]
    }
   ],
   "execution_count": 11
  },
  {
   "cell_type": "markdown",
   "metadata": {
    "collapsed": false,
    "jupyter": {
     "outputs_hidden": false
    }
   },
   "source": [
    "## Create new ontology triple classes\n",
    "\n",
    "Concept classes of a triple, aka [__subject, predicate, object__], can be created dynamically. Here we will make an example creating ones for [__handheld objects__] and [__placeholder objects__], with a pair of predicate and inverse predicate signifying their mutual relation."
   ]
  },
  {
   "cell_type": "code",
   "metadata": {
    "collapsed": false,
    "jupyter": {
     "outputs_hidden": false
    },
    "ExecuteTime": {
     "end_time": "2024-06-10T15:10:59.810310Z",
     "start_time": "2024-06-10T15:10:59.795904Z"
    }
   },
   "source": [
    "PLACEABLE_ON_PREDICATE_NAME = \"placeable_on\"\n",
    "HOLD_OBJ_PREDICATE_NAME = \"hold_obj\"\n",
    "ontology_manager.create_ontology_triple_classes(ontology_subject_parent_class=soma.DesignedContainer,\n",
    "                                                subject_class_name=\"OntologyPlaceHolderObject\",\n",
    "                                                ontology_object_parent_class=soma.Shape,\n",
    "                                                object_class_name=\"OntologyHandheldObject\",\n",
    "                                                predicate_class_name=PLACEABLE_ON_PREDICATE_NAME,\n",
    "                                                inverse_predicate_class_name=HOLD_OBJ_PREDICATE_NAME,\n",
    "                                                ontology_property_parent_class=soma.affordsBearer,\n",
    "                                                ontology_inverse_property_parent_class=soma.isBearerAffordedBy)\n",
    "ontology_manager.print_ontology_property(main_ontology.placeable_on)\n",
    "ontology_manager.print_ontology_property(main_ontology.hold_obj)"
   ],
   "outputs": [
    {
     "name": "stdout",
     "output_type": "stream",
     "text": [
      "[INFO] [1718032259.804290]: SOMA-HOME.placeable_on <class 'owlready2.prop.ObjectPropertyClass'>\n",
      "[INFO] [1718032259.805409]: Relations: []\n",
      "[INFO] [1718032259.805761]: Domain: [SOMA-HOME.OntologyPlaceHolderObject]\n",
      "[INFO] [1718032259.806044]: Range: [SOMA-HOME.OntologyHandheldObject]\n",
      "[INFO] [1718032259.806324]: Property chain: []\n",
      "[INFO] [1718032259.806589]: Class property type: []\n",
      "[INFO] [1718032259.806848]: -------------------\n",
      "[INFO] [1718032259.807136]: SOMA-HOME.hold_obj <class 'owlready2.prop.ObjectPropertyClass'>\n",
      "[INFO] [1718032259.807873]: Relations: []\n",
      "[INFO] [1718032259.808136]: Domain: [SOMA-HOME.OntologyHandheldObject]\n",
      "[INFO] [1718032259.808414]: Range: [SOMA-HOME.OntologyPlaceHolderObject]\n",
      "[INFO] [1718032259.808672]: Property chain: []\n",
      "[INFO] [1718032259.808938]: Class property type: []\n",
      "[INFO] [1718032259.809186]: -------------------\n"
     ]
    }
   ],
   "execution_count": 12
  },
  {
   "cell_type": "markdown",
   "metadata": {
    "collapsed": false,
    "jupyter": {
     "outputs_hidden": false
    }
   },
   "source": [
    "There, we use `soma.DesignedContainer` & `soma.Shape`, existing concept in SOMA ontology, as the parent classes for the subject & object concepts respectively.\n",
    "There is also a note that those classes will have the same namespace with `main_ontology`, so later on to be accessible through it.\n",
    "\n",
    "Then now we define some instances of the newly created triple classes, and link them to object designators, again using `ontology_manager.create_ontology_linked_designator()`"
   ]
  },
  {
   "cell_type": "code",
   "metadata": {
    "collapsed": false,
    "jupyter": {
     "outputs_hidden": false
    },
    "ExecuteTime": {
     "end_time": "2024-06-10T15:10:59.825521Z",
     "start_time": "2024-06-10T15:10:59.810744Z"
    }
   },
   "source": [
    "def create_ontology_handheld_object_designator(object_name: str, ontology_parent_class: Type[owlready2.Thing]):\n",
    "    return ontology_manager.create_ontology_linked_designator(object_name=object_name,\n",
    "                                                              designator_class=ObjectDesignatorDescription,\n",
    "                                                              ontology_concept_name=f\"Onto{object_name}\",\n",
    "                                                              ontology_parent_class=ontology_parent_class)\n",
    "# Holdable Objects\n",
    "cookie_box = create_ontology_handheld_object_designator(\"cookie_box\", main_ontology.OntologyHandheldObject)\n",
    "egg = create_ontology_handheld_object_designator(\"egg\", main_ontology.OntologyHandheldObject)\n",
    "    \n",
    "# Placeholder objects\n",
    "placeholders = [create_ontology_handheld_object_designator(object_name, main_ontology.OntologyPlaceHolderObject)\n",
    "                for object_name in ['table', 'stool', 'shelf']]\n",
    "\n",
    "egg_tray = create_ontology_handheld_object_designator(\"egg_tray\", main_ontology.OntologyPlaceHolderObject)"
   ],
   "outputs": [],
   "execution_count": 13
  },
  {
   "cell_type": "markdown",
   "metadata": {
    "collapsed": false,
    "jupyter": {
     "outputs_hidden": false
    }
   },
   "source": [
    "### Create ontology relations\n",
    "\n",
    "Now we will create ontology relations or predicates between __placeholder objects__ and __handheld objects__ with `ontology_manager.set_ontology_relation()`"
   ]
  },
  {
   "cell_type": "code",
   "metadata": {
    "collapsed": false,
    "jupyter": {
     "outputs_hidden": false
    },
    "ExecuteTime": {
     "end_time": "2024-06-10T15:10:59.839389Z",
     "start_time": "2024-06-10T15:10:59.825982Z"
    }
   },
   "source": [
    "for place_holder in placeholders:\n",
    "    ontology_manager.set_ontology_relation(subject_designator=cookie_box, object_designator=place_holder,\n",
    "                                           predicate_name=PLACEABLE_ON_PREDICATE_NAME)\n",
    "\n",
    "ontology_manager.set_ontology_relation(subject_designator=egg_tray, object_designator=egg,\n",
    "                                       predicate_name=HOLD_OBJ_PREDICATE_NAME)"
   ],
   "outputs": [
    {
     "data": {
      "text/plain": [
       "True"
      ]
     },
     "execution_count": 14,
     "metadata": {},
     "output_type": "execute_result"
    }
   ],
   "execution_count": 14
  },
  {
   "cell_type": "markdown",
   "metadata": {
    "collapsed": false,
    "jupyter": {
     "outputs_hidden": false
    }
   },
   "source": [
    "## Query designators based on their ontology-concept relations\n",
    "\n",
    "Now we can make queries for designators from designators, based on the relation among their corresponding ontology concepts setup above"
   ]
  },
  {
   "cell_type": "code",
   "metadata": {
    "collapsed": false,
    "jupyter": {
     "outputs_hidden": false
    },
    "ExecuteTime": {
     "end_time": "2024-06-10T15:10:59.848936Z",
     "start_time": "2024-06-10T15:10:59.840162Z"
    }
   },
   "source": [
    "print(f\"{cookie_box.names}'s placeholder candidates:\",\n",
    "      f\"\"\"{[placeholder.names for placeholder in\n",
    "            ontology_manager.get_designators_by_subject_predicate(subject=cookie_box,\n",
    "                                                                  predicate_name=PLACEABLE_ON_PREDICATE_NAME)]}\"\"\")\n",
    "\n",
    "print(f\"{egg.names}'s placeholder candidates:\",\n",
    "      f\"\"\"{[placeholder.names for placeholder in\n",
    "            ontology_manager.get_designators_by_subject_predicate(subject=egg,\n",
    "                                                                  predicate_name=PLACEABLE_ON_PREDICATE_NAME)]}\"\"\")\n",
    "\n",
    "for place_holder in placeholders:\n",
    "    print(f\"{place_holder.names} can hold:\",\n",
    "          f\"\"\"{[placeholder.names for placeholder in\n",
    "                ontology_manager.get_designators_by_subject_predicate(subject=place_holder,\n",
    "                                                                      predicate_name=HOLD_OBJ_PREDICATE_NAME)]}\"\"\")\n",
    "\n",
    "print(f\"{egg_tray.names} can hold:\",\n",
    "      f\"\"\"{[placeholder.names for placeholder in\n",
    "            ontology_manager.get_designators_by_subject_predicate(subject=egg_tray,\n",
    "                                                                  predicate_name=HOLD_OBJ_PREDICATE_NAME)]}\"\"\")"
   ],
   "outputs": [
    {
     "name": "stdout",
     "output_type": "stream",
     "text": [
      "['cookie_box']'s placeholder candidates: [['table'], ['stool'], ['shelf']]\n",
      "['egg']'s placeholder candidates: [['egg_tray']]\n",
      "['table'] can hold: [['cookie_box']]\n",
      "['stool'] can hold: [['cookie_box']]\n",
      "['shelf'] can hold: [['cookie_box']]\n",
      "['egg_tray'] can hold: [['egg']]\n"
     ]
    }
   ],
   "execution_count": 15
  },
  {
   "cell_type": "markdown",
   "metadata": {
    "collapsed": false,
    "jupyter": {
     "outputs_hidden": false
    }
   },
   "source": [
    "# Practical examples\n",
    "\n",
    "## Example 1\n",
    "How about creating ontology concept classes encapsulating `pycram.datastructures.enums.ObjectType`? We can do it by:"
   ]
  },
  {
   "cell_type": "code",
   "metadata": {
    "collapsed": false,
    "jupyter": {
     "outputs_hidden": false
    },
    "ExecuteTime": {
     "end_time": "2024-06-10T15:10:59.863339Z",
     "start_time": "2024-06-10T15:10:59.849491Z"
    }
   },
   "source": [
    "from pycram.datastructures.enums import ObjectType\n",
    "\n",
    "# Create a generic ontology concept class for edible objects\n",
    "generic_edible_class = ontology_manager.create_ontology_concept_class('GenericEdible')\n",
    "\n",
    "# Create a list of object designators sharing the same concept class as [generic_edible_class]\n",
    "edible_obj_types = [ObjectType.MILK, ObjectType.BREAKFAST_CEREAL]\n",
    "for object_type in ObjectType:\n",
    "    if object_type in edible_obj_types:\n",
    "        # Create a designator for the edible object\n",
    "        ontology_manager.create_ontology_object_designator_from_type(object_type, generic_edible_class)\n",
    "\n",
    "print(f'{generic_edible_class.name} object types:')\n",
    "for edible_ontology_concept in generic_edible_class.direct_instances():\n",
    "    print(edible_ontology_concept,\n",
    "          [des.types for des in OntologyConceptHolderStore().get_ontology_concept_holder_by_name(edible_ontology_concept.name).designators])\n"
   ],
   "outputs": [
    {
     "name": "stdout",
     "output_type": "stream",
     "text": [
      "GenericEdible object types:\n",
      "SOMA-HOME.milk_concept [['milk']]\n",
      "SOMA-HOME.breakfast_cereal_concept [['breakfast_cereal']]\n"
     ]
    }
   ],
   "execution_count": 16
  },
  {
   "cell_type": "markdown",
   "metadata": {
    "collapsed": false,
    "jupyter": {
     "outputs_hidden": false
    }
   },
   "source": [
    "## Example 2\n",
    "We could also make use of relations between ontology concepts that designators are associated with, to enable more abstract inputs in robot motion plans.\n",
    "\n",
    "In a similar style to the scenario of __placeholder objects__ and __handheld objects__ above, but with a bit difference, we will ask the robot to query which content holders (eg. cup, pitcher, bowl) whereby a milk box could be pourable into.\n",
    "\n",
    "Basically, we will provide an ontology-based implementation for the query:\n",
    " \n",
    "`abstract_ontology_concept -> specific_objects_in_world?`\n",
    "\n",
    "To achieve it, we will create triple classes and configure a customized `resolve()` for the abstract concept, which returns its associated specific designators.\n",
    "These designators are then used to again resolve for the target objects of interest, which become the inputs to a robot motion plan.\n",
    "\n",
    "### Setup simulated environment"
   ]
  },
  {
   "cell_type": "code",
   "metadata": {
    "ExecuteTime": {
     "end_time": "2024-06-10T15:11:00.519170Z",
     "start_time": "2024-06-10T15:10:59.863841Z"
    }
   },
   "source": [
    "from pycram.worlds.bullet_world import BulletWorld, Object\n",
    "from pycram.datastructures.pose import Pose\n",
    "\n",
    "from pycram.process_module import simulated_robot\n",
    "from pycram.designators.action_designator import *\n",
    "from pycram.designators.location_designator import *\n",
    "\n",
    "world = BulletWorld()\n",
    "kitchen = Object(\"kitchen\", ObjectType.ENVIRONMENT, \"kitchen.urdf\")\n",
    "pr2 = Object(\"pr2\", ObjectType.ROBOT, \"pr2.urdf\")\n",
    "kitchen_designator = ObjectDesignatorDescription(names=[\"kitchen\"])\n",
    "robot_designator = ObjectDesignatorDescription(names=[\"pr2\"]).resolve()"
   ],
   "outputs": [
    {
     "name": "stderr",
     "output_type": "stream",
     "text": [
      "Scalar element defined multiple times: limit\n"
     ]
    }
   ],
   "execution_count": 17
  },
  {
   "cell_type": "markdown",
   "metadata": {},
   "source": [
    "### Create PourableObject-LiquidHolder triple ontology classes"
   ]
  },
  {
   "cell_type": "code",
   "metadata": {
    "ExecuteTime": {
     "end_time": "2024-06-10T15:11:00.635706Z",
     "start_time": "2024-06-10T15:11:00.519697Z"
    }
   },
   "source": [
    "POURABLE_INTO_PREDICATE_NAME = \"pourable_into\"\n",
    "HOLD_LIQUID_PREDICATE_NAME = \"hold_liquid\"\n",
    "ontology_manager.create_ontology_triple_classes(ontology_subject_parent_class=soma.DesignedContainer,\n",
    "                                                subject_class_name=\"OntologyLiquidHolderObject\",\n",
    "                                                ontology_object_parent_class=soma.Shape,\n",
    "                                                object_class_name=\"OntologyPourableObject\",\n",
    "                                                predicate_class_name=POURABLE_INTO_PREDICATE_NAME,\n",
    "                                                inverse_predicate_class_name=HOLD_LIQUID_PREDICATE_NAME,\n",
    "                                                ontology_property_parent_class=soma.affordsBearer,\n",
    "                                                ontology_inverse_property_parent_class=soma.isBearerAffordedBy)"
   ],
   "outputs": [
    {
     "name": "stderr",
     "output_type": "stream",
     "text": [
      "Scalar element defined multiple times: limit\n"
     ]
    },
    {
     "data": {
      "text/plain": [
       "True"
      ]
     },
     "execution_count": 18,
     "metadata": {},
     "output_type": "execute_result"
    }
   ],
   "execution_count": 18
  },
  {
   "cell_type": "markdown",
   "metadata": {},
   "source": [
    "### Spawn a pourable object & liquid holders into the world and Create their designators"
   ]
  },
  {
   "cell_type": "code",
   "metadata": {
    "ExecuteTime": {
     "end_time": "2024-06-10T15:11:00.716808Z",
     "start_time": "2024-06-10T15:11:00.636353Z"
    }
   },
   "source": [
    "# Holdable obj\n",
    "milk_box = Object(\"milk_box\", ObjectType.MILK, \"milk.stl\")\n",
    "milk_box_designator = create_ontology_handheld_object_designator(milk_box.name, main_ontology.OntologyPourableObject)\n",
    "\n",
    "# Liquid-holders\n",
    "cup = Object(\"cup\", ObjectType.JEROEN_CUP, \"jeroen_cup.stl\", pose=Pose([1.4, 1, 0.9]))\n",
    "bowl = Object(\"bowl\", ObjectType.BOWL, \"bowl.stl\", pose=Pose([1.4, 0.5, 0.9]))\n",
    "pitcher = Object(\"pitcher\", ObjectType.GENERIC_OBJECT, \"Static_MilkPitcher.stl\", pose=Pose([1.4, 0, 0.9]))\n",
    "milk_holders = [cup, bowl, pitcher]\n",
    "milk_holder_designators = [create_ontology_handheld_object_designator(obj.name, main_ontology.OntologyLiquidHolderObject)\n",
    "                           for obj in milk_holders]"
   ],
   "outputs": [
    {
     "name": "stderr",
     "output_type": "stream",
     "text": [
      "Unknown tag \"rgba_color\" in /robot[@name='milk_object']/link[@name='milk_main']/visual[1]/material[@name='white']\n",
      "Unknown tag \"rgba_color\" in /robot[@name='cup_object']/link[@name='cup_main']/visual[1]/material[@name='white']\n",
      "Unknown tag \"rgba_color\" in /robot[@name='milk_object']/link[@name='milk_main']/visual[1]/material[@name='white']\n",
      "Unknown tag \"rgba_color\" in /robot[@name='bowl_object']/link[@name='bowl_main']/visual[1]/material[@name='white']\n",
      "Unknown tag \"rgba_color\" in /robot[@name='cup_object']/link[@name='cup_main']/visual[1]/material[@name='white']\n",
      "Unknown tag \"rgba_color\" in /robot[@name='pitcher_object']/link[@name='pitcher_main']/visual[1]/material[@name='white']\n"
     ]
    }
   ],
   "execution_count": 19
  },
  {
   "cell_type": "markdown",
   "metadata": {},
   "source": [
    "### Create an ontology relation between the designators of the pourable object & its liquid holders"
   ]
  },
  {
   "cell_type": "code",
   "metadata": {
    "ExecuteTime": {
     "end_time": "2024-06-10T15:11:00.743989Z",
     "start_time": "2024-06-10T15:11:00.717421Z"
    }
   },
   "source": [
    "for milk_holder_desig in milk_holder_designators:\n",
    "    ontology_manager.set_ontology_relation(subject_designator=milk_box_designator, object_designator=milk_holder_desig,\n",
    "                                           predicate_name=POURABLE_INTO_PREDICATE_NAME)"
   ],
   "outputs": [
    {
     "name": "stderr",
     "output_type": "stream",
     "text": [
      "Unknown tag \"rgba_color\" in /robot[@name='bowl_object']/link[@name='bowl_main']/visual[1]/material[@name='white']\n",
      "Unknown tag \"rgba_color\" in /robot[@name='pitcher_object']/link[@name='pitcher_main']/visual[1]/material[@name='white']\n"
     ]
    }
   ],
   "execution_count": 20
  },
  {
   "cell_type": "markdown",
   "metadata": {},
   "source": [
    "### Set up `resolve` for the ontology concept of the pourable object"
   ]
  },
  {
   "cell_type": "code",
   "metadata": {
    "ExecuteTime": {
     "end_time": "2024-06-10T15:11:00.753925Z",
     "start_time": "2024-06-10T15:11:00.744524Z"
    }
   },
   "source": [
    "milk_box_concept_holder = milk_box_designator.ontology_concept_holders[0]\n",
    "def milk_box_concept_resolve(): \n",
    "    object_designator = ontology_manager.get_designators_by_subject_predicate(subject=milk_box_designator, predicate_name=POURABLE_INTO_PREDICATE_NAME)[0]\n",
    "    return object_designator, object_designator.resolve()\n",
    "\n",
    "milk_box_concept_holder.resolve = milk_box_concept_resolve"
   ],
   "outputs": [],
   "execution_count": 21
  },
  {
   "cell_type": "markdown",
   "metadata": {},
   "source": [
    "Here, for demonstration purpose only, we specify the resolving result by `milk_box_concept_holder` as `cup`, the first-registered (default) pourable-into target milk holder, utilizing the ontology relation setup above.\n",
    "\n",
    "Now, we can query the milk box's target liquid holder by resolving `milk_box_concept_holder`"
   ]
  },
  {
   "cell_type": "code",
   "metadata": {
    "ExecuteTime": {
     "end_time": "2024-06-10T15:11:00.768499Z",
     "start_time": "2024-06-10T15:11:00.754351Z"
    }
   },
   "source": [
    "target_milk_holder_designator, target_milk_holder = milk_box_concept_holder.resolve()\n",
    "print(f\"Pickup target object: {target_milk_holder.name}, a content holder for {milk_box_designator.names} as in relation `{POURABLE_INTO_PREDICATE_NAME}`\")"
   ],
   "outputs": [
    {
     "name": "stdout",
     "output_type": "stream",
     "text": [
      "Pickup target object: cup, a content holder for ['milk_box'] as in relation `pourable_into`\n"
     ]
    }
   ],
   "execution_count": 22
  },
  {
   "cell_type": "markdown",
   "metadata": {},
   "source": [
    "### Robot picks up the target liquid holder"
   ]
  },
  {
   "cell_type": "code",
   "metadata": {
    "ExecuteTime": {
     "end_time": "2024-06-10T15:11:09.526290Z",
     "start_time": "2024-06-10T15:11:00.769064Z"
    }
   },
   "source": [
    "with simulated_robot:\n",
    "    ParkArmsAction([Arms.BOTH]).resolve().perform()\n",
    "\n",
    "    MoveTorsoAction([0.3]).resolve().perform()\n",
    "\n",
    "    pickup_pose = CostmapLocation(target=target_milk_holder, reachable_for=robot_designator).resolve()\n",
    "    pickup_arm = pickup_pose.reachable_arms[0]\n",
    "\n",
    "    print(pickup_pose, pickup_arm)\n",
    "\n",
    "    NavigateAction(target_locations=[pickup_pose.pose]).resolve().perform()\n",
    "\n",
    "    PickUpAction(object_designator_description=target_milk_holder_designator, arms=[pickup_arm], grasps=[\"front\"]).resolve().perform()\n",
    "\n",
    "    ParkArmsAction([Arms.BOTH]).resolve().perform()\n",
    "\n",
    "    place_island = SemanticCostmapLocation(\"kitchen_island_surface\", kitchen_designator.resolve(), target_milk_holder_designator.resolve()).resolve()\n",
    "\n",
    "    place_stand = CostmapLocation(place_island.pose, reachable_for=robot_designator, reachable_arm=pickup_arm).resolve()\n",
    "\n",
    "    NavigateAction(target_locations=[place_stand.pose]).resolve().perform()\n",
    "\n",
    "    PlaceAction(target_milk_holder_designator, target_locations=[place_island.pose], arms=[pickup_arm]).resolve().perform()\n",
    "\n",
    "    ParkArmsAction([Arms.BOTH]).resolve().perform()\n",
    "world.exit()"
   ],
   "outputs": [
    {
     "name": "stdout",
     "output_type": "stream",
     "text": [
      "[INFO] [1718032262.322774]: Waiting for IK service: /pr2_left_arm_kinematics/get_ik\n",
      "CostmapLocation.Location(pose=header: \n",
      "  seq: 0\n",
      "  stamp: \n",
      "    secs: 1718032262\n",
      "    nsecs: 303647756\n",
      "  frame_id: \"map\"\n",
      "pose: \n",
      "  position: \n",
      "    x: 0.6399999999999999\n",
      "    y: 1.24\n",
      "    z: 0.0\n",
      "  orientation: \n",
      "    x: -0.0\n",
      "    y: 0.0\n",
      "    z: 0.15234391170286138\n",
      "    w: -0.988327543159185, reachable_arms=['left', 'right']) left\n"
     ]
    }
   ],
   "execution_count": 23
  },
  {
   "cell_type": "markdown",
   "metadata": {},
   "source": [
    "# Save ontologies to an OWL file\n",
    "After all the above operations on our ontologies, we now can save them to an OWL file on disk"
   ]
  },
  {
   "cell_type": "code",
   "metadata": {
    "ExecuteTime": {
     "end_time": "2024-06-10T15:11:09.581858Z",
     "start_time": "2024-06-10T15:11:09.527728Z"
    }
   },
   "source": [
    "ontology_manager.save(f\"{Path.home()}/ontologies/New{main_ontology.name}.owl\")"
   ],
   "outputs": [
    {
     "name": "stdout",
     "output_type": "stream",
     "text": [
      "[INFO] [1718032269.555942]: Main ontology SOMA-HOME has been saved to /home/ducthan/ontologies/NewSOMA-HOME.owl\n",
      "[INFO] [1718032269.579815]: Main ontology world for SOMA-HOME has been cached and saved to SQL: /home/ducthan/ontologies/NewSOMA-HOME.sqlite3\n"
     ]
    },
    {
     "data": {
      "text/plain": [
       "True"
      ]
     },
     "execution_count": 24,
     "metadata": {},
     "output_type": "execute_result"
    }
   ],
   "execution_count": 24
  },
  {
   "cell_type": "markdown",
   "metadata": {},
   "source": [
    "# Optimize ontology loading with SQLite3\n",
    "Upon the initial ontology loading from OWL, an SQLite3 file is automatically created, acting as the quadstore cache for the loaded ontologies. This allows them to be __selectively__ reusable the next time being loaded.\n",
    "More info can be referenced [here](https://owlready2.readthedocs.io/en/latest/world.html). "
   ]
  }
 ],
 "metadata": {
  "kernelspec": {
   "display_name": "pycram",
   "language": "python",
   "name": "pycram"
  },
  "language_info": {
   "codemirror_mode": {
    "name": "ipython",
    "version": 3
   },
   "file_extension": ".py",
   "mimetype": "text/x-python",
   "name": "python",
   "nbconvert_exporter": "python",
   "pygments_lexer": "ipython3",
   "version": "3.8.10"
  }
 },
 "nbformat": 4,
 "nbformat_minor": 4
}
