{
 "cells": [
  {
   "cell_type": "markdown",
   "source": [
    "# Ontology interface\n",
    "\n",
    "This tutorial demonstrates basic usages of __owlready2__ API for ontology manipulation. Notably, new ontology concept triple classes (subject, predicate, object) will be dynamically created, with optional existing ontology parent classes that are loaded from an OWL ontology. Then through the interconnected relations specified in triples, designators and their corresponding ontology concepts can be double-way queried for input information in certain tasks, eg. making a robot motion plan. "
   ],
   "metadata": {
    "collapsed": false
   }
  },
  {
   "cell_type": "code",
   "source": [
    "from pathlib import Path\n",
    "from typing import Type, TYPE_CHECKING\n",
    "import pycram\n",
    "from pycram.designator import ObjectDesignatorDescription"
   ],
   "metadata": {
    "collapsed": false,
    "ExecuteTime": {
     "end_time": "2024-04-11T08:48:18.462274Z",
     "start_time": "2024-04-11T08:48:17.945468Z"
    }
   },
   "outputs": [
    {
     "name": "stderr",
     "output_type": "stream",
     "text": [
      "Unknown attribute \"type\" in /robot[@name='pr2']/link[@name='base_laser_link']\n",
      "Unknown attribute \"type\" in /robot[@name='pr2']/link[@name='wide_stereo_optical_frame']\n",
      "Unknown attribute \"type\" in /robot[@name='pr2']/link[@name='narrow_stereo_optical_frame']\n",
      "Unknown attribute \"type\" in /robot[@name='pr2']/link[@name='laser_tilt_link']\n",
      "Failed to import Giskard messages\n",
      "Could not import RoboKudo messages, RoboKudo interface could not be initialized\n",
      "pybullet build time: Nov 28 2023 23:51:11\n"
     ]
    }
   ],
   "execution_count": 1
  },
  {
   "cell_type": "markdown",
   "source": [
    "# Owlready2\n",
    "\n",
    "[Owlready2](https://owlready2.readthedocs.io/en/latest/intro.html) is a Python package providing a transparent access to OWL ontologies. It supports various manipulation operations, including but not limited to loading, modification, saving ontologies. Built-in supported reasoners include [HermiT](http://www.hermit-reasoner.com) and [Pellet](https://github.com/stardog-union/pellet)."
   ],
   "metadata": {
    "collapsed": false
   }
  },
  {
   "cell_type": "code",
   "source": [
    "import logging\n",
    "try:\n",
    "    import owlready2\n",
    "    from owlready2 import *\n",
    "except ImportError:\n",
    "    owlready2 = None\n",
    "    logging.error(\"Could not import owlready2, Ontology Manager could not be initialized!\")\n",
    "\n",
    "logging.getLogger().setLevel(logging.INFO)"
   ],
   "metadata": {
    "collapsed": false,
    "ExecuteTime": {
     "end_time": "2024-04-11T08:48:18.476528Z",
     "start_time": "2024-04-11T08:48:18.465243Z"
    }
   },
   "outputs": [],
   "execution_count": 2
  },
  {
   "cell_type": "markdown",
   "source": [
    "# Ontology Manager\n",
    "\n",
    "`OntologyManager` is the singleton class acting as the main interface between PyCram with ontologies, whereby object instances in the former could query relevant information based on the semantic connection with their corresponding ontology concepts.\n",
    "\n",
    "Such connection, as represented by triples (subject-predicate-object), could be also created on the fly if not pre-existing in the loaded ontology.\n",
    "\n",
    "Also new and updated concepts with their properties defined in runtime could be stored into an [SQLite3 file database](https://owlready2.readthedocs.io/en/latest/world.html) for reuse.\n",
    "\n",
    "Here we will use [SOMA ontology](https://ease-crc.github.io/soma) as the baseline to utilize the generalized concepts provided by it."
   ],
   "metadata": {
    "collapsed": false
   }
  },
  {
   "cell_type": "code",
   "source": [
    "from pycram.ontology.ontology import OntologyManager, SOMA_HOME_ONTOLOGY_IRI\n",
    "from pycram.ontology.ontology_common import OntologyConceptHolderStore, OntologyConceptHolder\n",
    "\n",
    "ontology_manager = OntologyManager(SOMA_HOME_ONTOLOGY_IRI)\n",
    "main_ontology = ontology_manager.main_ontology\n",
    "soma = ontology_manager.soma\n",
    "dul = ontology_manager.dul"
   ],
   "metadata": {
    "collapsed": false,
    "ExecuteTime": {
     "end_time": "2024-04-11T08:48:18.621405Z",
     "start_time": "2024-04-11T08:48:18.477040Z"
    }
   },
   "outputs": [
    {
     "name": "stdout",
     "output_type": "stream",
     "text": [
      "[INFO] [1712825298.616830]: Ontology [http://www.ease-crc.org/ont/SOMA-HOME.owl#]'s name: SOMA-HOME has been loaded\n",
      "[INFO] [1712825298.617596]: - main namespace: SOMA-HOME\n",
      "[INFO] [1712825298.618148]: - loaded ontologies:\n",
      "[INFO] [1712825298.618654]: http://www.ease-crc.org/ont/SOMA-HOME.owl#\n",
      "[INFO] [1712825298.619127]: http://www.ease-crc.org/ont/DUL.owl#\n",
      "[INFO] [1712825298.619599]: http://www.ease-crc.org/ont/SOMA.owl#\n"
     ]
    }
   ],
   "execution_count": 3
  },
  {
   "cell_type": "markdown",
   "source": [
    "## Ontology Concept Holder\n",
    "__`OntologyConceptHolder`__ class, encapsulating an __`owlready2.Thing`__ instance, is used primarily as the binding connection between the `owlready2.Thing` ontology concept to PyCram designators. We make it that way, instead of creating a custom concept class that inherits from `owlready2.Thing` for the reasons below:\n",
    "\n",
    "- `owlready2` API does not have very robust support for client classes to inherit from theirs with added (non-semantic) attributes, particularly in our case, where classes like `DesignatorDescription` have their `metaclass` as `ABCMeta`, while it is `EntityClass` that is the metaclass used for basically all concepts (classes, properties) in `owlready2`. Since those two metaclasses just bear no relationship, for the inheritance to work, the only way is to create a child metaclass with both of those as parents, however without full support by `owlready2`, plus the second reason below will point out it's not worth the effort.\n",
    "\n",
    "\n",
    "- Essentially, we will have new ontology concept classes created dynamically, if their types inherit from `owlready2.Thing`, all custom non-semantic (of types known only by PyCram) attributes, which are defined by their own in child classes, will apparently be not savable into the ontology by `owlready2` api. Then the next time the ontology is loaded, those same dynamic classes will not be created anymore, thus without those attributes either, causing running error.\n",
    "\n",
    "As such, in short, an ontology concept class, either newly created on the fly or loaded from ontologies, has to be `owlready2.Thing` or its pure derived class (without non-semantic attributes), so to make itself reusable upon reloading.\n",
    "\n",
    "Notable attributes:\n",
    "- `ontology_concept`: An ontology concept of `owlready2.Thing` type or its pure child class (without custom non-semantic attributes), either dynamically created, or loaded from an ontology\n",
    "- `designators`: a list of `DesignatorDescription` instances associated with `ontology_concept`\n",
    "- `resolve`: a `Callable` typically returning a list of `DesignatorDescription` as specific designators, like `designators` or its subset, inferred from the ontology concept. In fact, it can be resolved to anything else relevant, up to the caller."
   ],
   "metadata": {
    "collapsed": false
   }
  },
  {
   "cell_type": "markdown",
   "source": [
    "## Query ontology classes and their properties\n",
    "\n",
    "Classes in the loaded ontology can be queried based on their exact names, or part of them, or by namespace.\n",
    "Here, we can see essential info (ancestors, super/sub-classes, properties, direct instances, etc.) of the found ontology class."
   ],
   "metadata": {
    "collapsed": false
   }
  },
  {
   "cell_type": "code",
   "source": [
    "ontology_designed_container_class = ontology_manager.get_ontology_class('DesignedContainer')\n",
    "ontology_manager.print_ontology_class(ontology_designed_container_class)\n",
    "classes = ontology_manager.get_ontology_classes_by_subname('PhysicalObject'); print(classes[0])\n",
    "classes = ontology_manager.get_ontology_classes_by_namespace('SOMA'); print(classes[:2])"
   ],
   "metadata": {
    "collapsed": false,
    "ExecuteTime": {
     "end_time": "2024-04-11T08:48:18.804523Z",
     "start_time": "2024-04-11T08:48:18.621936Z"
    }
   },
   "outputs": [
    {
     "name": "stdout",
     "output_type": "stream",
     "text": [
      "[INFO] [1712825298.740637]: -------------------\n",
      "[INFO] [1712825298.741301]: SOMA.DesignedContainer <class 'owlready2.entity.ThingClass'>\n",
      "[INFO] [1712825298.741699]: Super classes: [DUL.DesignedArtifact, DUL.DesignedArtifact, SOMA.hasDisposition.some(SOMA.Containment), SOMA.hasDisposition.some(SOMA.Containment)]\n",
      "[INFO] [1712825298.742080]: Ancestors: {owl.Thing, DUL.Object, SOMA.DesignedContainer, DUL.DesignedArtifact, DUL.PhysicalObject, DUL.PhysicalArtifact, DUL.Entity}\n",
      "[INFO] [1712825298.742406]: Subclasses: [SOMA.Bottle, SOMA.Crockery, SOMA.Box, SOMA.Building, SOMA.Carafe, SOMA.Cupboard, SOMA.Dishwasher, SOMA.Dispenser, SOMA.Drawer, SOMA.Jar, SOMA.Pack, SOMA.Oven, SOMA.Shaker, SOMA.Refrigerator, SOMA.TrashContainer, SOMA-HOME.CustomContainerConcept, SOMA-HOME.AnotherCustomContainerConcept, SOMA-HOME.OntologyPlaceHolderObject, SOMA-HOME.OntologyLiquidHolderObject]\n",
      "[INFO] [1712825298.742819]: Properties: [rdf-schema.label, SOMA.hasDisposition, rdf-schema.isDefinedBy, rdf-schema.comment]\n",
      "[INFO] [1712825298.800223]: Instances: [SOMA-HOME.ontology_custom_container_concept, SOMA-HOME.another_custom_container_concept, SOMA-HOME.table_concept, SOMA-HOME.stool_concept, SOMA-HOME.shelf_concept, SOMA-HOME.egg_tray_concept, SOMA-HOME.cup_concept, SOMA-HOME.bowl_concept, SOMA-HOME.pitcher_concept]\n",
      "[INFO] [1712825298.800795]: Direct Instances: []\n",
      "[INFO] [1712825298.801166]: Inverse Restrictions: []\n",
      "DUL.PhysicalObject\n",
      "[SOMA.Affordance, SOMA.Disposition]\n"
     ]
    }
   ],
   "execution_count": 4
  },
  {
   "cell_type": "markdown",
   "source": [
    "__Descendants__ of an ontology class can be also queried by"
   ],
   "metadata": {
    "collapsed": false
   }
  },
  {
   "cell_type": "code",
   "source": "ontology_manager.get_ontology_descendant_classes(ontology_designed_container_class)[:5]",
   "metadata": {
    "collapsed": false,
    "ExecuteTime": {
     "end_time": "2024-04-11T08:48:18.847192Z",
     "start_time": "2024-04-11T08:48:18.805721Z"
    }
   },
   "outputs": [
    {
     "data": {
      "text/plain": [
       "[SOMA.Bottle, SOMA.DesignedContainer, SOMA.Bowl, SOMA.Crockery, SOMA.Box]"
      ]
     },
     "execution_count": 5,
     "metadata": {},
     "output_type": "execute_result"
    }
   ],
   "execution_count": 5
  },
  {
   "cell_type": "markdown",
   "source": [
    "## Create a new ontology concept class and its individual\n",
    "\n",
    "A new ontology class can be created dynamically as inheriting from an existing class in the loaded ontology.\n",
    "Here we create the class and its instance, also known as [__individual__](https://owlready2.readthedocs.io/en/latest/class.html#creating-equivalent-classes) in ontology terms, which is then wrapped inside an `OntologyConceptHolder`."
   ],
   "metadata": {
    "collapsed": false
   }
  },
  {
   "cell_type": "code",
   "source": [
    "ontology_custom_container_class = ontology_manager.create_ontology_concept_class('CustomContainerConcept',\n",
    "                                                                                 ontology_designed_container_class)\n",
    "custom_container_concept_holder = OntologyConceptHolder(ontology_custom_container_class(name='ontology_custom_container_concept',\n",
    "                                                                                        namespace=main_ontology))"
   ],
   "metadata": {
    "collapsed": false,
    "ExecuteTime": {
     "end_time": "2024-04-11T08:48:18.853254Z",
     "start_time": "2024-04-11T08:48:18.847659Z"
    }
   },
   "outputs": [],
   "execution_count": 6
  },
  {
   "cell_type": "markdown",
   "source": [
    "## Access ontology concept classes and individuals\n",
    "All ontology classes created on the fly purely inherit (without added non-semantic attributes) from __`owlready2.Thing`__, and so share the same namespace with the loaded ontology instance, `main_ontology`. They can then be accessible through that namespace by __`main_ontology.<class_name>`__.\n",
    "The same applies for individuals of those classes, accessible by __`main_ontology.<class_individual_name>`__"
   ],
   "metadata": {
    "collapsed": false
   }
  },
  {
   "cell_type": "code",
   "source": [
    "ontology_manager.print_ontology_class(main_ontology.CustomContainerConcept)\n",
    "print(f\"custom_container_concept is {main_ontology.ontology_custom_container_concept}: {custom_container_concept_holder.ontology_concept is main_ontology.ontology_custom_container_concept}\")"
   ],
   "metadata": {
    "collapsed": false,
    "ExecuteTime": {
     "end_time": "2024-04-11T08:48:18.897494Z",
     "start_time": "2024-04-11T08:48:18.853689Z"
    }
   },
   "outputs": [
    {
     "name": "stdout",
     "output_type": "stream",
     "text": [
      "[INFO] [1712825298.890220]: -------------------\n",
      "[INFO] [1712825298.891301]: SOMA-HOME.CustomContainerConcept <class 'owlready2.entity.ThingClass'>\n",
      "[INFO] [1712825298.892014]: Super classes: [SOMA.DesignedContainer, owl.Thing]\n",
      "[INFO] [1712825298.892582]: Ancestors: {owl.Thing, SOMA-HOME.CustomContainerConcept, DUL.Object, SOMA.DesignedContainer, DUL.DesignedArtifact, DUL.PhysicalObject, DUL.PhysicalArtifact, DUL.Entity}\n",
      "[INFO] [1712825298.893037]: Subclasses: []\n",
      "[INFO] [1712825298.893832]: Properties: []\n",
      "[INFO] [1712825298.894993]: Instances: [SOMA-HOME.ontology_custom_container_concept]\n",
      "[INFO] [1712825298.895463]: Direct Instances: [SOMA-HOME.ontology_custom_container_concept]\n",
      "[INFO] [1712825298.895874]: Inverse Restrictions: []\n",
      "custom_container_concept is SOMA-HOME.ontology_custom_container_concept: True\n"
     ]
    }
   ],
   "execution_count": 7
  },
  {
   "cell_type": "markdown",
   "source": [
    "For ones already existing in the ontology, they can only be accessed through their corresponding ontology, eg: `soma` as follows"
   ],
   "metadata": {
    "collapsed": false
   }
  },
  {
   "cell_type": "code",
   "source": [
    "ontology_manager.print_ontology_class(soma.Cup)"
   ],
   "metadata": {
    "collapsed": false,
    "ExecuteTime": {
     "end_time": "2024-04-11T08:48:18.923086Z",
     "start_time": "2024-04-11T08:48:18.898197Z"
    }
   },
   "outputs": [
    {
     "name": "stdout",
     "output_type": "stream",
     "text": [
      "[INFO] [1712825298.916737]: -------------------\n",
      "[INFO] [1712825298.917397]: SOMA.Cup <class 'owlready2.entity.ThingClass'>\n",
      "[INFO] [1712825298.917950]: Super classes: [SOMA.Crockery, SOMA.hasPhysicalComponent.some(SOMA.DesignedHandle)]\n",
      "[INFO] [1712825298.918460]: Ancestors: {owl.Thing, SOMA.Crockery, DUL.Object, SOMA.DesignedContainer, SOMA.Tableware, DUL.DesignedArtifact, SOMA.DesignedTool, DUL.PhysicalObject, SOMA.Cup, DUL.PhysicalArtifact, DUL.Entity}\n",
      "[INFO] [1712825298.919121]: Subclasses: []\n",
      "[INFO] [1712825298.919813]: Properties: [SOMA.hasPhysicalComponent, rdf-schema.isDefinedBy, rdf-schema.comment]\n",
      "[INFO] [1712825298.920730]: Instances: []\n",
      "[INFO] [1712825298.921243]: Direct Instances: []\n",
      "[INFO] [1712825298.921731]: Inverse Restrictions: []\n"
     ]
    }
   ],
   "execution_count": 8
  },
  {
   "cell_type": "markdown",
   "source": [
    "## Connect ontology class individuals with designators\n",
    "After creating `custom_container_concept_holder` (wrapping `custom_container_concept` as an `owlready2.Thing`), we connect it to a designator (say `obj_designator`) by:\n",
    "- Append to `obj_designator.ontology_concept_holders` with `custom_container_concept_holder`\n",
    "- Append to `custom_container_concept_holder.designators` with `obj_designator`"
   ],
   "metadata": {
    "collapsed": false
   }
  },
  {
   "cell_type": "code",
   "source": [
    "custom_container_designator = ObjectDesignatorDescription(names=[\"obj\"])\n",
    "custom_container_designator.ontology_concept_holders.append(custom_container_concept_holder)\n",
    "custom_container_concept_holder.designators.append(custom_container_designator)"
   ],
   "metadata": {
    "collapsed": false,
    "ExecuteTime": {
     "end_time": "2024-04-11T08:48:18.942739Z",
     "start_time": "2024-04-11T08:48:18.923536Z"
    }
   },
   "outputs": [],
   "execution_count": 9
  },
  {
   "cell_type": "markdown",
   "source": [
    "We can also automatize all the above setup with a single function call"
   ],
   "metadata": {
    "collapsed": false
   }
  },
  {
   "cell_type": "code",
   "source": [
    "another_custom_container_designator = ontology_manager.create_ontology_linked_designator(designator_name=\"another_custom_container\",\n",
    "                                                                                         designator_class=ObjectDesignatorDescription,\n",
    "                                                                                         ontology_concept_name=\"AnotherCustomContainerConcept\",\n",
    "                                                                                         ontology_parent_class=ontology_designed_container_class)\n",
    "another_custom_container_concept = another_custom_container_designator.ontology_concept_holders[0].ontology_concept \n",
    "print(f\"Ontology concept: {another_custom_container_concept.name} of class {type(another_custom_container_concept)}\")\n",
    "another_custom_container_designator = OntologyConceptHolderStore().get_ontology_concept_holder_by_name(main_ontology.AnotherCustomContainerConcept.instances()[0].name).get_default_designator()\n",
    "print(f\"Designator: {another_custom_container_designator.names[0]} of type {type(another_custom_container_designator)}\")"
   ],
   "metadata": {
    "collapsed": false,
    "ExecuteTime": {
     "end_time": "2024-04-11T08:48:18.969780Z",
     "start_time": "2024-04-11T08:48:18.943710Z"
    }
   },
   "outputs": [
    {
     "name": "stdout",
     "output_type": "stream",
     "text": [
      "Ontology concept: another_custom_container_concept of class SOMA-HOME.AnotherCustomContainerConcept\n",
      "Designator: another_custom_container of type <class 'pycram.designator.ObjectDesignatorDescription'>\n"
     ]
    }
   ],
   "execution_count": 10
  },
  {
   "cell_type": "markdown",
   "source": [
    "## Create new ontology triple classes\n",
    "\n",
    "Concept classes of a triple, aka [__subject, predicate, object__], can be created dynamically. Here we will make an example creating ones for [__handheld objects__] and [__placeholder objects__], with a pair of predicate and inverse predicate signifying their mutual relation."
   ],
   "metadata": {
    "collapsed": false
   }
  },
  {
   "cell_type": "code",
   "source": [
    "PLACEABLE_ON_PREDICATE_NAME = \"placeable_on\"\n",
    "HOLD_OBJ_PREDICATE_NAME = \"hold_obj\"\n",
    "ontology_manager.create_ontology_triple_classes(ontology_subject_parent_class=soma.DesignedContainer,\n",
    "                                                subject_class_name=\"OntologyPlaceHolderObject\",\n",
    "                                                ontology_object_parent_class=soma.Shape,\n",
    "                                                object_class_name=\"OntologyHandheldObject\",\n",
    "                                                predicate_name=PLACEABLE_ON_PREDICATE_NAME,\n",
    "                                                inverse_predicate_name=HOLD_OBJ_PREDICATE_NAME,\n",
    "                                                ontology_property_parent_class=soma.affordsBearer,\n",
    "                                                ontology_inverse_property_parent_class=soma.isBearerAffordedBy)"
   ],
   "metadata": {
    "collapsed": false,
    "ExecuteTime": {
     "end_time": "2024-04-11T08:48:18.986251Z",
     "start_time": "2024-04-11T08:48:18.970508Z"
    }
   },
   "outputs": [],
   "execution_count": 11
  },
  {
   "cell_type": "markdown",
   "source": [
    "There, we use `soma.DesignedContainer` & `soma.Shape`, existing concept in SOMA ontology, as the parent classes for the subject & object concepts respectively.\n",
    "There is also a note that those classes will have the same namespace with `main_ontology`, so later on to be accessible through it.\n",
    "\n",
    "Then now we define some instances of the newly created triple classes, and link them to object designators, again using __`ontology_manager.create_ontology_linked_designator()`__"
   ],
   "metadata": {
    "collapsed": false
   }
  },
  {
   "cell_type": "code",
   "source": [
    "def create_ontology_handheld_object_designator(object_name: str, ontology_parent_class: Type[owlready2.Thing]):\n",
    "    return ontology_manager.create_ontology_linked_designator(designator_name=object_name,\n",
    "                                                              designator_class=ObjectDesignatorDescription,\n",
    "                                                              ontology_concept_name=f\"Onto{object_name}\",\n",
    "                                                              ontology_parent_class=ontology_parent_class)\n",
    "# Holdable Objects\n",
    "cookie_box = create_ontology_handheld_object_designator(\"cookie_box\", main_ontology.OntologyHandheldObject)\n",
    "egg = create_ontology_handheld_object_designator(\"egg\", main_ontology.OntologyHandheldObject)\n",
    "    \n",
    "# Placeholder objects\n",
    "placeholders = [create_ontology_handheld_object_designator(object_name, main_ontology.OntologyPlaceHolderObject)\n",
    "                for object_name in ['table', 'stool', 'shelf']]\n",
    "\n",
    "egg_tray = create_ontology_handheld_object_designator(\"egg_tray\", main_ontology.OntologyPlaceHolderObject)"
   ],
   "metadata": {
    "collapsed": false,
    "ExecuteTime": {
     "end_time": "2024-04-11T08:48:19.026206Z",
     "start_time": "2024-04-11T08:48:18.986855Z"
    }
   },
   "outputs": [],
   "execution_count": 12
  },
  {
   "cell_type": "markdown",
   "source": [
    "### Create ontology relations\n",
    "\n",
    "Now we will create ontology relations or predicates between __placeholder objects__ and __handheld objects__ with __`ontology_manager.set_ontology_relation()`__"
   ],
   "metadata": {
    "collapsed": false
   }
  },
  {
   "cell_type": "code",
   "source": [
    "for place_holder in placeholders:\n",
    "    ontology_manager.set_ontology_relation(subject_designator=cookie_box, object_designator=place_holder,\n",
    "                                           predicate_name=PLACEABLE_ON_PREDICATE_NAME)\n",
    "\n",
    "ontology_manager.set_ontology_relation(subject_designator=egg_tray, object_designator=egg,\n",
    "                                       predicate_name=HOLD_OBJ_PREDICATE_NAME)"
   ],
   "metadata": {
    "collapsed": false,
    "ExecuteTime": {
     "end_time": "2024-04-11T08:48:19.048677Z",
     "start_time": "2024-04-11T08:48:19.027020Z"
    }
   },
   "outputs": [
    {
     "data": {
      "text/plain": [
       "True"
      ]
     },
     "execution_count": 13,
     "metadata": {},
     "output_type": "execute_result"
    }
   ],
   "execution_count": 13
  },
  {
   "cell_type": "markdown",
   "source": [
    "## Query designators based on their ontology-concept relations\n",
    "\n",
    "Now we can make queries for designators from designators, based on the relation among their corresponding ontology concepts setup above"
   ],
   "metadata": {
    "collapsed": false
   }
  },
  {
   "cell_type": "code",
   "source": [
    "print(f\"{cookie_box.names}'s placeholder candidates:\",\n",
    "      f\"\"\"{[placeholder.names for placeholder in\n",
    "            ontology_manager.get_designators_by_subject_predicate(subject=cookie_box,\n",
    "                                                                  predicate_name=PLACEABLE_ON_PREDICATE_NAME)]}\"\"\")\n",
    "\n",
    "print(f\"{egg.names}'s placeholder candidates:\",\n",
    "      f\"\"\"{[placeholder.names for placeholder in\n",
    "            ontology_manager.get_designators_by_subject_predicate(subject=egg,\n",
    "                                                                  predicate_name=PLACEABLE_ON_PREDICATE_NAME)]}\"\"\")\n",
    "\n",
    "for place_holder in placeholders:\n",
    "    print(f\"{place_holder.names} can hold:\",\n",
    "          f\"\"\"{[placeholder.names for placeholder in\n",
    "                ontology_manager.get_designators_by_subject_predicate(subject=place_holder,\n",
    "                                                                      predicate_name=HOLD_OBJ_PREDICATE_NAME)]}\"\"\")\n",
    "\n",
    "print(f\"{egg_tray.names} can hold:\",\n",
    "      f\"\"\"{[placeholder.names for placeholder in\n",
    "            ontology_manager.get_designators_by_subject_predicate(subject=egg_tray,\n",
    "                                                                  predicate_name=HOLD_OBJ_PREDICATE_NAME)]}\"\"\")"
   ],
   "metadata": {
    "collapsed": false,
    "ExecuteTime": {
     "end_time": "2024-04-11T08:48:19.074393Z",
     "start_time": "2024-04-11T08:48:19.050381Z"
    }
   },
   "outputs": [
    {
     "name": "stdout",
     "output_type": "stream",
     "text": [
      "['cookie_box']'s placeholder candidates: [['table'], ['stool'], ['shelf']]\n",
      "['egg']'s placeholder candidates: [['egg_tray']]\n",
      "['table'] can hold: [['cookie_box']]\n",
      "['stool'] can hold: [['cookie_box']]\n",
      "['shelf'] can hold: [['cookie_box']]\n",
      "['egg_tray'] can hold: [['egg']]\n"
     ]
    }
   ],
   "execution_count": 14
  },
  {
   "cell_type": "markdown",
   "source": [
    "# Practical examples\n",
    "\n",
    "## Example 1\n",
    "How about creating ontology concept classes encapsulating `pycram.enums.ObjectType`? We can do it by:"
   ],
   "metadata": {
    "collapsed": false
   }
  },
  {
   "cell_type": "code",
   "source": [
    "from pycram.datastructures.enums import ObjectType\n",
    "\n",
    "# Create a generic ontology concept class for edible objects\n",
    "generic_edible_class = ontology_manager.create_ontology_concept_class('GenericEdible')\n",
    "\n",
    "# Create a list of object designators sharing the same concept class as [generic_edible_class]\n",
    "edible_obj_types = [ObjectType.MILK, ObjectType.BREAKFAST_CEREAL]\n",
    "for object_type in ObjectType:\n",
    "    if object_type in edible_obj_types:\n",
    "        # Create a designator for the edible object\n",
    "        ontology_manager.create_ontology_object_designator_from_type(object_type, generic_edible_class)\n",
    "\n",
    "print(f'{generic_edible_class.name} object types:')\n",
    "for edible_ontology_concept in generic_edible_class.direct_instances():\n",
    "    print(edible_ontology_concept,\n",
    "          [des.types for des in OntologyConceptHolderStore().get_ontology_concept_holder_by_name(edible_ontology_concept.name).designators])\n"
   ],
   "metadata": {
    "collapsed": false,
    "ExecuteTime": {
     "end_time": "2024-04-11T08:48:19.093652Z",
     "start_time": "2024-04-11T08:48:19.075186Z"
    }
   },
   "outputs": [
    {
     "name": "stdout",
     "output_type": "stream",
     "text": [
      "GenericEdible object types:\n",
      "SOMA-HOME.milk_concept [['milk']]\n",
      "SOMA-HOME.breakfast_cereal_concept [['breakfast_cereal']]\n"
     ]
    }
   ],
   "execution_count": 15
  },
  {
   "cell_type": "markdown",
   "source": [
    "## Example 2\n",
    "We could also make use of relations between ontology concepts that designators are associated with, to enable more abstract inputs in robot motion plan.\n",
    "\n",
    "In a similar style to the scenario of __placeholder objects__ and __handheld objects__ above, but with a little bit difference, we will ask the robot to query which content holders (eg. cup, pitcher, bowl) whereby a milk box could be pourable into.\n",
    "\n",
    "Basically, we will provide an ontology-based implementation for the query:\n",
    " \n",
    "`abstract_ontology_concept -> specific_objects_in_world?`\n",
    "\n",
    "To achieve it, we will create triple classes and configure a customized `resolve()` for the abstract concept, which returns its associated specific designators.\n",
    "These designators are then used to again resolve for the target objects of interest, which become the inputs to a robot motion plan.\n",
    "\n",
    "### Setup simulated environment"
   ],
   "metadata": {
    "collapsed": false
   }
  },
  {
   "metadata": {
    "ExecuteTime": {
     "end_time": "2024-04-11T08:48:19.802597Z",
     "start_time": "2024-04-11T08:48:19.094335Z"
    }
   },
   "cell_type": "code",
   "source": [
    "from pycram.worlds.bullet_world import BulletWorld, Object\n",
    "from pycram.datastructures.pose import Pose\n",
    "\n",
    "from pycram.process_module import simulated_robot\n",
    "from pycram.designators.action_designator import *\n",
    "from pycram.designators.location_designator import *\n",
    "\n",
    "world = BulletWorld()\n",
    "plane = Object(\"floor\", ObjectType.ENVIRONMENT, \"plane.urdf\")\n",
    "kitchen = Object(\"kitchen\", ObjectType.ENVIRONMENT, \"kitchen.urdf\")\n",
    "pr2 = Object(\"pr2\", ObjectType.ROBOT, \"pr2.urdf\")\n",
    "kitchen_designator = ObjectDesignatorDescription(names=[\"kitchen\"])\n",
    "robot_designator = ObjectDesignatorDescription(names=[\"pr2\"]).resolve()"
   ],
   "outputs": [
    {
     "name": "stderr",
     "output_type": "stream",
     "text": [
      "Scalar element defined multiple times: limit\n",
      "Scalar element defined multiple times: limit\n"
     ]
    }
   ],
   "execution_count": 16
  },
  {
   "metadata": {},
   "cell_type": "markdown",
   "source": "### Create PourableObject-LiquidHolder triple ontology classes"
  },
  {
   "metadata": {
    "ExecuteTime": {
     "end_time": "2024-04-11T08:48:19.892298Z",
     "start_time": "2024-04-11T08:48:19.803623Z"
    }
   },
   "cell_type": "code",
   "source": [
    "POURABLE_INTO_PREDICATE_NAME = \"pourable_into\"\n",
    "HOLD_LIQUID_PREDICATE_NAME = \"hold_liquid\"\n",
    "ontology_manager.create_ontology_triple_classes(ontology_subject_parent_class=soma.DesignedContainer,\n",
    "                                                subject_class_name=\"OntologyLiquidHolderObject\",\n",
    "                                                ontology_object_parent_class=soma.Shape,\n",
    "                                                object_class_name=\"OntologyPourableObject\",\n",
    "                                                predicate_name=POURABLE_INTO_PREDICATE_NAME,\n",
    "                                                inverse_predicate_name=HOLD_LIQUID_PREDICATE_NAME,\n",
    "                                                ontology_property_parent_class=soma.affordsBearer,\n",
    "                                                ontology_inverse_property_parent_class=soma.isBearerAffordedBy)"
   ],
   "outputs": [],
   "execution_count": 17
  },
  {
   "metadata": {},
   "cell_type": "markdown",
   "source": "### Spawn a pourable object & liquid holders into the world and Create their designators"
  },
  {
   "metadata": {
    "ExecuteTime": {
     "end_time": "2024-04-11T08:48:19.992482Z",
     "start_time": "2024-04-11T08:48:19.893578Z"
    }
   },
   "cell_type": "code",
   "source": [
    "# Holdable obj\n",
    "milk_box = Object(\"milk_box\", ObjectType.MILK, \"milk.stl\")\n",
    "milk_box_designator = create_ontology_handheld_object_designator(milk_box.name, main_ontology.OntologyPourableObject)\n",
    "\n",
    "# Liquid-holders\n",
    "cup = Object(\"cup\", ObjectType.JEROEN_CUP, \"jeroen_cup.stl\", pose=Pose([1.4, 1, 0.9]))\n",
    "bowl = Object(\"bowl\", ObjectType.BOWL, \"bowl.stl\", pose=Pose([1.4, 0.5, 0.9]))\n",
    "pitcher = Object(\"pitcher\", ObjectType.GENERIC_OBJECT, \"Static_MilkPitcher.stl\", pose=Pose([1.4, 0, 0.9]))\n",
    "milk_holders = [cup, bowl, pitcher]\n",
    "milk_holder_designators = [create_ontology_handheld_object_designator(obj.name, main_ontology.OntologyLiquidHolderObject)\n",
    "                           for obj in milk_holders]"
   ],
   "outputs": [],
   "execution_count": 18
  },
  {
   "metadata": {},
   "cell_type": "markdown",
   "source": "### Create an ontology relation between the designators of the pourable object & its liquid holders"
  },
  {
   "metadata": {
    "ExecuteTime": {
     "end_time": "2024-04-11T08:48:20.024384Z",
     "start_time": "2024-04-11T08:48:19.993203Z"
    }
   },
   "cell_type": "code",
   "source": [
    "for milk_holder_desig in milk_holder_designators:\n",
    "    ontology_manager.set_ontology_relation(subject_designator=milk_box_designator, object_designator=milk_holder_desig,\n",
    "                                           predicate_name=POURABLE_INTO_PREDICATE_NAME)"
   ],
   "outputs": [],
   "execution_count": 19
  },
  {
   "metadata": {},
   "cell_type": "markdown",
   "source": "### Set up `resolve` for the ontology concept of the pourable object"
  },
  {
   "metadata": {
    "ExecuteTime": {
     "end_time": "2024-04-11T08:48:20.036981Z",
     "start_time": "2024-04-11T08:48:20.025070Z"
    }
   },
   "cell_type": "code",
   "source": [
    "milk_box_concept_holder = milk_box_designator.ontology_concept_holders[0]\n",
    "def milk_box_concept_resolve(): \n",
    "    object_designator = ontology_manager.get_designators_by_subject_predicate(subject=milk_box_designator, predicate_name=POURABLE_INTO_PREDICATE_NAME)[0]\n",
    "    return object_designator, object_designator.resolve()\n",
    "\n",
    "milk_box_concept_holder.resolve = milk_box_concept_resolve"
   ],
   "outputs": [],
   "execution_count": 20
  },
  {
   "metadata": {},
   "cell_type": "markdown",
   "source": [
    "Here, for demonstration purpose only, we specify the resolving result by __`milk_box_concept_holder`__ as __`cup`__, the first-registered (default) pourable-into target milk holder, utilizing the ontology relation setup above.\n",
    "\n",
    "Now, we can query the milk box's target liquid holder by resolving `milk_box_concept_holder`"
   ]
  },
  {
   "metadata": {
    "ExecuteTime": {
     "end_time": "2024-04-11T08:48:20.078643Z",
     "start_time": "2024-04-11T08:48:20.038365Z"
    }
   },
   "cell_type": "code",
   "source": [
    "target_milk_holder_designator, target_milk_holder = milk_box_concept_holder.resolve()\n",
    "print(f\"Pickup target object: {target_milk_holder.name}, a place holder of {milk_box_designator.names}\")"
   ],
   "outputs": [
    {
     "name": "stdout",
     "output_type": "stream",
     "text": [
      "Pickup target object: cup, a place holder of ['milk_box']\n"
     ]
    }
   ],
   "execution_count": 21
  },
  {
   "metadata": {},
   "cell_type": "markdown",
   "source": "### Robot picks up the target liquid holder"
  },
  {
   "metadata": {
    "ExecuteTime": {
     "end_time": "2024-04-11T08:48:28.732245Z",
     "start_time": "2024-04-11T08:48:20.079328Z"
    }
   },
   "cell_type": "code",
   "source": [
    "with simulated_robot:\n",
    "    ParkArmsAction([Arms.BOTH]).resolve().perform()\n",
    "\n",
    "    MoveTorsoAction([0.3]).resolve().perform()\n",
    "\n",
    "    pickup_pose = CostmapLocation(target=target_milk_holder, reachable_for=robot_designator).resolve()\n",
    "    pickup_arm = pickup_pose.reachable_arms[0]\n",
    "\n",
    "    print(pickup_pose, pickup_arm)\n",
    "\n",
    "    NavigateAction(target_locations=[pickup_pose.pose]).resolve().perform()\n",
    "\n",
    "    PickUpAction(object_designator_description=target_milk_holder_designator, arms=[pickup_arm], grasps=[\"front\"]).resolve().perform()\n",
    "\n",
    "    ParkArmsAction([Arms.BOTH]).resolve().perform()\n",
    "\n",
    "    place_island = SemanticCostmapLocation(\"kitchen_island_surface\", kitchen_designator.resolve(), target_milk_holder_designator.resolve()).resolve()\n",
    "\n",
    "    place_stand = CostmapLocation(place_island.pose, reachable_for=robot_designator, reachable_arm=pickup_arm).resolve()\n",
    "\n",
    "    NavigateAction(target_locations=[place_stand.pose]).resolve().perform()\n",
    "\n",
    "    PlaceAction(target_milk_holder_designator, target_locations=[place_island.pose], arms=[pickup_arm]).resolve().perform()\n",
    "\n",
    "    ParkArmsAction([Arms.BOTH]).resolve().perform()\n",
    "world.exit()"
   ],
   "outputs": [
    {
     "name": "stdout",
     "output_type": "stream",
     "text": [
      "CostmapLocation.Location(pose=header: \n",
      "  seq: 0\n",
      "  stamp: \n",
      "    secs: 1712825301\n",
      "    nsecs: 538790225\n",
      "  frame_id: \"map\"\n",
      "pose: \n",
      "  position: \n",
      "    x: 0.6399999999999999\n",
      "    y: 1.24\n",
      "    z: 0.0\n",
      "  orientation: \n",
      "    x: -0.0\n",
      "    y: 0.0\n",
      "    z: 0.15234391170286138\n",
      "    w: -0.988327543159185, reachable_arms=['left', 'right']) left\n"
     ]
    }
   ],
   "execution_count": 22
  },
  {
   "metadata": {},
   "cell_type": "markdown",
   "source": [
    "# Save ontologies to an OWL file\n",
    "After all the above operations to our ontologies, we now can save them to an OWL file on disk"
   ]
  },
  {
   "metadata": {
    "ExecuteTime": {
     "end_time": "2024-04-11T08:48:28.789492Z",
     "start_time": "2024-04-11T08:48:28.734664Z"
    }
   },
   "cell_type": "code",
   "source": "ontology_manager.save(f\"{Path.home()}/ontologies/New{main_ontology.name}.owl\")",
   "outputs": [
    {
     "name": "stdout",
     "output_type": "stream",
     "text": [
      "[INFO] [1712825308.787155]: Ontologies have been saved to /home/ducthan/ontologies/NewSOMA-HOME.owl\n"
     ]
    },
    {
     "data": {
      "text/plain": [
       "True"
      ]
     },
     "execution_count": 23,
     "metadata": {},
     "output_type": "execute_result"
    }
   ],
   "execution_count": 23
  },
  {
   "metadata": {},
   "cell_type": "markdown",
   "source": [
    "# Optimize ontology loading with SQLite3\n",
    "Upon the initial ontology loading from OWL, an SQLite3 file is automatically created, acting as the quadstore cache for the loaded ontologies. This allows them to be __selectively__ reusable the next time that being loaded.\n",
    "More info can be referenced [here](https://owlready2.readthedocs.io/en/latest/world.html). "
   ]
  }
 ],
 "metadata": {
  "kernelspec": {
   "display_name": "pycram",
   "language": "python",
   "name": "pycram"
  },
  "language_info": {
   "codemirror_mode": {
    "name": "ipython",
    "version": 3
   },
   "file_extension": ".py",
   "mimetype": "text/x-python",
   "name": "python",
   "nbconvert_exporter": "python",
   "pygments_lexer": "ipython3",
   "version": "3.8.10"
  }
 },
 "nbformat": 4,
 "nbformat_minor": 4
}
