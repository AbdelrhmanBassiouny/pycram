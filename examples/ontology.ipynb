{
 "cells": [
  {
   "cell_type": "markdown",
   "source": [
    "# Ontology interface\n",
    "\n",
    "This tutorial demonstrates basic usages of __owlready2__ API for ontology manipulation. Notably, new ontology concept triple classes (subject, predicate, object) will be dynamically created, with optional existing ontology parent classes that are loaded from an OWL ontology. Then through the interconnected relations specified in triples, designators and their corresponding ontology concepts can be double-way queried for certain purposes, eg. making a robot motion plan. "
   ],
   "metadata": {
    "collapsed": false
   }
  },
  {
   "cell_type": "code",
   "source": [
    "from pathlib import Path \n",
    "from typing import Optional, List, Type\n",
    "import pycram\n",
    "from pycram.designator import DesignatorDescription, ObjectDesignatorDescription"
   ],
   "metadata": {
    "collapsed": false
   },
   "outputs": [],
   "execution_count": null
  },
  {
   "cell_type": "markdown",
   "source": [
    "# Owlready2\n",
    "\n",
    "[Owlready2](https://owlready2.readthedocs.io/en/latest/intro.html) is a Python package providing a transparent access to OWL ontologies. It supports various manipulation operations, including but not limited to loading, modification, saving ontologies. Built-in supported reasoners include [HermiT](http://www.hermit-reasoner.com) and [Pellet](https://github.com/stardog-union/pellet)."
   ],
   "metadata": {
    "collapsed": false
   }
  },
  {
   "cell_type": "code",
   "source": [
    "from owlready2 import *"
   ],
   "metadata": {
    "collapsed": false
   },
   "outputs": [],
   "execution_count": null
  },
  {
   "cell_type": "markdown",
   "source": [
    "# Ontology Manager\n",
    "\n",
    "`OntologyManager` is the singleton class acting as the main interface between PyCram with ontologies, whereby object instances in the former could query relevant information based on the semantic connection with their corresponding ontology concepts.\n",
    "\n",
    "Such connection, as represented by triples (subject-predicate-object), could be also created on the fly if not pre-existing in the loaded ontology.\n",
    "\n",
    "Also new and updated concepts with their properties defined in runtime could be stored into an [SQLite3 file database](https://owlready2.readthedocs.io/en/latest/world.html) for reuse.\n",
    "\n",
    "Here we will use [SOMA ontology](https://ease-crc.github.io/soma) as the baseline to utilize the generalized concepts provided by it."
   ],
   "metadata": {
    "collapsed": false
   }
  },
  {
   "cell_type": "code",
   "source": [
    "from pycram.ontology import OntologyManager, SOMA_HOME_ONTOLOGY\n",
    "\n",
    "OntologyManager(SOMA_HOME_ONTOLOGY)\n",
    "onto = OntologyManager.onto\n",
    "soma = OntologyManager.soma\n",
    "dul = OntologyManager.dul"
   ],
   "metadata": {
    "collapsed": false
   },
   "outputs": [],
   "execution_count": null
  },
  {
   "cell_type": "markdown",
   "source": [
    "## Ontology Concept class\n",
    "A built-in class named __`OntologyConcept`__, inheriting from __`owlready2.Thing`__, is created when `OntologyManager` is initialized, as the super class for all dynamically made ontology classes later on. It is then accessed by __`OntologyManager.onto.OntologyConcept`__\n",
    "\n",
    "Notable members:\n",
    "- `designators`: a list of `DesignatorDescription` instances associated with the ontology concept\n",
    "- `resolve`: a `Callable` returning a list of `DesignatorDescription`. It is used to provide which specific designators inferred from the ontology concept. Most typically, they are `designators`, but can be only a subset of it given certain conditions.  "
   ],
   "metadata": {
    "collapsed": false
   }
  },
  {
   "cell_type": "markdown",
   "source": [
    "## Query ontology classes and their properties\n",
    "\n",
    "Classes in the loaded ontology can be queried based on their exact names, or part of them, or by namespace.\n",
    "\n",
    "By specifying `print_info` parameter as `True`, essential info (ancestors, super/sub-classes, properties, direct instances, etc.) of the found ontology class will be printed."
   ],
   "metadata": {
    "collapsed": false
   }
  },
  {
   "cell_type": "code",
   "source": [
    "onto_designed_container_class = OntologyManager.get_ontology_class('DesignedContainer', print_info=True)\n",
    "OntologyManager.print_ontology_class(onto_designed_container_class)\n",
    "OntologyManager.get_ontology_classes_by_subname('PhysicalObject', print_info=True)\n",
    "OntologyManager.get_ontology_classes_by_namespace('SOMA')"
   ],
   "metadata": {
    "collapsed": false
   },
   "outputs": [],
   "execution_count": null
  },
  {
   "cell_type": "markdown",
   "source": [
    "__Descendants__ of an ontology class can be also queried by"
   ],
   "metadata": {
    "collapsed": false
   }
  },
  {
   "cell_type": "code",
   "source": "OntologyManager.get_ontology_descendant_classes(onto_designed_container_class)",
   "metadata": {
    "collapsed": false
   },
   "outputs": [],
   "execution_count": null
  },
  {
   "cell_type": "markdown",
   "source": [
    "## Create a new ontology class and its individual\n",
    "\n",
    "A new ontology class can be created dynamically as inheriting from an existing class in the loaded ontology.\n",
    "Here we create the class and its instance, also known as [__individual__](https://owlready2.readthedocs.io/en/latest/class.html#creating-equivalent-classes) in ontology terms."
   ],
   "metadata": {
    "collapsed": false
   }
  },
  {
   "cell_type": "code",
   "source": [
    "onto_custom_container_class = OntologyManager.create_ontology_concept_class('CustomContainerConcept',\n",
    "                                                                            onto_designed_container_class)\n",
    "custom_container_concept = onto_custom_container_class('onto_custom_container_concept')"
   ],
   "metadata": {
    "collapsed": false
   },
   "outputs": [],
   "execution_count": null
  },
  {
   "cell_type": "markdown",
   "source": [
    "## Access ontology classes and individuals\n",
    "All ontology classes created on the fly inherit from __`owlready2.Thing`__, and so share the same namespace with the loaded ontology instance `onto`. They can then be accessible through that namespace by __`onto.<class_name>`__.\n",
    "The same applies for individuals of those classes, accessible by __`onto.<class_individual_name>`__"
   ],
   "metadata": {
    "collapsed": false
   }
  },
  {
   "cell_type": "code",
   "source": [
    "OntologyManager.print_ontology_class(onto.OntologyConcept)\n",
    "OntologyManager.print_ontology_class(onto.CustomContainerConcept)\n",
    "print(f\"custom_container_concept is {onto.onto_custom_container_concept}: {custom_container_concept is onto.onto_custom_container_concept}\")"
   ],
   "metadata": {
    "collapsed": false
   },
   "outputs": [],
   "execution_count": null
  },
  {
   "cell_type": "markdown",
   "source": [
    "For ones already existing in the ontology, they can only be accessed through their corresponding ontology, eg: `soma` as follows"
   ],
   "metadata": {
    "collapsed": false
   }
  },
  {
   "cell_type": "code",
   "source": [
    "OntologyManager.print_ontology_class(soma.Cup)"
   ],
   "metadata": {
    "collapsed": false
   },
   "outputs": [],
   "execution_count": null
  },
  {
   "cell_type": "markdown",
   "source": [
    "## Connect ontology class individuals with designators\n",
    "After creating `custom_container_concept` class, we connect it to a designator (say `obj_designator`) by:\n",
    "- Append to `obj_designator.onto_concepts` with `custom_container_concept`\n",
    "- Append to `custom_container_concept.designators` with `obj_designator`"
   ],
   "metadata": {
    "collapsed": false
   }
  },
  {
   "cell_type": "code",
   "source": [
    "custom_container_designator = ObjectDesignatorDescription(names=[\"obj\"])\n",
    "custom_container_designator.onto_concepts.append(custom_container_concept)\n",
    "custom_container_concept.designators.append(custom_container_designator)"
   ],
   "metadata": {
    "collapsed": false
   },
   "outputs": [],
   "execution_count": null
  },
  {
   "cell_type": "markdown",
   "source": [
    "We can also automatize all the above setup with a single function call"
   ],
   "metadata": {
    "collapsed": false
   }
  },
  {
   "cell_type": "code",
   "source": [
    "another_custom_container_designator = OntologyManager.create_ontology_linked_designator(designator_name=\"another_custom_container\",\n",
    "                                                                                        designator_class=ObjectDesignatorDescription,\n",
    "                                                                                        onto_concept_name=\"AnotherCustomContainerConcept\",\n",
    "                                                                                        onto_parent_class=onto_designed_container_class)\n",
    "print(another_custom_container_designator.onto_concepts)\n",
    "print(onto.AnotherCustomContainerConcept.instances()[0].get_default_designator().names)"
   ],
   "metadata": {
    "collapsed": false
   },
   "outputs": [],
   "execution_count": null
  },
  {
   "cell_type": "markdown",
   "source": [
    "## Create new ontology triple classes\n",
    "\n",
    "Concept classes of a triple, aka [__subject, predicate, object__], can be created dynamically. Here we will make an example creating ones for [__handheld objects__] and [__placeholder objects__], with a pair of predicate and inverse predicate signifying their mutual relation."
   ],
   "metadata": {
    "collapsed": false
   }
  },
  {
   "cell_type": "code",
   "source": [
    "PLACEABLE_ON_PREDICATE_NAME = \"placeable_on\"\n",
    "HOLD_OBJ_PREDICATE_NAME = \"hold_obj\"\n",
    "OntologyManager.create_ontology_triple_classes(onto_subject_parent_class=soma.DesignedContainer,\n",
    "                                               subject_class_name=\"OntologyPlaceHolderObject\",\n",
    "                                               onto_object_parent_class=soma.Shape,\n",
    "                                               object_class_name=\"OntologyHandheldObject\",\n",
    "                                               predicate_name=PLACEABLE_ON_PREDICATE_NAME,\n",
    "                                               inverse_predicate_name=HOLD_OBJ_PREDICATE_NAME,\n",
    "                                               onto_property_parent_class=soma.affordsBearer,\n",
    "                                               onto_inverse_property_parent_class=soma.isBearerAffordedBy)"
   ],
   "metadata": {
    "collapsed": false
   },
   "outputs": [],
   "execution_count": null
  },
  {
   "cell_type": "markdown",
   "source": [
    "There, we use `soma.DesignedContainer` & `soma.Shape`, existing concept in SOMA ontology, as the parent classes for the subject & object concepts respectively.\n",
    "There is also a note that those classes, as inheriting from ##owlready2##-provided classes, are automatically given the namespace `onto`, so later on to be accessible through it.\n",
    "\n",
    "Then now we define some instances of the newly created triple classes, and link them to object designators, again using __`OntologyManager.create_ontology_linked_designator()`__"
   ],
   "metadata": {
    "collapsed": false
   }
  },
  {
   "cell_type": "code",
   "source": [
    "def create_ontology_handheld_object(obj_name: str, onto_parent_class: Type[Thing]):\n",
    "    return OntologyManager.create_ontology_linked_designator(designator_name=obj_name,\n",
    "                                                             designator_class=ObjectDesignatorDescription,\n",
    "                                                             onto_concept_name=f\"Onto{obj_name}\",\n",
    "                                                             onto_parent_class=onto.OntologyHandheldObject)\n",
    "# Holdable Objects\n",
    "cookie_box = create_ontology_handheld_object(\"cookie_box\", onto.OntologyHandheldObject)\n",
    "egg = create_ontology_handheld_object(\"egg\", onto.OntologyHandheldObject)\n",
    "    \n",
    "# Placeholder objects\n",
    "placeholders = [create_ontology_handheld_object(obj_name, onto.OntologyPlaceHolderObject)\n",
    "                for obj_name in ['table', 'stool', 'shelf']]\n",
    "\n",
    "egg_tray = create_ontology_handheld_object(\"egg_tray\", onto.OntologyPlaceHolderObject)"
   ],
   "metadata": {
    "collapsed": false
   },
   "outputs": [],
   "execution_count": null
  },
  {
   "cell_type": "markdown",
   "source": [
    "### Create ontology relations\n",
    "\n",
    "Now we will create ontology relations or predicates between __placeholder objects__ and __handheld objects__ with __`OntologyManager.set_ontology_relation()`__"
   ],
   "metadata": {
    "collapsed": false
   }
  },
  {
   "cell_type": "code",
   "source": [
    "for place_holder in placeholders:\n",
    "    OntologyManager.set_ontology_relation(subject_designator=cookie_box, object_designator=place_holder,\n",
    "                                          predicate_name=PLACEABLE_ON_PREDICATE_NAME)\n",
    "\n",
    "OntologyManager.set_ontology_relation(subject_designator=egg_tray, object_designator=egg,\n",
    "                                      predicate_name=HOLD_OBJ_PREDICATE_NAME)"
   ],
   "metadata": {
    "collapsed": false
   },
   "outputs": [],
   "execution_count": null
  },
  {
   "cell_type": "markdown",
   "source": [
    "## Query designators based on their ontology-concept relations\n",
    "\n",
    "Now we can make queries for designators from designators, based on the relation among their corresponding ontology concepts setup above"
   ],
   "metadata": {
    "collapsed": false
   }
  },
  {
   "cell_type": "code",
   "source": [
    "print(f\"{cookie_box.names}'s placeholder candidates:\",\n",
    "      f\"\"\"{[placeholder.names for placeholder in\n",
    "            OntologyManager.get_designators_by_subject_predicate(subject=cookie_box,\n",
    "                                                                 predicate_name=PLACEABLE_ON_PREDICATE_NAME)]}\"\"\")\n",
    "\n",
    "print(f\"{egg.names}'s placeholder candidates:\",\n",
    "      f\"\"\"{[placeholder.names for placeholder in\n",
    "            OntologyManager.get_designators_by_subject_predicate(subject=egg,\n",
    "                                                                 predicate_name=PLACEABLE_ON_PREDICATE_NAME)]}\"\"\")\n",
    "\n",
    "for place_holder in placeholders:\n",
    "    print(f\"{place_holder.names} can hold:\",\n",
    "          f\"\"\"{[placeholder.names for placeholder in\n",
    "                OntologyManager.get_designators_by_subject_predicate(subject=place_holder,\n",
    "                                                                     predicate_name=HOLD_OBJ_PREDICATE_NAME)]}\"\"\")\n",
    "\n",
    "print(f\"{egg_tray.names} can hold:\",\n",
    "      f\"\"\"{[placeholder.names for placeholder in\n",
    "            OntologyManager.get_designators_by_subject_predicate(subject=egg_tray,\n",
    "                                                                 predicate_name=HOLD_OBJ_PREDICATE_NAME)]}\"\"\")"
   ],
   "metadata": {
    "collapsed": false
   },
   "outputs": [],
   "execution_count": null
  },
  {
   "cell_type": "markdown",
   "source": [
    "# Practical examples\n",
    "\n",
    "## Example 1\n",
    "How about creating ontology concept classes encapsulating `pycram.enums.ObjectType`? We can do it by:"
   ],
   "metadata": {
    "collapsed": false
   }
  },
  {
   "cell_type": "code",
   "source": [
    "from pycram.enums import ObjectType\n",
    "\n",
    "# Create a generic ontology concept class for edible objects\n",
    "generic_edible_class = OntologyManager.create_ontology_concept_class('GenericEdible')\n",
    "\n",
    "# Create a list of object designators sharing the same concept class as [generic_edible_class]\n",
    "edible_obj_types = [ObjectType.MILK, ObjectType.BREAKFAST_CEREAL]\n",
    "for object_type in ObjectType:\n",
    "    if object_type in edible_obj_types:\n",
    "        # Create a designator for the edible object\n",
    "        OntologyManager.create_ontology_object_designator_from_type(object_type, generic_edible_class)\n",
    "\n",
    "print(f'{generic_edible_class.name} object types:')\n",
    "for edible_onto_concept in generic_edible_class.direct_instances():\n",
    "    print(edible_onto_concept, [des.types for des in edible_onto_concept.designators])\n"
   ],
   "metadata": {
    "collapsed": false
   },
   "outputs": [],
   "execution_count": null
  },
  {
   "cell_type": "markdown",
   "source": [
    "## Example 2\n",
    "We could also make use of relations between ontology concepts that designators are associated with, to enable more abstract inputs in robot motion plan.\n",
    "\n",
    "In a similar style to the scenario of __placeholder objects__ and __handheld objects__ above, but with a little bit difference, we will ask the robot to query which content holders (eg. cup, pitcher, bowl) whereby a milk box could be pourable into.\n",
    "\n",
    "Basically, we will provide an ontology-based implementation for the query:\n",
    " \n",
    "`abstract_ontology_concept -> specific_objects_in_world?`\n",
    "\n",
    "To achieve it, we will create triple classes and configure a customized `resolve()` for the abstract concept, which returns its associated specific designators.\n",
    "These designators are then used to again resolve for the target objects of interest, which become the inputs to a robot motion plan.\n",
    "\n",
    "### Setup simulated environment"
   ],
   "metadata": {
    "collapsed": false
   }
  },
  {
   "metadata": {},
   "cell_type": "code",
   "source": [
    "from pycram.bullet_world import BulletWorld, Object\n",
    "from pycram.enums import ObjectType\n",
    "from pycram.pose import Pose\n",
    "\n",
    "from pycram.process_module import simulated_robot\n",
    "from pycram.designators.action_designator import *\n",
    "from pycram.designators.location_designator import *\n",
    "\n",
    "world = BulletWorld()\n",
    "plane = BulletWorld.current_bullet_world.objects[0]\n",
    "kitchen = Object(\"kitchen\", ObjectType.ENVIRONMENT, \"kitchen.urdf\")\n",
    "pr2 = Object(\"pr2\", ObjectType.ROBOT, \"pr2.urdf\")\n",
    "kitchen_desig = ObjectDesignatorDescription(names=[\"kitchen\"])\n",
    "robot_desig = ObjectDesignatorDescription(names=[\"pr2\"]).resolve()"
   ],
   "outputs": [],
   "execution_count": null
  },
  {
   "metadata": {},
   "cell_type": "markdown",
   "source": "### Create PourableObject-LiquidHolder triple ontology classes"
  },
  {
   "metadata": {},
   "cell_type": "code",
   "source": [
    "POURABLE_INTO_PREDICATE_NAME = \"pourable_into\"\n",
    "HOLD_LIQUID_PREDICATE_NAME = \"hold_liquid\"\n",
    "OntologyManager.create_ontology_triple_classes(onto_subject_parent_class=soma.DesignedContainer,\n",
    "                                               subject_class_name=\"OntologyLiquidHolderObject\",\n",
    "                                               onto_object_parent_class=soma.Shape,\n",
    "                                               object_class_name=\"OntologyPourableObject\",\n",
    "                                               predicate_name=POURABLE_INTO_PREDICATE_NAME,\n",
    "                                               inverse_predicate_name=HOLD_LIQUID_PREDICATE_NAME,\n",
    "                                               onto_property_parent_class=soma.affordsBearer,\n",
    "                                               onto_inverse_property_parent_class=onto.HOLD_OBJ_PREDICATE_NAME)"
   ],
   "outputs": [],
   "execution_count": null
  },
  {
   "metadata": {},
   "cell_type": "markdown",
   "source": "### Spawn a pourable object & liquid holders into the world and Create their designators"
  },
  {
   "metadata": {},
   "cell_type": "code",
   "source": [
    "# Holdable obj\n",
    "milk_box = Object(\"milk_box\", ObjectType.MILK, \"milk.stl\")\n",
    "milk_box_designator = create_ontology_handheld_object(milk_box.name, onto.OntologyPourableObject)\n",
    "\n",
    "# Liquid-holders\n",
    "cup = Object(\"cup\", ObjectType.JEROEN_CUP, \"jeroen_cup.stl\", pose=Pose([1.4, 1, 0.9]))\n",
    "bowl = Object(\"bowl\", ObjectType.BOWL, \"bowl.stl\", pose=Pose([1.4, 0.5, 0.9]))\n",
    "pitcher = Object(\"pitcher\", ObjectType.GENERIC_OBJECT, \"Static_MilkPitcher.stl\", pose=Pose([1.4, 0, 0.9]))\n",
    "milk_holders = [cup, bowl, pitcher]\n",
    "milk_holder_designators = [create_ontology_handheld_object(obj.name, onto.OntologyLiquidHolderObject)\n",
    "                           for obj in milk_holders]"
   ],
   "outputs": [],
   "execution_count": null
  },
  {
   "metadata": {},
   "cell_type": "markdown",
   "source": "### Create an ontology relation between the designators of the pourable object & its liquid holders"
  },
  {
   "metadata": {},
   "cell_type": "code",
   "source": [
    "for milk_holder_desig in milk_holder_designators:\n",
    "    OntologyManager.set_ontology_relation(subject_designator=milk_box_designator, object_designator=milk_holder_desig,\n",
    "                                          predicate_name=POURABLE_INTO_PREDICATE_NAME)"
   ],
   "outputs": [],
   "execution_count": null
  },
  {
   "metadata": {},
   "cell_type": "markdown",
   "source": "### Set up `resolve` for the ontology concept of the pourable object"
  },
  {
   "metadata": {},
   "cell_type": "code",
   "source": [
    "milk_box_concept = milk_box_designator.get_default_onto_concept()\n",
    "def milk_box_concept_resolve(): \n",
    "    object_designator = OntologyManager.get_designators_by_subject_predicate(subject=milk_box_designator, predicate_name=POURABLE_INTO_PREDICATE_NAME)[0]\n",
    "    return object_designator, object_designator.resolve()\n",
    "\n",
    "milk_box_concept.resolve = milk_box_concept_resolve"
   ],
   "outputs": [],
   "execution_count": null
  },
  {
   "metadata": {},
   "cell_type": "markdown",
   "source": [
    "Here, for demonstration purpose only, we specify the resolving result by __`milk_box_concept`__ as __`cup`__, the first-registered (default) pourable-into target milk holder, utilizing the ontology relation setup above.\n",
    "\n",
    "Now, we can query the milk box's target liquid holder by resolving `milk_box_concept`"
   ]
  },
  {
   "metadata": {},
   "cell_type": "code",
   "source": [
    "target_milk_holder_designator, target_milk_holder = milk_box_concept.resolve()\n",
    "print('Pickup target object:', target_milk_holder.name)"
   ],
   "outputs": [],
   "execution_count": null
  },
  {
   "metadata": {},
   "cell_type": "markdown",
   "source": "### Robot picks up the target liquid holder"
  },
  {
   "metadata": {},
   "cell_type": "code",
   "source": [
    "with simulated_robot:\n",
    "    ParkArmsAction([Arms.BOTH]).resolve().perform()\n",
    "\n",
    "    MoveTorsoAction([0.3]).resolve().perform()\n",
    "\n",
    "    pickup_pose = CostmapLocation(target=target_milk_holder, reachable_for=robot_desig).resolve()\n",
    "    pickup_arm = pickup_pose.reachable_arms[0]\n",
    "\n",
    "    print(pickup_pose, pickup_arm)\n",
    "\n",
    "    NavigateAction(target_locations=[pickup_pose.pose]).resolve().perform()\n",
    "\n",
    "    PickUpAction(object_designator_description=target_milk_holder_designator, arms=[pickup_arm], grasps=[\"front\"]).resolve().perform()\n",
    "\n",
    "    ParkArmsAction([Arms.BOTH]).resolve().perform()\n",
    "\n",
    "    place_island = SemanticCostmapLocation(\"kitchen_island_surface\", kitchen_desig.resolve(), target_milk_holder_designator.resolve()).resolve()\n",
    "\n",
    "    place_stand = CostmapLocation(place_island.pose, reachable_for=robot_desig, reachable_arm=pickup_arm).resolve()\n",
    "\n",
    "    NavigateAction(target_locations=[place_stand.pose]).resolve().perform()\n",
    "\n",
    "    PlaceAction(target_milk_holder_designator, target_locations=[place_island.pose], arms=[pickup_arm]).resolve().perform()\n",
    "\n",
    "    ParkArmsAction([Arms.BOTH]).resolve().perform()\n",
    "\n",
    "world.exit()"
   ],
   "outputs": [],
   "execution_count": null
  },
  {
   "cell_type": "markdown",
   "source": [],
   "metadata": {
    "collapsed": false
   }
  }
 ],
 "metadata": {
  "kernelspec": {
   "display_name": "Python 3",
   "language": "python",
   "name": "python3"
  },
  "language_info": {
   "codemirror_mode": {
    "name": "ipython",
    "version": 3
   },
   "file_extension": ".py",
   "mimetype": "text/x-python",
   "name": "python",
   "nbconvert_exporter": "python",
   "pygments_lexer": "ipython3",
   "version": "3.8.10"
  }
 },
 "nbformat": 4,
 "nbformat_minor": 4
}
