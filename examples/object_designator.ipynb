{
 "cells": [
  {
   "cell_type": "markdown",
   "id": "80646764",
   "metadata": {},
   "source": [
    "# Object Designator\n",
    "Object designator are used to describe objects located in the BulletWorld or the real environment and then resolve them during runtime to concrete objects.\n",
    "\n",
    "Object designator are different from the Object class in bullet_world.py in the way that they just describe an object and do not create objects or provide methods to manipulate them. Nethertheless, object designator contain a reference to the BulletWorld object.\n",
    "\n",
    "Object designator take two parameter, of which at least one has to be provided. These parameter are:\n",
    "\n",
    "   * A list of names \n",
    "   * A list of types \n",
    "   \n",
    "Object Designators work similar to Location designators, they get constrains describing a set of objects and when resolved return a specific instance. \n",
    "\n",
    "For all following examples we need a BulletWorld, so let's create one."
   ]
  },
  {
   "cell_type": "code",
   "execution_count": 1,
   "id": "ee6c7288",
   "metadata": {},
   "outputs": [
    {
     "name": "stderr",
     "output_type": "stream",
     "text": [
      "Unknown attribute \"type\" in /robot[@name='pr2']/link[@name='base_laser_link']\n",
      "Unknown attribute \"type\" in /robot[@name='pr2']/link[@name='wide_stereo_optical_frame']\n",
      "Unknown attribute \"type\" in /robot[@name='pr2']/link[@name='narrow_stereo_optical_frame']\n",
      "Unknown attribute \"type\" in /robot[@name='pr2']/link[@name='laser_tilt_link']\n",
      "Unknown attribute \"type\" in /robot[@name='pr2']/link[@name='base_laser_link']\n",
      "Unknown attribute \"type\" in /robot[@name='pr2']/link[@name='wide_stereo_optical_frame']\n",
      "Unknown attribute \"type\" in /robot[@name='pr2']/link[@name='narrow_stereo_optical_frame']\n",
      "Unknown attribute \"type\" in /robot[@name='pr2']/link[@name='laser_tilt_link']\n"
     ]
    }
   ],
   "source": [
    "from pycram.bullet_world import BulletWorld, Object\n",
    "\n",
    "world = BulletWorld()"
   ]
  },
  {
   "cell_type": "code",
   "execution_count": 7,
   "id": "9768becc",
   "metadata": {},
   "outputs": [
    {
     "name": "stdout",
     "output_type": "stream",
     "text": [
      "shutdown request: [/pycram] Reason: new node registered with same name\n"
     ]
    }
   ],
   "source": [
    "world.exit()"
   ]
  },
  {
   "cell_type": "markdown",
   "id": "f7f86484",
   "metadata": {},
   "source": [
    "## Believe Object\n",
    "This object designator is used to describe object that are located in the BulletWorld. So objects that are in the believe state, hence the name. In the futre when there is a perception interface there will be a ```RealObject``` description which will be used to describe objects in the real world. \n",
    "\n",
    "Since ```BelieveObject``` decribes Objects in the BulletWorld we create a few."
   ]
  },
  {
   "cell_type": "code",
   "execution_count": 2,
   "id": "0c6a837c",
   "metadata": {},
   "outputs": [],
   "source": [
    "kitchen = Object(\"kitchen\", \"environment\", \"kitchen.urdf\")\n",
    "milk = Object(\"milk\", \"milk\", \"milk.stl\", position=[1.3, 1, 0.9])\n",
    "cereal = Object(\"froot_loops\", \"breakfast_cereal\", \"breakfast_cereal.stl\", position=[1.3, 0.9, 0.95])\n",
    "spoon = Object(\"spoon\", \"cutlery\", \"spoon.stl\", position=[1.3, 1.1, 0.87])"
   ]
  },
  {
   "cell_type": "markdown",
   "id": "a5992602",
   "metadata": {},
   "source": [
    "Now that we have objects we can create an object designator to describe them. For the start we want an object designator only describing the milk. Since all objects have unique names we can create an object designator using a list with only the name of the object. "
   ]
  },
  {
   "cell_type": "code",
   "execution_count": 3,
   "id": "78c8d830",
   "metadata": {},
   "outputs": [
    {
     "name": "stdout",
     "output_type": "stream",
     "text": [
      "BelieveObject.Object(name='milk', type='milk', bullet_world_object=Object(world=<pycram.bullet_world.BulletWorld object at 0x7fbe6aa424c0>, name=milk, type=milk, color=[1, 1, 1, 1], id=3, path=/home/jdech/workspace/ros/src/pycram-1/src/pycram/../../resources/cached/milk.urdf, joints={}, links={}, attachments={}, cids={}, original_pose=[[1.3, 1, 0.9], [0, 0, 0, 1]], base_origin_shift=[ 4.15300950e-04 -6.29518181e-05  8.96554102e-02]))\n"
     ]
    }
   ],
   "source": [
    "from pycram.designators.object_designator import BelieveObject\n",
    "\n",
    "object_description = BelieveObject(names=[\"milk\"])\n",
    "\n",
    "print(object_description.resolve())"
   ]
  },
  {
   "cell_type": "markdown",
   "id": "d517cbc0",
   "metadata": {},
   "source": [
    "You can also use the type to describe objects, so now we want to have an object designator that describes every food in the world. "
   ]
  },
  {
   "cell_type": "code",
   "execution_count": 4,
   "id": "01b3970a",
   "metadata": {},
   "outputs": [
    {
     "name": "stdout",
     "output_type": "stream",
     "text": [
      "BelieveObject.Object(name='milk', type='milk', bullet_world_object=Object(world=<pycram.bullet_world.BulletWorld object at 0x7fbe6aa424c0>, name=milk, type=milk, color=[1, 1, 1, 1], id=3, path=/home/jdech/workspace/ros/src/pycram-1/src/pycram/../../resources/cached/milk.urdf, joints={}, links={}, attachments={}, cids={}, original_pose=[[1.3, 1, 0.9], [0, 0, 0, 1]], base_origin_shift=[ 4.15300950e-04 -6.29518181e-05  8.96554102e-02]))\n"
     ]
    }
   ],
   "source": [
    "from pycram.designators.object_designator import BelieveObject\n",
    "\n",
    "object_description = BelieveObject(types=[\"milk\", \"breakfast_cereal\"])\n",
    "\n",
    "print(object_description.resolve())"
   ]
  },
  {
   "cell_type": "markdown",
   "id": "8325656b",
   "metadata": {},
   "source": [
    "## Object Part \n",
    "Part of object designators can be used to describe describe something as part of another obeject. For example, you could describe a specific drawer as part of the kitchen. This is necessary since the drawer is no single BulletWorld Object but rather a link of the kitchen which is a BulletWorld Object.\n",
    "\n",
    "For this example we need just need the kitchen, if you didn't spawn it in the previous example you can spawn it with the following cell."
   ]
  },
  {
   "cell_type": "code",
   "execution_count": null,
   "id": "28516531",
   "metadata": {},
   "outputs": [],
   "source": [
    "kitchen = Object(\"kitchen\", \"environment\", \"kitchen.urdf\")"
   ]
  },
  {
   "cell_type": "code",
   "execution_count": 5,
   "id": "8501a804",
   "metadata": {},
   "outputs": [
    {
     "name": "stdout",
     "output_type": "stream",
     "text": [
      "ObjectPart.Object(name='sink_area_left_upper_drawer_main', type=None, bullet_world_object=BelieveObject.Object(name='kitchen', type='environment', bullet_world_object=Object(world=<pycram.bullet_world.BulletWorld object at 0x7fbe6aa424c0>, name=kitchen, type=environment, color=[1, 1, 1, 1], id=2, path=/home/jdech/workspace/ros/src/pycram-1/src/pycram/../../resources/cached/kitchen.urdf, joints={'world_room_joint': 0, 'sink_area_footprint_joint': 1, 'sink_area_main_joint': 2, 'sink_area_surface_joint': 3, 'sink_area_sink_joint': 4, 'sink_area_right_panel_joint': 5, 'sink_area_trash_drawer_main_joint': 6, 'sink_area_trash_drawer_handle_joint': 7, 'sink_area_left_upper_drawer_main_joint': 8, 'sink_area_left_upper_drawer_handle_joint': 9, 'sink_area_left_middle_drawer_main_joint': 10, 'sink_area_left_middle_drawer_handle_joint': 11, 'sink_area_left_bottom_drawer_main_joint': 12, 'sink_area_left_bottom_drawer_handle_joint': 13, 'sink_area_dish_washer_main_joint': 14, 'sink_area_dish_washer_door_joint': 15, 'sink_area_dish_washer_door_handle_joint': 16, 'oven_area_footprint_joint': 17, 'oven_area_main_joint': 18, 'oven_area_oven_main_joint': 19, 'oven_area_oven_door_joint': 20, 'oven_area_oven_door_handle_joint': 21, 'oven_area_oven_panel_joint': 22, 'oven_area_oven_knob_stove_1_joint': 23, 'oven_area_oven_knob_stove_2_joint': 24, 'oven_area_oven_knob_stove_3_joint': 25, 'oven_area_oven_knob_stove_4_joint': 26, 'oven_area_oven_knob_oven_joint': 27, 'oven_area_area_middle_upper_drawer_main_joint': 28, 'oven_area_area_middle_upper_drawer_handle_joint': 29, 'oven_area_area_middle_lower_drawer_main_joint': 30, 'oven_area_area_middle_lower_drawer_handle_joint': 31, 'oven_area_area_left_drawer_main_joint': 32, 'oven_area_area_left_drawer_handle_joint': 33, 'oven_area_area_right_drawer_joint': 34, 'drawer_oven_right_front_joint': 35, 'oven_area_area_right_drawer_handle_joint': 36, 'drawer_oven_right_board0_joint': 37, 'drawer_oven_right_board0_barrier_right_joint': 38, 'drawer_oven_right_board0_barrier_left_joint': 39, 'drawer_oven_right_board1_joint': 40, 'drawer_oven_right_board1_barrier_right_joint': 41, 'drawer_oven_right_board1_barrier_left_joint': 42, 'drawer_oven_right_board2_joint': 43, 'drawer_oven_right_board2_barrier_right_joint': 44, 'drawer_oven_right_board2_barrier_left_joint': 45, 'drawer_oven_right_board3_joint': 46, 'drawer_oven_right_board3_barrier_right_joint': 47, 'drawer_oven_right_board3_barrier_left_joint': 48, 'kitchen_island_footprint_joint': 49, 'kitchen_island_joint': 50, 'kitchen_island_surface_joint': 51, 'kitchen_island_stove_joint': 52, 'kitchen_island_left_panel_joint': 53, 'kitchen_island_left_upper_drawer_main_joint': 54, 'kitchen_island_left_upper_drawer_handle_joint': 55, 'kitchen_island_left_lower_drawer_main_joint': 56, 'kitchen_island_left_lower_drawer_handle_joint': 57, 'kitchen_island_middle_panel_joint': 58, 'kitchen_island_middle_upper_drawer_main_joint': 59, 'kitchen_island_middle_upper_drawer_handle_joint': 60, 'kitchen_island_middle_lower_drawer_main_joint': 61, 'kitchen_island_middle_lower_drawer_handle_joint': 62, 'kitchen_island_right_panel_joint': 63, 'kitchen_island_right_upper_drawer_main_joint': 64, 'kitchen_island_right_upper_drawer_handle_joint': 65, 'kitchen_island_right_lower_drawer_main_joint': 66, 'kitchen_island_right_lower_drawer_handle_joint': 67, 'fridge_area_footprint_joint': 68, 'fridge_area_main_joint': 69, 'fridge_area_lower_drawer_main_joint': 70, 'fridge_area_lower_drawer_handle_joint': 71, 'iai_fridge_main_joint': 72, 'iai_fridge_door_joint': 73, 'iai_fridge_door_handle_joint': 74, 'table_area_main_joint': 75, 'walls_main_joint': 76, 'wall_1_joint': 77, 'wall_2_joint': 78, 'wall_3_joint': 79, 'wall_4_joint': 80, 'wall_5_joint': 81, 'wall_6_joint': 82}, links={'room_link': 0, 'sink_area_footprint': 1, 'sink_area': 2, 'sink_area_surface': 3, 'sink_area_sink': 4, 'sink_area_right_panel': 5, 'sink_area_trash_drawer_main': 6, 'sink_area_trash_drawer_handle': 7, 'sink_area_left_upper_drawer_main': 8, 'sink_area_left_upper_drawer_handle': 9, 'sink_area_left_middle_drawer_main': 10, 'sink_area_left_middle_drawer_handle': 11, 'sink_area_left_bottom_drawer_main': 12, 'sink_area_left_bottom_drawer_handle': 13, 'sink_area_dish_washer_main': 14, 'sink_area_dish_washer_door': 15, 'sink_area_dish_washer_door_handle': 16, 'oven_area_area_footprint': 17, 'oven_area_area': 18, 'oven_area_oven_main': 19, 'oven_area_oven_door': 20, 'oven_area_oven_door_handle': 21, 'oven_area_oven_panel': 22, 'oven_area_oven_knob_stove_1': 23, 'oven_area_oven_knob_stove_2': 24, 'oven_area_oven_knob_stove_3': 25, 'oven_area_oven_knob_stove_4': 26, 'oven_area_oven_knob_oven': 27, 'oven_area_area_middle_upper_drawer_main': 28, 'oven_area_area_middle_upper_drawer_handle': 29, 'oven_area_area_middle_lower_drawer_main': 30, 'oven_area_area_middle_lower_drawer_handle': 31, 'oven_area_area_left_drawer_main': 32, 'oven_area_area_left_drawer_handle': 33, 'oven_area_area_right_drawer_main': 34, 'drawer_oven_right_front_link': 35, 'oven_area_area_right_drawer_handle': 36, 'drawer_oven_right_board0_link': 37, 'drawer_oven_right_board0_barrier_right_link': 38, 'drawer_oven_right_board0_barrier_left_link': 39, 'drawer_oven_right_board1_link': 40, 'drawer_oven_right_board1_barrier_right_link': 41, 'drawer_oven_right_board1_barrier_left_link': 42, 'drawer_oven_right_board2_link': 43, 'drawer_oven_right_board2_barrier_right_link': 44, 'drawer_oven_right_board2_barrier_left_link': 45, 'drawer_oven_right_board3_link': 46, 'drawer_oven_right_board3_barrier_right_link': 47, 'drawer_oven_right_board3_barrier_left_link': 48, 'kitchen_island_footprint': 49, 'kitchen_island': 50, 'kitchen_island_surface': 51, 'kitchen_island_stove': 52, 'kitchen_island_left_panel': 53, 'kitchen_island_left_upper_drawer_main': 54, 'kitchen_island_left_upper_drawer_handle': 55, 'kitchen_island_left_lower_drawer_main': 56, 'kitchen_island_left_lower_drawer_handle': 57, 'kitchen_island_middle_panel': 58, 'kitchen_island_middle_upper_drawer_main': 59, 'kitchen_island_middle_upper_drawer_handle': 60, 'kitchen_island_middle_lower_drawer_main': 61, 'kitchen_island_middle_lower_drawer_handle': 62, 'kitchen_island_right_panel': 63, 'kitchen_island_right_upper_drawer_main': 64, 'kitchen_island_right_upper_drawer_handle': 65, 'kitchen_island_right_lower_drawer_main': 66, 'kitchen_island_right_lower_drawer_handle': 67, 'fridge_area_footprint': 68, 'fridge_area': 69, 'fridge_area_lower_drawer_main': 70, 'fridge_area_lower_drawer_handle': 71, 'iai_fridge_main': 72, 'iai_fridge_door': 73, 'iai_fridge_door_handle': 74, 'table_area_main': 75, 'kitchen_walls': 76, 'kitchen_wall_1': 77, 'kitchen_wall_2': 78, 'kitchen_wall_3': 79, 'kitchen_wall_4': 80, 'kitchen_wall_5': 81, 'kitchen_wall_6': 82}, attachments={}, cids={}, original_pose=[[0, 0, 0], [0, 0, 0, 1]], base_origin_shift=[0.    0.    0.001])), part_pose=((1.524999976158142, 0.8899999856948853, 0.7549999952316284), (0.0, 0.0, 1.0, -1.0341155557737347e-13)))\n"
     ]
    }
   ],
   "source": [
    "from pycram.designators.object_designator import ObjectPart, BelieveObject\n",
    "\n",
    "kitchen_desig = BelieveObject(names=[\"kitchen\"]).resolve()\n",
    "\n",
    "object_description = ObjectPart(names=[\"sink_area_left_upper_drawer_main\"], part_of=kitchen_desig)\n",
    "\n",
    "print(object_description.resolve())"
   ]
  },
  {
   "cell_type": "markdown",
   "id": "42b3b9af",
   "metadata": {},
   "source": [
    "## Object Designators as Generators \n",
    "Similar to location designators object designators can be used as generators to iterate through every object that they are describing. We will see this at the example of an object designator describing every type of food. \n",
    "\n",
    "For this we need some obejcts, so if you didn't already spawn them you can use the next cell for this."
   ]
  },
  {
   "cell_type": "code",
   "execution_count": null,
   "id": "adb6dcb9",
   "metadata": {},
   "outputs": [],
   "source": [
    "kitchen = Object(\"kitchen\", \"environment\", \"kitchen.urdf\")\n",
    "milk = Object(\"milk\", \"milk\", \"milk.stl\", position=[1.3, 1, 0.9])\n",
    "cereal = Object(\"froot_loops\", \"breakfast_cereal\", \"breakfast_cereal.stl\", position=[1.3, 0.9, 0.95])\n",
    "spoon = Object(\"spoon\", \"cutlery\", \"spoon.stl\", position=[1.3, 1.1, 0.87])"
   ]
  },
  {
   "cell_type": "code",
   "execution_count": 6,
   "id": "31bae37a",
   "metadata": {},
   "outputs": [
    {
     "name": "stdout",
     "output_type": "stream",
     "text": [
      "BelieveObject.Object(name='milk', type='milk', bullet_world_object=Object(world=<pycram.bullet_world.BulletWorld object at 0x7fbe6aa424c0>, name=milk, type=milk, color=[1, 1, 1, 1], id=3, path=/home/jdech/workspace/ros/src/pycram-1/src/pycram/../../resources/cached/milk.urdf, joints={}, links={}, attachments={}, cids={}, original_pose=[[1.3, 1, 0.9], [0, 0, 0, 1]], base_origin_shift=[ 4.15300950e-04 -6.29518181e-05  8.96554102e-02])) \n",
      "\n",
      "BelieveObject.Object(name='froot_loops', type='breakfast_cereal', bullet_world_object=Object(world=<pycram.bullet_world.BulletWorld object at 0x7fbe6aa424c0>, name=froot_loops, type=breakfast_cereal, color=[1, 1, 1, 1], id=4, path=/home/jdech/workspace/ros/src/pycram-1/src/pycram/../../resources/cached/breakfast_cereal.urdf, joints={}, links={}, attachments={}, cids={}, original_pose=[[1.3, 0.9, 0.95], [0, 0, 0, 1]], base_origin_shift=[0.00124406 0.00101732 0.1038567 ])) \n",
      "\n"
     ]
    }
   ],
   "source": [
    "from pycram.designators.object_designator import BelieveObject\n",
    "\n",
    "object_description = BelieveObject(types=[\"milk\", \"breakfast_cereal\"])\n",
    "\n",
    "for obj in object_description:\n",
    "    print(obj, \"\\n\")"
   ]
  }
 ],
 "metadata": {
  "kernelspec": {
   "display_name": "Python 3",
   "language": "python",
   "name": "python3"
  },
  "language_info": {
   "codemirror_mode": {
    "name": "ipython",
    "version": 3
   },
   "file_extension": ".py",
   "mimetype": "text/x-python",
   "name": "python",
   "nbconvert_exporter": "python",
   "pygments_lexer": "ipython3",
   "version": "3.8.10"
  }
 },
 "nbformat": 4,
 "nbformat_minor": 5
}
