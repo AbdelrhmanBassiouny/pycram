{
 "cells": [
  {
   "cell_type": "markdown",
   "id": "ca7919a1",
   "metadata": {},
   "source": [
    "\n",
    "## Setting up the Environment\n",
    "\n",
    "This step involves importing the required modules and initializing key components for our tasks.\n"
   ]
  },
  {
   "cell_type": "code",
   "execution_count": 1,
   "id": "3e347f25",
   "metadata": {
    "ExecuteTime": {
     "end_time": "2023-09-08T16:51:08.901104329Z",
     "start_time": "2023-09-08T16:51:08.139879012Z"
    }
   },
   "outputs": [],
   "source": [
    "from pycram.bullet_world import BulletWorld, Object\n",
    "from pycram.pose import Transform\n",
    "from pycram.local_transformer import LocalTransformer"
   ]
  },
  {
   "cell_type": "markdown",
   "id": "97afb052",
   "metadata": {},
   "source": [
    "\n",
    "## Initializing the World\n",
    "\n",
    "Every robot simulation requires a world where it can interact. This world serves as the playground where the robot performs tasks. \n",
    "Let's start by creating this world.\n"
   ]
  },
  {
   "cell_type": "code",
   "execution_count": 2,
   "id": "4d9e2581",
   "metadata": {
    "ExecuteTime": {
     "end_time": "2023-09-08T16:51:11.202198685Z",
     "start_time": "2023-09-08T16:51:10.916529902Z"
    }
   },
   "outputs": [
    {
     "name": "stderr",
     "output_type": "stream",
     "text": [
      "Unknown tag \"material\" in /robot[@name='plane']/link[@name='planeLink']/collision[1]\n",
      "Unknown tag \"contact\" in /robot[@name='plane']/link[@name='planeLink']\n",
      "Unknown tag \"material\" in /robot[@name='plane']/link[@name='planeLink']/collision[1]\n",
      "Unknown tag \"contact\" in /robot[@name='plane']/link[@name='planeLink']\n"
     ]
    }
   ],
   "source": [
    "# Create an instance of the BulletWorld\n",
    "world = BulletWorld()\n"
   ]
  },
  {
   "cell_type": "markdown",
   "id": "a2d636a0",
   "metadata": {},
   "source": [
    "The world can be closed by calling the exit method of the world, but don't call this method yet since it would close the world."
   ]
  },
  {
   "cell_type": "code",
   "execution_count": 10,
   "id": "bac14c43",
   "metadata": {},
   "outputs": [],
   "source": [
    "world.exit()"
   ]
  },
  {
   "cell_type": "markdown",
   "id": "8e294df3",
   "metadata": {},
   "source": [
    "\n",
    "## Adding Objects to the World\n",
    "\n",
    "For our robot to perform meaningful tasks, we need to populate its world with objects. \n",
    "In this section, we'll add a variety of objects, from a simple floor plane to kitchen setups and items like milk and bowls. \n",
    "These objects will be used in subsequent tasks.\n"
   ]
  },
  {
   "cell_type": "code",
   "execution_count": 3,
   "id": "c4d65677",
   "metadata": {
    "ExecuteTime": {
     "end_time": "2023-09-08T16:51:38.439962987Z",
     "start_time": "2023-09-08T16:51:33.675944073Z"
    }
   },
   "outputs": [
    {
     "name": "stderr",
     "output_type": "stream",
     "text": [
      "Unknown tag \"material\" in /robot[@name='plane']/link[@name='planeLink']/collision[1]\n",
      "Unknown tag \"contact\" in /robot[@name='plane']/link[@name='planeLink']\n",
      "Scalar element defined multiple times: limit\n",
      "Unknown tag \"material\" in /robot[@name='plane']/link[@name='planeLink']/collision[1]\n",
      "Unknown tag \"contact\" in /robot[@name='plane']/link[@name='planeLink']\n",
      "Scalar element defined multiple times: limit\n"
     ]
    }
   ],
   "source": [
    "from pycram.bullet_world import Object\n",
    "\n",
    "plane = Object(\"floor\", \"environment\", \"plane.urdf\", world=world)\n",
    "\n",
    "kitchen = Object(\"kitchen\", \"environment\", \"kitchen.urdf\")\n",
    "milk = Object(\"milk\", \"milk\", \"milk.stl\", Pose([0.9, 1, 0.95]))\n",
    "bowl = Object(\"bowl\", \"bowl\", \"bowl.stl\", Pose([1.6, 1, 0.90]))"
   ]
  },
  {
   "cell_type": "markdown",
   "id": "7077e31c",
   "metadata": {},
   "source": [
    "Transformations with LocalTransformer\n",
    "Now that we have our world set up, let's perform some transformations. We'll use the LocalTransformer to transform poses relative to our objects."
   ]
  },
  {
   "cell_type": "code",
   "execution_count": 7,
   "id": "0482fbad",
   "metadata": {
    "ExecuteTime": {
     "end_time": "2023-09-08T16:42:15.478051994Z",
     "start_time": "2023-09-08T16:42:15.472743693Z"
    }
   },
   "outputs": [
    {
     "name": "stdout",
     "output_type": "stream",
     "text": [
      "header: \n",
      "  seq: 0\n",
      "  stamp: \n",
      "    secs: 1698330180\n",
      "    nsecs: 348957777\n",
      "  frame_id: \"milk_4\"\n",
      "pose: \n",
      "  position: \n",
      "    x: 0.09999999999999998\n",
      "    y: 0.0\n",
      "    z: 0.050000000000000044\n",
      "  orientation: \n",
      "    x: 0.0\n",
      "    y: 0.0\n",
      "    z: 0.0\n",
      "    w: 1.0\n",
      "header: \n",
      "  seq: 0\n",
      "  stamp: \n",
      "    secs: 1698330180\n",
      "    nsecs: 349497556\n",
      "  frame_id: \"map\"\n",
      "pose: \n",
      "  position: \n",
      "    x: 1.0\n",
      "    y: 1.0\n",
      "    z: 1.0\n",
      "  orientation: \n",
      "    x: 0.0\n",
      "    y: 0.0\n",
      "    z: 0.0\n",
      "    w: 1.0\n"
     ]
    }
   ],
   "source": [
    "from pycram.local_transformer import LocalTransformer\n",
    "from pycram.pose import Pose\n",
    "\n",
    "l = LocalTransformer()\n",
    "test_pose = Pose([1, 1, 1], [0, 0, 0, 1], \"map\")\n",
    "\n",
    "transformed_pose = l.transform_to_object_frame(test_pose, milk)\n",
    "print(transformed_pose)\n",
    "\n",
    "new_pose = l.transform_pose(transformed_pose, \"map\")\n",
    "print(new_pose)"
   ]
  },
  {
   "cell_type": "markdown",
   "id": "f4a6c3ed",
   "metadata": {},
   "source": [
    "In the above code, we first transformed a pose to the object frame of the milk object, and then we transformed it back to the map frame. This demonstrates how we can easily manipulate poses relative to objects in our environment.\n",
    "You can also transform poses relative to other poses. by using the transform_pose method. Further u can set a Transform."
   ]
  },
  {
   "cell_type": "code",
   "execution_count": 8,
   "id": "59a0a20c",
   "metadata": {},
   "outputs": [],
   "source": [
    "from pycram.pose import Transform\n",
    "\n",
    "l.setTransform(Transform([1, 1, 1], [0, 0, 0, 1], \"map\", \"test_frame\"))\n",
    "p = Pose()\n",
    "\n",
    "transformed_pose = l.transform_pose(p, \"test_frame\")"
   ]
  },
  {
   "cell_type": "markdown",
   "id": "5471623d",
   "metadata": {},
   "source": [
    "You can also set a Pose to an object and update the transforms for that object. However, this is usually done in the background when necessary so you should only use this method if there is something wrong with the Transformation."
   ]
  },
  {
   "cell_type": "code",
   "execution_count": 9,
   "id": "599516fa",
   "metadata": {
    "ExecuteTime": {
     "end_time": "2023-09-08T16:47:16.375950749Z",
     "start_time": "2023-09-08T16:47:16.332420624Z"
    }
   },
   "outputs": [],
   "source": [
    "milk.set_pose(Pose([1, 2, 1]))\n",
    "l.update_transforms_for_object(milk)"
   ]
  }
 ],
 "metadata": {
  "kernelspec": {
   "display_name": "Python 3",
   "language": "python",
   "name": "python3"
  },
  "language_info": {
   "codemirror_mode": {
    "name": "ipython",
    "version": 3
   },
   "file_extension": ".py",
   "mimetype": "text/x-python",
   "name": "python",
   "nbconvert_exporter": "python",
   "pygments_lexer": "ipython3",
   "version": "3.8.10"
  }
 },
 "nbformat": 4,
 "nbformat_minor": 5
}
