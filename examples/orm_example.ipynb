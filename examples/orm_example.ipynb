{
 "cells": [
  {
   "cell_type": "markdown",
   "source": [
    "# Hands on Object Relational Mapping in PyCram\n",
    "\n",
    "This tutorial will walk through the serialization of a minimal plan in pycram.\n",
    "First we will import sqlalchemy, create an in memory database and connect a session to it."
   ],
   "metadata": {
    "collapsed": false
   }
  },
  {
   "cell_type": "code",
   "execution_count": 1,
   "metadata": {
    "collapsed": true,
    "ExecuteTime": {
     "start_time": "2023-04-28T09:50:23.878099Z",
     "end_time": "2023-04-28T09:50:23.964996Z"
    }
   },
   "outputs": [
    {
     "data": {
      "text/plain": "<sqlalchemy.orm.session.Session at 0x7f9dd4933a00>"
     },
     "execution_count": 1,
     "metadata": {},
     "output_type": "execute_result"
    }
   ],
   "source": [
    "import sqlalchemy\n",
    "import sqlalchemy.orm\n",
    "\n",
    "engine = sqlalchemy.create_engine(\"sqlite+pysqlite:///:memory:\", echo=False)\n",
    "session = sqlalchemy.orm.Session(bind=engine)\n",
    "session"
   ]
  },
  {
   "cell_type": "markdown",
   "source": [
    "Next we create the database schema using the sqlalchemy functionality. For that we need to import the base class of pycram.orm."
   ],
   "metadata": {
    "collapsed": false
   }
  },
  {
   "cell_type": "code",
   "execution_count": 2,
   "outputs": [
    {
     "name": "stderr",
     "output_type": "stream",
     "text": [
      "Unknown attribute \"type\" in /robot[@name='pr2']/link[@name='base_laser_link']\n",
      "Unknown attribute \"type\" in /robot[@name='pr2']/link[@name='wide_stereo_optical_frame']\n",
      "Unknown attribute \"type\" in /robot[@name='pr2']/link[@name='narrow_stereo_optical_frame']\n",
      "Unknown attribute \"type\" in /robot[@name='pr2']/link[@name='laser_tilt_link']\n",
      "Unknown attribute \"type\" in /robot[@name='pr2']/link[@name='base_laser_link']\n",
      "Unknown attribute \"type\" in /robot[@name='pr2']/link[@name='wide_stereo_optical_frame']\n",
      "Unknown attribute \"type\" in /robot[@name='pr2']/link[@name='narrow_stereo_optical_frame']\n",
      "Unknown attribute \"type\" in /robot[@name='pr2']/link[@name='laser_tilt_link']\n"
     ]
    }
   ],
   "source": [
    "import pycram.orm.base\n",
    "import pycram.orm.task\n",
    "import pycram.orm.object_designator\n",
    "import pycram.orm.motion_designator\n",
    "import pycram.orm.action_designator\n",
    "pycram.orm.base.Base.metadata.create_all(engine)\n",
    "session.commit()"
   ],
   "metadata": {
    "collapsed": false,
    "ExecuteTime": {
     "start_time": "2023-04-28T09:50:25.450726Z",
     "end_time": "2023-04-28T09:50:25.884566Z"
    }
   }
  },
  {
   "cell_type": "markdown",
   "source": [
    "Next we will write a simple pick and place plan. We will construct a TaskTree around it such that we can serialize it later. As usual, we first create a world and then define the plan. After that we get and print the task tree."
   ],
   "metadata": {
    "collapsed": false
   }
  },
  {
   "cell_type": "code",
   "execution_count": 3,
   "outputs": [
    {
     "name": "stdout",
     "output_type": "stream",
     "text": [
      "no_operation()\n",
      "└── plan()\n",
      "    ├── perform(self = ParkArmsAction.Action(arm=<Arms.BOTH: 3>))\n",
      "    ├── perform(self = MoveTorsoAction.Action(position=0.3))\n",
      "    ├── perform(self = NavigateAction.Action(target_location=[[0.7199999690055847, 0.6800000071525574, 0.0], [0.0, 0.0, 0.017233690238890705, 0.9998514889326064]]))\n",
      "    ├── perform(self = PickUpAction.Action(object_designator=ObjectDesignatorDescription.Object(name='cereal', type='cereal', pose=((1.3, 0.7, 0.95), (0.0, 0.0, 0.0, 1.0)), bullet_world_object=<pycram.bullet_world.Object object at 0x7f9d88ef1790>), arm='left', grasp='front'))\n",
      "    ├── perform(self = ParkArmsAction.Action(arm=<Arms.BOTH: 3>))\n",
      "    ├── perform(self = NavigateAction.Action(target_location=[[-1.9075000286102295, 0.7792000770568848, 0.0], [0.0, 0.0, 0.1643989830107149, 0.9863939245479174]]))\n",
      "    ├── perform(self = PlaceAction.Action(object_designator=ObjectDesignatorDescription.Object(name='cereal', type='cereal', pose=((-1.739311695098877, 1.3202829360961914, 1.2181442975997925), (0.01802743572456121, -0.04746623640384984, -0.05363384183295179, 0.9972689601973425)), bullet_world_object=<pycram.bullet_world.Object object at 0x7f9d88ef1790>), arm='left', target_location=[[-1.2074999809265137, 1.019200086593628, 0.962496409046294], [0.0, 0.0, 0.6339889056055381, 0.7733421413379024]]))\n",
      "    ├── perform(self = ParkArmsAction.Action(arm=<Arms.BOTH: 3>))\n",
      "    └── perform(self = ParkArmsAction.Action(arm=<Arms.BOTH: 3>))\n"
     ]
    }
   ],
   "source": [
    "from pycram.designators.action_designator import *\n",
    "from pycram.designators.location_designator import *\n",
    "from pycram.process_module import simulated_robot\n",
    "from pycram.enums import Arms\n",
    "from pycram.task import with_tree\n",
    "import pycram.task\n",
    "from pycram.bullet_world import BulletWorld, Object\n",
    "from pycram.robot_descriptions.robot_description_handler import InitializedRobotDescription as robot_description\n",
    "from pycram.designators.object_designator import *\n",
    "import anytree\n",
    "\n",
    "world = BulletWorld()\n",
    "pr2 = Object(\"pr2\", \"robot\", \"pr2.urdf\")\n",
    "kitchen = Object(\"kitchen\", \"environment\", \"kitchen.urdf\")\n",
    "milk = Object(\"milk\", \"milk\", \"milk.stl\", position=[1.3, 1, 0.9])\n",
    "cereal = Object(\"cereal\", \"cereal\", \"breakfast_cereal.stl\", position=[1.3, 0.7, 0.95])\n",
    "milk_desig = ObjectDesignatorDescription(names=[\"milk\"])\n",
    "cereal_desig = ObjectDesignatorDescription(names=[\"cereal\"])\n",
    "robot_desig = ObjectDesignatorDescription(names=[\"pr2\"]).resolve()\n",
    "kitchen_desig = ObjectDesignatorDescription(names=[\"kitchen\"])\n",
    "\n",
    "@with_tree\n",
    "def plan():\n",
    "    with simulated_robot:\n",
    "        ParkArmsAction.Action(Arms.BOTH).perform()\n",
    "        MoveTorsoAction([0.3]).resolve().perform()\n",
    "        pickup_pose = CostmapLocation(target=cereal_desig.resolve(), reachable_for=robot_desig).resolve()\n",
    "        pickup_arm = pickup_pose.reachable_arms[0]\n",
    "        NavigateAction(target_locations=[pickup_pose.pose]).resolve().perform()\n",
    "        PickUpAction(object_designator_description=cereal_desig, arms=[pickup_arm], grasps=[\"front\"]).resolve().perform()\n",
    "        ParkArmsAction([Arms.BOTH]).resolve().perform()\n",
    "\n",
    "        place_island = SemanticCostmapLocation(\"kitchen_island_surface\", kitchen_desig.resolve(),\n",
    "                                           cereal_desig.resolve()).resolve()\n",
    "\n",
    "        place_stand = CostmapLocation(place_island.pose, reachable_for=robot_desig, reachable_arm=pickup_arm).resolve()\n",
    "\n",
    "        NavigateAction(target_locations=[place_stand.pose]).resolve().perform()\n",
    "\n",
    "        PlaceAction(cereal_desig, target_locations=[place_island.pose], arms=[pickup_arm]).resolve().perform()\n",
    "\n",
    "        ParkArmsAction.Action(Arms.BOTH).perform()\n",
    "\n",
    "plan()\n",
    "world.exit()\n",
    "\n",
    "task_tree = pycram.task.task_tree\n",
    "print(anytree.RenderTree(task_tree))\n",
    "\n"
   ],
   "metadata": {
    "collapsed": false,
    "ExecuteTime": {
     "start_time": "2023-04-28T09:50:27.526313Z",
     "end_time": "2023-04-28T09:50:38.046116Z"
    }
   }
  },
  {
   "cell_type": "markdown",
   "source": [
    "Next we serialize the task tree by just recursively inserting from its root."
   ],
   "metadata": {
    "collapsed": false
   }
  },
  {
   "cell_type": "code",
   "execution_count": 4,
   "outputs": [
    {
     "data": {
      "text/plain": "pycram.orm.task.TaskTreeNode(1, 1, 2023-04-28 09:50:27.528656, None, RUNNING, None)"
     },
     "execution_count": 4,
     "metadata": {},
     "output_type": "execute_result"
    }
   ],
   "source": [
    "task_tree.root.insert(session)"
   ],
   "metadata": {
    "collapsed": false,
    "ExecuteTime": {
     "start_time": "2023-04-28T09:50:54.155166Z",
     "end_time": "2023-04-28T09:50:54.186110Z"
    }
   }
  },
  {
   "cell_type": "markdown",
   "source": [
    "Lastly we can look at various table to see how the structures got logged.\n",
    "For example, we can get all the navigate actions that occurred."
   ],
   "metadata": {
    "collapsed": false
   }
  },
  {
   "cell_type": "code",
   "execution_count": 7,
   "outputs": [
    {
     "name": "stdout",
     "output_type": "stream",
     "text": [
      "pycram.orm.action_designator.NavigateAction(3, Navigate, 1, 1)\n",
      "pycram.orm.action_designator.NavigateAction(6, Navigate, 3, 3)\n"
     ]
    }
   ],
   "source": [
    "navigations = session.query(pycram.orm.action_designator.NavigateAction).all()\n",
    "print(*navigations, sep=\"\\n\")\n"
   ],
   "metadata": {
    "collapsed": false,
    "ExecuteTime": {
     "start_time": "2023-04-28T09:51:02.181616Z",
     "end_time": "2023-04-28T09:51:02.183982Z"
    }
   }
  },
  {
   "cell_type": "markdown",
   "source": [
    "Since inheritance is correctly mapped in the ORM package we can also get all actions that were executed with the correct classes in just one line."
   ],
   "metadata": {
    "collapsed": false
   }
  },
  {
   "cell_type": "code",
   "execution_count": 6,
   "outputs": [
    {
     "name": "stdout",
     "output_type": "stream",
     "text": [
      "pycram.orm.action_designator.ParkArmsAction(1, ParkArms, BOTH)\n",
      "pycram.orm.action_designator.MoveTorsoAction(2, MoveTorso, 0.3)\n",
      "pycram.orm.action_designator.NavigateAction(3, Navigate, 1, 1)\n",
      "pycram.orm.action_designator.PickUpAction(4, PickUp, left, front, 1)\n",
      "pycram.orm.action_designator.ParkArmsAction(5, ParkArms, BOTH)\n",
      "pycram.orm.action_designator.NavigateAction(6, Navigate, 3, 3)\n",
      "pycram.orm.action_designator.PlaceAction(7, Place, left, 5, 5, 2)\n",
      "pycram.orm.action_designator.ParkArmsAction(8, ParkArms, BOTH)\n",
      "pycram.orm.action_designator.ParkArmsAction(9, ParkArms, BOTH)\n"
     ]
    }
   ],
   "source": [
    "actions = session.query(pycram.orm.action_designator.Action).all()\n",
    "print(*actions, sep=\"\\n\")"
   ],
   "metadata": {
    "collapsed": false,
    "ExecuteTime": {
     "start_time": "2023-04-28T09:51:00.194251Z",
     "end_time": "2023-04-28T09:51:00.201861Z"
    }
   }
  },
  {
   "cell_type": "markdown",
   "source": [
    "Of course all relational algebra operators, such as filtering and joining also work in pycram.orm queries. For example if we want all actions that have an object designator assigned in them, we can execute:"
   ],
   "metadata": {
    "collapsed": false
   }
  },
  {
   "cell_type": "code",
   "execution_count": 8,
   "outputs": [
    {
     "name": "stdout",
     "output_type": "stream",
     "text": [
      "(pycram.orm.action_designator.PickUpAction(4, PickUp, left, front, 1), pycram.orm.object_designator.ObjectDesignator(1, Object, cereal, cereal, 2, 2))\n",
      "(pycram.orm.action_designator.PlaceAction(7, Place, left, 5, 5, 2), pycram.orm.object_designator.ObjectDesignator(2, Object, cereal, cereal, 4, 4))\n"
     ]
    }
   ],
   "source": [
    "object_actions = session.query(pycram.orm.action_designator.PickUpAction,\n",
    "                               pycram.orm.object_designator.ObjectDesignator).join(pycram.orm.object_designator.ObjectDesignator).all() + \\\n",
    "                 session.query(pycram.orm.action_designator.PlaceAction,\n",
    "                               pycram.orm.object_designator.ObjectDesignator).join(pycram.orm.object_designator.ObjectDesignator).all()\n",
    "print(*object_actions, sep=\"\\n\")"
   ],
   "metadata": {
    "collapsed": false,
    "ExecuteTime": {
     "start_time": "2023-04-28T09:51:04.822430Z",
     "end_time": "2023-04-28T09:51:04.826665Z"
    }
   }
  },
  {
   "cell_type": "markdown",
   "source": [
    "If we want to filter for all successful tasks we can just add the filter operator."
   ],
   "metadata": {
    "collapsed": false
   }
  },
  {
   "cell_type": "code",
   "execution_count": 9,
   "outputs": [
    {
     "name": "stdout",
     "output_type": "stream",
     "text": [
      "pycram.orm.task.TaskTreeNode(2, 2, 2023-04-28 09:50:36.756899, 2023-04-28 09:50:37.311820, SUCCEEDED, 1)\n",
      "pycram.orm.task.TaskTreeNode(3, 3, 2023-04-28 09:50:36.756942, 2023-04-28 09:50:36.780745, SUCCEEDED, 2)\n",
      "pycram.orm.task.TaskTreeNode(4, 4, 2023-04-28 09:50:36.780827, 2023-04-28 09:50:36.780937, SUCCEEDED, 2)\n",
      "pycram.orm.task.TaskTreeNode(5, 5, 2023-04-28 09:50:37.078064, 2023-04-28 09:50:37.079345, SUCCEEDED, 2)\n",
      "pycram.orm.task.TaskTreeNode(6, 6, 2023-04-28 09:50:37.079393, 2023-04-28 09:50:37.084248, SUCCEEDED, 2)\n",
      "pycram.orm.task.TaskTreeNode(7, 7, 2023-04-28 09:50:37.084292, 2023-04-28 09:50:37.084869, SUCCEEDED, 2)\n",
      "pycram.orm.task.TaskTreeNode(8, 8, 2023-04-28 09:50:37.305035, 2023-04-28 09:50:37.306429, SUCCEEDED, 2)\n",
      "pycram.orm.task.TaskTreeNode(9, 9, 2023-04-28 09:50:37.306498, 2023-04-28 09:50:37.311035, SUCCEEDED, 2)\n",
      "pycram.orm.task.TaskTreeNode(10, 10, 2023-04-28 09:50:37.311078, 2023-04-28 09:50:37.311482, SUCCEEDED, 2)\n",
      "pycram.orm.task.TaskTreeNode(11, 11, 2023-04-28 09:50:37.311509, 2023-04-28 09:50:37.311816, SUCCEEDED, 2)\n"
     ]
    }
   ],
   "source": [
    "successful_tasks = session.query(pycram.orm.task.TaskTreeNode).filter(pycram.orm.task.TaskTreeNode.status == \"SUCCEEDED\")\n",
    "print(*successful_tasks, sep=\"\\n\")"
   ],
   "metadata": {
    "collapsed": false,
    "ExecuteTime": {
     "start_time": "2023-04-28T09:51:07.195114Z",
     "end_time": "2023-04-28T09:51:07.198321Z"
    }
   }
  },
  {
   "cell_type": "markdown",
   "source": [
    "As expected all but the root node succeeded, since the root node is still running.\n",
    "\n",
    "Writing an extension to the ORM package is also done with ease. We need to create a class that can be inserted and its ORM equivalent, write a to_sql() and insert() method and then insert it somewhere."
   ],
   "metadata": {
    "collapsed": false
   }
  },
  {
   "cell_type": "code",
   "execution_count": 10,
   "outputs": [],
   "source": [
    "import pycram.designators.action_designator\n",
    "\n",
    "\n",
    "# define ORM class from pattern in every pycram.orm class\n",
    "class ORMSaying(pycram.orm.action_designator.Action):\n",
    "    __tablename__ = \"Saying\"\n",
    "    id = sqlalchemy.Column(sqlalchemy.types.Integer, sqlalchemy.ForeignKey(\"Action.id\"), primary_key=True)\n",
    "    text = sqlalchemy.Column(sqlalchemy.types.String(255))\n",
    "\n",
    "    __mapper_args__ = {\n",
    "        \"polymorphic_identity\": __tablename__,\n",
    "        \"polymorphic_on\": \"dtype\",\n",
    "    }\n",
    "\n",
    "    def __init__(self, text: str):\n",
    "        super().__init__()\n",
    "        self.text = text\n",
    "\n",
    "\n",
    "# define brand new action designator\n",
    "class Saying(pycram.designators.action_designator.ActionDesignatorDescription):\n",
    "\n",
    "    def __init__(self, text):\n",
    "        super().__init__()\n",
    "        self.text = text\n",
    "\n",
    "    def to_sql(self):\n",
    "        return ORMSaying(self.text)\n",
    "\n",
    "    def insert(self, session):\n",
    "        action = self.to_sql()\n",
    "        session.add(action)\n",
    "        session.commit()\n",
    "        return action\n"
   ],
   "metadata": {
    "collapsed": false,
    "ExecuteTime": {
     "start_time": "2023-04-28T09:51:09.689239Z",
     "end_time": "2023-04-28T09:51:09.690654Z"
    }
   }
  },
  {
   "cell_type": "markdown",
   "source": [
    "So we now got our new ActionDesignator called Saying and its ORM version. Since this class got created after all other classes got inserted into the database (in the beginning of the notebook) we have to insert it manually."
   ],
   "metadata": {
    "collapsed": false
   }
  },
  {
   "cell_type": "code",
   "execution_count": 11,
   "outputs": [],
   "source": [
    "ORMSaying.metadata.create_all(bind=engine)"
   ],
   "metadata": {
    "collapsed": false,
    "ExecuteTime": {
     "start_time": "2023-04-28T09:51:13.517230Z",
     "end_time": "2023-04-28T09:51:13.520331Z"
    }
   }
  },
  {
   "cell_type": "markdown",
   "source": [
    "Now we can create and insert a Saying action."
   ],
   "metadata": {
    "collapsed": false
   }
  },
  {
   "cell_type": "code",
   "execution_count": 12,
   "outputs": [
    {
     "data": {
      "text/plain": "__main__.ORMSaying(10, Saying, Patchie, Patchie; Where is my Patchie?)"
     },
     "execution_count": 12,
     "metadata": {},
     "output_type": "execute_result"
    }
   ],
   "source": [
    "# create a saying action and insert it\n",
    "foo = Saying(\"Patchie, Patchie; Where is my Patchie?\")\n",
    "orm_foo = foo.insert(session)\n",
    "orm_foo"
   ],
   "metadata": {
    "collapsed": false,
    "ExecuteTime": {
     "start_time": "2023-04-28T09:51:15.750070Z",
     "end_time": "2023-04-28T09:51:15.755271Z"
    }
   }
  },
  {
   "cell_type": "markdown",
   "source": [
    "It is notable that committing the object to the session fills its primary key. Hence, there is no worries about assigning unique IDs manually.\n",
    "Finally, we can double-check that our object exists in the database."
   ],
   "metadata": {
    "collapsed": false
   }
  },
  {
   "cell_type": "code",
   "execution_count": 13,
   "outputs": [
    {
     "data": {
      "text/plain": "[__main__.ORMSaying(10, Saying, Patchie, Patchie; Where is my Patchie?)]"
     },
     "execution_count": 13,
     "metadata": {},
     "output_type": "execute_result"
    }
   ],
   "source": [
    "session.query(ORMSaying).all()"
   ],
   "metadata": {
    "collapsed": false,
    "ExecuteTime": {
     "start_time": "2023-04-28T09:51:18.781407Z",
     "end_time": "2023-04-28T09:51:18.784132Z"
    }
   }
  }
 ],
 "metadata": {
  "kernelspec": {
   "name": "pycram",
   "language": "python",
   "display_name": "pycram"
  },
  "language_info": {
   "codemirror_mode": {
    "name": "ipython",
    "version": 2
   },
   "file_extension": ".py",
   "mimetype": "text/x-python",
   "name": "python",
   "nbconvert_exporter": "python",
   "pygments_lexer": "ipython2",
   "version": "2.7.6"
  }
 },
 "nbformat": 4,
 "nbformat_minor": 0
}
