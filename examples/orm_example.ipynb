{
 "cells": [
  {
   "cell_type": "markdown",
   "source": [
    "# Hands on Object Relational Mapping in PyCram\n",
    "\n",
    "This tutorial will walk through the serialization of a minimal plan in pycram.\n",
    "First we will import sqlalchemy, create an in memory database and connect a session to it."
   ],
   "metadata": {
    "collapsed": false,
    "pycharm": {
     "name": "#%% md\n"
    }
   }
  },
  {
   "cell_type": "code",
   "execution_count": 1,
   "metadata": {
    "collapsed": true,
    "ExecuteTime": {
     "start_time": "2023-04-10T14:46:53.290333Z",
     "end_time": "2023-04-10T14:46:53.346510Z"
    },
    "pycharm": {
     "name": "#%%\n"
    }
   },
   "outputs": [
    {
     "data": {
      "text/plain": "<sqlalchemy.orm.session.Session at 0x7fb1581e4370>"
     },
     "execution_count": 1,
     "metadata": {},
     "output_type": "execute_result"
    }
   ],
   "source": [
    "import sqlalchemy\n",
    "import sqlalchemy.orm\n",
    "\n",
    "engine = sqlalchemy.create_engine(\"sqlite+pysqlite:///:memory:\", echo=False)\n",
    "session = sqlalchemy.orm.Session(bind=engine)\n",
    "session"
   ]
  },
  {
   "cell_type": "markdown",
   "source": [
    "Next we create the database schema using the sqlalchemy functionality. For that we need to import the base class of pycram.orm."
   ],
   "metadata": {
    "collapsed": false,
    "pycharm": {
     "name": "#%% md\n"
    }
   }
  },
  {
   "cell_type": "code",
   "execution_count": 2,
   "outputs": [
    {
     "name": "stderr",
     "output_type": "stream",
     "text": [
      "pybullet build time: Sep 20 2021 20:33:29\n",
      "Unknown attribute \"type\" in /robot[@name='pr2']/link[@name='base_laser_link']\n",
      "Unknown attribute \"type\" in /robot[@name='pr2']/link[@name='wide_stereo_optical_frame']\n",
      "Unknown attribute \"type\" in /robot[@name='pr2']/link[@name='narrow_stereo_optical_frame']\n",
      "Unknown attribute \"type\" in /robot[@name='pr2']/link[@name='laser_tilt_link']\n",
      "Unknown attribute \"type\" in /robot[@name='pr2']/link[@name='base_laser_link']\n",
      "Unknown attribute \"type\" in /robot[@name='pr2']/link[@name='wide_stereo_optical_frame']\n",
      "Unknown attribute \"type\" in /robot[@name='pr2']/link[@name='narrow_stereo_optical_frame']\n",
      "Unknown attribute \"type\" in /robot[@name='pr2']/link[@name='laser_tilt_link']\n"
     ]
    }
   ],
   "source": [
    "import pycram.orm.base\n",
    "import pycram.orm.task\n",
    "import pycram.orm.action_designator\n",
    "pycram.orm.base.Base.metadata.create_all(engine)\n",
    "session.commit()"
   ],
   "metadata": {
    "collapsed": false,
    "ExecuteTime": {
     "start_time": "2023-04-10T14:46:53.347353Z",
     "end_time": "2023-04-10T14:46:53.770543Z"
    },
    "pycharm": {
     "name": "#%%\n"
    }
   }
  },
  {
   "cell_type": "markdown",
   "source": [
    "Next we will write a simple plan where the robot parks his arms and then moves somewhere. We will construct a TaskTree around it such that we can serialize it later. As usual, we first create a world and then define the plan. After that we get and print the task tree."
   ],
   "metadata": {
    "collapsed": false,
    "pycharm": {
     "name": "#%% md\n"
    }
   }
  },
  {
   "cell_type": "code",
   "execution_count": 3,
   "outputs": [
    {
     "name": "stdout",
     "output_type": "stream",
     "text": [
      "Parking arms Arms.BOTH.\n",
      "Moving to [0.7199999690055847, 1.0399999618530273, 0.0]. Orientation: [-0.0, 0.0, 0.03442140918758331, -0.9994074077119606].\n",
      "(0.7199999690055847, 1.0399999618530273, 0.0)\n",
      "no_operation()\n",
      "└── plan()\n",
      "    ├── <pycram.designators.action_designator.ParkArmsAction object at 0x7fb0fd945d00>.park_arms(arms = Arms.BOTH)\n",
      "    └── <pycram.designators.action_designator.NavigateAction object at 0x7fb0fd98f0a0>.navigate(target = [0.7199999690055847, 1.0399999618530273, 0.0], orientation = [-0.0, 0.0, 0.03442140918758331, -0.9994074077119606])\n"
     ]
    }
   ],
   "source": [
    "from pycram.designators.action_designator import *\n",
    "from pycram.designators.location_designator import *\n",
    "from pycram.process_module import simulated_robot\n",
    "from pycram.resolver.plans import Arms\n",
    "from pycram.task import with_tree\n",
    "import pycram.task\n",
    "from pycram.bullet_world import BulletWorld, Object\n",
    "from pycram.robot_descriptions.robot_description_handler import InitializedRobotDescription as robot_description\n",
    "import anytree\n",
    "\n",
    "world = BulletWorld()\n",
    "robot = Object(robot_description.i.name, \"robot\", robot_description.i.name + \".urdf\")\n",
    "kitchen = Object(\"kitchen\", \"environment\", \"kitchen.urdf\")\n",
    "milk = Object(\"milk\", \"milk\", \"milk.stl\", position=[1.3, 1, 0.9])\n",
    "cereal = Object(\"cereal\", \"cereal\", \"breakfast_cereal.stl\", position=[1.3, 0.7, 0.95])\n",
    "\n",
    "@with_tree\n",
    "def plan():\n",
    "    with simulated_robot:\n",
    "        ActionDesignator(ParkArmsAction(Arms.BOTH)).perform()\n",
    "\n",
    "        location = LocationDesignator(CostmapLocation(target=milk, reachable_for=robot))\n",
    "        pose = location.reference()\n",
    "        ActionDesignator(\n",
    "            NavigateAction(target_position=pose[\"position\"], target_orientation=pose[\"orientation\"])).perform()\n",
    "\n",
    "plan()\n",
    "world.exit()\n",
    "\n",
    "task_tree = pycram.task.task_tree\n",
    "print(anytree.RenderTree(task_tree))\n",
    "\n"
   ],
   "metadata": {
    "collapsed": false,
    "ExecuteTime": {
     "start_time": "2023-04-10T14:46:53.772845Z",
     "end_time": "2023-04-10T14:47:04.714086Z"
    },
    "pycharm": {
     "name": "#%%\n"
    }
   }
  },
  {
   "cell_type": "markdown",
   "source": [
    "Next we serialize the task tree by just recursively inserting from its root."
   ],
   "metadata": {
    "collapsed": false,
    "pycharm": {
     "name": "#%% md\n"
    }
   }
  },
  {
   "cell_type": "code",
   "execution_count": 4,
   "outputs": [
    {
     "data": {
      "text/plain": "orm.task.TaskTreeNode(1, 1, 2023-04-12 10:19:13.779295, None, RUNNING, None)"
     },
     "execution_count": 4,
     "metadata": {},
     "output_type": "execute_result"
    }
   ],
   "source": [
    "task_tree.root.insert(session)"
   ],
   "metadata": {
    "collapsed": false,
    "ExecuteTime": {
     "start_time": "2023-04-10T14:47:04.716138Z",
     "end_time": "2023-04-10T14:47:04.770589Z"
    },
    "pycharm": {
     "name": "#%%\n"
    }
   }
  },
  {
   "cell_type": "markdown",
   "source": [
    "Lastly we can look at various table to see how the structures got logged."
   ],
   "metadata": {
    "collapsed": false,
    "pycharm": {
     "name": "#%% md\n"
    }
   }
  },
  {
   "cell_type": "code",
   "execution_count": 5,
   "outputs": [
    {
     "name": "stdout",
     "output_type": "stream",
     "text": [
      "pycram.orm.action_designator.NavigateAction(2, Navigate, 1, 1)\n",
      "pycram.orm.task.TaskTreeNode(1, 1, 2023-04-12 10:19:13.779295, None, RUNNING, None) pycram.orm.task.TaskTreeNode(2, 2, 2023-04-12 10:19:23.666035, 2023-04-12 10:19:24.928500, SUCCEEDED, 1) pycram.orm.task.TaskTreeNode(3, 3, 2023-04-12 10:19:23.666085, 2023-04-12 10:19:24.170769, SUCCEEDED, 2) pycram.orm.task.TaskTreeNode(4, 4, 2023-04-12 10:19:24.426517, 2023-04-12 10:19:24.928490, SUCCEEDED, 2)\n"
     ]
    }
   ],
   "source": [
    "import pycram.orm.task\n",
    "import pycram.orm.action_designator\n",
    "\n",
    "navigations = session.query(pycram.orm.action_designator.NavigateAction).all()\n",
    "print(*navigations)\n",
    "\n",
    "nodes = session.query(pycram.orm.task.TaskTreeNode).all()\n",
    "print(*nodes)\n"
   ],
   "metadata": {
    "collapsed": false,
    "ExecuteTime": {
     "start_time": "2023-04-10T14:47:04.770436Z",
     "end_time": "2023-04-10T14:47:04.770756Z"
    },
    "pycharm": {
     "name": "#%%\n"
    }
   }
  }
 ],
 "metadata": {
  "kernelspec": {
   "name": "rosjpt",
   "language": "python",
   "display_name": "rosjpt"
  },
  "language_info": {
   "codemirror_mode": {
    "name": "ipython",
    "version": 2
   },
   "file_extension": ".py",
   "mimetype": "text/x-python",
   "name": "python",
   "nbconvert_exporter": "python",
   "pygments_lexer": "ipython2",
   "version": "2.7.6"
  }
 },
 "nbformat": 4,
 "nbformat_minor": 0
}