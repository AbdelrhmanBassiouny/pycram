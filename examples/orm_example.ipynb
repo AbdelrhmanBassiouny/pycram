{
 "cells": [
  {
   "cell_type": "markdown",
   "source": [
    "# Hands on Object Relational Mapping in PyCram\n",
    "\n",
    "This tutorial will walk through the serialization of a minimal plan in pycram.\n",
    "First we will import sqlalchemy, create an in memory database and connect a session to it."
   ],
   "metadata": {
    "collapsed": false
   }
  },
  {
   "cell_type": "code",
   "execution_count": 1,
   "metadata": {
    "collapsed": true,
    "ExecuteTime": {
     "start_time": "2023-04-15T12:26:48.713408Z",
     "end_time": "2023-04-15T12:26:48.757115Z"
    }
   },
   "outputs": [
    {
     "data": {
      "text/plain": "<sqlalchemy.orm.session.Session at 0x7f7bf0274d90>"
     },
     "execution_count": 1,
     "metadata": {},
     "output_type": "execute_result"
    }
   ],
   "source": [
    "import sqlalchemy\n",
    "import sqlalchemy.orm\n",
    "\n",
    "engine = sqlalchemy.create_engine(\"sqlite+pysqlite:///:memory:\", echo=False)\n",
    "session = sqlalchemy.orm.Session(bind=engine)\n",
    "session"
   ]
  },
  {
   "cell_type": "markdown",
   "source": [
    "Next we create the database schema using the sqlalchemy functionality. For that we need to import the base class of pycram.orm."
   ],
   "metadata": {
    "collapsed": false
   }
  },
  {
   "cell_type": "code",
   "execution_count": 2,
   "outputs": [
    {
     "name": "stderr",
     "output_type": "stream",
     "text": [
      "pybullet build time: Sep 20 2021 20:33:29\n",
      "Unknown attribute \"type\" in /robot[@name='pr2']/link[@name='base_laser_link']\n",
      "Unknown attribute \"type\" in /robot[@name='pr2']/link[@name='wide_stereo_optical_frame']\n",
      "Unknown attribute \"type\" in /robot[@name='pr2']/link[@name='narrow_stereo_optical_frame']\n",
      "Unknown attribute \"type\" in /robot[@name='pr2']/link[@name='laser_tilt_link']\n",
      "Unknown attribute \"type\" in /robot[@name='pr2']/link[@name='base_laser_link']\n",
      "Unknown attribute \"type\" in /robot[@name='pr2']/link[@name='wide_stereo_optical_frame']\n",
      "Unknown attribute \"type\" in /robot[@name='pr2']/link[@name='narrow_stereo_optical_frame']\n",
      "Unknown attribute \"type\" in /robot[@name='pr2']/link[@name='laser_tilt_link']\n"
     ]
    }
   ],
   "source": [
    "import pycram.orm.base\n",
    "import pycram.orm.task\n",
    "import pycram.orm.object_designator\n",
    "import pycram.orm.motion_designator\n",
    "import pycram.orm.action_designator\n",
    "pycram.orm.base.Base.metadata.create_all(engine)\n",
    "session.commit()"
   ],
   "metadata": {
    "collapsed": false,
    "ExecuteTime": {
     "start_time": "2023-04-15T12:26:48.757707Z",
     "end_time": "2023-04-15T12:26:49.184134Z"
    }
   }
  },
  {
   "cell_type": "markdown",
   "source": [
    "Next we will write a simple plan where the robot parks his arms and then moves somewhere. We will construct a TaskTree around it such that we can serialize it later. As usual, we first create a world and then define the plan. After that we get and print the task tree."
   ],
   "metadata": {
    "collapsed": false
   }
  },
  {
   "cell_type": "code",
   "execution_count": 3,
   "outputs": [
    {
     "name": "stdout",
     "output_type": "stream",
     "text": [
      "Parking arms Arms.BOTH.\n",
      "Moving to [0.7199999690055847, 1.0199999809265137, 0.0]. Orientation: [-0.0, 0.0, 0.017233679975957927, -0.9998514891095008].\n",
      "(0.7199999690055847, 1.0199999809265137, 0.0)\n",
      "Parking arms Arms.BOTH.\n",
      "Picking up ObjectDesignator({'resolver': 'grounding', 'type': 'milk', 'name': 'milk', 'object': None, 'pose': None}) with left.\n",
      "Moving to [-1.9075000286102295, 0.7792000770568848, 0.0]. Orientation: [0.0, 0.0, 0.16439898301071468, 0.9863939245479175].\n",
      "(-1.9075000286102295, 0.7792000770568848, 0.0)\n",
      "Placing ObjectDesignator({'resolver': 'grounding', 'type': 'milk', 'name': 'milk', 'object': <pycram.bullet_world.Object object at 0x7f7afc92ad60>, 'pose': ((1.3, 1.0, 0.9), (0.0, 0.0, 0.0, 1.0))}) with left at [[-1.2074999809265137, 1.019200086593628, 0.9398907270729542], [0.0, 0.0, 0.6339889056055381, 0.7733421413379024]].\n",
      "Parking arms Arms.BOTH.\n",
      "no_operation()\n",
      "└── plan()\n",
      "    ├── park_arms(arms = Arms.BOTH)\n",
      "    ├── move_torso(position = 0.3)\n",
      "    ├── navigate(target = [0.7199999690055847, 1.0199999809265137, 0.0], orientation = [-0.0, 0.0, 0.017233679975957927, -0.9998514891095008])\n",
      "    ├── park_arms(arms = Arms.BOTH)\n",
      "    ├── pick_up(arm = left, object_desig = ObjectDesignator({'resolver': 'grounding', 'type': 'milk', 'name': 'milk', 'object': <pycram.bullet_world.Object object at 0x7f7afc92ad60>, 'pose': ((1.3, 1.0, 0.9), (0.0, 0.0, 0.0, 1.0))}), grasp = front)\n",
      "    ├── navigate(target = [-1.9075000286102295, 0.7792000770568848, 0.0], orientation = [0.0, 0.0, 0.16439898301071468, 0.9863939245479175])\n",
      "    ├── place(arm = left, object_desig = ObjectDesignator({'resolver': 'grounding', 'type': 'milk', 'name': 'milk', 'object': <pycram.bullet_world.Object object at 0x7f7afc92ad60>, 'pose': ((1.3, 1.0, 0.9), (0.0, 0.0, 0.0, 1.0))}), target = [[-1.2074999809265137, 1.019200086593628, 0.9398907270729542], [0.0, 0.0, 0.6339889056055381, 0.7733421413379024]])\n",
      "    └── park_arms(arms = Arms.BOTH)\n"
     ]
    }
   ],
   "source": [
    "from pycram.designators.action_designator import *\n",
    "from pycram.designators.location_designator import *\n",
    "from pycram.process_module import simulated_robot\n",
    "from pycram.resolver.plans import Arms\n",
    "from pycram.task import with_tree\n",
    "import pycram.task\n",
    "from pycram.bullet_world import BulletWorld, Object\n",
    "from pycram.robot_descriptions.robot_description_handler import InitializedRobotDescription as robot_description\n",
    "from pycram.designators.object_designator import *\n",
    "import anytree\n",
    "\n",
    "world = BulletWorld()\n",
    "robot = Object(robot_description.i.name, \"robot\", robot_description.i.name + \".urdf\")\n",
    "kitchen = Object(\"kitchen\", \"environment\", \"kitchen.urdf\")\n",
    "milk = Object(\"milk\", \"milk\", \"milk.stl\", position=[1.3, 1, 0.9])\n",
    "cereal = Object(\"cereal\", \"cereal\", \"breakfast_cereal.stl\", position=[1.3, 0.7, 0.95])\n",
    "milk_desig = ObjectDesignator(ObjectDesignatorDescription(name=\"milk\", type=\"milk\"))\n",
    "cereal_desig = ObjectDesignator(ObjectDesignatorDescription(name=\"cereal\", type=\"cereal\"))\n",
    "\n",
    "@with_tree\n",
    "def plan():\n",
    "    with simulated_robot:\n",
    "        ActionDesignator(ParkArmsAction(Arms.BOTH)).perform()\n",
    "        ActionDesignator(MoveTorsoAction(0.3)).perform()\n",
    "        location = LocationDesignator(CostmapLocation(target=milk, reachable_for=robot))\n",
    "        pose = location.reference()\n",
    "        ActionDesignator(\n",
    "            NavigateAction(target_position=pose[\"position\"], target_orientation=pose[\"orientation\"])).perform()\n",
    "        ActionDesignator(ParkArmsAction(Arms.BOTH)).perform()\n",
    "\n",
    "        picked_up_arm = pose[\"arms\"][0]\n",
    "        ActionDesignator(\n",
    "            PickUpAction(object_designator=milk_desig, arm=pose[\"arms\"][0], grasp=\"front\")).perform()\n",
    "\n",
    "        place_island = LocationDesignator(\n",
    "            SemanticCostmapLocation(\"kitchen_island_surface\", kitchen, milk_desig.prop_value(\"object\")))\n",
    "        pose_island = place_island.reference()\n",
    "\n",
    "        place_location = LocationDesignator(\n",
    "            CostmapLocation(target=list(pose_island.values()), reachable_for=robot,\n",
    "                            reachable_arm=picked_up_arm))\n",
    "        pose = place_location.reference()\n",
    "\n",
    "        ActionDesignator(\n",
    "            NavigateAction(target_position=pose[\"position\"], target_orientation=pose[\"orientation\"])).perform()\n",
    "\n",
    "        ActionDesignator(PlaceAction(object_designator=milk_desig, target_location=list(pose_island.values()),\n",
    "                                     arm=picked_up_arm)).perform()\n",
    "\n",
    "        ActionDesignator(ParkArmsAction(Arms.BOTH)).perform()\n",
    "\n",
    "plan()\n",
    "world.exit()\n",
    "\n",
    "task_tree = pycram.task.task_tree\n",
    "print(anytree.RenderTree(task_tree))\n",
    "\n"
   ],
   "metadata": {
    "collapsed": false,
    "ExecuteTime": {
     "start_time": "2023-04-15T12:26:49.327677Z",
     "end_time": "2023-04-15T12:27:04.359921Z"
    }
   }
  },
  {
   "cell_type": "markdown",
   "source": [
    "Next we serialize the task tree by just recursively inserting from its root."
   ],
   "metadata": {
    "collapsed": false
   }
  },
  {
   "cell_type": "code",
   "execution_count": 4,
   "outputs": [
    {
     "data": {
      "text/plain": "pycram.orm.task.TaskTreeNode(1, 1, 2023-04-15 12:26:49.163833, None, RUNNING, None)"
     },
     "execution_count": 4,
     "metadata": {},
     "output_type": "execute_result"
    }
   ],
   "source": [
    "task_tree.root.insert(session)"
   ],
   "metadata": {
    "collapsed": false,
    "ExecuteTime": {
     "start_time": "2023-04-15T12:27:04.364739Z",
     "end_time": "2023-04-15T12:27:04.397435Z"
    }
   }
  },
  {
   "cell_type": "markdown",
   "source": [
    "Lastly we can look at various table to see how the structures got logged.\n",
    "For example, we can get all the navigate actions that occurred."
   ],
   "metadata": {
    "collapsed": false
   }
  },
  {
   "cell_type": "code",
   "execution_count": 5,
   "outputs": [
    {
     "name": "stdout",
     "output_type": "stream",
     "text": [
      "pycram.orm.action_designator.NavigateAction(3, Navigate, 1, 1)\n",
      "pycram.orm.action_designator.NavigateAction(6, Navigate, 3, 3)\n"
     ]
    }
   ],
   "source": [
    "navigations = session.query(pycram.orm.action_designator.NavigateAction).all()\n",
    "print(*navigations, sep=\"\\n\")\n"
   ],
   "metadata": {
    "collapsed": false,
    "ExecuteTime": {
     "start_time": "2023-04-15T12:27:04.393095Z",
     "end_time": "2023-04-15T12:27:04.397591Z"
    }
   }
  },
  {
   "cell_type": "markdown",
   "source": [
    "Since inheritance is correctly mapped in the ORM package we can also get all actions that were executed with the correct classes in just one line."
   ],
   "metadata": {
    "collapsed": false
   }
  },
  {
   "cell_type": "code",
   "execution_count": 6,
   "outputs": [
    {
     "name": "stdout",
     "output_type": "stream",
     "text": [
      "pycram.orm.action_designator.ParkArmsAction(1, ParkArms, BOTH)\n",
      "pycram.orm.action_designator.MoveTorsoAction(2, MoveTorso, 0.3)\n",
      "pycram.orm.action_designator.NavigateAction(3, Navigate, 1, 1)\n",
      "pycram.orm.action_designator.ParkArmsAction(4, ParkArms, BOTH)\n",
      "pycram.orm.action_designator.PickUpAction(5, PickUp, left, front, 1, 0.9)\n",
      "pycram.orm.action_designator.NavigateAction(6, Navigate, 3, 3)\n",
      "pycram.orm.action_designator.PlaceAction(7, Place, left, 5, 5, 2)\n",
      "pycram.orm.action_designator.ParkArmsAction(8, ParkArms, BOTH)\n"
     ]
    }
   ],
   "source": [
    "actions = session.query(pycram.orm.action_designator.Action).all()\n",
    "print(*actions, sep=\"\\n\")"
   ],
   "metadata": {
    "collapsed": false,
    "ExecuteTime": {
     "start_time": "2023-04-15T12:27:04.441431Z",
     "end_time": "2023-04-15T12:27:04.441857Z"
    }
   }
  },
  {
   "cell_type": "markdown",
   "source": [
    "Of course all relational algebra operators, such as filtering and joining also work in pycram.orm queries. For example if we want all actions that have an object designator assigned in them, we can execute:"
   ],
   "metadata": {
    "collapsed": false
   }
  },
  {
   "cell_type": "code",
   "execution_count": 7,
   "outputs": [
    {
     "name": "stdout",
     "output_type": "stream",
     "text": [
      "(pycram.orm.action_designator.PickUpAction(5, PickUp, left, front, 1, 0.9), pycram.orm.object_designator.ObjectDesignator(1, Object, milk, milk, 2, 2))\n",
      "(pycram.orm.action_designator.PlaceAction(7, Place, left, 5, 5, 2), pycram.orm.object_designator.ObjectDesignator(2, Object, milk, milk, 4, 4))\n"
     ]
    }
   ],
   "source": [
    "object_actions = session.query(pycram.orm.action_designator.PickUpAction,\n",
    "                               pycram.orm.object_designator.ObjectDesignator).join(pycram.orm.object_designator.ObjectDesignator).all() + \\\n",
    "                 session.query(pycram.orm.action_designator.PlaceAction,\n",
    "                               pycram.orm.object_designator.ObjectDesignator).join(pycram.orm.object_designator.ObjectDesignator).all()\n",
    "print(*object_actions, sep=\"\\n\")"
   ],
   "metadata": {
    "collapsed": false,
    "ExecuteTime": {
     "start_time": "2023-04-15T12:27:04.441488Z",
     "end_time": "2023-04-15T12:27:04.441955Z"
    }
   }
  },
  {
   "cell_type": "markdown",
   "source": [
    "If we want to filter for all successful tasks we can just add the filter operator."
   ],
   "metadata": {
    "collapsed": false
   }
  },
  {
   "cell_type": "code",
   "execution_count": 8,
   "outputs": [
    {
     "name": "stdout",
     "output_type": "stream",
     "text": [
      "pycram.orm.task.TaskTreeNode(2, 2, 2023-04-15 12:26:58.026513, 2023-04-15 12:27:03.419551, SUCCEEDED, 1)\n",
      "pycram.orm.task.TaskTreeNode(3, 3, 2023-04-15 12:26:58.026559, 2023-04-15 12:26:58.549368, SUCCEEDED, 2)\n",
      "pycram.orm.task.TaskTreeNode(4, 4, 2023-04-15 12:26:58.549473, 2023-04-15 12:26:59.050226, SUCCEEDED, 2)\n",
      "pycram.orm.task.TaskTreeNode(5, 5, 2023-04-15 12:26:59.751214, 2023-04-15 12:27:00.253018, SUCCEEDED, 2)\n",
      "pycram.orm.task.TaskTreeNode(6, 6, 2023-04-15 12:27:00.253081, 2023-04-15 12:27:00.753952, SUCCEEDED, 2)\n",
      "pycram.orm.task.TaskTreeNode(7, 7, 2023-04-15 12:27:00.754029, 2023-04-15 12:27:01.257846, SUCCEEDED, 2)\n",
      "pycram.orm.task.TaskTreeNode(8, 8, 2023-04-15 12:27:01.888076, 2023-04-15 12:27:02.389855, SUCCEEDED, 2)\n",
      "pycram.orm.task.TaskTreeNode(9, 9, 2023-04-15 12:27:02.389921, 2023-04-15 12:27:02.916384, SUCCEEDED, 2)\n",
      "pycram.orm.task.TaskTreeNode(10, 10, 2023-04-15 12:27:02.916471, 2023-04-15 12:27:03.419539, SUCCEEDED, 2)\n"
     ]
    }
   ],
   "source": [
    "successful_tasks = session.query(pycram.orm.task.TaskTreeNode).filter(pycram.orm.task.TaskTreeNode.status == \"SUCCEEDED\")\n",
    "print(*successful_tasks, sep=\"\\n\")"
   ],
   "metadata": {
    "collapsed": false,
    "ExecuteTime": {
     "start_time": "2023-04-15T12:27:04.441520Z",
     "end_time": "2023-04-15T12:27:04.441993Z"
    }
   }
  },
  {
   "cell_type": "markdown",
   "source": [
    "As expected all but the root node succeeded, since the root node is still running.\n",
    "\n",
    "Writing an extension to the ORM package is also done with ease. We need to create a class that can be inserted and its ORM equivalent, write a to_sql() and insert() method and then insert it somewhere."
   ],
   "metadata": {
    "collapsed": false
   }
  },
  {
   "cell_type": "code",
   "execution_count": 9,
   "outputs": [],
   "source": [
    "import pycram.designators.action_designator\n",
    "\n",
    "\n",
    "# define ORM class from pattern in every pycram.orm class\n",
    "class ORMSaying(pycram.orm.action_designator.Action):\n",
    "    __tablename__ = \"Saying\"\n",
    "    id = sqlalchemy.Column(sqlalchemy.types.Integer, sqlalchemy.ForeignKey(\"Action.id\"), primary_key=True)\n",
    "    text = sqlalchemy.Column(sqlalchemy.types.String(255))\n",
    "\n",
    "    __mapper_args__ = {\n",
    "        \"polymorphic_identity\": __tablename__,\n",
    "        \"polymorphic_on\": \"dtype\",\n",
    "    }\n",
    "\n",
    "    def __init__(self, text: str):\n",
    "        super().__init__()\n",
    "        self.text = text\n",
    "\n",
    "\n",
    "# define brand new action designator\n",
    "class Saying(pycram.designators.action_designator.ActionDesignatorDescription):\n",
    "\n",
    "    def __init__(self, text):\n",
    "        super().__init__()\n",
    "        self.text = text\n",
    "\n",
    "    def to_sql(self):\n",
    "        return ORMSaying(self.text)\n",
    "\n",
    "    def insert(self, session):\n",
    "        action = self.to_sql()\n",
    "        session.add(action)\n",
    "        session.commit()\n",
    "        return action\n"
   ],
   "metadata": {
    "collapsed": false,
    "ExecuteTime": {
     "start_time": "2023-04-15T12:27:04.441554Z",
     "end_time": "2023-04-15T12:27:04.442012Z"
    }
   }
  },
  {
   "cell_type": "markdown",
   "source": [
    "So we now got our new ActionDesignator called Saying and its ORM version. Since this class got created after all other classes got inserted into the database (in the beginning of the notebook) we have to insert it manually."
   ],
   "metadata": {
    "collapsed": false
   }
  },
  {
   "cell_type": "code",
   "execution_count": 10,
   "outputs": [],
   "source": [
    "ORMSaying.metadata.create_all(bind=engine)"
   ],
   "metadata": {
    "collapsed": false,
    "ExecuteTime": {
     "start_time": "2023-04-15T12:27:04.441614Z",
     "end_time": "2023-04-15T12:27:04.442029Z"
    }
   }
  },
  {
   "cell_type": "markdown",
   "source": [
    "Now we can create and insert a Saying action."
   ],
   "metadata": {
    "collapsed": false
   }
  },
  {
   "cell_type": "code",
   "execution_count": 11,
   "outputs": [
    {
     "data": {
      "text/plain": "__main__.ORMSaying(9, Saying, Hello, I am the PR2.)"
     },
     "execution_count": 11,
     "metadata": {},
     "output_type": "execute_result"
    }
   ],
   "source": [
    "# create a saying action and insert it\n",
    "foo = Saying(\"Hello, I am the PR2.\")\n",
    "orm_foo = foo.insert(session)\n",
    "orm_foo"
   ],
   "metadata": {
    "collapsed": false,
    "ExecuteTime": {
     "start_time": "2023-04-15T12:27:04.441640Z",
     "end_time": "2023-04-15T12:27:04.442082Z"
    }
   }
  },
  {
   "cell_type": "markdown",
   "source": [
    "It is notable that committing the object to the session fills its primary key. Hence, there is no worries about assigning unique IDs manually.\n",
    "Finally, we can double-check that our object exists in the database."
   ],
   "metadata": {
    "collapsed": false
   }
  },
  {
   "cell_type": "code",
   "execution_count": 12,
   "outputs": [
    {
     "data": {
      "text/plain": "[__main__.ORMSaying(9, Saying, Hello, I am the PR2.)]"
     },
     "execution_count": 12,
     "metadata": {},
     "output_type": "execute_result"
    }
   ],
   "source": [
    "session.query(ORMSaying).all()"
   ],
   "metadata": {
    "collapsed": false,
    "ExecuteTime": {
     "start_time": "2023-04-15T12:27:04.441671Z",
     "end_time": "2023-04-15T12:27:04.442127Z"
    }
   }
  }
 ],
 "metadata": {
  "kernelspec": {
   "name": "python3",
   "language": "python",
   "display_name": "Python 3 (ipykernel)"
  },
  "language_info": {
   "codemirror_mode": {
    "name": "ipython",
    "version": 2
   },
   "file_extension": ".py",
   "mimetype": "text/x-python",
   "name": "python",
   "nbconvert_exporter": "python",
   "pygments_lexer": "ipython2",
   "version": "2.7.6"
  }
 },
 "nbformat": 4,
 "nbformat_minor": 0
}
