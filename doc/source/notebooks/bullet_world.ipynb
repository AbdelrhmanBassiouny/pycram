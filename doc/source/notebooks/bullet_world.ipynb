{
 "cells": [
  {
   "cell_type": "markdown",
   "id": "8d2d6a94",
   "metadata": {},
   "source": [
    "# Bullet World\n",
    "This Notebook will show you the basics of working with the PyCRAM BulletWorld.\n",
    "\n",
    "First we need to import and create a BulletWorld."
   ]
  },
  {
   "cell_type": "code",
   "execution_count": 1,
   "id": "23bbba35",
   "metadata": {
    "ExecuteTime": {
     "end_time": "2024-01-25T15:12:30.985683070Z",
     "start_time": "2024-01-25T15:12:30.145357542Z"
    }
   },
   "outputs": [
    {
     "name": "stderr",
     "output_type": "stream",
     "text": [
      "pybullet build time: Nov 28 2023 23:51:11\n",
      "Unknown attribute \"type\" in /robot[@name='pr2']/link[@name='base_laser_link']\n",
      "Unknown attribute \"type\" in /robot[@name='pr2']/link[@name='wide_stereo_optical_frame']\n",
      "Unknown attribute \"type\" in /robot[@name='pr2']/link[@name='narrow_stereo_optical_frame']\n",
      "Unknown attribute \"type\" in /robot[@name='pr2']/link[@name='laser_tilt_link']\n",
      "[WARN] [1706195550.581271]: Failed to import Giskard messages\n",
      "[WARN] [1706195550.584688]: Could not import RoboKudo messages, RoboKudo interface could not be initialized\n",
      "Exception in thread Thread-11:\n",
      "Traceback (most recent call last):\n",
      "  File \"/usr/lib/python3.8/threading.py\", line 932, in _bootstrap_inner\n",
      "    self.run()\n",
      "  File \"/home/bassioun/cram_ws/src/pycram/src/pycram/bullet_world.py\", line 527, in run\n",
      "    keys = p.getKeyboardEvents(physicalClientId=self.world.client_id)\n",
      "TypeError: 'physicalClientId' is an invalid keyword argument for this function\n"
     ]
    },
    {
     "name": "stdout",
     "output_type": "stream",
     "text": [
      "startThreads creating 1 threads.\n",
      "starting thread 0\n",
      "started thread 0 \n",
      "argc=2\n",
      "argv[0] = --unused\n",
      "argv[1] = --start_demo_name=Physics Server\n",
      "ExampleBrowserThreadFunc started\n",
      "X11 functions dynamically loaded using dlopen/dlsym OK!\n",
      "X11 functions dynamically loaded using dlopen/dlsym OK!\n",
      "Creating context\n",
      "Created GL 3.3 context\n",
      "Direct GLX rendering context obtained\n",
      "Making context current\n",
      "GL_VENDOR=NVIDIA Corporation\n",
      "GL_RENDERER=NVIDIA GeForce RTX 4070/PCIe/SSE2\n",
      "GL_VERSION=3.3.0 NVIDIA 535.154.05\n",
      "GL_SHADING_LANGUAGE_VERSION=3.30 NVIDIA via Cg compiler\n",
      "pthread_getconcurrency()=0\n",
      "Version = 3.3.0 NVIDIA 535.154.05\n",
      "Vendor = NVIDIA Corporation\n",
      "Renderer = NVIDIA GeForce RTX 4070/PCIe/SSE2\n",
      "b3Printf: Selected demo: Physics Server\n",
      "startThreads creating 1 threads.\n",
      "starting thread 0\n",
      "started thread 0 \n",
      "MotionThreadFunc thread started\n"
     ]
    }
   ],
   "source": [
    "from pycram.bullet_world import BulletWorld\n",
    "from pycram.pose import Pose\n",
    "from pycram.enums import ObjectType\n",
    "\n",
    "world = BulletWorld()"
   ]
  },
  {
   "cell_type": "markdown",
   "id": "dccaf6ff",
   "metadata": {},
   "source": [
    "This new window is the BulletWorld, PyCRAMs internal physics simulation. You can use the mouse to move the camera around:\n",
    "\n",
    "  * Press the left mouse button to rotate the camera\n",
    "  * Press the right mouse button to move the camera \n",
    "  * Press the middle mouse button (scroll wheel) and move the mouse up or down to zoom\n",
    "    \n",
    "At the moment the BulletWorld only contains a floor, this is spawned by default when creating the BulletWorld. Furthermore, the gravity is set to 9.8 m^2, which is the same gravitation as the one on earth. \n",
    "    "
   ]
  },
  {
   "cell_type": "markdown",
   "id": "4403bf9c",
   "metadata": {},
   "source": [
    "To close the BulletWorld again please use the ```exit``` method since it will also terminate threads running in the background"
   ]
  },
  {
   "cell_type": "code",
   "execution_count": 18,
   "id": "b1e6ed82",
   "metadata": {
    "ExecuteTime": {
     "end_time": "2024-01-25T15:15:13.021035123Z",
     "start_time": "2024-01-25T15:15:12.770510755Z"
    }
   },
   "outputs": [],
   "source": [
    "world.exit()"
   ]
  },
  {
   "cell_type": "markdown",
   "id": "e0fc7086",
   "metadata": {},
   "source": [
    "To spawn new things in the BulletWorld we need to import the Object class and create and instance of it. "
   ]
  },
  {
   "cell_type": "code",
   "execution_count": 2,
   "id": "48a3aed2",
   "metadata": {
    "ExecuteTime": {
     "end_time": "2024-01-25T15:12:45.684564926Z",
     "start_time": "2024-01-25T15:12:45.625809554Z"
    }
   },
   "outputs": [],
   "source": [
    "from pycram.world import Object\n",
    "\n",
    "milk = Object(\"milk\", ObjectType.MILK, \"milk.stl\", pose=Pose([0, 0, 1]))"
   ]
  },
  {
   "cell_type": "markdown",
   "id": "8a754f12",
   "metadata": {},
   "source": [
    "As you can see this spawns a milk floating in the air. What we did here was create a new Object which has the name \"milk\" as well as the type ```ObjectType.MILK ``` , is spawned from the file \"milk.stl\" and is at the position [0, 0, 1]. \n",
    "\n",
    "The type of an Object can either be from the enum ObjectType or a string. However, it is recommended to use the enum since this would make for a more consistent naming of types which makes it easiert to work with types. But since the types of the enum might not fit your case you can also use strings. \n",
    "\n",
    "The first three of these parameters are required while the position is optional. As you can see it was sufficent to only specify the filename for PyCRAM to spawn the milk mesh. When only providing a filename PyCRAM will search in its resource directory for a matching file and use it. \n",
    "\n",
    "For a complete list of all parameters that can be used to crate an Object please check the documentation. \n",
    "\n",
    "\n",
    "\n",
    "Since the Object is spawned we can now interact with it. First we want to move it around and change it's orientation"
   ]
  },
  {
   "cell_type": "code",
   "execution_count": 3,
   "id": "4ae2bc42",
   "metadata": {
    "ExecuteTime": {
     "end_time": "2024-01-25T15:12:49.219929668Z",
     "start_time": "2024-01-25T15:12:49.218144234Z"
    }
   },
   "outputs": [],
   "source": [
    "milk.set_position(Pose([1, 1, 1]))"
   ]
  },
  {
   "cell_type": "code",
   "execution_count": 4,
   "id": "4adc7b11",
   "metadata": {
    "ExecuteTime": {
     "end_time": "2024-01-25T15:12:51.501613968Z",
     "start_time": "2024-01-25T15:12:51.498849668Z"
    }
   },
   "outputs": [],
   "source": [
    "milk.set_orientation(Pose(orientation=[1,0, 0, 1]))"
   ]
  },
  {
   "cell_type": "code",
   "execution_count": 5,
   "id": "f91d1809",
   "metadata": {
    "ExecuteTime": {
     "end_time": "2024-01-25T15:12:53.093477139Z",
     "start_time": "2024-01-25T15:12:53.091079615Z"
    }
   },
   "outputs": [],
   "source": [
    "milk.set_pose(Pose([0, 0, 1], [0, 0, 0, 1]))"
   ]
  },
  {
   "cell_type": "markdown",
   "id": "5805be38",
   "metadata": {},
   "source": [
    "In the same sense as setting the position or orientation you can also get the position and orientation."
   ]
  },
  {
   "cell_type": "code",
   "execution_count": 6,
   "id": "1db2aa78",
   "metadata": {
    "ExecuteTime": {
     "end_time": "2024-01-25T15:12:55.623481479Z",
     "start_time": "2024-01-25T15:12:55.617521322Z"
    }
   },
   "outputs": [
    {
     "name": "stdout",
     "output_type": "stream",
     "text": [
      "Position: \n",
      "x: 0.0\n",
      "y: 0.0\n",
      "z: 1.0\n",
      "Orientation: \n",
      "x: 0.0\n",
      "y: 0.0\n",
      "z: 0.0\n",
      "w: 1.0\n",
      "Pose: \n",
      "header: \n",
      "  seq: 0\n",
      "  stamp: \n",
      "    secs: 1706195573\n",
      "    nsecs:  89663267\n",
      "  frame_id: \"map\"\n",
      "pose: \n",
      "  position: \n",
      "    x: 0.0\n",
      "    y: 0.0\n",
      "    z: 1.0\n",
      "  orientation: \n",
      "    x: 0.0\n",
      "    y: 0.0\n",
      "    z: 0.0\n",
      "    w: 1.0\n"
     ]
    }
   ],
   "source": [
    "print(f\"Position: \\n{milk.get_position()}\")\n",
    "\n",
    "print(f\"Orientation: \\n{milk.get_orientation()}\")\n",
    "\n",
    "print(f\"Pose: \\n{milk.get_pose()}\")"
   ]
  },
  {
   "cell_type": "markdown",
   "id": "68c02db9",
   "metadata": {},
   "source": [
    "## Attachments\n",
    "You can attach Objects to each other simply by calling the attach method on one of them and providing the other as parameter. Since attachments are bi-directional it doesn't matter on which Object you call the method. \n",
    "\n",
    "First we neeed another Object"
   ]
  },
  {
   "cell_type": "code",
   "execution_count": 7,
   "id": "10a493b1",
   "metadata": {
    "ExecuteTime": {
     "end_time": "2024-01-25T15:13:00.617061159Z",
     "start_time": "2024-01-25T15:13:00.545727421Z"
    }
   },
   "outputs": [],
   "source": [
    "cereal = Object(\"cereal\", ObjectType.BREAKFAST_CEREAL, \"breakfast_cereal.stl\", pose=Pose([1, 0, 1]))"
   ]
  },
  {
   "cell_type": "code",
   "execution_count": 8,
   "id": "275372e3",
   "metadata": {
    "ExecuteTime": {
     "end_time": "2024-01-25T15:13:02.886236097Z",
     "start_time": "2024-01-25T15:13:02.883330740Z"
    }
   },
   "outputs": [],
   "source": [
    "milk.attach(cereal)"
   ]
  },
  {
   "cell_type": "markdown",
   "id": "5577c567",
   "metadata": {},
   "source": [
    "Now since they are attached to each other, if we move one of them the other will move in conjunction."
   ]
  },
  {
   "cell_type": "code",
   "execution_count": 9,
   "id": "dff85834",
   "metadata": {
    "ExecuteTime": {
     "end_time": "2024-01-25T15:13:05.361953697Z",
     "start_time": "2024-01-25T15:13:05.354577792Z"
    }
   },
   "outputs": [],
   "source": [
    "milk.set_position(Pose([1,1,1]))"
   ]
  },
  {
   "cell_type": "markdown",
   "id": "196bd705",
   "metadata": {},
   "source": [
    "In the same way the Object can also be detached, just call the detach method on one of the two attached Objects."
   ]
  },
  {
   "cell_type": "code",
   "execution_count": 10,
   "id": "b0bba145",
   "metadata": {
    "ExecuteTime": {
     "end_time": "2024-01-25T15:13:08.363391145Z",
     "start_time": "2024-01-25T15:13:08.361381235Z"
    }
   },
   "outputs": [
    {
     "name": "stdout",
     "output_type": "stream",
     "text": [
      "Removing constraint with id:  1\n"
     ]
    }
   ],
   "source": [
    "cereal.detach(milk)"
   ]
  },
  {
   "cell_type": "markdown",
   "id": "e5e44a67",
   "metadata": {},
   "source": [
    "## Links and Joints\n",
    "Objects spawned from mesh files do not have links or joints, but if you spawn things from a URDF like a robot they will have a lot of links and joints. Every Object has two dictionaries as attributes namley ```links``` and ```joints``` which contain every link or joint as key and a unique id, used by PyBullet, as value. \n",
    "\n",
    "We will see this at the example of the PR2"
   ]
  },
  {
   "cell_type": "code",
   "execution_count": 11,
   "id": "edf5cb72",
   "metadata": {
    "ExecuteTime": {
     "end_time": "2024-01-25T15:13:17.474926968Z",
     "start_time": "2024-01-25T15:13:13.769261909Z"
    }
   },
   "outputs": [
    {
     "name": "stdout",
     "output_type": "stream",
     "text": [
      "{'base_link': <pycram.world.Link object at 0x7f4efa13cb20>, 'base_footprint': <pycram.world.RootLink object at 0x7f4efa13caf0>, 'base_bellow_link': <pycram.world.Link object at 0x7f4efa13cac0>, 'base_laser_link': <pycram.world.Link object at 0x7f4efa13ca90>, 'fl_caster_rotation_link': <pycram.world.Link object at 0x7f4efa13ca60>, 'fl_caster_l_wheel_link': <pycram.world.Link object at 0x7f4efa13ca30>, 'fl_caster_r_wheel_link': <pycram.world.Link object at 0x7f4efa13c9a0>, 'fr_caster_rotation_link': <pycram.world.Link object at 0x7f4efa13c940>, 'fr_caster_l_wheel_link': <pycram.world.Link object at 0x7f4efa13c910>, 'fr_caster_r_wheel_link': <pycram.world.Link object at 0x7f4efa13c8e0>, 'bl_caster_rotation_link': <pycram.world.Link object at 0x7f4efa13c8b0>, 'bl_caster_l_wheel_link': <pycram.world.Link object at 0x7f4efa13c880>, 'bl_caster_r_wheel_link': <pycram.world.Link object at 0x7f4efa13c850>, 'br_caster_rotation_link': <pycram.world.Link object at 0x7f4efa13c7f0>, 'br_caster_l_wheel_link': <pycram.world.Link object at 0x7f4efa13c820>, 'br_caster_r_wheel_link': <pycram.world.Link object at 0x7f4efa13c7c0>, 'torso_lift_link': <pycram.world.Link object at 0x7f4efa13c790>, 'l_torso_lift_side_plate_link': <pycram.world.Link object at 0x7f4efa13c760>, 'r_torso_lift_side_plate_link': <pycram.world.Link object at 0x7f4efa13c730>, 'torso_lift_motor_screw_link': <pycram.world.Link object at 0x7f4efa13c700>, 'imu_link': <pycram.world.Link object at 0x7f4efa13c6d0>, 'head_pan_link': <pycram.world.Link object at 0x7f4efa13c6a0>, 'head_tilt_link': <pycram.world.Link object at 0x7f4efa13c670>, 'head_plate_frame': <pycram.world.Link object at 0x7f4efa13c640>, 'sensor_mount_link': <pycram.world.Link object at 0x7f4efa13c5e0>, 'high_def_frame': <pycram.world.Link object at 0x7f4efa13c610>, 'high_def_optical_frame': <pycram.world.Link object at 0x7f4efa13c5b0>, 'double_stereo_link': <pycram.world.Link object at 0x7f4efa13c580>, 'wide_stereo_link': <pycram.world.Link object at 0x7f4efa13c550>, 'wide_stereo_optical_frame': <pycram.world.Link object at 0x7f4efa13c520>, 'wide_stereo_l_stereo_camera_frame': <pycram.world.Link object at 0x7f4efa13c4f0>, 'wide_stereo_l_stereo_camera_optical_frame': <pycram.world.Link object at 0x7f4efa13c4c0>, 'wide_stereo_r_stereo_camera_frame': <pycram.world.Link object at 0x7f4efa13c490>, 'wide_stereo_r_stereo_camera_optical_frame': <pycram.world.Link object at 0x7f4efa13c460>, 'narrow_stereo_link': <pycram.world.Link object at 0x7f4efa13c430>, 'narrow_stereo_optical_frame': <pycram.world.Link object at 0x7f4efa13c400>, 'narrow_stereo_l_stereo_camera_frame': <pycram.world.Link object at 0x7f4efa13c3d0>, 'narrow_stereo_l_stereo_camera_optical_frame': <pycram.world.Link object at 0x7f4efa13c3a0>, 'narrow_stereo_r_stereo_camera_frame': <pycram.world.Link object at 0x7f4efa13c370>, 'narrow_stereo_r_stereo_camera_optical_frame': <pycram.world.Link object at 0x7f4efa13c340>, 'projector_wg6802418_frame': <pycram.world.Link object at 0x7f4efa13c310>, 'projector_wg6802418_child_frame': <pycram.world.Link object at 0x7f4efa13c2e0>, 'laser_tilt_mount_link': <pycram.world.Link object at 0x7f4efa13c1f0>, 'laser_tilt_link': <pycram.world.Link object at 0x7f4efa13c1c0>, 'r_shoulder_pan_link': <pycram.world.Link object at 0x7f4efa13c190>, 'r_shoulder_lift_link': <pycram.world.Link object at 0x7f4efa13c160>, 'r_upper_arm_roll_link': <pycram.world.Link object at 0x7f4efa13c130>, 'r_upper_arm_link': <pycram.world.Link object at 0x7f4efa13c100>, 'r_forearm_roll_link': <pycram.world.Link object at 0x7f4efa13c0d0>, 'r_elbow_flex_link': <pycram.world.Link object at 0x7f4efa13c0a0>, 'r_forearm_link': <pycram.world.Link object at 0x7f4efa13c070>, 'r_wrist_flex_link': <pycram.world.Link object at 0x7f4efa13c040>, 'r_wrist_roll_link': <pycram.world.Link object at 0x7f4efc8bf670>, 'r_gripper_palm_link': <pycram.world.Link object at 0x7f4efc8bf580>, 'r_gripper_led_frame': <pycram.world.Link object at 0x7f4efc8bf4f0>, 'r_gripper_motor_accelerometer_link': <pycram.world.Link object at 0x7f4efc8bf4c0>, 'r_gripper_tool_frame': <pycram.world.Link object at 0x7f4efc8bfa00>, 'r_gripper_motor_slider_link': <pycram.world.Link object at 0x7f4efc8bf490>, 'r_gripper_motor_screw_link': <pycram.world.Link object at 0x7f4efc8bff40>, 'r_gripper_l_finger_link': <pycram.world.Link object at 0x7f4efc8bf430>, 'r_gripper_r_finger_link': <pycram.world.Link object at 0x7f4efc8bfa30>, 'r_gripper_l_finger_tip_link': <pycram.world.Link object at 0x7f4efc8bfee0>, 'r_gripper_r_finger_tip_link': <pycram.world.Link object at 0x7f4efc8bfbb0>, 'r_gripper_l_finger_tip_frame': <pycram.world.Link object at 0x7f4efc8bf040>, 'l_shoulder_pan_link': <pycram.world.Link object at 0x7f4efc8bfe20>, 'l_shoulder_lift_link': <pycram.world.Link object at 0x7f4efc8bf9a0>, 'l_upper_arm_roll_link': <pycram.world.Link object at 0x7f4efc8bfdf0>, 'l_upper_arm_link': <pycram.world.Link object at 0x7f4efc8bfd60>, 'l_forearm_roll_link': <pycram.world.Link object at 0x7f4efc8bf550>, 'l_elbow_flex_link': <pycram.world.Link object at 0x7f4efc8bfc70>, 'l_forearm_link': <pycram.world.Link object at 0x7f4efc8bf3d0>, 'l_wrist_flex_link': <pycram.world.Link object at 0x7f4efc8bfcd0>, 'l_wrist_roll_link': <pycram.world.Link object at 0x7f4efc8bffd0>, 'l_gripper_palm_link': <pycram.world.Link object at 0x7f4efc8bffa0>, 'l_gripper_led_frame': <pycram.world.Link object at 0x7f4efc8bff70>, 'l_gripper_motor_accelerometer_link': <pycram.world.Link object at 0x7f4efc8bfc40>, 'l_gripper_tool_frame': <pycram.world.Link object at 0x7f4efc8bff10>, 'l_gripper_motor_slider_link': <pycram.world.Link object at 0x7f4efc8bfeb0>, 'l_gripper_motor_screw_link': <pycram.world.Link object at 0x7f4efc8bfe80>, 'l_gripper_l_finger_link': <pycram.world.Link object at 0x7f4efc8bfbe0>, 'l_gripper_r_finger_link': <pycram.world.Link object at 0x7f4efc8bfdc0>, 'l_gripper_l_finger_tip_link': <pycram.world.Link object at 0x7f4efc8bfe50>, 'l_gripper_r_finger_tip_link': <pycram.world.Link object at 0x7f4efc8bfd90>, 'l_gripper_l_finger_tip_frame': <pycram.world.Link object at 0x7f4efc8bfca0>, 'l_forearm_cam_frame': <pycram.world.Link object at 0x7f4efc8bfd30>, 'l_forearm_cam_optical_frame': <pycram.world.Link object at 0x7f4efc8bfd00>, 'r_forearm_cam_frame': <pycram.world.Link object at 0x7f4efc8bfa90>, 'r_forearm_cam_optical_frame': <pycram.world.Link object at 0x7f4efc8bfb50>}\n"
     ]
    }
   ],
   "source": [
    "pr2 = Object(\"pr2\", ObjectType.ROBOT, \"pr2.urdf\")\n",
    "print(pr2.links)"
   ]
  },
  {
   "cell_type": "markdown",
   "id": "e157eb6f",
   "metadata": {},
   "source": [
    "For links there are similar methods available as for the pose. However, you can only **get** the position and orientation of a link. "
   ]
  },
  {
   "cell_type": "code",
   "execution_count": 12,
   "id": "51b59ffd",
   "metadata": {
    "ExecuteTime": {
     "end_time": "2024-01-25T15:13:25.916641115Z",
     "start_time": "2024-01-25T15:13:25.914531215Z"
    }
   },
   "outputs": [
    {
     "name": "stdout",
     "output_type": "stream",
     "text": [
      "Position: \n",
      "x: -0.05000000447034836\n",
      "y: 0.0\n",
      "z: 0.7906750440597534\n",
      "Orientation: \n",
      "x: 0.0\n",
      "y: 0.0\n",
      "z: 0.0\n",
      "w: 1.0\n",
      "Pose: \n",
      "header: \n",
      "  seq: 0\n",
      "  stamp: \n",
      "    secs: 1706195605\n",
      "    nsecs: 914234161\n",
      "  frame_id: \"map\"\n",
      "pose: \n",
      "  position: \n",
      "    x: -0.05000000447034836\n",
      "    y: 0.0\n",
      "    z: 0.7906750440597534\n",
      "  orientation: \n",
      "    x: 0.0\n",
      "    y: 0.0\n",
      "    z: 0.0\n",
      "    w: 1.0\n"
     ]
    }
   ],
   "source": [
    "print(f\"Position: \\n{pr2.links['torso_lift_link'].position}\")\n",
    "\n",
    "print(f\"Orientation: \\n{pr2.links['torso_lift_link'].orientation}\")\n",
    "\n",
    "print(f\"Pose: \\n{pr2.links['torso_lift_link'].pose}\")"
   ]
  },
  {
   "cell_type": "markdown",
   "id": "ecd9c4a3",
   "metadata": {},
   "source": [
    "Methods available for joints are:\n",
    "\n",
    "  * ```get_joint_state```\n",
    "  * ```set_joint_state```\n",
    "  * ```get_joint_limits```\n",
    "  \n",
    "We will see how these methods work at the example of the torso_lift_joint"
   ]
  },
  {
   "cell_type": "code",
   "execution_count": 14,
   "id": "38a8aef4",
   "metadata": {
    "ExecuteTime": {
     "end_time": "2024-01-25T15:13:51.297038606Z",
     "start_time": "2024-01-25T15:13:51.284471328Z"
    }
   },
   "outputs": [
    {
     "name": "stdout",
     "output_type": "stream",
     "text": [
      "Joint limits: (0.0, 0.33)\n",
      "Current Joint state: 0.0\n",
      "New Joint state: 0.2\n"
     ]
    }
   ],
   "source": [
    "print(f\"Joint limits: {pr2.get_joint_limits('torso_lift_joint')}\")\n",
    "\n",
    "print(f\"Current Joint state: {pr2.get_joint_position('torso_lift_joint')}\")\n",
    "\n",
    "pr2.set_joint_position(\"torso_lift_joint\", 0.2)\n",
    "\n",
    "print(f\"New Joint state: {pr2.get_joint_position('torso_lift_joint')}\")"
   ]
  },
  {
   "cell_type": "markdown",
   "id": "6d4ee70a",
   "metadata": {},
   "source": [
    "## Misc Methods\n",
    "There are a few methods that don't fit any category but could be helpful anyways. The first two are ```get_color``` and ```set_color```, as the name implies they can be used to get or set the color for specific links or the whole Object. "
   ]
  },
  {
   "cell_type": "code",
   "execution_count": 15,
   "id": "5eee9b8a",
   "metadata": {
    "ExecuteTime": {
     "end_time": "2024-01-25T15:14:04.637139529Z",
     "start_time": "2024-01-25T15:14:04.594359252Z"
    }
   },
   "outputs": [
    {
     "name": "stdout",
     "output_type": "stream",
     "text": [
      "Pr2 forearm color: Color(R=0.699999988079071, G=0.699999988079071, B=0.699999988079071, A=1.0)\n"
     ]
    }
   ],
   "source": [
    "print(f\"Pr2 forearm color: {pr2.links['r_forearm_link'].color}\")"
   ]
  },
  {
   "cell_type": "code",
   "execution_count": 16,
   "id": "07aa1c3f",
   "metadata": {
    "ExecuteTime": {
     "end_time": "2024-01-25T15:14:13.906293669Z",
     "start_time": "2024-01-25T15:14:13.900095646Z"
    }
   },
   "outputs": [],
   "source": [
    "pr2.links[\"r_forearm_link\"].color = [1, 0, 0, 1]"
   ]
  },
  {
   "cell_type": "markdown",
   "id": "ce5d910b",
   "metadata": {},
   "source": [
    "Lastly, there is ```get_AABB``` AABB stands for axis aligned bounding box. This method returns two points in world coordinates which span a rectangle representing the AABB."
   ]
  },
  {
   "cell_type": "code",
   "execution_count": 17,
   "id": "2a78715b",
   "metadata": {
    "ExecuteTime": {
     "end_time": "2024-01-25T15:14:50.452351191Z",
     "start_time": "2024-01-25T15:14:50.437446512Z"
    }
   },
   "outputs": [
    {
     "data": {
      "text/plain": "AxisAlignedBoundingBox(min_x=-0.0015000000000000005, min_y=-0.0015000000000000005, min_z=0.06949999999999999, max_x=0.0015000000000000005, max_y=0.0015000000000000005, max_z=0.0725)"
     },
     "execution_count": 17,
     "metadata": {},
     "output_type": "execute_result"
    }
   ],
   "source": [
    "pr2.get_aabb()"
   ]
  },
  {
   "cell_type": "code",
   "execution_count": null,
   "outputs": [],
   "source": [],
   "metadata": {
    "collapsed": false
   },
   "id": "b4093cc83958ab47"
  }
 ],
 "metadata": {
  "kernelspec": {
   "display_name": "Python 3",
   "language": "python",
   "name": "python3"
  },
  "language_info": {
   "codemirror_mode": {
    "name": "ipython",
    "version": 3
   },
   "file_extension": ".py",
   "mimetype": "text/x-python",
   "name": "python",
   "nbconvert_exporter": "python",
   "pygments_lexer": "ipython3",
   "version": "3.8.10"
  }
 },
 "nbformat": 4,
 "nbformat_minor": 5
}
